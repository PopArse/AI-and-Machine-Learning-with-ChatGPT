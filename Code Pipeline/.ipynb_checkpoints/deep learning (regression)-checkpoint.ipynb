{
 "cells": [
  {
   "cell_type": "markdown",
   "id": "57654bb6",
   "metadata": {},
   "source": [
    "# 1. Import Libraries"
   ]
  },
  {
   "cell_type": "code",
   "execution_count": 1,
   "id": "2f51eef5",
   "metadata": {},
   "outputs": [],
   "source": [
    "import numpy as np\n",
    "import pandas as pd\n",
    "import matplotlib.pyplot as plt\n",
    "\n",
    "from sklearn.model_selection import train_test_split\n",
    "from sklearn.preprocessing import OrdinalEncoder, OneHotEncoder\n",
    "from sklearn.preprocessing import (\n",
    "    OrdinalEncoder, \n",
    "    OneHotEncoder, \n",
    "    StandardScaler, \n",
    "    MinMaxScaler\n",
    ")\n",
    "from sklearn.neural_network import MLPRegressor\n",
    "from sklearn.metrics import (\n",
    "    r2_score, \n",
    "    mean_squared_error, \n",
    "    mean_absolute_error, \n",
    "    mean_absolute_percentage_error\n",
    ")\n",
    "\n",
    "import warnings\n",
    "warnings.filterwarnings('ignore')\n",
    "\n",
    "np.random.seed(12345)"
   ]
  },
  {
   "cell_type": "markdown",
   "id": "6707b8de",
   "metadata": {},
   "source": [
    "# 2. Read Data"
   ]
  },
  {
   "cell_type": "code",
   "execution_count": 2,
   "id": "89c2e441",
   "metadata": {
    "scrolled": true
   },
   "outputs": [
    {
     "data": {
      "text/html": [
       "<div>\n",
       "<style scoped>\n",
       "    .dataframe tbody tr th:only-of-type {\n",
       "        vertical-align: middle;\n",
       "    }\n",
       "\n",
       "    .dataframe tbody tr th {\n",
       "        vertical-align: top;\n",
       "    }\n",
       "\n",
       "    .dataframe thead th {\n",
       "        text-align: right;\n",
       "    }\n",
       "</style>\n",
       "<table border=\"1\" class=\"dataframe\">\n",
       "  <thead>\n",
       "    <tr style=\"text-align: right;\">\n",
       "      <th></th>\n",
       "      <th>experience</th>\n",
       "      <th>position</th>\n",
       "      <th>salary</th>\n",
       "      <th>working_hour</th>\n",
       "      <th>score</th>\n",
       "    </tr>\n",
       "  </thead>\n",
       "  <tbody>\n",
       "    <tr>\n",
       "      <th>0</th>\n",
       "      <td>0</td>\n",
       "      <td>secretary</td>\n",
       "      <td>24000.0</td>\n",
       "      <td>8-9</td>\n",
       "      <td>4</td>\n",
       "    </tr>\n",
       "    <tr>\n",
       "      <th>1</th>\n",
       "      <td>0</td>\n",
       "      <td>secretary</td>\n",
       "      <td>21500.0</td>\n",
       "      <td>8-9</td>\n",
       "      <td>4</td>\n",
       "    </tr>\n",
       "    <tr>\n",
       "      <th>2</th>\n",
       "      <td>0</td>\n",
       "      <td>accountant</td>\n",
       "      <td>20000.0</td>\n",
       "      <td>5-7</td>\n",
       "      <td>3</td>\n",
       "    </tr>\n",
       "    <tr>\n",
       "      <th>3</th>\n",
       "      <td>1</td>\n",
       "      <td>NaN</td>\n",
       "      <td>30500.0</td>\n",
       "      <td>8-9</td>\n",
       "      <td>3</td>\n",
       "    </tr>\n",
       "    <tr>\n",
       "      <th>4</th>\n",
       "      <td>12</td>\n",
       "      <td>engineer</td>\n",
       "      <td>49000.0</td>\n",
       "      <td>3-4</td>\n",
       "      <td>1</td>\n",
       "    </tr>\n",
       "    <tr>\n",
       "      <th>...</th>\n",
       "      <td>...</td>\n",
       "      <td>...</td>\n",
       "      <td>...</td>\n",
       "      <td>...</td>\n",
       "      <td>...</td>\n",
       "    </tr>\n",
       "    <tr>\n",
       "      <th>85</th>\n",
       "      <td>12</td>\n",
       "      <td>engineer</td>\n",
       "      <td>38000.0</td>\n",
       "      <td>NaN</td>\n",
       "      <td>1</td>\n",
       "    </tr>\n",
       "    <tr>\n",
       "      <th>86</th>\n",
       "      <td>11</td>\n",
       "      <td>accountant</td>\n",
       "      <td>41000.0</td>\n",
       "      <td>8-9</td>\n",
       "      <td>3</td>\n",
       "    </tr>\n",
       "    <tr>\n",
       "      <th>87</th>\n",
       "      <td>7</td>\n",
       "      <td>secretary</td>\n",
       "      <td>43500.0</td>\n",
       "      <td>8-9</td>\n",
       "      <td>5</td>\n",
       "    </tr>\n",
       "    <tr>\n",
       "      <th>88</th>\n",
       "      <td>1</td>\n",
       "      <td>engineer</td>\n",
       "      <td>23000.0</td>\n",
       "      <td>5-7</td>\n",
       "      <td>4</td>\n",
       "    </tr>\n",
       "    <tr>\n",
       "      <th>89</th>\n",
       "      <td>3</td>\n",
       "      <td>accountant</td>\n",
       "      <td>29500.0</td>\n",
       "      <td>8-9</td>\n",
       "      <td>3</td>\n",
       "    </tr>\n",
       "  </tbody>\n",
       "</table>\n",
       "<p>90 rows × 5 columns</p>\n",
       "</div>"
      ],
      "text/plain": [
       "    experience    position   salary working_hour  score\n",
       "0            0   secretary  24000.0          8-9      4\n",
       "1            0   secretary  21500.0          8-9      4\n",
       "2            0  accountant  20000.0          5-7      3\n",
       "3            1         NaN  30500.0          8-9      3\n",
       "4           12    engineer  49000.0          3-4      1\n",
       "..         ...         ...      ...          ...    ...\n",
       "85          12    engineer  38000.0          NaN      1\n",
       "86          11  accountant  41000.0          8-9      3\n",
       "87           7   secretary  43500.0          8-9      5\n",
       "88           1    engineer  23000.0          5-7      4\n",
       "89           3  accountant  29500.0          8-9      3\n",
       "\n",
       "[90 rows x 5 columns]"
      ]
     },
     "execution_count": 2,
     "metadata": {},
     "output_type": "execute_result"
    }
   ],
   "source": [
    "data = pd.read_excel('job_review.xlsx')\n",
    "\n",
    "data"
   ]
  },
  {
   "cell_type": "markdown",
   "id": "aa424a64",
   "metadata": {},
   "source": [
    "# 3. Clean Data"
   ]
  },
  {
   "cell_type": "markdown",
   "id": "bc4f7a96",
   "metadata": {},
   "source": [
    "## 3.1. Handle Missing Values"
   ]
  },
  {
   "cell_type": "markdown",
   "id": "2b59944e",
   "metadata": {},
   "source": [
    "### 3.1.1. Check Missing Values"
   ]
  },
  {
   "cell_type": "code",
   "execution_count": 3,
   "id": "8a02b878",
   "metadata": {},
   "outputs": [
    {
     "name": "stdout",
     "output_type": "stream",
     "text": [
      "<class 'pandas.core.frame.DataFrame'>\n",
      "RangeIndex: 90 entries, 0 to 89\n",
      "Data columns (total 5 columns):\n",
      " #   Column        Non-Null Count  Dtype  \n",
      "---  ------        --------------  -----  \n",
      " 0   experience    90 non-null     int64  \n",
      " 1   position      89 non-null     object \n",
      " 2   salary        89 non-null     float64\n",
      " 3   working_hour  89 non-null     object \n",
      " 4   score         90 non-null     int64  \n",
      "dtypes: float64(1), int64(2), object(2)\n",
      "memory usage: 3.6+ KB\n"
     ]
    }
   ],
   "source": [
    "data.info()"
   ]
  },
  {
   "cell_type": "markdown",
   "id": "44279ff4",
   "metadata": {},
   "source": [
    "### 3.1.2. Remove Missing Values (Listwise Deletion)"
   ]
  },
  {
   "cell_type": "code",
   "execution_count": 4,
   "id": "7a3da168",
   "metadata": {},
   "outputs": [],
   "source": [
    "data.dropna(axis=0, inplace=True)"
   ]
  },
  {
   "cell_type": "markdown",
   "id": "5fed6619",
   "metadata": {},
   "source": [
    "## 3.2. Handle Outliers"
   ]
  },
  {
   "cell_type": "markdown",
   "id": "89eb99fe",
   "metadata": {},
   "source": [
    "### 3.2.1. Check Outliers"
   ]
  },
  {
   "cell_type": "code",
   "execution_count": 5,
   "id": "8400e390",
   "metadata": {},
   "outputs": [
    {
     "data": {
      "text/html": [
       "<div>\n",
       "<style scoped>\n",
       "    .dataframe tbody tr th:only-of-type {\n",
       "        vertical-align: middle;\n",
       "    }\n",
       "\n",
       "    .dataframe tbody tr th {\n",
       "        vertical-align: top;\n",
       "    }\n",
       "\n",
       "    .dataframe thead th {\n",
       "        text-align: right;\n",
       "    }\n",
       "</style>\n",
       "<table border=\"1\" class=\"dataframe\">\n",
       "  <thead>\n",
       "    <tr style=\"text-align: right;\">\n",
       "      <th></th>\n",
       "      <th>experience</th>\n",
       "      <th>salary</th>\n",
       "      <th>score</th>\n",
       "    </tr>\n",
       "  </thead>\n",
       "  <tbody>\n",
       "    <tr>\n",
       "      <th>count</th>\n",
       "      <td>87.000000</td>\n",
       "      <td>87.000000</td>\n",
       "      <td>87.000000</td>\n",
       "    </tr>\n",
       "    <tr>\n",
       "      <th>mean</th>\n",
       "      <td>3.344828</td>\n",
       "      <td>29287.356322</td>\n",
       "      <td>2.988506</td>\n",
       "    </tr>\n",
       "    <tr>\n",
       "      <th>std</th>\n",
       "      <td>3.530029</td>\n",
       "      <td>12528.950703</td>\n",
       "      <td>1.234148</td>\n",
       "    </tr>\n",
       "    <tr>\n",
       "      <th>min</th>\n",
       "      <td>0.000000</td>\n",
       "      <td>-39000.000000</td>\n",
       "      <td>1.000000</td>\n",
       "    </tr>\n",
       "    <tr>\n",
       "      <th>25%</th>\n",
       "      <td>1.000000</td>\n",
       "      <td>23500.000000</td>\n",
       "      <td>2.000000</td>\n",
       "    </tr>\n",
       "    <tr>\n",
       "      <th>50%</th>\n",
       "      <td>2.000000</td>\n",
       "      <td>29000.000000</td>\n",
       "      <td>3.000000</td>\n",
       "    </tr>\n",
       "    <tr>\n",
       "      <th>75%</th>\n",
       "      <td>5.000000</td>\n",
       "      <td>36750.000000</td>\n",
       "      <td>4.000000</td>\n",
       "    </tr>\n",
       "    <tr>\n",
       "      <th>max</th>\n",
       "      <td>14.000000</td>\n",
       "      <td>52000.000000</td>\n",
       "      <td>5.000000</td>\n",
       "    </tr>\n",
       "  </tbody>\n",
       "</table>\n",
       "</div>"
      ],
      "text/plain": [
       "       experience        salary      score\n",
       "count   87.000000     87.000000  87.000000\n",
       "mean     3.344828  29287.356322   2.988506\n",
       "std      3.530029  12528.950703   1.234148\n",
       "min      0.000000 -39000.000000   1.000000\n",
       "25%      1.000000  23500.000000   2.000000\n",
       "50%      2.000000  29000.000000   3.000000\n",
       "75%      5.000000  36750.000000   4.000000\n",
       "max     14.000000  52000.000000   5.000000"
      ]
     },
     "execution_count": 5,
     "metadata": {},
     "output_type": "execute_result"
    }
   ],
   "source": [
    "data.describe()"
   ]
  },
  {
   "cell_type": "markdown",
   "id": "62561b7e",
   "metadata": {},
   "source": [
    "### 3.2.2. Remove Outliers"
   ]
  },
  {
   "cell_type": "code",
   "execution_count": 6,
   "id": "f3524d5d",
   "metadata": {},
   "outputs": [],
   "source": [
    "# no outlier to remove"
   ]
  },
  {
   "cell_type": "markdown",
   "id": "50cdff68",
   "metadata": {},
   "source": [
    "# 4. Split Dataset into Training & Test Sets"
   ]
  },
  {
   "cell_type": "code",
   "execution_count": 7,
   "id": "d3ef93cc",
   "metadata": {},
   "outputs": [],
   "source": [
    "target_name = 'score'\n",
    "feature_name = list(data.columns.drop(target_name))"
   ]
  },
  {
   "cell_type": "code",
   "execution_count": 8,
   "id": "610f9450",
   "metadata": {},
   "outputs": [],
   "source": [
    "X = data[feature_name]\n",
    "y = data[target_name]"
   ]
  },
  {
   "cell_type": "code",
   "execution_count": 9,
   "id": "1a62d0cb",
   "metadata": {
    "scrolled": true
   },
   "outputs": [
    {
     "data": {
      "text/html": [
       "<div>\n",
       "<style scoped>\n",
       "    .dataframe tbody tr th:only-of-type {\n",
       "        vertical-align: middle;\n",
       "    }\n",
       "\n",
       "    .dataframe tbody tr th {\n",
       "        vertical-align: top;\n",
       "    }\n",
       "\n",
       "    .dataframe thead th {\n",
       "        text-align: right;\n",
       "    }\n",
       "</style>\n",
       "<table border=\"1\" class=\"dataframe\">\n",
       "  <thead>\n",
       "    <tr style=\"text-align: right;\">\n",
       "      <th></th>\n",
       "      <th>experience</th>\n",
       "      <th>position</th>\n",
       "      <th>salary</th>\n",
       "      <th>working_hour</th>\n",
       "    </tr>\n",
       "  </thead>\n",
       "  <tbody>\n",
       "    <tr>\n",
       "      <th>0</th>\n",
       "      <td>0</td>\n",
       "      <td>secretary</td>\n",
       "      <td>24000.0</td>\n",
       "      <td>8-9</td>\n",
       "    </tr>\n",
       "    <tr>\n",
       "      <th>1</th>\n",
       "      <td>0</td>\n",
       "      <td>secretary</td>\n",
       "      <td>21500.0</td>\n",
       "      <td>8-9</td>\n",
       "    </tr>\n",
       "    <tr>\n",
       "      <th>2</th>\n",
       "      <td>0</td>\n",
       "      <td>accountant</td>\n",
       "      <td>20000.0</td>\n",
       "      <td>5-7</td>\n",
       "    </tr>\n",
       "    <tr>\n",
       "      <th>4</th>\n",
       "      <td>12</td>\n",
       "      <td>engineer</td>\n",
       "      <td>49000.0</td>\n",
       "      <td>3-4</td>\n",
       "    </tr>\n",
       "    <tr>\n",
       "      <th>5</th>\n",
       "      <td>2</td>\n",
       "      <td>accountant</td>\n",
       "      <td>24000.0</td>\n",
       "      <td>8-9</td>\n",
       "    </tr>\n",
       "    <tr>\n",
       "      <th>...</th>\n",
       "      <td>...</td>\n",
       "      <td>...</td>\n",
       "      <td>...</td>\n",
       "      <td>...</td>\n",
       "    </tr>\n",
       "    <tr>\n",
       "      <th>83</th>\n",
       "      <td>7</td>\n",
       "      <td>engineer</td>\n",
       "      <td>42000.0</td>\n",
       "      <td>5-7</td>\n",
       "    </tr>\n",
       "    <tr>\n",
       "      <th>86</th>\n",
       "      <td>11</td>\n",
       "      <td>accountant</td>\n",
       "      <td>41000.0</td>\n",
       "      <td>8-9</td>\n",
       "    </tr>\n",
       "    <tr>\n",
       "      <th>87</th>\n",
       "      <td>7</td>\n",
       "      <td>secretary</td>\n",
       "      <td>43500.0</td>\n",
       "      <td>8-9</td>\n",
       "    </tr>\n",
       "    <tr>\n",
       "      <th>88</th>\n",
       "      <td>1</td>\n",
       "      <td>engineer</td>\n",
       "      <td>23000.0</td>\n",
       "      <td>5-7</td>\n",
       "    </tr>\n",
       "    <tr>\n",
       "      <th>89</th>\n",
       "      <td>3</td>\n",
       "      <td>accountant</td>\n",
       "      <td>29500.0</td>\n",
       "      <td>8-9</td>\n",
       "    </tr>\n",
       "  </tbody>\n",
       "</table>\n",
       "<p>87 rows × 4 columns</p>\n",
       "</div>"
      ],
      "text/plain": [
       "    experience    position   salary working_hour\n",
       "0            0   secretary  24000.0          8-9\n",
       "1            0   secretary  21500.0          8-9\n",
       "2            0  accountant  20000.0          5-7\n",
       "4           12    engineer  49000.0          3-4\n",
       "5            2  accountant  24000.0          8-9\n",
       "..         ...         ...      ...          ...\n",
       "83           7    engineer  42000.0          5-7\n",
       "86          11  accountant  41000.0          8-9\n",
       "87           7   secretary  43500.0          8-9\n",
       "88           1    engineer  23000.0          5-7\n",
       "89           3  accountant  29500.0          8-9\n",
       "\n",
       "[87 rows x 4 columns]"
      ]
     },
     "execution_count": 9,
     "metadata": {},
     "output_type": "execute_result"
    }
   ],
   "source": [
    "X"
   ]
  },
  {
   "cell_type": "code",
   "execution_count": 10,
   "id": "13cae49d",
   "metadata": {},
   "outputs": [],
   "source": [
    "X_train, X_test, y_train, y_test = train_test_split(X, y, test_size=0.20, shuffle=True)"
   ]
  },
  {
   "cell_type": "markdown",
   "id": "ed13b65f",
   "metadata": {},
   "source": [
    "# 5. Data Preparation"
   ]
  },
  {
   "cell_type": "code",
   "execution_count": 11,
   "id": "e79223a4",
   "metadata": {},
   "outputs": [],
   "source": [
    "numerical_feature = ['experience']\n",
    "categorical_feature = ['position', 'working_hour']"
   ]
  },
  {
   "cell_type": "code",
   "execution_count": 12,
   "id": "c0a9d590",
   "metadata": {},
   "outputs": [
    {
     "name": "stdout",
     "output_type": "stream",
     "text": [
      "position : ['accountant' 'engineer' 'secretary']\n",
      "working_hour : ['10-12' '3-4' '5-7' '8-9']\n"
     ]
    }
   ],
   "source": [
    "for feature in categorical_feature:\n",
    "    print(feature, ':', np.unique(X_train[feature]))"
   ]
  },
  {
   "cell_type": "code",
   "execution_count": 13,
   "id": "a6d3ef1d",
   "metadata": {},
   "outputs": [],
   "source": [
    "ordinal_feature = ['working_hour']\n",
    "nominal_feature = ['position']"
   ]
  },
  {
   "cell_type": "markdown",
   "id": "7e7af4f1",
   "metadata": {},
   "source": [
    "## 5.1. Ordinal Encoding"
   ]
  },
  {
   "cell_type": "markdown",
   "id": "c6f1f29d",
   "metadata": {},
   "source": [
    "### 5.1.1. Training Set"
   ]
  },
  {
   "cell_type": "code",
   "execution_count": 14,
   "id": "be787c66",
   "metadata": {},
   "outputs": [],
   "source": [
    "categories = [\n",
    "    np.array(['3-4', '5-7', '8-9', '10-12'], dtype=object),\n",
    "]"
   ]
  },
  {
   "cell_type": "code",
   "execution_count": 15,
   "id": "f9029dd4",
   "metadata": {},
   "outputs": [],
   "source": [
    "ordinal_encoder = OrdinalEncoder(categories=categories)\n",
    "X_train[ordinal_feature] = ordinal_encoder.fit_transform(X_train[ordinal_feature])"
   ]
  },
  {
   "cell_type": "markdown",
   "id": "e62bdad9",
   "metadata": {},
   "source": [
    "### 5.1.2. Test Set"
   ]
  },
  {
   "cell_type": "code",
   "execution_count": 16,
   "id": "dfb4172e",
   "metadata": {},
   "outputs": [],
   "source": [
    "X_test[ordinal_feature] = ordinal_encoder.transform(X_test[ordinal_feature])"
   ]
  },
  {
   "cell_type": "markdown",
   "id": "a25e32e6",
   "metadata": {},
   "source": [
    "## 5.2. One Hot Encoding"
   ]
  },
  {
   "cell_type": "markdown",
   "id": "61908c07",
   "metadata": {},
   "source": [
    "### 5.2.1. Training Set"
   ]
  },
  {
   "cell_type": "code",
   "execution_count": 17,
   "id": "43f39bae",
   "metadata": {},
   "outputs": [
    {
     "data": {
      "text/plain": [
       "OneHotEncoder(handle_unknown='ignore', sparse=False)"
      ]
     },
     "execution_count": 17,
     "metadata": {},
     "output_type": "execute_result"
    }
   ],
   "source": [
    "one_hot_encoder = OneHotEncoder(sparse=False, handle_unknown='ignore')\n",
    "one_hot_encoder.fit(X_train[nominal_feature])"
   ]
  },
  {
   "cell_type": "code",
   "execution_count": 18,
   "id": "5a7027a3",
   "metadata": {},
   "outputs": [],
   "source": [
    "one_hot_feature = []\n",
    "for i, feature in enumerate(nominal_feature):\n",
    "    for cate in one_hot_encoder.categories_[i]:\n",
    "        one_hot_feature_name = str(feature) + '_' + str(cate)\n",
    "        one_hot_feature.append(one_hot_feature_name)"
   ]
  },
  {
   "cell_type": "code",
   "execution_count": 19,
   "id": "45fb96f7",
   "metadata": {},
   "outputs": [],
   "source": [
    "X_train[one_hot_feature] = one_hot_encoder.transform(X_train[nominal_feature])\n",
    "X_train.drop(nominal_feature, axis=1, inplace=True)"
   ]
  },
  {
   "cell_type": "markdown",
   "id": "fabc334d",
   "metadata": {},
   "source": [
    "### 5.2.2. Test Set"
   ]
  },
  {
   "cell_type": "code",
   "execution_count": 20,
   "id": "e8d26cae",
   "metadata": {},
   "outputs": [],
   "source": [
    "X_test[one_hot_feature] = one_hot_encoder.transform(X_test[nominal_feature])\n",
    "X_test.drop(nominal_feature, axis=1, inplace=True)"
   ]
  },
  {
   "cell_type": "markdown",
   "id": "6aeaeb0a",
   "metadata": {},
   "source": [
    "## 5.3. Feature Scaling"
   ]
  },
  {
   "cell_type": "markdown",
   "id": "6bd90e8d",
   "metadata": {},
   "source": [
    "### 5.3.1. Training Set"
   ]
  },
  {
   "cell_type": "code",
   "execution_count": 21,
   "id": "bd4efdd2",
   "metadata": {},
   "outputs": [],
   "source": [
    "scaler = MinMaxScaler()\n",
    "X_train_scaled = scaler.fit_transform(X_train)"
   ]
  },
  {
   "cell_type": "markdown",
   "id": "f370ec47",
   "metadata": {},
   "source": [
    "### 5.3.2. Test Set"
   ]
  },
  {
   "cell_type": "code",
   "execution_count": 22,
   "id": "72df8ec8",
   "metadata": {},
   "outputs": [],
   "source": [
    "X_test_scaled = scaler.transform(X_test)"
   ]
  },
  {
   "cell_type": "markdown",
   "id": "f77fb5ee",
   "metadata": {},
   "source": [
    "# 6. Model Creation"
   ]
  },
  {
   "cell_type": "markdown",
   "id": "e81df55a",
   "metadata": {},
   "source": [
    "## 6.1. Setting Parameters"
   ]
  },
  {
   "cell_type": "code",
   "execution_count": 23,
   "id": "fd1486a3",
   "metadata": {},
   "outputs": [],
   "source": [
    "reg = MLPRegressor(\n",
    "    hidden_layer_sizes=(20, 20),\n",
    "    activation='relu',\n",
    "    learning_rate_init=0.01,\n",
    "    max_iter=1000,\n",
    "    alpha=0,\n",
    "    solver='sgd',\n",
    "    momentum=0\n",
    ")"
   ]
  },
  {
   "cell_type": "markdown",
   "id": "4cb08aa4",
   "metadata": {},
   "source": [
    "## 6.2. Train Model"
   ]
  },
  {
   "cell_type": "code",
   "execution_count": 24,
   "id": "8aa8df52",
   "metadata": {},
   "outputs": [
    {
     "data": {
      "text/plain": [
       "MLPRegressor(alpha=0, hidden_layer_sizes=(20, 20), learning_rate_init=0.01,\n",
       "             max_iter=1000, momentum=0, solver='sgd')"
      ]
     },
     "execution_count": 24,
     "metadata": {},
     "output_type": "execute_result"
    }
   ],
   "source": [
    "reg.fit(X_train_scaled, y_train)"
   ]
  },
  {
   "cell_type": "markdown",
   "id": "7f33bb7b",
   "metadata": {},
   "source": [
    "## 6.3. Model's Weight & Bias"
   ]
  },
  {
   "cell_type": "code",
   "execution_count": 25,
   "id": "ff6657d5",
   "metadata": {},
   "outputs": [
    {
     "data": {
      "text/plain": [
       "[array([[ 0.36839849, -0.1087107 , -0.1772658 ,  0.08387936, -0.29993473,\n",
       "         -0.35947982,  0.16046398,  0.27453264,  0.07693698,  0.42152662,\n",
       "          0.12879528,  0.30704556, -0.04671196, -0.12494013,  0.21421668,\n",
       "          0.0387532 , -0.28260081, -0.24169529,  0.23105691,  0.01308985],\n",
       "        [ 0.35183846,  0.37033632,  0.03192849, -0.33340708,  0.2121974 ,\n",
       "         -0.12736072, -0.04428106, -0.27549042, -0.14152927,  0.08250148,\n",
       "         -0.17972826,  0.18944357,  0.33028158,  0.30673642,  0.45041007,\n",
       "         -0.31783317,  0.38946844, -0.12516764,  0.25544574,  0.41894074],\n",
       "        [-0.43632647, -0.33272165, -0.19743674,  0.22558934, -0.39754398,\n",
       "         -0.34304733,  0.16121987,  0.17285353,  0.3631955 ,  0.09922015,\n",
       "          0.07841669,  0.1158665 , -0.50539004,  0.48876605,  0.02935382,\n",
       "         -0.67448767,  0.51170224,  0.2417967 , -0.07643755,  0.28218418],\n",
       "        [-0.01339953,  0.33890054,  0.01525679, -0.43280589,  0.06485987,\n",
       "          0.11072207,  0.48525065, -0.08131626, -0.17094346, -0.39986164,\n",
       "         -0.01360043,  0.0314913 , -0.4207028 ,  0.22250234,  0.22430282,\n",
       "          0.12954746, -0.02618823, -0.46587796,  0.4428964 ,  0.31126137],\n",
       "        [-0.32166623, -0.17986943,  0.1065928 , -0.09029263, -0.33046743,\n",
       "         -0.31003647,  0.46957523, -0.20167052,  0.11650662, -0.02477143,\n",
       "         -0.08533729,  0.46262763,  0.1564305 , -0.28478544, -0.41847229,\n",
       "         -0.28955307,  0.57320944,  0.32900036,  0.51469466, -0.43018107],\n",
       "        [ 0.02725378, -0.01873858, -0.45952715, -0.14996768, -0.08253793,\n",
       "          0.09983084,  0.12348967,  0.31078639,  0.25813194, -0.07913598,\n",
       "          0.28297453,  0.31691012, -0.19784586,  0.43064962,  0.32456037,\n",
       "          0.38772739, -0.11351114,  0.38034771,  0.31160821,  0.42670169]]),\n",
       " array([[ 0.05289222,  0.27701398, -0.09442369, -0.0662528 ,  0.25764571,\n",
       "         -0.10407155, -0.34773702,  0.03508976, -0.0550678 ,  0.17451739,\n",
       "         -0.09415182,  0.2375092 , -0.02376874,  0.04831172,  0.12453792,\n",
       "         -0.03436523,  0.09576877, -0.21676999,  0.18037499, -0.09164866],\n",
       "        [-0.2373343 , -0.17729282, -0.19424944, -0.26670643,  0.21020517,\n",
       "         -0.18972374, -0.2898785 ,  0.12876381, -0.06346898,  0.12995235,\n",
       "          0.12379102, -0.14465481, -0.23143071, -0.2155722 , -0.29410011,\n",
       "         -0.35631932, -0.36086012, -0.209462  , -0.21041631,  0.09675535],\n",
       "        [ 0.30407659,  0.21667639,  0.17153542, -0.14683087, -0.10605513,\n",
       "         -0.23541404,  0.3373305 ,  0.04781895,  0.24577297, -0.11703073,\n",
       "          0.23215767, -0.30665936,  0.16430757,  0.32335421,  0.23515622,\n",
       "         -0.13391758, -0.18969316, -0.0038713 , -0.06691667, -0.05814348],\n",
       "        [-0.32788406,  0.0537429 ,  0.18496   ,  0.29433115, -0.07441658,\n",
       "          0.25476626, -0.0821634 ,  0.21969595, -0.15404682, -0.05066195,\n",
       "          0.25055732,  0.3779228 , -0.24049253, -0.37260998,  0.15712336,\n",
       "         -0.09590189, -0.06235208,  0.20757464,  0.35854381,  0.30407978],\n",
       "        [-0.2827725 ,  0.23067854,  0.14104678,  0.02327887,  0.28348817,\n",
       "          0.19616513, -0.31510392, -0.13211565, -0.06788356, -0.38655115,\n",
       "          0.07557241,  0.14141156, -0.10357848, -0.08017164, -0.01908672,\n",
       "          0.06280422, -0.28107237,  0.38684456,  0.00567563, -0.00537051],\n",
       "        [-0.24254577, -0.15794954,  0.23122877, -0.15896405,  0.15268973,\n",
       "         -0.17586503,  0.31954316, -0.15605084,  0.30198408,  0.3460296 ,\n",
       "         -0.25645902, -0.10899241,  0.14111393,  0.32640882, -0.27504042,\n",
       "         -0.30993597, -0.06847219,  0.36803053, -0.35514751, -0.24251514],\n",
       "        [ 0.08434028, -0.36558123, -0.15769201,  0.17067351, -0.19795865,\n",
       "          0.17955356, -0.26537177,  0.19074651,  0.11369008, -0.18551992,\n",
       "         -0.16828863,  0.49290359, -0.17363151,  0.26029822, -0.23378807,\n",
       "         -0.08524684,  0.34595802, -0.00723385, -0.07481375, -0.36633656],\n",
       "        [ 0.09432549, -0.11873471, -0.17289057, -0.3371639 , -0.12828055,\n",
       "         -0.3347385 , -0.38473026, -0.35532854, -0.11628484, -0.31607083,\n",
       "          0.01573649, -0.21912505,  0.38084327, -0.18035469,  0.13958275,\n",
       "          0.02059794, -0.04653539,  0.12510399, -0.28289419,  0.22296688],\n",
       "        [-0.27866203,  0.05213268, -0.2299053 , -0.34890865,  0.07936808,\n",
       "          0.12411749,  0.00954631,  0.33209005, -0.0905796 , -0.06897134,\n",
       "          0.08545249,  0.3888858 , -0.26949979, -0.24665918, -0.26911584,\n",
       "          0.17894425,  0.33151433, -0.06842802,  0.03499416, -0.13757692],\n",
       "        [-0.26840217,  0.13004181,  0.17525406,  0.35503351, -0.14234233,\n",
       "          0.17066216,  0.34888147, -0.24361225,  0.20214879, -0.26525744,\n",
       "          0.24510969,  0.04222508,  0.06329246,  0.33679615, -0.05146452,\n",
       "         -0.00712487,  0.12868411,  0.09665062, -0.28644217, -0.11321197],\n",
       "        [ 0.10466612,  0.32452181, -0.31660344, -0.33223836, -0.06683868,\n",
       "         -0.2202634 ,  0.01525849,  0.04532477, -0.02037177, -0.22008451,\n",
       "         -0.20182977, -0.21941361,  0.12059725,  0.26831521,  0.33343629,\n",
       "          0.23261565,  0.13998964, -0.22675779,  0.18718882,  0.15252164],\n",
       "        [-0.08790771,  0.19396505,  0.0019878 ,  0.35018761,  0.26101316,\n",
       "         -0.18203792,  0.16078847, -0.21638956,  0.06940961, -0.27203017,\n",
       "         -0.04005125,  0.23820944,  0.22388355,  0.12092373,  0.1625033 ,\n",
       "          0.33432844, -0.27755713, -0.29570068, -0.13483339, -0.36260897],\n",
       "        [ 0.16010218,  0.21353751, -0.12585512,  0.05101296,  0.43094408,\n",
       "         -0.17114932,  0.19392674, -0.44797648, -0.38240934,  0.24353218,\n",
       "         -0.04909521, -0.15182526, -0.13117974, -0.03414867,  0.25971903,\n",
       "         -0.03380076, -0.06097161,  0.04557313,  0.18517195, -0.34463091],\n",
       "        [ 0.09519889,  0.05312021, -0.38644126,  0.16300081, -0.36159286,\n",
       "          0.09732146, -0.11877541, -0.0252082 ,  0.44976467, -0.18028278,\n",
       "         -0.16940477,  0.16889095,  0.11371553,  0.36450622, -0.36034315,\n",
       "         -0.02700913,  0.06840625,  0.17785379, -0.25134804,  0.00816331],\n",
       "        [-0.00170306,  0.29194973, -0.09087358,  0.13464202, -0.35103826,\n",
       "          0.20399781, -0.10232659,  0.37333731, -0.10395535,  0.14244306,\n",
       "          0.2514611 ,  0.00815477,  0.37504102,  0.08086363,  0.20033614,\n",
       "          0.14671022,  0.33494817,  0.34567144,  0.37963845, -0.2895788 ],\n",
       "        [ 0.36652375, -0.19270196, -0.24317965, -0.16316787,  0.0236234 ,\n",
       "         -0.22200948, -0.03597646, -0.28452403, -0.39868389,  0.07237146,\n",
       "         -0.21910677, -0.39686889, -0.16377976, -0.2534213 , -0.21261744,\n",
       "          0.32995649, -0.0510836 ,  0.24005972,  0.0561682 ,  0.11766145],\n",
       "        [ 0.18489844, -0.11734832, -0.09359173,  0.30534338,  0.18792216,\n",
       "          0.26195671, -0.4031661 , -0.07720548,  0.02655382,  0.36101832,\n",
       "          0.04904218,  0.31279173, -0.32834563,  0.03711699,  0.03809761,\n",
       "          0.33431259, -0.10109364,  0.30445328, -0.27836601, -0.3104787 ],\n",
       "        [ 0.36335192,  0.34018866,  0.06952031, -0.3593046 , -0.37516996,\n",
       "         -0.14099403, -0.11196891,  0.21562825,  0.26317565,  0.03540548,\n",
       "         -0.13644134, -0.0953919 , -0.30235004, -0.28176248,  0.18992677,\n",
       "          0.28898833, -0.18668605,  0.1421022 , -0.10913178, -0.38263749],\n",
       "        [ 0.20229939, -0.11048931, -0.14204098, -0.1343951 ,  0.08868728,\n",
       "         -0.11642299,  0.31103716, -0.27495735,  0.36236835,  0.05268631,\n",
       "         -0.33933262,  0.37871144, -0.21312813,  0.22852482,  0.23387188,\n",
       "         -0.33726383,  0.09845046,  0.06456908, -0.32671905,  0.21142892],\n",
       "        [-0.28177074, -0.06227426, -0.31207673,  0.11048186, -0.07454179,\n",
       "          0.09370071,  0.16114794,  0.37370572, -0.0130004 , -0.16077818,\n",
       "          0.00719619,  0.140607  , -0.3056391 , -0.3513402 ,  0.09379998,\n",
       "          0.275359  , -0.34464628,  0.22591684, -0.19810703,  0.23511932]]),\n",
       " array([[ 0.18950172],\n",
       "        [-0.30084805],\n",
       "        [-0.27309154],\n",
       "        [ 0.48613795],\n",
       "        [ 0.3468084 ],\n",
       "        [ 0.23899621],\n",
       "        [-0.38632169],\n",
       "        [ 0.5200667 ],\n",
       "        [ 0.65101401],\n",
       "        [ 0.22544984],\n",
       "        [ 0.47470166],\n",
       "        [ 0.90528458],\n",
       "        [ 0.49558392],\n",
       "        [ 0.00883654],\n",
       "        [-0.00674421],\n",
       "        [ 0.04969362],\n",
       "        [ 0.47250598],\n",
       "        [ 0.01675244],\n",
       "        [ 0.10502538],\n",
       "        [ 0.12145666]])]"
      ]
     },
     "execution_count": 25,
     "metadata": {},
     "output_type": "execute_result"
    }
   ],
   "source": [
    "reg.coefs_"
   ]
  },
  {
   "cell_type": "code",
   "execution_count": 26,
   "id": "3890d9b6",
   "metadata": {
    "scrolled": false
   },
   "outputs": [
    {
     "data": {
      "text/plain": [
       "[array([-0.53273181, -0.53535031, -0.17863571,  0.46548872, -0.33737956,\n",
       "        -0.31957373,  0.38405177, -0.42836776,  0.27702832, -0.00697831,\n",
       "        -0.47059594,  0.3636972 ,  0.3153783 , -0.41290999, -0.45663009,\n",
       "         0.32586584, -0.02566946, -0.22790955,  0.04441154, -0.2182117 ]),\n",
       " array([-0.15107476, -0.08210314,  0.31450588,  0.42710201, -0.2037281 ,\n",
       "         0.06939804,  0.03682152,  0.13853471,  0.27902956, -0.130073  ,\n",
       "        -0.29882209,  0.28798023, -0.15337674, -0.24139965,  0.05071283,\n",
       "         0.14373095, -0.35218604,  0.356566  , -0.30695172, -0.07289161]),\n",
       " array([0.46836887])]"
      ]
     },
     "execution_count": 26,
     "metadata": {},
     "output_type": "execute_result"
    }
   ],
   "source": [
    "reg.intercepts_"
   ]
  },
  {
   "cell_type": "markdown",
   "id": "fee5da68",
   "metadata": {},
   "source": [
    "# 7. Prediction"
   ]
  },
  {
   "cell_type": "markdown",
   "id": "1290eb30",
   "metadata": {},
   "source": [
    "## 7.1. Training Set"
   ]
  },
  {
   "cell_type": "code",
   "execution_count": 27,
   "id": "f6ae8331",
   "metadata": {},
   "outputs": [],
   "source": [
    "y_pred_train = reg.predict(X_train_scaled)"
   ]
  },
  {
   "cell_type": "code",
   "execution_count": 28,
   "id": "86df5129",
   "metadata": {},
   "outputs": [
    {
     "data": {
      "text/plain": [
       "array([2.28351241, 3.25208892, 3.23125091, 3.35709245, 3.11532776,\n",
       "       3.41720895, 2.80345752, 3.0355154 , 3.36335708, 2.78846302,\n",
       "       2.51540657, 2.28826883, 3.23933436, 2.6183649 , 3.21681037,\n",
       "       1.97473162, 3.36638876, 2.66364522, 3.21327038, 3.05892299,\n",
       "       2.53379392, 2.90004   , 3.11905345, 2.51847113, 3.04930701,\n",
       "       3.26185691, 3.29628228, 3.34967627, 3.13856853, 3.32608584,\n",
       "       3.26541974, 2.82680525, 3.2780805 , 3.4529983 , 2.6283638 ,\n",
       "       3.11606492, 2.78743933, 3.55196062, 2.73365484, 3.21470211,\n",
       "       3.32794968, 1.970171  , 2.16516   , 2.61804615, 3.10095897,\n",
       "       3.47943798, 2.19879725, 3.46571663, 3.48332493, 3.10342671,\n",
       "       3.3591058 , 2.57187655, 3.17696419, 3.52681524, 3.11906811,\n",
       "       3.39880765, 3.74125296, 3.23455258, 3.08898822, 2.53379392,\n",
       "       3.31773091, 2.67892884, 3.08588945, 3.17707465, 3.86340383,\n",
       "       2.90765831, 2.76069861, 3.23544381, 3.05892299])"
      ]
     },
     "execution_count": 28,
     "metadata": {},
     "output_type": "execute_result"
    }
   ],
   "source": [
    "y_pred_train"
   ]
  },
  {
   "cell_type": "markdown",
   "id": "20275bcf",
   "metadata": {},
   "source": [
    "## 7.2. Test Set"
   ]
  },
  {
   "cell_type": "code",
   "execution_count": 29,
   "id": "50cd359b",
   "metadata": {},
   "outputs": [],
   "source": [
    "y_pred_test = reg.predict(X_test_scaled)"
   ]
  },
  {
   "cell_type": "code",
   "execution_count": 30,
   "id": "d2bb7adb",
   "metadata": {},
   "outputs": [
    {
     "data": {
      "text/plain": [
       "array([3.6048548 , 3.30972817, 3.09983392, 2.75666621, 3.35541302,\n",
       "       3.37871675, 3.1229338 , 3.18484197, 3.62421814, 2.7512709 ,\n",
       "       3.09673515, 3.22714795, 3.45090948, 3.71156228, 1.95777994,\n",
       "       3.41720895, 3.5886401 , 3.06202176])"
      ]
     },
     "execution_count": 30,
     "metadata": {},
     "output_type": "execute_result"
    }
   ],
   "source": [
    "y_pred_test"
   ]
  },
  {
   "cell_type": "markdown",
   "id": "0ac9e2f7",
   "metadata": {},
   "source": [
    "# 8. Model Evaluation"
   ]
  },
  {
   "cell_type": "markdown",
   "id": "323267ce",
   "metadata": {},
   "source": [
    "## 8.1. Training Set"
   ]
  },
  {
   "cell_type": "markdown",
   "id": "f2a400c0",
   "metadata": {},
   "source": [
    "### 8.1.1. Scoring"
   ]
  },
  {
   "cell_type": "code",
   "execution_count": 31,
   "id": "77e55cfb",
   "metadata": {},
   "outputs": [
    {
     "name": "stdout",
     "output_type": "stream",
     "text": [
      "r2_score =\t\t\t 0.19481454418673894\n",
      "mean_squared_error =\t\t 1.1895976677568743\n",
      "mean_absolute_error =\t\t 0.8951278813852531\n",
      "mean_absolute_percentage_error = 0.38460793256234266\n"
     ]
    }
   ],
   "source": [
    "print('r2_score =\\t\\t\\t', r2_score(y_train, y_pred_train))\n",
    "print('mean_squared_error =\\t\\t', mean_squared_error(y_train, y_pred_train))\n",
    "print('mean_absolute_error =\\t\\t', mean_absolute_error(y_train, y_pred_train))\n",
    "print('mean_absolute_percentage_error =', mean_absolute_percentage_error(y_train, y_pred_train))"
   ]
  },
  {
   "cell_type": "markdown",
   "id": "b1c2a693",
   "metadata": {},
   "source": [
    "### 8.1.2. Scatter Plot between Predicted & Actual Values"
   ]
  },
  {
   "cell_type": "code",
   "execution_count": 32,
   "id": "bb81c4d9",
   "metadata": {},
   "outputs": [
    {
     "data": {
      "text/plain": [
       "Text(0, 0.5, 'Actual')"
      ]
     },
     "execution_count": 32,
     "metadata": {},
     "output_type": "execute_result"
    },
    {
     "data": {
      "image/png": "[encoded data removed]",
      "text/plain": [
       "<Figure size 432x288 with 1 Axes>"
      ]
     },
     "metadata": {
      "needs_background": "light"
     },
     "output_type": "display_data"
    }
   ],
   "source": [
    "plt.scatter(y_pred_train, y_train)\n",
    "\n",
    "plt.plot(y_pred_train, y_pred_train, color='red')\n",
    "\n",
    "plt.title('Scatter Plot between Predicted & Actual Values')\n",
    "plt.xlabel('Predicted')\n",
    "plt.ylabel('Actual')"
   ]
  },
  {
   "cell_type": "markdown",
   "id": "85d799bd",
   "metadata": {},
   "source": [
    "## 8.2. Test Set"
   ]
  },
  {
   "cell_type": "markdown",
   "id": "f519ade0",
   "metadata": {},
   "source": [
    "### 8.2.1. Scoring"
   ]
  },
  {
   "cell_type": "code",
   "execution_count": 33,
   "id": "75265c82",
   "metadata": {},
   "outputs": [
    {
     "name": "stdout",
     "output_type": "stream",
     "text": [
      "r2_score =\t\t\t -0.31879314297749506\n",
      "mean_squared_error =\t\t 2.0880891430477004\n",
      "mean_absolute_error =\t\t 1.1041654275544148\n",
      "mean_absolute_percentage_error = 0.7279009479700901\n"
     ]
    }
   ],
   "source": [
    "print('r2_score =\\t\\t\\t', r2_score(y_test, y_pred_test))\n",
    "print('mean_squared_error =\\t\\t', mean_squared_error(y_test, y_pred_test))\n",
    "print('mean_absolute_error =\\t\\t', mean_absolute_error(y_test, y_pred_test))\n",
    "print('mean_absolute_percentage_error =', mean_absolute_percentage_error(y_test, y_pred_test))"
   ]
  },
  {
   "cell_type": "markdown",
   "id": "9d43b931",
   "metadata": {},
   "source": [
    "### 8.2.2 Scatter Plot between Predicted & Actual Values"
   ]
  },
  {
   "cell_type": "code",
   "execution_count": 34,
   "id": "91bb4023",
   "metadata": {
    "scrolled": true
   },
   "outputs": [
    {
     "data": {
      "text/plain": [
       "Text(0, 0.5, 'Actual')"
      ]
     },
     "execution_count": 34,
     "metadata": {},
     "output_type": "execute_result"
    },
    {
     "data": {
      "image/png": "[encoded data removed]",
      "text/plain": [
       "<Figure size 432x288 with 1 Axes>"
      ]
     },
     "metadata": {
      "needs_background": "light"
     },
     "output_type": "display_data"
    }
   ],
   "source": [
    "plt.scatter(y_pred_test, y_test)\n",
    "\n",
    "plt.plot(y_pred_test, y_pred_test, color='red')\n",
    "\n",
    "plt.title('Scatter Plot between Predicted & Actual Values')\n",
    "plt.xlabel('Predicted')\n",
    "plt.ylabel('Actual')"
   ]
  },
  {
   "cell_type": "markdown",
   "id": "e38a8e37",
   "metadata": {},
   "source": [
    "# 9. Save Model"
   ]
  },
  {
   "cell_type": "code",
   "execution_count": 35,
   "id": "50763e5c",
   "metadata": {},
   "outputs": [],
   "source": [
    "import pickle"
   ]
  },
  {
   "cell_type": "code",
   "execution_count": 36,
   "id": "928506b7",
   "metadata": {},
   "outputs": [],
   "source": [
    "pickle.dump((reg, \n",
    "             ordinal_encoder, \n",
    "             one_hot_encoder, \n",
    "             feature_name, \n",
    "             numerical_feature, \n",
    "             ordinal_feature, \n",
    "             nominal_feature),  open('deep_learning_regrssion_model.pickle', 'wb'))"
   ]
  },
  {
   "cell_type": "code",
   "execution_count": null,
   "id": "a088c2b0",
   "metadata": {},
   "outputs": [],
   "source": []
  }
 ],
 "metadata": {
  "kernelspec": {
   "display_name": "Python 3",
   "language": "python",
   "name": "python3"
  },
  "language_info": {
   "codemirror_mode": {
    "name": "ipython",
    "version": 3
   },
   "file_extension": ".py",
   "mimetype": "text/x-python",
   "name": "python",
   "nbconvert_exporter": "python",
   "pygments_lexer": "ipython3",
   "version": "3.8.8"
  }
 },
 "nbformat": 4,
 "nbformat_minor": 5
}
