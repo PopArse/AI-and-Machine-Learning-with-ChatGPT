{
 "cells": [
  {
   "cell_type": "markdown",
   "id": "57654bb6",
   "metadata": {},
   "source": [
    "# 1. Import Libraries"
   ]
  },
  {
   "cell_type": "code",
   "execution_count": 1,
   "id": "2f51eef5",
   "metadata": {},
   "outputs": [],
   "source": [
    "import numpy as np\n",
    "import pandas as pd\n",
    "import matplotlib.pyplot as plt\n",
    "\n",
    "from sklearn.model_selection import train_test_split\n",
    "from sklearn.preprocessing import OrdinalEncoder, OneHotEncoder\n",
    "from sklearn.preprocessing import (\n",
    "    OrdinalEncoder, \n",
    "    OneHotEncoder, \n",
    "    StandardScaler, \n",
    "    MinMaxScaler\n",
    ")\n",
    "from sklearn.neural_network import MLPClassifier\n",
    "from sklearn.metrics import plot_confusion_matrix, classification_report\n",
    "\n",
    "import warnings\n",
    "warnings.filterwarnings('ignore')\n",
    "\n",
    "np.random.seed(12345)"
   ]
  },
  {
   "cell_type": "markdown",
   "id": "6707b8de",
   "metadata": {},
   "source": [
    "# 2. Read Data"
   ]
  },
  {
   "cell_type": "code",
   "execution_count": 2,
   "id": "89c2e441",
   "metadata": {
    "scrolled": true
   },
   "outputs": [
    {
     "data": {
      "text/html": [
       "<div>\n",
       "<style scoped>\n",
       "    .dataframe tbody tr th:only-of-type {\n",
       "        vertical-align: middle;\n",
       "    }\n",
       "\n",
       "    .dataframe tbody tr th {\n",
       "        vertical-align: top;\n",
       "    }\n",
       "\n",
       "    .dataframe thead th {\n",
       "        text-align: right;\n",
       "    }\n",
       "</style>\n",
       "<table border=\"1\" class=\"dataframe\">\n",
       "  <thead>\n",
       "    <tr style=\"text-align: right;\">\n",
       "      <th></th>\n",
       "      <th>experience</th>\n",
       "      <th>position</th>\n",
       "      <th>salary</th>\n",
       "      <th>working_hour</th>\n",
       "      <th>score</th>\n",
       "    </tr>\n",
       "  </thead>\n",
       "  <tbody>\n",
       "    <tr>\n",
       "      <th>0</th>\n",
       "      <td>0</td>\n",
       "      <td>secretary</td>\n",
       "      <td>24000.0</td>\n",
       "      <td>8-9</td>\n",
       "      <td>4</td>\n",
       "    </tr>\n",
       "    <tr>\n",
       "      <th>1</th>\n",
       "      <td>0</td>\n",
       "      <td>secretary</td>\n",
       "      <td>21500.0</td>\n",
       "      <td>8-9</td>\n",
       "      <td>4</td>\n",
       "    </tr>\n",
       "    <tr>\n",
       "      <th>2</th>\n",
       "      <td>0</td>\n",
       "      <td>accountant</td>\n",
       "      <td>20000.0</td>\n",
       "      <td>5-7</td>\n",
       "      <td>3</td>\n",
       "    </tr>\n",
       "    <tr>\n",
       "      <th>3</th>\n",
       "      <td>1</td>\n",
       "      <td>NaN</td>\n",
       "      <td>30500.0</td>\n",
       "      <td>8-9</td>\n",
       "      <td>3</td>\n",
       "    </tr>\n",
       "    <tr>\n",
       "      <th>4</th>\n",
       "      <td>12</td>\n",
       "      <td>engineer</td>\n",
       "      <td>49000.0</td>\n",
       "      <td>3-4</td>\n",
       "      <td>1</td>\n",
       "    </tr>\n",
       "    <tr>\n",
       "      <th>...</th>\n",
       "      <td>...</td>\n",
       "      <td>...</td>\n",
       "      <td>...</td>\n",
       "      <td>...</td>\n",
       "      <td>...</td>\n",
       "    </tr>\n",
       "    <tr>\n",
       "      <th>85</th>\n",
       "      <td>12</td>\n",
       "      <td>engineer</td>\n",
       "      <td>38000.0</td>\n",
       "      <td>NaN</td>\n",
       "      <td>1</td>\n",
       "    </tr>\n",
       "    <tr>\n",
       "      <th>86</th>\n",
       "      <td>11</td>\n",
       "      <td>accountant</td>\n",
       "      <td>41000.0</td>\n",
       "      <td>8-9</td>\n",
       "      <td>3</td>\n",
       "    </tr>\n",
       "    <tr>\n",
       "      <th>87</th>\n",
       "      <td>7</td>\n",
       "      <td>secretary</td>\n",
       "      <td>43500.0</td>\n",
       "      <td>8-9</td>\n",
       "      <td>5</td>\n",
       "    </tr>\n",
       "    <tr>\n",
       "      <th>88</th>\n",
       "      <td>1</td>\n",
       "      <td>engineer</td>\n",
       "      <td>23000.0</td>\n",
       "      <td>5-7</td>\n",
       "      <td>4</td>\n",
       "    </tr>\n",
       "    <tr>\n",
       "      <th>89</th>\n",
       "      <td>3</td>\n",
       "      <td>accountant</td>\n",
       "      <td>29500.0</td>\n",
       "      <td>8-9</td>\n",
       "      <td>3</td>\n",
       "    </tr>\n",
       "  </tbody>\n",
       "</table>\n",
       "<p>90 rows × 5 columns</p>\n",
       "</div>"
      ],
      "text/plain": [
       "    experience    position   salary working_hour  score\n",
       "0            0   secretary  24000.0          8-9      4\n",
       "1            0   secretary  21500.0          8-9      4\n",
       "2            0  accountant  20000.0          5-7      3\n",
       "3            1         NaN  30500.0          8-9      3\n",
       "4           12    engineer  49000.0          3-4      1\n",
       "..         ...         ...      ...          ...    ...\n",
       "85          12    engineer  38000.0          NaN      1\n",
       "86          11  accountant  41000.0          8-9      3\n",
       "87           7   secretary  43500.0          8-9      5\n",
       "88           1    engineer  23000.0          5-7      4\n",
       "89           3  accountant  29500.0          8-9      3\n",
       "\n",
       "[90 rows x 5 columns]"
      ]
     },
     "execution_count": 2,
     "metadata": {},
     "output_type": "execute_result"
    }
   ],
   "source": [
    "data = pd.read_excel('job_review.xlsx')\n",
    "\n",
    "data"
   ]
  },
  {
   "cell_type": "markdown",
   "id": "aa424a64",
   "metadata": {},
   "source": [
    "# 3. Clean Data"
   ]
  },
  {
   "cell_type": "markdown",
   "id": "bc4f7a96",
   "metadata": {},
   "source": [
    "## 3.1. Handle Missing Values"
   ]
  },
  {
   "cell_type": "markdown",
   "id": "2b59944e",
   "metadata": {},
   "source": [
    "### 3.1.1. Check Missing Values"
   ]
  },
  {
   "cell_type": "code",
   "execution_count": 3,
   "id": "8a02b878",
   "metadata": {},
   "outputs": [
    {
     "name": "stdout",
     "output_type": "stream",
     "text": [
      "<class 'pandas.core.frame.DataFrame'>\n",
      "RangeIndex: 90 entries, 0 to 89\n",
      "Data columns (total 5 columns):\n",
      " #   Column        Non-Null Count  Dtype  \n",
      "---  ------        --------------  -----  \n",
      " 0   experience    90 non-null     int64  \n",
      " 1   position      89 non-null     object \n",
      " 2   salary        89 non-null     float64\n",
      " 3   working_hour  89 non-null     object \n",
      " 4   score         90 non-null     int64  \n",
      "dtypes: float64(1), int64(2), object(2)\n",
      "memory usage: 3.6+ KB\n"
     ]
    }
   ],
   "source": [
    "data.info()"
   ]
  },
  {
   "cell_type": "markdown",
   "id": "44279ff4",
   "metadata": {},
   "source": [
    "### 3.1.2. Remove Missing Values (Listwise Deletion)"
   ]
  },
  {
   "cell_type": "code",
   "execution_count": 4,
   "id": "7a3da168",
   "metadata": {},
   "outputs": [],
   "source": [
    "data.dropna(axis=0, inplace=True)"
   ]
  },
  {
   "cell_type": "markdown",
   "id": "5fed6619",
   "metadata": {},
   "source": [
    "## 3.2. Handle Outliers"
   ]
  },
  {
   "cell_type": "markdown",
   "id": "89eb99fe",
   "metadata": {},
   "source": [
    "### 3.2.1. Check Outliers"
   ]
  },
  {
   "cell_type": "code",
   "execution_count": 5,
   "id": "8400e390",
   "metadata": {},
   "outputs": [
    {
     "data": {
      "text/html": [
       "<div>\n",
       "<style scoped>\n",
       "    .dataframe tbody tr th:only-of-type {\n",
       "        vertical-align: middle;\n",
       "    }\n",
       "\n",
       "    .dataframe tbody tr th {\n",
       "        vertical-align: top;\n",
       "    }\n",
       "\n",
       "    .dataframe thead th {\n",
       "        text-align: right;\n",
       "    }\n",
       "</style>\n",
       "<table border=\"1\" class=\"dataframe\">\n",
       "  <thead>\n",
       "    <tr style=\"text-align: right;\">\n",
       "      <th></th>\n",
       "      <th>experience</th>\n",
       "      <th>salary</th>\n",
       "      <th>score</th>\n",
       "    </tr>\n",
       "  </thead>\n",
       "  <tbody>\n",
       "    <tr>\n",
       "      <th>count</th>\n",
       "      <td>87.000000</td>\n",
       "      <td>87.000000</td>\n",
       "      <td>87.000000</td>\n",
       "    </tr>\n",
       "    <tr>\n",
       "      <th>mean</th>\n",
       "      <td>3.344828</td>\n",
       "      <td>29287.356322</td>\n",
       "      <td>2.988506</td>\n",
       "    </tr>\n",
       "    <tr>\n",
       "      <th>std</th>\n",
       "      <td>3.530029</td>\n",
       "      <td>12528.950703</td>\n",
       "      <td>1.234148</td>\n",
       "    </tr>\n",
       "    <tr>\n",
       "      <th>min</th>\n",
       "      <td>0.000000</td>\n",
       "      <td>-39000.000000</td>\n",
       "      <td>1.000000</td>\n",
       "    </tr>\n",
       "    <tr>\n",
       "      <th>25%</th>\n",
       "      <td>1.000000</td>\n",
       "      <td>23500.000000</td>\n",
       "      <td>2.000000</td>\n",
       "    </tr>\n",
       "    <tr>\n",
       "      <th>50%</th>\n",
       "      <td>2.000000</td>\n",
       "      <td>29000.000000</td>\n",
       "      <td>3.000000</td>\n",
       "    </tr>\n",
       "    <tr>\n",
       "      <th>75%</th>\n",
       "      <td>5.000000</td>\n",
       "      <td>36750.000000</td>\n",
       "      <td>4.000000</td>\n",
       "    </tr>\n",
       "    <tr>\n",
       "      <th>max</th>\n",
       "      <td>14.000000</td>\n",
       "      <td>52000.000000</td>\n",
       "      <td>5.000000</td>\n",
       "    </tr>\n",
       "  </tbody>\n",
       "</table>\n",
       "</div>"
      ],
      "text/plain": [
       "       experience        salary      score\n",
       "count   87.000000     87.000000  87.000000\n",
       "mean     3.344828  29287.356322   2.988506\n",
       "std      3.530029  12528.950703   1.234148\n",
       "min      0.000000 -39000.000000   1.000000\n",
       "25%      1.000000  23500.000000   2.000000\n",
       "50%      2.000000  29000.000000   3.000000\n",
       "75%      5.000000  36750.000000   4.000000\n",
       "max     14.000000  52000.000000   5.000000"
      ]
     },
     "execution_count": 5,
     "metadata": {},
     "output_type": "execute_result"
    }
   ],
   "source": [
    "data.describe()"
   ]
  },
  {
   "cell_type": "markdown",
   "id": "62561b7e",
   "metadata": {},
   "source": [
    "### 3.2.2. Remove Outliers"
   ]
  },
  {
   "cell_type": "code",
   "execution_count": 6,
   "id": "f3524d5d",
   "metadata": {},
   "outputs": [],
   "source": [
    "# no outlier to remove"
   ]
  },
  {
   "cell_type": "markdown",
   "id": "50cdff68",
   "metadata": {},
   "source": [
    "# 4. Split Dataset into Training & Test Sets"
   ]
  },
  {
   "cell_type": "code",
   "execution_count": 7,
   "id": "d3ef93cc",
   "metadata": {},
   "outputs": [],
   "source": [
    "target_name = 'score'\n",
    "feature_name = list(data.columns.drop(target_name))"
   ]
  },
  {
   "cell_type": "code",
   "execution_count": 8,
   "id": "610f9450",
   "metadata": {},
   "outputs": [],
   "source": [
    "X = data[feature_name]\n",
    "y = data[target_name]"
   ]
  },
  {
   "cell_type": "code",
   "execution_count": 9,
   "id": "1a62d0cb",
   "metadata": {
    "scrolled": true
   },
   "outputs": [
    {
     "data": {
      "text/html": [
       "<div>\n",
       "<style scoped>\n",
       "    .dataframe tbody tr th:only-of-type {\n",
       "        vertical-align: middle;\n",
       "    }\n",
       "\n",
       "    .dataframe tbody tr th {\n",
       "        vertical-align: top;\n",
       "    }\n",
       "\n",
       "    .dataframe thead th {\n",
       "        text-align: right;\n",
       "    }\n",
       "</style>\n",
       "<table border=\"1\" class=\"dataframe\">\n",
       "  <thead>\n",
       "    <tr style=\"text-align: right;\">\n",
       "      <th></th>\n",
       "      <th>experience</th>\n",
       "      <th>position</th>\n",
       "      <th>salary</th>\n",
       "      <th>working_hour</th>\n",
       "    </tr>\n",
       "  </thead>\n",
       "  <tbody>\n",
       "    <tr>\n",
       "      <th>0</th>\n",
       "      <td>0</td>\n",
       "      <td>secretary</td>\n",
       "      <td>24000.0</td>\n",
       "      <td>8-9</td>\n",
       "    </tr>\n",
       "    <tr>\n",
       "      <th>1</th>\n",
       "      <td>0</td>\n",
       "      <td>secretary</td>\n",
       "      <td>21500.0</td>\n",
       "      <td>8-9</td>\n",
       "    </tr>\n",
       "    <tr>\n",
       "      <th>2</th>\n",
       "      <td>0</td>\n",
       "      <td>accountant</td>\n",
       "      <td>20000.0</td>\n",
       "      <td>5-7</td>\n",
       "    </tr>\n",
       "    <tr>\n",
       "      <th>4</th>\n",
       "      <td>12</td>\n",
       "      <td>engineer</td>\n",
       "      <td>49000.0</td>\n",
       "      <td>3-4</td>\n",
       "    </tr>\n",
       "    <tr>\n",
       "      <th>5</th>\n",
       "      <td>2</td>\n",
       "      <td>accountant</td>\n",
       "      <td>24000.0</td>\n",
       "      <td>8-9</td>\n",
       "    </tr>\n",
       "    <tr>\n",
       "      <th>...</th>\n",
       "      <td>...</td>\n",
       "      <td>...</td>\n",
       "      <td>...</td>\n",
       "      <td>...</td>\n",
       "    </tr>\n",
       "    <tr>\n",
       "      <th>83</th>\n",
       "      <td>7</td>\n",
       "      <td>engineer</td>\n",
       "      <td>42000.0</td>\n",
       "      <td>5-7</td>\n",
       "    </tr>\n",
       "    <tr>\n",
       "      <th>86</th>\n",
       "      <td>11</td>\n",
       "      <td>accountant</td>\n",
       "      <td>41000.0</td>\n",
       "      <td>8-9</td>\n",
       "    </tr>\n",
       "    <tr>\n",
       "      <th>87</th>\n",
       "      <td>7</td>\n",
       "      <td>secretary</td>\n",
       "      <td>43500.0</td>\n",
       "      <td>8-9</td>\n",
       "    </tr>\n",
       "    <tr>\n",
       "      <th>88</th>\n",
       "      <td>1</td>\n",
       "      <td>engineer</td>\n",
       "      <td>23000.0</td>\n",
       "      <td>5-7</td>\n",
       "    </tr>\n",
       "    <tr>\n",
       "      <th>89</th>\n",
       "      <td>3</td>\n",
       "      <td>accountant</td>\n",
       "      <td>29500.0</td>\n",
       "      <td>8-9</td>\n",
       "    </tr>\n",
       "  </tbody>\n",
       "</table>\n",
       "<p>87 rows × 4 columns</p>\n",
       "</div>"
      ],
      "text/plain": [
       "    experience    position   salary working_hour\n",
       "0            0   secretary  24000.0          8-9\n",
       "1            0   secretary  21500.0          8-9\n",
       "2            0  accountant  20000.0          5-7\n",
       "4           12    engineer  49000.0          3-4\n",
       "5            2  accountant  24000.0          8-9\n",
       "..         ...         ...      ...          ...\n",
       "83           7    engineer  42000.0          5-7\n",
       "86          11  accountant  41000.0          8-9\n",
       "87           7   secretary  43500.0          8-9\n",
       "88           1    engineer  23000.0          5-7\n",
       "89           3  accountant  29500.0          8-9\n",
       "\n",
       "[87 rows x 4 columns]"
      ]
     },
     "execution_count": 9,
     "metadata": {},
     "output_type": "execute_result"
    }
   ],
   "source": [
    "X"
   ]
  },
  {
   "cell_type": "code",
   "execution_count": 10,
   "id": "13cae49d",
   "metadata": {},
   "outputs": [],
   "source": [
    "X_train, X_test, y_train, y_test = train_test_split(X, y, test_size=0.20, shuffle=True)"
   ]
  },
  {
   "cell_type": "markdown",
   "id": "ed13b65f",
   "metadata": {},
   "source": [
    "# 5. Data Preparation"
   ]
  },
  {
   "cell_type": "code",
   "execution_count": 11,
   "id": "e79223a4",
   "metadata": {},
   "outputs": [],
   "source": [
    "numerical_feature = ['experience']\n",
    "categorical_feature = ['position', 'working_hour']"
   ]
  },
  {
   "cell_type": "code",
   "execution_count": 12,
   "id": "c0a9d590",
   "metadata": {},
   "outputs": [
    {
     "name": "stdout",
     "output_type": "stream",
     "text": [
      "position : ['accountant' 'engineer' 'secretary']\n",
      "working_hour : ['10-12' '3-4' '5-7' '8-9']\n"
     ]
    }
   ],
   "source": [
    "for feature in categorical_feature:\n",
    "    print(feature, ':', np.unique(X_train[feature]))"
   ]
  },
  {
   "cell_type": "code",
   "execution_count": 13,
   "id": "a6d3ef1d",
   "metadata": {},
   "outputs": [],
   "source": [
    "ordinal_feature = ['working_hour']\n",
    "nominal_feature = ['position']"
   ]
  },
  {
   "cell_type": "markdown",
   "id": "7e7af4f1",
   "metadata": {},
   "source": [
    "## 5.1. Ordinal Encoding"
   ]
  },
  {
   "cell_type": "markdown",
   "id": "c6f1f29d",
   "metadata": {},
   "source": [
    "### 5.1.1. Training Set"
   ]
  },
  {
   "cell_type": "code",
   "execution_count": 14,
   "id": "be787c66",
   "metadata": {},
   "outputs": [],
   "source": [
    "categories = [\n",
    "    np.array(['3-4', '5-7', '8-9', '10-12'], dtype=object),\n",
    "]"
   ]
  },
  {
   "cell_type": "code",
   "execution_count": 15,
   "id": "f9029dd4",
   "metadata": {},
   "outputs": [],
   "source": [
    "ordinal_encoder = OrdinalEncoder(categories=categories)\n",
    "X_train[ordinal_feature] = ordinal_encoder.fit_transform(X_train[ordinal_feature])"
   ]
  },
  {
   "cell_type": "markdown",
   "id": "e62bdad9",
   "metadata": {},
   "source": [
    "### 5.1.2. Test Set"
   ]
  },
  {
   "cell_type": "code",
   "execution_count": 16,
   "id": "dfb4172e",
   "metadata": {},
   "outputs": [],
   "source": [
    "X_test[ordinal_feature] = ordinal_encoder.transform(X_test[ordinal_feature])"
   ]
  },
  {
   "cell_type": "markdown",
   "id": "a25e32e6",
   "metadata": {},
   "source": [
    "## 5.2. One Hot Encoding"
   ]
  },
  {
   "cell_type": "markdown",
   "id": "61908c07",
   "metadata": {},
   "source": [
    "### 5.2.1. Training Set"
   ]
  },
  {
   "cell_type": "code",
   "execution_count": 17,
   "id": "43f39bae",
   "metadata": {},
   "outputs": [
    {
     "data": {
      "text/plain": [
       "OneHotEncoder(handle_unknown='ignore', sparse=False)"
      ]
     },
     "execution_count": 17,
     "metadata": {},
     "output_type": "execute_result"
    }
   ],
   "source": [
    "one_hot_encoder = OneHotEncoder(sparse=False, handle_unknown='ignore')\n",
    "one_hot_encoder.fit(X_train[nominal_feature])"
   ]
  },
  {
   "cell_type": "code",
   "execution_count": 18,
   "id": "5a7027a3",
   "metadata": {},
   "outputs": [],
   "source": [
    "one_hot_feature = []\n",
    "for i, feature in enumerate(nominal_feature):\n",
    "    for cate in one_hot_encoder.categories_[i]:\n",
    "        one_hot_feature_name = str(feature) + '_' + str(cate)\n",
    "        one_hot_feature.append(one_hot_feature_name)"
   ]
  },
  {
   "cell_type": "code",
   "execution_count": 19,
   "id": "45fb96f7",
   "metadata": {},
   "outputs": [],
   "source": [
    "X_train[one_hot_feature] = one_hot_encoder.transform(X_train[nominal_feature])\n",
    "X_train.drop(nominal_feature, axis=1, inplace=True)"
   ]
  },
  {
   "cell_type": "markdown",
   "id": "fabc334d",
   "metadata": {},
   "source": [
    "### 5.2.2. Test Set"
   ]
  },
  {
   "cell_type": "code",
   "execution_count": 20,
   "id": "e8d26cae",
   "metadata": {},
   "outputs": [],
   "source": [
    "X_test[one_hot_feature] = one_hot_encoder.transform(X_test[nominal_feature])\n",
    "X_test.drop(nominal_feature, axis=1, inplace=True)"
   ]
  },
  {
   "cell_type": "markdown",
   "id": "6aeaeb0a",
   "metadata": {},
   "source": [
    "## 5.3. Feature Scaling"
   ]
  },
  {
   "cell_type": "markdown",
   "id": "6bd90e8d",
   "metadata": {},
   "source": [
    "### 5.3.1. Training Set"
   ]
  },
  {
   "cell_type": "code",
   "execution_count": 21,
   "id": "bd4efdd2",
   "metadata": {},
   "outputs": [],
   "source": [
    "scaler = MinMaxScaler()\n",
    "X_train_scaled = scaler.fit_transform(X_train)"
   ]
  },
  {
   "cell_type": "markdown",
   "id": "f370ec47",
   "metadata": {},
   "source": [
    "### 5.3.2. Test Set"
   ]
  },
  {
   "cell_type": "code",
   "execution_count": 22,
   "id": "72df8ec8",
   "metadata": {},
   "outputs": [],
   "source": [
    "X_test_scaled = scaler.transform(X_test)"
   ]
  },
  {
   "cell_type": "markdown",
   "id": "f77fb5ee",
   "metadata": {},
   "source": [
    "# 6. Model Creation"
   ]
  },
  {
   "cell_type": "markdown",
   "id": "e81df55a",
   "metadata": {},
   "source": [
    "## 6.1. Setting Parameters"
   ]
  },
  {
   "cell_type": "code",
   "execution_count": 23,
   "id": "fd1486a3",
   "metadata": {},
   "outputs": [],
   "source": [
    "clf = MLPClassifier(\n",
    "    hidden_layer_sizes=(20, 20),\n",
    "    activation='relu',\n",
    "    learning_rate_init=0.5,\n",
    "    max_iter=1000,\n",
    "    alpha=0,\n",
    "    solver='sgd',\n",
    "    momentum=0\n",
    ")"
   ]
  },
  {
   "cell_type": "markdown",
   "id": "4cb08aa4",
   "metadata": {},
   "source": [
    "## 6.2. Train Model"
   ]
  },
  {
   "cell_type": "code",
   "execution_count": 24,
   "id": "8aa8df52",
   "metadata": {},
   "outputs": [
    {
     "data": {
      "text/plain": [
       "MLPClassifier(alpha=0, hidden_layer_sizes=(20, 20), learning_rate_init=0.5,\n",
       "              max_iter=1000, momentum=0, solver='sgd')"
      ]
     },
     "execution_count": 24,
     "metadata": {},
     "output_type": "execute_result"
    }
   ],
   "source": [
    "clf.fit(X_train, y_train)"
   ]
  },
  {
   "cell_type": "markdown",
   "id": "7f33bb7b",
   "metadata": {},
   "source": [
    "## 6.3. Model's Weight & Bias"
   ]
  },
  {
   "cell_type": "code",
   "execution_count": 25,
   "id": "ff6657d5",
   "metadata": {},
   "outputs": [
    {
     "data": {
      "text/plain": [
       "[array([[-3.54427727e+14, -1.47439093e+11, -4.46998957e+13,\n",
       "         -2.77685778e+09, -4.60016645e+14,  8.20908388e+13,\n",
       "         -1.71369090e+12,  1.10776451e+03,  1.00138682e+14,\n",
       "         -4.18629064e+10,  2.11225922e+02, -1.00432030e+11,\n",
       "         -4.46180458e+14, -3.69538826e+10, -9.77132581e+14,\n",
       "         -8.56473649e+08, -9.21754051e+14, -1.63947499e+04,\n",
       "         -5.18719199e+14, -1.99530107e+14],\n",
       "        [-4.41311127e+18,  1.43751356e+15, -5.56575003e+17,\n",
       "          2.70740001e+13, -5.72783811e+18,  1.02215043e+18,\n",
       "         -2.13378019e+16, -1.07978976e+07,  1.24687235e+18,\n",
       "          4.08157358e+14, -2.05819717e+06,  9.79201645e+14,\n",
       "         -5.55555860e+18,  3.60286422e+14, -1.21666407e+19,\n",
       "          8.35006616e+12, -1.14771020e+19, -7.35128479e+07,\n",
       "         -6.45876541e+18, -2.48442347e+18],\n",
       "        [-1.86243267e+14, -3.68598667e+10, -2.34887227e+13,\n",
       "         -6.94216378e+08, -2.41727710e+14,  4.31370948e+13,\n",
       "         -9.00503456e+11,  2.77051077e+02,  5.26208758e+13,\n",
       "         -1.04657583e+10,  5.28526984e+01, -2.51080640e+10,\n",
       "         -2.34457126e+14, -9.23854460e+09, -5.13459728e+14,\n",
       "         -2.14121353e+08, -4.84359639e+14, -5.33744814e+03,\n",
       "         -2.72574494e+14, -1.04848284e+14],\n",
       "        [-3.51262762e+13, -1.16516339e+05, -4.43007351e+12,\n",
       "         -2.44894667e+03, -4.55908794e+13,  8.13587357e+12,\n",
       "         -1.69838801e+11, -8.13162585e-02,  9.92456249e+12,\n",
       "         -3.95913775e+04, -1.36004317e-02, -7.04793523e+04,\n",
       "         -4.42196161e+13, -9.22419414e+04, -9.68406994e+13,\n",
       "         -3.72327876e+03, -9.13522982e+13, -1.54965359e+03,\n",
       "         -5.14087147e+13, -1.97748346e+13],\n",
       "        [-4.11382156e+13, -3.68595768e+10, -5.18829032e+12,\n",
       "         -6.94210362e+08, -5.33938586e+13,  9.52827148e+12,\n",
       "         -1.98907084e+11,  2.76667493e+02,  1.16230820e+13,\n",
       "         -1.04656598e+10,  5.26889444e+01, -2.51078886e+10,\n",
       "         -5.17879005e+13, -9.23831510e+09, -1.13415198e+14,\n",
       "         -2.14112207e+08, -1.06987445e+14, -1.49036284e+03,\n",
       "         -6.02074291e+13, -2.31593409e+13],\n",
       "        [-8.21509109e+13, -3.87716111e+04, -1.03607502e+13,\n",
       "         -7.64241532e+02, -1.06624803e+14,  1.90276192e+13,\n",
       "         -3.97207268e+11,  3.25571634e-01,  2.32108813e+13,\n",
       "         -1.31742760e+04,  2.82974532e-01, -2.34519857e+04,\n",
       "         -1.03417787e+14, -3.06933406e+04, -2.26484345e+14,\n",
       "         -1.15835047e+03, -2.13648451e+14, -5.10092757e+02,\n",
       "         -1.20231154e+14, -4.62480185e+13]]),\n",
       " array([[-4.26595149e+19, -1.14531511e+03, -9.44236926e-02,\n",
       "         -1.18034090e+08, -1.30712141e+02, -9.42514534e+02,\n",
       "         -3.55885905e-01, -5.25585416e+11, -1.55908902e+18,\n",
       "         -1.68624553e+03, -1.20191550e+07, -1.14679105e+03,\n",
       "         -2.37687361e-02, -4.51033005e+02, -1.47237790e+03,\n",
       "         -5.98071320e+02, -1.85109322e+16, -2.27468013e+03,\n",
       "          1.80374995e-01, -9.16486600e-02],\n",
       "        [-1.23265868e+08, -1.22922630e+03, -1.94249439e-01,\n",
       "         -3.91799121e+10, -1.40340611e+02, -1.01126925e+03,\n",
       "         -2.45813533e+18,  1.27937927e-01, -2.01334921e+18,\n",
       "         -1.80913768e+03, -3.93718852e+09, -1.23077881e+03,\n",
       "         -1.96205994e+12, -4.84162574e+02, -1.37322298e+22,\n",
       "         -6.41968174e+02, -3.60860124e-01, -2.44036796e+03,\n",
       "         -2.10416314e-01, -1.12129605e+08],\n",
       "        [-3.40715395e+18, -9.13944474e+01,  1.71535415e-01,\n",
       "         -1.48863499e+07, -1.05837510e+01, -7.56028466e+01,\n",
       "          3.37330496e-01, -4.19777494e+10, -1.24522192e+17,\n",
       "         -1.34969616e+02, -1.51583914e+06, -9.20246899e+01,\n",
       "          1.64307573e-01, -3.57457380e+01, -1.17516315e+02,\n",
       "         -4.79502536e+01, -1.47844146e+15, -1.81884578e+02,\n",
       "         -6.69166671e-02, -5.81434760e-02],\n",
       "        [-2.32154472e+06, -4.74236336e+00,  1.91480090e-01,\n",
       "         -7.37911875e+08, -9.17893005e-02,  2.30177715e-01,\n",
       "         -4.62970356e+16,  1.71495061e-01, -4.85611631e+14,\n",
       "         -5.06619457e-02, -7.41527459e+07,  2.52729691e-01,\n",
       "         -4.73240868e+08, -3.71727261e-01, -2.58635693e+20,\n",
       "         -2.36076849e+01, -6.23520758e-02, -2.71460311e+01,\n",
       "         -4.88779937e+00, -2.11183406e+06],\n",
       "        [-2.26942786e+19, -6.09148383e+02,  1.41046778e-01,\n",
       "         -1.53199236e+08, -6.94128504e+01, -5.01113977e+02,\n",
       "         -3.15103921e-01, -2.79604254e+11, -8.29414039e+17,\n",
       "         -8.97427402e+02, -1.55998577e+07, -6.10002955e+02,\n",
       "         -1.03578477e-01, -2.40019969e+02, -7.83306548e+02,\n",
       "         -3.18040211e+02, -9.84756278e+15, -1.20946599e+03,\n",
       "          5.67563152e-03, -5.37050757e-03],\n",
       "        [-5.91117104e+17, -2.73932395e+00,  2.31228771e-01,\n",
       "         -8.71173549e+08,  1.52689730e-01, -1.75865025e-01,\n",
       "         -1.74788650e+21, -7.28284255e+09, -2.16037193e+16,\n",
       "          3.46029601e-01, -8.75442087e+07, -1.08992408e-01,\n",
       "          1.41113932e-01,  3.26408816e-01, -9.76446615e+24,\n",
       "         -1.28833984e+01, -2.56499129e+14, -1.42739313e+01,\n",
       "         -3.16342497e+00, -2.49322063e+06],\n",
       "        [-1.08310656e+15, -3.46766467e-01, -1.42302584e-01,\n",
       "         -5.70710072e+05, -2.31453580e-01,  1.48643332e-01,\n",
       "         -1.97811098e-01, -1.33443854e+07, -3.95845932e+13,\n",
       "         -1.85519921e-01, -5.81137915e+04,  3.14061474e-01,\n",
       "         -1.73631508e-01,  2.64252137e-01, -1.49764585e-01,\n",
       "         -2.62875944e-01, -4.69984527e+11, -1.48600762e-01,\n",
       "         -1.04216929e-01, -3.26662070e-01],\n",
       "        [ 1.69976748e+05, -5.44562556e+00, -1.72890575e-01,\n",
       "         -1.70320150e+06, -1.28280552e-01, -3.34850439e-01,\n",
       "         -3.84336085e-01, -3.55564811e-01, -2.95562582e+13,\n",
       "         -3.16070832e-01, -1.73431611e+05, -2.20179248e-01,\n",
       "         -2.88033239e+07, -1.80336050e-01,  1.69696138e+01,\n",
       "         -2.59284977e+01,  3.76504117e+03, -3.00926100e+01,\n",
       "         -6.07855381e+00,  8.04320484e+00],\n",
       "        [-1.46373667e+18, -2.75041950e+00, -2.21793860e-01,\n",
       "         -1.06270180e+09,  9.83226329e-02,  1.10119549e-01,\n",
       "         -2.13216303e+21, -1.80339287e+10, -5.34955865e+16,\n",
       "         -6.89713370e-02, -1.06790877e+08,  3.41475667e-01,\n",
       "         -2.69499788e-01, -2.44727616e-01, -1.19112046e+25,\n",
       "         -1.37335123e+01, -6.35148565e+14, -1.62447148e+01,\n",
       "         -3.06919979e+00, -3.04135875e+06],\n",
       "        [-3.49992670e+07, -4.16277823e+02,  1.78349649e-01,\n",
       "         -1.11244758e+10, -4.76938130e+01, -3.42408616e+02,\n",
       "         -6.97944015e+17, -3.01498153e-01, -6.82767400e+17,\n",
       "         -6.13328904e+02, -1.11789834e+09, -4.16951814e+02,\n",
       "         -6.65374172e+11, -1.63647250e+02, -3.89902359e+21,\n",
       "         -2.17426694e+02,  1.28684106e-01, -8.26714184e+02,\n",
       "         -2.86442168e-01, -3.18373128e+07],\n",
       "        [ 2.60055869e+05, -3.32003758e+00, -3.16603437e-01,\n",
       "         -2.60615627e+06, -6.68386792e-02, -2.20263403e-01,\n",
       "          1.52584944e-02,  4.53247666e-02, -2.10788114e+13,\n",
       "         -2.20084508e-01, -2.65376877e+05, -2.19413606e-01,\n",
       "         -2.05418370e+07,  2.68315213e-01,  1.18471849e+01,\n",
       "         -1.75194510e+01,  5.76129484e+03, -2.08992721e+01,\n",
       "         -3.77772769e+00,  5.50248913e+00],\n",
       "        [-8.39658663e+07, -7.41562527e+02,  2.17748273e-02,\n",
       "         -2.66884525e+10, -8.45743039e+01, -6.10472904e+02,\n",
       "         -1.67442806e+18, -2.79969116e-01, -1.21580353e+18,\n",
       "         -1.09234946e+03, -2.68192201e+09, -7.42697096e+02,\n",
       "         -1.18483142e+12, -2.91992743e+02, -9.35409485e+21,\n",
       "         -3.86996835e+02, -2.77557126e-01, -1.47313238e+03,\n",
       "         -1.34833389e-01, -7.63801015e+07],\n",
       "        [-2.89671816e+19, -7.77600942e+02, -1.16182205e-01,\n",
       "         -1.48591124e+08, -8.85915742e+01, -6.40022432e+02,\n",
       "          1.44600515e-01, -3.56889388e+11, -1.05867155e+18,\n",
       "         -1.14476569e+03, -1.51306450e+07, -7.78903875e+02,\n",
       "         -1.31179743e-01, -3.06305701e+02, -9.99528579e+02,\n",
       "         -4.06081556e+02, -1.25695178e+16, -1.54421035e+03,\n",
       "          1.85171948e-01, -3.44630910e-01],\n",
       "        [-3.08946708e+07, -9.72495610e+02, -3.86438120e-01,\n",
       "         -9.81983428e+09, -1.11597994e+02, -8.00031649e+02,\n",
       "         -6.16072601e+17, -1.13300048e-01, -1.59357627e+18,\n",
       "         -1.43192772e+03, -9.86795000e+08, -9.73866578e+02,\n",
       "         -1.55298055e+12, -3.82613079e+02, -3.44165370e+21,\n",
       "         -5.07810047e+02,  6.84062497e-02, -1.93080541e+03,\n",
       "         -2.51348042e-01, -2.81035401e+07],\n",
       "        [-4.62432364e+19, -1.24137064e+03, -9.08735840e-02,\n",
       "         -3.25414298e+08, -1.42332159e+02, -1.02126796e+03,\n",
       "         -1.01638476e-01, -5.69738561e+11, -1.69006428e+18,\n",
       "         -1.82772941e+03, -3.31360395e+07, -1.24329554e+03,\n",
       "          3.75041017e-01, -4.88844139e+02, -1.59583292e+03,\n",
       "         -6.48071374e+02, -2.00659903e+16, -2.46489015e+03,\n",
       "          3.79638447e-01, -2.89578795e-01],\n",
       "        [-7.15971560e+05, -7.85992428e+00, -2.43179649e-01,\n",
       "         -2.27589405e+08,  2.36234034e-02, -1.68366919e-01,\n",
       "         -1.42790797e+16, -1.47262929e-01, -2.50558203e+14,\n",
       "          7.23714583e-02, -2.28704539e+07, -7.56138668e-02,\n",
       "         -2.44175333e+08, -2.52641818e-01, -7.97692471e+19,\n",
       "         -3.68838685e+01, -5.10836024e-02, -4.31383023e+01,\n",
       "         -8.26636590e+00, -6.51330120e+05],\n",
       "        [-4.22181499e+19, -1.13357778e+03, -8.29883843e-02,\n",
       "         -3.06971643e+08, -1.29405567e+02, -9.32205227e+02,\n",
       "         -2.41683515e-01, -5.20147590e+11, -1.54295833e+18,\n",
       "         -1.66826340e+03, -3.12580713e+07, -1.13474390e+03,\n",
       "         -3.28345633e-01, -4.46302420e+02, -1.45696937e+03,\n",
       "         -5.91448399e+02, -1.83194138e+16, -2.25013834e+03,\n",
       "         -2.78366011e-01, -3.10478697e-01],\n",
       "        [ 5.71086251e+04, -2.85127773e+00,  7.04472125e-02,\n",
       "         -5.72129885e+05, -3.48450997e-01, -1.35862569e-01,\n",
       "         -4.22117317e+10,  2.04609183e-01, -1.89980415e+13,\n",
       "          3.54054769e-02, -5.82582908e+04, -7.29554901e-02,\n",
       "         -1.85140742e+07, -2.80952938e-01, -2.35813380e+14,\n",
       "         -1.52643560e+01,  1.26455992e+03, -1.79713136e+01,\n",
       "         -3.58354127e+00,  4.30547581e+00],\n",
       "        [-3.35413559e+19, -9.00926712e+02, -1.28666723e-01,\n",
       "         -1.72748647e+08, -1.02936666e+02, -7.41224091e+02,\n",
       "          3.38347962e-01, -4.13245381e+11, -1.22584516e+18,\n",
       "         -1.32611662e+03, -1.75905423e+07, -9.01752847e+02,\n",
       "         -2.13128130e-01, -3.54498877e+02, -1.15772582e+03,\n",
       "         -4.70669631e+02, -1.45543559e+16, -1.78850542e+03,\n",
       "         -3.26719046e-01,  2.11428921e-01],\n",
       "        [-4.09183710e+19, -1.09873222e+03, -3.12076728e-01,\n",
       "         -6.64483680e+07, -1.25727376e+02, -9.03779863e+02,\n",
       "          1.92647129e-01, -5.04133699e+11, -1.49545496e+18,\n",
       "         -1.61755889e+03, -6.76633804e+06, -1.10011183e+03,\n",
       "         -3.05639098e-01, -4.32983077e+02, -1.41217988e+03,\n",
       "         -5.73330635e+02, -1.77554103e+16, -2.18114470e+03,\n",
       "         -1.98107032e-01,  2.35119324e-01]]),\n",
       " array([[ 2.04132291e+19,  5.45304447e+19, -1.40085191e+20,\n",
       "          3.03581358e+19,  3.47833812e+19],\n",
       "        [ 5.19130283e+02,  1.38626311e+03, -3.56601152e+03,\n",
       "          7.72223238e+02,  8.88935305e+02],\n",
       "        [ 4.35071255e-01,  3.47776193e-01,  4.54210163e-01,\n",
       "         -3.46463688e-02, -1.47015973e-02],\n",
       "        [ 1.21164634e+10, -9.21043826e+10,  3.47677514e+10,\n",
       "          1.80193558e+10,  2.72008120e+10],\n",
       "        [ 3.28927818e+02,  8.78109565e+02, -2.25687859e+03,\n",
       "          4.88783247e+02,  5.60657494e+02],\n",
       "        [ 5.01182340e+01,  1.32914234e+02, -3.42023801e+02,\n",
       "          7.45952803e+01,  8.49474004e+01],\n",
       "        [ 7.20959049e+20, -5.09040783e+21,  2.06876594e+21,\n",
       "          1.07219551e+21,  1.22848733e+21],\n",
       "        [ 9.66520516e+09,  2.58189398e+10, -6.63271890e+10,\n",
       "          1.43738949e+10,  1.64691491e+10],\n",
       "        [ 3.52202602e+15,  9.40848902e+15, -1.74355040e+20,\n",
       "          5.23788482e+15,  1.74336872e+20],\n",
       "        [ 1.47370827e+02,  3.93185238e+02, -1.01005116e+03,\n",
       "          2.18655678e+02,  2.50379462e+02],\n",
       "        [ 3.17934015e+08, -2.41664843e+09,  9.12299901e+08,\n",
       "          4.72824943e+08,  7.13589567e+08],\n",
       "        [ 4.28193803e+02,  1.14308828e+03, -2.93495303e+03,\n",
       "          6.35708300e+02,  7.29114509e+02],\n",
       "        [ 9.86185028e-02, -4.02741844e-01, -9.64261722e+10,\n",
       "          4.78554874e-02,  9.64261722e+10],\n",
       "        [ 1.64454352e+02,  4.38719934e+02, -1.12692158e+03,\n",
       "          2.43879342e+02,  2.79585689e+02],\n",
       "        [ 2.34505088e+22, -1.65574804e+23,  6.72903878e+22,\n",
       "          3.48751154e+22,  3.99587922e+22],\n",
       "        [ 9.37416239e+01,  2.49853987e+02, -6.94584137e+02,\n",
       "          1.38416351e+02,  2.13038113e+02],\n",
       "        [ 4.52872062e+17,  1.20977013e+18, -3.10782134e+18,\n",
       "          6.73502044e+17,  7.71677104e+17],\n",
       "        [ 4.86993922e+02,  1.30078208e+03, -3.39842063e+03,\n",
       "          7.24625048e+02,  8.86055087e+02],\n",
       "        [-2.78641713e-01, -4.09783895e-01, -2.14734458e+00,\n",
       "          4.84782619e-01,  2.40868997e+00],\n",
       "        [ 9.36637866e+05, -6.61322825e+06,  2.68762147e+06,\n",
       "          1.39294810e+06,  1.59602169e+06]])]"
      ]
     },
     "execution_count": 25,
     "metadata": {},
     "output_type": "execute_result"
    }
   ],
   "source": [
    "clf.coefs_"
   ]
  },
  {
   "cell_type": "code",
   "execution_count": 26,
   "id": "3890d9b6",
   "metadata": {
    "scrolled": false
   },
   "outputs": [
    {
     "data": {
      "text/plain": [
       "[array([-1.58415403e+14, -3.68597321e+10, -1.99791140e+13, -6.94213574e+08,\n",
       "        -2.05609541e+14,  3.66917642e+13, -7.65953153e+11,  2.76455581e+02,\n",
       "         4.47585258e+13, -1.04657126e+10,  5.23036857e+01, -2.51079825e+10,\n",
       "        -1.99425303e+14, -9.23843804e+09, -4.36740242e+14, -2.14117089e+08,\n",
       "        -4.11988194e+14, -3.55058056e+03, -2.31847298e+14, -8.91821940e+13]),\n",
       " array([-1.34511210e+07, -1.25936634e-01,  3.35260665e-01, -4.13616726e+02,\n",
       "        -3.11748550e-01, -5.64448417e-02,  4.06669955e-02, -5.76063905e-02,\n",
       "        -4.93129282e+05, -2.72103202e-01, -4.18889593e+01, -5.25739971e-02,\n",
       "        -1.55612330e-01, -2.78049897e-01, -2.83898125e+02,  2.80928568e-02,\n",
       "        -8.62004246e+03,  1.78608834e-01, -3.07517371e-01, -1.35777506e+00]),\n",
       " array([-0.87203104,  0.30964089,  0.15340675, -0.17195352, -0.43293241])]"
      ]
     },
     "execution_count": 26,
     "metadata": {},
     "output_type": "execute_result"
    }
   ],
   "source": [
    "clf.intercepts_"
   ]
  },
  {
   "cell_type": "markdown",
   "id": "982f5065",
   "metadata": {},
   "source": [
    "# 7. Prediction"
   ]
  },
  {
   "cell_type": "markdown",
   "id": "3371e2e7",
   "metadata": {},
   "source": [
    "## 7.1. Training Set"
   ]
  },
  {
   "cell_type": "code",
   "execution_count": 27,
   "id": "1fcaad0d",
   "metadata": {},
   "outputs": [],
   "source": [
    "y_pred_train = clf.predict(X_train_scaled)"
   ]
  },
  {
   "cell_type": "markdown",
   "id": "95a112f5",
   "metadata": {},
   "source": [
    "## 7.2. Test Set"
   ]
  },
  {
   "cell_type": "code",
   "execution_count": 28,
   "id": "7158701f",
   "metadata": {},
   "outputs": [],
   "source": [
    "y_pred_test = clf.predict(X_test_scaled)"
   ]
  },
  {
   "cell_type": "markdown",
   "id": "72a16acb",
   "metadata": {},
   "source": [
    "# 8. Model Evaluation"
   ]
  },
  {
   "cell_type": "markdown",
   "id": "7f9d943a",
   "metadata": {},
   "source": [
    "## 8.1. Training Set"
   ]
  },
  {
   "cell_type": "markdown",
   "id": "55f96f40",
   "metadata": {},
   "source": [
    "### 8.1.1. Confusion Matrix"
   ]
  },
  {
   "cell_type": "code",
   "execution_count": 29,
   "id": "8eb5f70b",
   "metadata": {},
   "outputs": [
    {
     "data": {
      "image/png": "[encoded data removed]",
      "text/plain": [
       "<Figure size 432x432 with 2 Axes>"
      ]
     },
     "metadata": {
      "needs_background": "light"
     },
     "output_type": "display_data"
    }
   ],
   "source": [
    "fig, ax = plt.subplots(figsize=(6, 6))\n",
    "plot_confusion_matrix(clf, X_train_scaled, y_train, ax=ax)\n",
    "plt.xticks(rotation=90)\n",
    "plt.show()"
   ]
  },
  {
   "cell_type": "markdown",
   "id": "6fb54b57",
   "metadata": {},
   "source": [
    "### 8.1.2. Scoring"
   ]
  },
  {
   "cell_type": "code",
   "execution_count": 30,
   "id": "527a7b37",
   "metadata": {},
   "outputs": [],
   "source": [
    "report = classification_report(y_train, y_pred_train, output_dict=True)"
   ]
  },
  {
   "cell_type": "code",
   "execution_count": 31,
   "id": "dfa3133a",
   "metadata": {},
   "outputs": [
    {
     "name": "stdout",
     "output_type": "stream",
     "text": [
      "accuracy = 0.30434782608695654\n"
     ]
    }
   ],
   "source": [
    "print('accuracy =', report['accuracy'])"
   ]
  },
  {
   "cell_type": "code",
   "execution_count": 32,
   "id": "042c261e",
   "metadata": {},
   "outputs": [
    {
     "data": {
      "text/html": [
       "<div>\n",
       "<style scoped>\n",
       "    .dataframe tbody tr th:only-of-type {\n",
       "        vertical-align: middle;\n",
       "    }\n",
       "\n",
       "    .dataframe tbody tr th {\n",
       "        vertical-align: top;\n",
       "    }\n",
       "\n",
       "    .dataframe thead th {\n",
       "        text-align: right;\n",
       "    }\n",
       "</style>\n",
       "<table border=\"1\" class=\"dataframe\">\n",
       "  <thead>\n",
       "    <tr style=\"text-align: right;\">\n",
       "      <th></th>\n",
       "      <th>precision</th>\n",
       "      <th>recall</th>\n",
       "      <th>f1-score</th>\n",
       "      <th>support</th>\n",
       "    </tr>\n",
       "  </thead>\n",
       "  <tbody>\n",
       "    <tr>\n",
       "      <th>1</th>\n",
       "      <td>0.000000</td>\n",
       "      <td>0.000000</td>\n",
       "      <td>0.000000</td>\n",
       "      <td>6.000000</td>\n",
       "    </tr>\n",
       "    <tr>\n",
       "      <th>2</th>\n",
       "      <td>0.304348</td>\n",
       "      <td>1.000000</td>\n",
       "      <td>0.466667</td>\n",
       "      <td>21.000000</td>\n",
       "    </tr>\n",
       "    <tr>\n",
       "      <th>3</th>\n",
       "      <td>0.000000</td>\n",
       "      <td>0.000000</td>\n",
       "      <td>0.000000</td>\n",
       "      <td>18.000000</td>\n",
       "    </tr>\n",
       "    <tr>\n",
       "      <th>4</th>\n",
       "      <td>0.000000</td>\n",
       "      <td>0.000000</td>\n",
       "      <td>0.000000</td>\n",
       "      <td>13.000000</td>\n",
       "    </tr>\n",
       "    <tr>\n",
       "      <th>5</th>\n",
       "      <td>0.000000</td>\n",
       "      <td>0.000000</td>\n",
       "      <td>0.000000</td>\n",
       "      <td>11.000000</td>\n",
       "    </tr>\n",
       "    <tr>\n",
       "      <th>accuracy</th>\n",
       "      <td>0.304348</td>\n",
       "      <td>0.304348</td>\n",
       "      <td>0.304348</td>\n",
       "      <td>0.304348</td>\n",
       "    </tr>\n",
       "    <tr>\n",
       "      <th>macro avg</th>\n",
       "      <td>0.060870</td>\n",
       "      <td>0.200000</td>\n",
       "      <td>0.093333</td>\n",
       "      <td>69.000000</td>\n",
       "    </tr>\n",
       "    <tr>\n",
       "      <th>weighted avg</th>\n",
       "      <td>0.092628</td>\n",
       "      <td>0.304348</td>\n",
       "      <td>0.142029</td>\n",
       "      <td>69.000000</td>\n",
       "    </tr>\n",
       "  </tbody>\n",
       "</table>\n",
       "</div>"
      ],
      "text/plain": [
       "              precision    recall  f1-score    support\n",
       "1              0.000000  0.000000  0.000000   6.000000\n",
       "2              0.304348  1.000000  0.466667  21.000000\n",
       "3              0.000000  0.000000  0.000000  18.000000\n",
       "4              0.000000  0.000000  0.000000  13.000000\n",
       "5              0.000000  0.000000  0.000000  11.000000\n",
       "accuracy       0.304348  0.304348  0.304348   0.304348\n",
       "macro avg      0.060870  0.200000  0.093333  69.000000\n",
       "weighted avg   0.092628  0.304348  0.142029  69.000000"
      ]
     },
     "execution_count": 32,
     "metadata": {},
     "output_type": "execute_result"
    }
   ],
   "source": [
    "pd.DataFrame.from_dict(report).T"
   ]
  },
  {
   "cell_type": "markdown",
   "id": "9533f763",
   "metadata": {},
   "source": [
    "## 8.2. Test Set"
   ]
  },
  {
   "cell_type": "markdown",
   "id": "ef10b301",
   "metadata": {},
   "source": [
    "### 8.2.1. Confusion Matrix"
   ]
  },
  {
   "cell_type": "code",
   "execution_count": 33,
   "id": "aa27890a",
   "metadata": {},
   "outputs": [
    {
     "data": {
      "image/png": "[encoded data removed]",
      "text/plain": [
       "<Figure size 432x432 with 2 Axes>"
      ]
     },
     "metadata": {
      "needs_background": "light"
     },
     "output_type": "display_data"
    }
   ],
   "source": [
    "fig, ax = plt.subplots(figsize=(6, 6))\n",
    "plot_confusion_matrix(clf, X_test_scaled, y_test, ax=ax)\n",
    "plt.xticks(rotation=90)\n",
    "plt.show()"
   ]
  },
  {
   "cell_type": "markdown",
   "id": "cefece92",
   "metadata": {},
   "source": [
    "### 8.2.2. Scoring"
   ]
  },
  {
   "cell_type": "code",
   "execution_count": 34,
   "id": "9f72a11f",
   "metadata": {},
   "outputs": [],
   "source": [
    "report = classification_report(y_test, y_pred_test, output_dict=True)"
   ]
  },
  {
   "cell_type": "code",
   "execution_count": 35,
   "id": "d11d9541",
   "metadata": {},
   "outputs": [
    {
     "name": "stdout",
     "output_type": "stream",
     "text": [
      "accuracy = 0.1111111111111111\n"
     ]
    }
   ],
   "source": [
    "print('accuracy =', report['accuracy'])"
   ]
  },
  {
   "cell_type": "code",
   "execution_count": 36,
   "id": "a60bb854",
   "metadata": {},
   "outputs": [
    {
     "data": {
      "text/html": [
       "<div>\n",
       "<style scoped>\n",
       "    .dataframe tbody tr th:only-of-type {\n",
       "        vertical-align: middle;\n",
       "    }\n",
       "\n",
       "    .dataframe tbody tr th {\n",
       "        vertical-align: top;\n",
       "    }\n",
       "\n",
       "    .dataframe thead th {\n",
       "        text-align: right;\n",
       "    }\n",
       "</style>\n",
       "<table border=\"1\" class=\"dataframe\">\n",
       "  <thead>\n",
       "    <tr style=\"text-align: right;\">\n",
       "      <th></th>\n",
       "      <th>precision</th>\n",
       "      <th>recall</th>\n",
       "      <th>f1-score</th>\n",
       "      <th>support</th>\n",
       "    </tr>\n",
       "  </thead>\n",
       "  <tbody>\n",
       "    <tr>\n",
       "      <th>1</th>\n",
       "      <td>0.000000</td>\n",
       "      <td>0.000000</td>\n",
       "      <td>0.000000</td>\n",
       "      <td>4.000000</td>\n",
       "    </tr>\n",
       "    <tr>\n",
       "      <th>2</th>\n",
       "      <td>0.111111</td>\n",
       "      <td>1.000000</td>\n",
       "      <td>0.200000</td>\n",
       "      <td>2.000000</td>\n",
       "    </tr>\n",
       "    <tr>\n",
       "      <th>3</th>\n",
       "      <td>0.000000</td>\n",
       "      <td>0.000000</td>\n",
       "      <td>0.000000</td>\n",
       "      <td>7.000000</td>\n",
       "    </tr>\n",
       "    <tr>\n",
       "      <th>4</th>\n",
       "      <td>0.000000</td>\n",
       "      <td>0.000000</td>\n",
       "      <td>0.000000</td>\n",
       "      <td>3.000000</td>\n",
       "    </tr>\n",
       "    <tr>\n",
       "      <th>5</th>\n",
       "      <td>0.000000</td>\n",
       "      <td>0.000000</td>\n",
       "      <td>0.000000</td>\n",
       "      <td>2.000000</td>\n",
       "    </tr>\n",
       "    <tr>\n",
       "      <th>accuracy</th>\n",
       "      <td>0.111111</td>\n",
       "      <td>0.111111</td>\n",
       "      <td>0.111111</td>\n",
       "      <td>0.111111</td>\n",
       "    </tr>\n",
       "    <tr>\n",
       "      <th>macro avg</th>\n",
       "      <td>0.022222</td>\n",
       "      <td>0.200000</td>\n",
       "      <td>0.040000</td>\n",
       "      <td>18.000000</td>\n",
       "    </tr>\n",
       "    <tr>\n",
       "      <th>weighted avg</th>\n",
       "      <td>0.012346</td>\n",
       "      <td>0.111111</td>\n",
       "      <td>0.022222</td>\n",
       "      <td>18.000000</td>\n",
       "    </tr>\n",
       "  </tbody>\n",
       "</table>\n",
       "</div>"
      ],
      "text/plain": [
       "              precision    recall  f1-score    support\n",
       "1              0.000000  0.000000  0.000000   4.000000\n",
       "2              0.111111  1.000000  0.200000   2.000000\n",
       "3              0.000000  0.000000  0.000000   7.000000\n",
       "4              0.000000  0.000000  0.000000   3.000000\n",
       "5              0.000000  0.000000  0.000000   2.000000\n",
       "accuracy       0.111111  0.111111  0.111111   0.111111\n",
       "macro avg      0.022222  0.200000  0.040000  18.000000\n",
       "weighted avg   0.012346  0.111111  0.022222  18.000000"
      ]
     },
     "execution_count": 36,
     "metadata": {},
     "output_type": "execute_result"
    }
   ],
   "source": [
    "pd.DataFrame.from_dict(report).T"
   ]
  },
  {
   "cell_type": "markdown",
   "id": "6b1cb541",
   "metadata": {},
   "source": [
    "# 9. Save Model"
   ]
  },
  {
   "cell_type": "code",
   "execution_count": 37,
   "id": "0291e4e9",
   "metadata": {},
   "outputs": [],
   "source": [
    "import pickle"
   ]
  },
  {
   "cell_type": "code",
   "execution_count": 38,
   "id": "2bf44e70",
   "metadata": {},
   "outputs": [],
   "source": [
    "pickle.dump((clf, \n",
    "             ordinal_encoder, \n",
    "             one_hot_encoder, \n",
    "             feature_name, \n",
    "             numerical_feature, \n",
    "             ordinal_feature, \n",
    "             nominal_feature),  open('deep_learning_classification_model.pickle', 'wb'))"
   ]
  },
  {
   "cell_type": "code",
   "execution_count": null,
   "id": "a088c2b0",
   "metadata": {},
   "outputs": [],
   "source": []
  }
 ],
 "metadata": {
  "kernelspec": {
   "display_name": "Python 3",
   "language": "python",
   "name": "python3"
  },
  "language_info": {
   "codemirror_mode": {
    "name": "ipython",
    "version": 3
   },
   "file_extension": ".py",
   "mimetype": "text/x-python",
   "name": "python",
   "nbconvert_exporter": "python",
   "pygments_lexer": "ipython3",
   "version": "3.8.8"
  }
 },
 "nbformat": 4,
 "nbformat_minor": 5
}
