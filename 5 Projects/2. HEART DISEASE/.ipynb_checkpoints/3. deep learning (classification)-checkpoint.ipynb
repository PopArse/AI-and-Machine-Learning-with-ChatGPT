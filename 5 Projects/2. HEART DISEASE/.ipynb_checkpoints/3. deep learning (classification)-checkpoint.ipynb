{
 "cells": [
  {
   "cell_type": "markdown",
   "id": "57654bb6",
   "metadata": {},
   "source": [
    "# 1. Import Libraries"
   ]
  },
  {
   "cell_type": "code",
   "execution_count": 1,
   "id": "2f51eef5",
   "metadata": {},
   "outputs": [],
   "source": [
    "import numpy as np\n",
    "import pandas as pd\n",
    "import matplotlib.pyplot as plt\n",
    "\n",
    "from sklearn.model_selection import train_test_split\n",
    "from sklearn.preprocessing import OrdinalEncoder, OneHotEncoder\n",
    "from sklearn.preprocessing import (\n",
    "    OrdinalEncoder, \n",
    "    OneHotEncoder, \n",
    "    StandardScaler, \n",
    "    MinMaxScaler\n",
    ")\n",
    "from sklearn.neural_network import MLPClassifier\n",
    "from sklearn.metrics import plot_confusion_matrix, classification_report\n",
    "\n",
    "import warnings\n",
    "warnings.filterwarnings('ignore')\n",
    "\n",
    "np.random.seed(12345)"
   ]
  },
  {
   "cell_type": "markdown",
   "id": "6707b8de",
   "metadata": {},
   "source": [
    "# 2. Read Data"
   ]
  },
  {
   "cell_type": "code",
   "execution_count": 2,
   "id": "89c2e441",
   "metadata": {
    "scrolled": true
   },
   "outputs": [
    {
     "data": {
      "text/html": [
       "<div>\n",
       "<style scoped>\n",
       "    .dataframe tbody tr th:only-of-type {\n",
       "        vertical-align: middle;\n",
       "    }\n",
       "\n",
       "    .dataframe tbody tr th {\n",
       "        vertical-align: top;\n",
       "    }\n",
       "\n",
       "    .dataframe thead th {\n",
       "        text-align: right;\n",
       "    }\n",
       "</style>\n",
       "<table border=\"1\" class=\"dataframe\">\n",
       "  <thead>\n",
       "    <tr style=\"text-align: right;\">\n",
       "      <th></th>\n",
       "      <th>age</th>\n",
       "      <th>sex</th>\n",
       "      <th>cp</th>\n",
       "      <th>trestbps</th>\n",
       "      <th>chol</th>\n",
       "      <th>fbs</th>\n",
       "      <th>restecg</th>\n",
       "      <th>thalach</th>\n",
       "      <th>exang</th>\n",
       "      <th>oldpeak</th>\n",
       "      <th>slope</th>\n",
       "      <th>ca</th>\n",
       "      <th>thal</th>\n",
       "      <th>target</th>\n",
       "    </tr>\n",
       "  </thead>\n",
       "  <tbody>\n",
       "    <tr>\n",
       "      <th>0</th>\n",
       "      <td>63</td>\n",
       "      <td>1</td>\n",
       "      <td>3</td>\n",
       "      <td>145</td>\n",
       "      <td>233</td>\n",
       "      <td>1</td>\n",
       "      <td>0</td>\n",
       "      <td>150</td>\n",
       "      <td>0</td>\n",
       "      <td>2.3</td>\n",
       "      <td>0</td>\n",
       "      <td>0</td>\n",
       "      <td>1</td>\n",
       "      <td>1</td>\n",
       "    </tr>\n",
       "    <tr>\n",
       "      <th>1</th>\n",
       "      <td>37</td>\n",
       "      <td>1</td>\n",
       "      <td>2</td>\n",
       "      <td>130</td>\n",
       "      <td>250</td>\n",
       "      <td>0</td>\n",
       "      <td>1</td>\n",
       "      <td>187</td>\n",
       "      <td>0</td>\n",
       "      <td>3.5</td>\n",
       "      <td>0</td>\n",
       "      <td>0</td>\n",
       "      <td>2</td>\n",
       "      <td>1</td>\n",
       "    </tr>\n",
       "    <tr>\n",
       "      <th>2</th>\n",
       "      <td>41</td>\n",
       "      <td>0</td>\n",
       "      <td>1</td>\n",
       "      <td>130</td>\n",
       "      <td>204</td>\n",
       "      <td>0</td>\n",
       "      <td>0</td>\n",
       "      <td>172</td>\n",
       "      <td>0</td>\n",
       "      <td>1.4</td>\n",
       "      <td>2</td>\n",
       "      <td>0</td>\n",
       "      <td>2</td>\n",
       "      <td>1</td>\n",
       "    </tr>\n",
       "    <tr>\n",
       "      <th>3</th>\n",
       "      <td>56</td>\n",
       "      <td>1</td>\n",
       "      <td>1</td>\n",
       "      <td>120</td>\n",
       "      <td>236</td>\n",
       "      <td>0</td>\n",
       "      <td>1</td>\n",
       "      <td>178</td>\n",
       "      <td>0</td>\n",
       "      <td>0.8</td>\n",
       "      <td>2</td>\n",
       "      <td>0</td>\n",
       "      <td>2</td>\n",
       "      <td>1</td>\n",
       "    </tr>\n",
       "    <tr>\n",
       "      <th>4</th>\n",
       "      <td>57</td>\n",
       "      <td>0</td>\n",
       "      <td>0</td>\n",
       "      <td>120</td>\n",
       "      <td>354</td>\n",
       "      <td>0</td>\n",
       "      <td>1</td>\n",
       "      <td>163</td>\n",
       "      <td>1</td>\n",
       "      <td>0.6</td>\n",
       "      <td>2</td>\n",
       "      <td>0</td>\n",
       "      <td>2</td>\n",
       "      <td>1</td>\n",
       "    </tr>\n",
       "    <tr>\n",
       "      <th>...</th>\n",
       "      <td>...</td>\n",
       "      <td>...</td>\n",
       "      <td>...</td>\n",
       "      <td>...</td>\n",
       "      <td>...</td>\n",
       "      <td>...</td>\n",
       "      <td>...</td>\n",
       "      <td>...</td>\n",
       "      <td>...</td>\n",
       "      <td>...</td>\n",
       "      <td>...</td>\n",
       "      <td>...</td>\n",
       "      <td>...</td>\n",
       "      <td>...</td>\n",
       "    </tr>\n",
       "    <tr>\n",
       "      <th>298</th>\n",
       "      <td>57</td>\n",
       "      <td>0</td>\n",
       "      <td>0</td>\n",
       "      <td>140</td>\n",
       "      <td>241</td>\n",
       "      <td>0</td>\n",
       "      <td>1</td>\n",
       "      <td>123</td>\n",
       "      <td>1</td>\n",
       "      <td>0.2</td>\n",
       "      <td>1</td>\n",
       "      <td>0</td>\n",
       "      <td>3</td>\n",
       "      <td>0</td>\n",
       "    </tr>\n",
       "    <tr>\n",
       "      <th>299</th>\n",
       "      <td>45</td>\n",
       "      <td>1</td>\n",
       "      <td>3</td>\n",
       "      <td>110</td>\n",
       "      <td>264</td>\n",
       "      <td>0</td>\n",
       "      <td>1</td>\n",
       "      <td>132</td>\n",
       "      <td>0</td>\n",
       "      <td>1.2</td>\n",
       "      <td>1</td>\n",
       "      <td>0</td>\n",
       "      <td>3</td>\n",
       "      <td>0</td>\n",
       "    </tr>\n",
       "    <tr>\n",
       "      <th>300</th>\n",
       "      <td>68</td>\n",
       "      <td>1</td>\n",
       "      <td>0</td>\n",
       "      <td>144</td>\n",
       "      <td>193</td>\n",
       "      <td>1</td>\n",
       "      <td>1</td>\n",
       "      <td>141</td>\n",
       "      <td>0</td>\n",
       "      <td>3.4</td>\n",
       "      <td>1</td>\n",
       "      <td>2</td>\n",
       "      <td>3</td>\n",
       "      <td>0</td>\n",
       "    </tr>\n",
       "    <tr>\n",
       "      <th>301</th>\n",
       "      <td>57</td>\n",
       "      <td>1</td>\n",
       "      <td>0</td>\n",
       "      <td>130</td>\n",
       "      <td>131</td>\n",
       "      <td>0</td>\n",
       "      <td>1</td>\n",
       "      <td>115</td>\n",
       "      <td>1</td>\n",
       "      <td>1.2</td>\n",
       "      <td>1</td>\n",
       "      <td>1</td>\n",
       "      <td>3</td>\n",
       "      <td>0</td>\n",
       "    </tr>\n",
       "    <tr>\n",
       "      <th>302</th>\n",
       "      <td>57</td>\n",
       "      <td>0</td>\n",
       "      <td>1</td>\n",
       "      <td>130</td>\n",
       "      <td>236</td>\n",
       "      <td>0</td>\n",
       "      <td>0</td>\n",
       "      <td>174</td>\n",
       "      <td>0</td>\n",
       "      <td>0.0</td>\n",
       "      <td>1</td>\n",
       "      <td>1</td>\n",
       "      <td>2</td>\n",
       "      <td>0</td>\n",
       "    </tr>\n",
       "  </tbody>\n",
       "</table>\n",
       "<p>303 rows × 14 columns</p>\n",
       "</div>"
      ],
      "text/plain": [
       "     age  sex  cp  trestbps  chol  fbs  restecg  thalach  exang  oldpeak  \\\n",
       "0     63    1   3       145   233    1        0      150      0      2.3   \n",
       "1     37    1   2       130   250    0        1      187      0      3.5   \n",
       "2     41    0   1       130   204    0        0      172      0      1.4   \n",
       "3     56    1   1       120   236    0        1      178      0      0.8   \n",
       "4     57    0   0       120   354    0        1      163      1      0.6   \n",
       "..   ...  ...  ..       ...   ...  ...      ...      ...    ...      ...   \n",
       "298   57    0   0       140   241    0        1      123      1      0.2   \n",
       "299   45    1   3       110   264    0        1      132      0      1.2   \n",
       "300   68    1   0       144   193    1        1      141      0      3.4   \n",
       "301   57    1   0       130   131    0        1      115      1      1.2   \n",
       "302   57    0   1       130   236    0        0      174      0      0.0   \n",
       "\n",
       "     slope  ca  thal  target  \n",
       "0        0   0     1       1  \n",
       "1        0   0     2       1  \n",
       "2        2   0     2       1  \n",
       "3        2   0     2       1  \n",
       "4        2   0     2       1  \n",
       "..     ...  ..   ...     ...  \n",
       "298      1   0     3       0  \n",
       "299      1   0     3       0  \n",
       "300      1   2     3       0  \n",
       "301      1   1     3       0  \n",
       "302      1   1     2       0  \n",
       "\n",
       "[303 rows x 14 columns]"
      ]
     },
     "execution_count": 2,
     "metadata": {},
     "output_type": "execute_result"
    }
   ],
   "source": [
    "data = pd.read_csv('heart_disease_dataset.csv')\n",
    "\n",
    "data"
   ]
  },
  {
   "cell_type": "markdown",
   "id": "aa424a64",
   "metadata": {},
   "source": [
    "# 3. Clean Data"
   ]
  },
  {
   "cell_type": "markdown",
   "id": "bc4f7a96",
   "metadata": {},
   "source": [
    "## 3.1. Handle Missing Values"
   ]
  },
  {
   "cell_type": "markdown",
   "id": "2b59944e",
   "metadata": {},
   "source": [
    "### 3.1.1. Check Missing Values"
   ]
  },
  {
   "cell_type": "code",
   "execution_count": 3,
   "id": "8a02b878",
   "metadata": {},
   "outputs": [
    {
     "name": "stdout",
     "output_type": "stream",
     "text": [
      "<class 'pandas.core.frame.DataFrame'>\n",
      "RangeIndex: 303 entries, 0 to 302\n",
      "Data columns (total 14 columns):\n",
      " #   Column    Non-Null Count  Dtype  \n",
      "---  ------    --------------  -----  \n",
      " 0   age       303 non-null    int64  \n",
      " 1   sex       303 non-null    int64  \n",
      " 2   cp        303 non-null    int64  \n",
      " 3   trestbps  303 non-null    int64  \n",
      " 4   chol      303 non-null    int64  \n",
      " 5   fbs       303 non-null    int64  \n",
      " 6   restecg   303 non-null    int64  \n",
      " 7   thalach   303 non-null    int64  \n",
      " 8   exang     303 non-null    int64  \n",
      " 9   oldpeak   303 non-null    float64\n",
      " 10  slope     303 non-null    int64  \n",
      " 11  ca        303 non-null    int64  \n",
      " 12  thal      303 non-null    int64  \n",
      " 13  target    303 non-null    int64  \n",
      "dtypes: float64(1), int64(13)\n",
      "memory usage: 33.3 KB\n"
     ]
    }
   ],
   "source": [
    "data.info()"
   ]
  },
  {
   "cell_type": "markdown",
   "id": "44279ff4",
   "metadata": {},
   "source": [
    "### 3.1.2. Remove Missing Values (Listwise Deletion)"
   ]
  },
  {
   "cell_type": "code",
   "execution_count": 4,
   "id": "7a3da168",
   "metadata": {},
   "outputs": [],
   "source": [
    "data.dropna(axis=0, inplace=True)"
   ]
  },
  {
   "cell_type": "markdown",
   "id": "5fed6619",
   "metadata": {},
   "source": [
    "## 3.2. Handle Outliers"
   ]
  },
  {
   "cell_type": "markdown",
   "id": "89eb99fe",
   "metadata": {},
   "source": [
    "### 3.2.1. Check Outliers"
   ]
  },
  {
   "cell_type": "code",
   "execution_count": 5,
   "id": "8400e390",
   "metadata": {},
   "outputs": [
    {
     "data": {
      "text/html": [
       "<div>\n",
       "<style scoped>\n",
       "    .dataframe tbody tr th:only-of-type {\n",
       "        vertical-align: middle;\n",
       "    }\n",
       "\n",
       "    .dataframe tbody tr th {\n",
       "        vertical-align: top;\n",
       "    }\n",
       "\n",
       "    .dataframe thead th {\n",
       "        text-align: right;\n",
       "    }\n",
       "</style>\n",
       "<table border=\"1\" class=\"dataframe\">\n",
       "  <thead>\n",
       "    <tr style=\"text-align: right;\">\n",
       "      <th></th>\n",
       "      <th>age</th>\n",
       "      <th>sex</th>\n",
       "      <th>cp</th>\n",
       "      <th>trestbps</th>\n",
       "      <th>chol</th>\n",
       "      <th>fbs</th>\n",
       "      <th>restecg</th>\n",
       "      <th>thalach</th>\n",
       "      <th>exang</th>\n",
       "      <th>oldpeak</th>\n",
       "      <th>slope</th>\n",
       "      <th>ca</th>\n",
       "      <th>thal</th>\n",
       "      <th>target</th>\n",
       "    </tr>\n",
       "  </thead>\n",
       "  <tbody>\n",
       "    <tr>\n",
       "      <th>count</th>\n",
       "      <td>303.000000</td>\n",
       "      <td>303.000000</td>\n",
       "      <td>303.000000</td>\n",
       "      <td>303.000000</td>\n",
       "      <td>303.000000</td>\n",
       "      <td>303.000000</td>\n",
       "      <td>303.000000</td>\n",
       "      <td>303.000000</td>\n",
       "      <td>303.000000</td>\n",
       "      <td>303.000000</td>\n",
       "      <td>303.000000</td>\n",
       "      <td>303.000000</td>\n",
       "      <td>303.000000</td>\n",
       "      <td>303.000000</td>\n",
       "    </tr>\n",
       "    <tr>\n",
       "      <th>mean</th>\n",
       "      <td>54.366337</td>\n",
       "      <td>0.683168</td>\n",
       "      <td>0.966997</td>\n",
       "      <td>131.623762</td>\n",
       "      <td>246.264026</td>\n",
       "      <td>0.148515</td>\n",
       "      <td>0.528053</td>\n",
       "      <td>149.646865</td>\n",
       "      <td>0.326733</td>\n",
       "      <td>1.039604</td>\n",
       "      <td>1.399340</td>\n",
       "      <td>0.729373</td>\n",
       "      <td>2.313531</td>\n",
       "      <td>0.544554</td>\n",
       "    </tr>\n",
       "    <tr>\n",
       "      <th>std</th>\n",
       "      <td>9.082101</td>\n",
       "      <td>0.466011</td>\n",
       "      <td>1.032052</td>\n",
       "      <td>17.538143</td>\n",
       "      <td>51.830751</td>\n",
       "      <td>0.356198</td>\n",
       "      <td>0.525860</td>\n",
       "      <td>22.905161</td>\n",
       "      <td>0.469794</td>\n",
       "      <td>1.161075</td>\n",
       "      <td>0.616226</td>\n",
       "      <td>1.022606</td>\n",
       "      <td>0.612277</td>\n",
       "      <td>0.498835</td>\n",
       "    </tr>\n",
       "    <tr>\n",
       "      <th>min</th>\n",
       "      <td>29.000000</td>\n",
       "      <td>0.000000</td>\n",
       "      <td>0.000000</td>\n",
       "      <td>94.000000</td>\n",
       "      <td>126.000000</td>\n",
       "      <td>0.000000</td>\n",
       "      <td>0.000000</td>\n",
       "      <td>71.000000</td>\n",
       "      <td>0.000000</td>\n",
       "      <td>0.000000</td>\n",
       "      <td>0.000000</td>\n",
       "      <td>0.000000</td>\n",
       "      <td>0.000000</td>\n",
       "      <td>0.000000</td>\n",
       "    </tr>\n",
       "    <tr>\n",
       "      <th>25%</th>\n",
       "      <td>47.500000</td>\n",
       "      <td>0.000000</td>\n",
       "      <td>0.000000</td>\n",
       "      <td>120.000000</td>\n",
       "      <td>211.000000</td>\n",
       "      <td>0.000000</td>\n",
       "      <td>0.000000</td>\n",
       "      <td>133.500000</td>\n",
       "      <td>0.000000</td>\n",
       "      <td>0.000000</td>\n",
       "      <td>1.000000</td>\n",
       "      <td>0.000000</td>\n",
       "      <td>2.000000</td>\n",
       "      <td>0.000000</td>\n",
       "    </tr>\n",
       "    <tr>\n",
       "      <th>50%</th>\n",
       "      <td>55.000000</td>\n",
       "      <td>1.000000</td>\n",
       "      <td>1.000000</td>\n",
       "      <td>130.000000</td>\n",
       "      <td>240.000000</td>\n",
       "      <td>0.000000</td>\n",
       "      <td>1.000000</td>\n",
       "      <td>153.000000</td>\n",
       "      <td>0.000000</td>\n",
       "      <td>0.800000</td>\n",
       "      <td>1.000000</td>\n",
       "      <td>0.000000</td>\n",
       "      <td>2.000000</td>\n",
       "      <td>1.000000</td>\n",
       "    </tr>\n",
       "    <tr>\n",
       "      <th>75%</th>\n",
       "      <td>61.000000</td>\n",
       "      <td>1.000000</td>\n",
       "      <td>2.000000</td>\n",
       "      <td>140.000000</td>\n",
       "      <td>274.500000</td>\n",
       "      <td>0.000000</td>\n",
       "      <td>1.000000</td>\n",
       "      <td>166.000000</td>\n",
       "      <td>1.000000</td>\n",
       "      <td>1.600000</td>\n",
       "      <td>2.000000</td>\n",
       "      <td>1.000000</td>\n",
       "      <td>3.000000</td>\n",
       "      <td>1.000000</td>\n",
       "    </tr>\n",
       "    <tr>\n",
       "      <th>max</th>\n",
       "      <td>77.000000</td>\n",
       "      <td>1.000000</td>\n",
       "      <td>3.000000</td>\n",
       "      <td>200.000000</td>\n",
       "      <td>564.000000</td>\n",
       "      <td>1.000000</td>\n",
       "      <td>2.000000</td>\n",
       "      <td>202.000000</td>\n",
       "      <td>1.000000</td>\n",
       "      <td>6.200000</td>\n",
       "      <td>2.000000</td>\n",
       "      <td>4.000000</td>\n",
       "      <td>3.000000</td>\n",
       "      <td>1.000000</td>\n",
       "    </tr>\n",
       "  </tbody>\n",
       "</table>\n",
       "</div>"
      ],
      "text/plain": [
       "              age         sex          cp    trestbps        chol         fbs  \\\n",
       "count  303.000000  303.000000  303.000000  303.000000  303.000000  303.000000   \n",
       "mean    54.366337    0.683168    0.966997  131.623762  246.264026    0.148515   \n",
       "std      9.082101    0.466011    1.032052   17.538143   51.830751    0.356198   \n",
       "min     29.000000    0.000000    0.000000   94.000000  126.000000    0.000000   \n",
       "25%     47.500000    0.000000    0.000000  120.000000  211.000000    0.000000   \n",
       "50%     55.000000    1.000000    1.000000  130.000000  240.000000    0.000000   \n",
       "75%     61.000000    1.000000    2.000000  140.000000  274.500000    0.000000   \n",
       "max     77.000000    1.000000    3.000000  200.000000  564.000000    1.000000   \n",
       "\n",
       "          restecg     thalach       exang     oldpeak       slope          ca  \\\n",
       "count  303.000000  303.000000  303.000000  303.000000  303.000000  303.000000   \n",
       "mean     0.528053  149.646865    0.326733    1.039604    1.399340    0.729373   \n",
       "std      0.525860   22.905161    0.469794    1.161075    0.616226    1.022606   \n",
       "min      0.000000   71.000000    0.000000    0.000000    0.000000    0.000000   \n",
       "25%      0.000000  133.500000    0.000000    0.000000    1.000000    0.000000   \n",
       "50%      1.000000  153.000000    0.000000    0.800000    1.000000    0.000000   \n",
       "75%      1.000000  166.000000    1.000000    1.600000    2.000000    1.000000   \n",
       "max      2.000000  202.000000    1.000000    6.200000    2.000000    4.000000   \n",
       "\n",
       "             thal      target  \n",
       "count  303.000000  303.000000  \n",
       "mean     2.313531    0.544554  \n",
       "std      0.612277    0.498835  \n",
       "min      0.000000    0.000000  \n",
       "25%      2.000000    0.000000  \n",
       "50%      2.000000    1.000000  \n",
       "75%      3.000000    1.000000  \n",
       "max      3.000000    1.000000  "
      ]
     },
     "execution_count": 5,
     "metadata": {},
     "output_type": "execute_result"
    }
   ],
   "source": [
    "data.describe()"
   ]
  },
  {
   "cell_type": "markdown",
   "id": "62561b7e",
   "metadata": {},
   "source": [
    "### 3.2.2. Remove Outliers"
   ]
  },
  {
   "cell_type": "code",
   "execution_count": 6,
   "id": "f3524d5d",
   "metadata": {},
   "outputs": [],
   "source": [
    "# no outlier to remove"
   ]
  },
  {
   "cell_type": "markdown",
   "id": "50cdff68",
   "metadata": {},
   "source": [
    "# 4. Split Dataset into Training & Test Sets"
   ]
  },
  {
   "cell_type": "code",
   "execution_count": 7,
   "id": "d3ef93cc",
   "metadata": {},
   "outputs": [],
   "source": [
    "target_name = 'target'\n",
    "feature_name = list(data.columns.drop(target_name))"
   ]
  },
  {
   "cell_type": "code",
   "execution_count": 8,
   "id": "610f9450",
   "metadata": {},
   "outputs": [],
   "source": [
    "X = data[feature_name]\n",
    "y = data[target_name]"
   ]
  },
  {
   "cell_type": "code",
   "execution_count": 9,
   "id": "13cae49d",
   "metadata": {},
   "outputs": [],
   "source": [
    "X_train, X_test, y_train, y_test = train_test_split(X, y, test_size=0.20, shuffle=True)"
   ]
  },
  {
   "cell_type": "markdown",
   "id": "ed13b65f",
   "metadata": {},
   "source": [
    "# 5. Data Preparation"
   ]
  },
  {
   "cell_type": "markdown",
   "id": "7e7af4f1",
   "metadata": {},
   "source": [
    "## ### 5.1. Ordinal Encoding"
   ]
  },
  {
   "cell_type": "markdown",
   "id": "a25e32e6",
   "metadata": {},
   "source": [
    "## ### 5.2. One Hot Encoding"
   ]
  },
  {
   "cell_type": "markdown",
   "id": "6aeaeb0a",
   "metadata": {},
   "source": [
    "## 5.3. Feature Scaling"
   ]
  },
  {
   "cell_type": "markdown",
   "id": "6bd90e8d",
   "metadata": {},
   "source": [
    "### 5.3.1. Training Set"
   ]
  },
  {
   "cell_type": "code",
   "execution_count": 10,
   "id": "bd4efdd2",
   "metadata": {},
   "outputs": [],
   "source": [
    "scaler = MinMaxScaler()\n",
    "X_train_scaled = scaler.fit_transform(X_train)"
   ]
  },
  {
   "cell_type": "markdown",
   "id": "f370ec47",
   "metadata": {},
   "source": [
    "### 5.3.2. Test Set"
   ]
  },
  {
   "cell_type": "code",
   "execution_count": 11,
   "id": "72df8ec8",
   "metadata": {},
   "outputs": [],
   "source": [
    "X_test_scaled = scaler.transform(X_test)"
   ]
  },
  {
   "cell_type": "markdown",
   "id": "f77fb5ee",
   "metadata": {},
   "source": [
    "# 6. Model Creation"
   ]
  },
  {
   "cell_type": "markdown",
   "id": "e81df55a",
   "metadata": {},
   "source": [
    "## 6.1. Setting Parameters"
   ]
  },
  {
   "cell_type": "code",
   "execution_count": 12,
   "id": "fd1486a3",
   "metadata": {},
   "outputs": [],
   "source": [
    "clf = MLPClassifier(\n",
    "    hidden_layer_sizes=(20, 20),\n",
    "    activation='relu',\n",
    "    learning_rate_init=0.5,\n",
    "    max_iter=1000,\n",
    "    alpha=0,\n",
    "    solver='sgd',\n",
    "    momentum=0\n",
    ")"
   ]
  },
  {
   "cell_type": "markdown",
   "id": "4cb08aa4",
   "metadata": {},
   "source": [
    "## 6.2. Train Model"
   ]
  },
  {
   "cell_type": "code",
   "execution_count": 13,
   "id": "8aa8df52",
   "metadata": {},
   "outputs": [
    {
     "data": {
      "text/plain": [
       "MLPClassifier(alpha=0, hidden_layer_sizes=(20, 20), learning_rate_init=0.5,\n",
       "              max_iter=1000, momentum=0, solver='sgd')"
      ]
     },
     "execution_count": 13,
     "metadata": {},
     "output_type": "execute_result"
    }
   ],
   "source": [
    "clf.fit(X_train_scaled, y_train)"
   ]
  },
  {
   "cell_type": "markdown",
   "id": "7f33bb7b",
   "metadata": {},
   "source": [
    "## 6.3. Model's Weight & Bias"
   ]
  },
  {
   "cell_type": "code",
   "execution_count": 14,
   "id": "ff6657d5",
   "metadata": {},
   "outputs": [
    {
     "data": {
      "text/plain": [
       "[array([[-0.18770864, -0.33292553,  0.24206215, -0.04796759, -0.443608  ,\n",
       "         -0.21692032,  0.29605569, -0.04283309, -0.02094923,  0.33579507,\n",
       "          0.01413148,  0.04351181, -0.16743051, -0.2167767 , -0.41719731,\n",
       "         -0.04544277, -0.38632137, -0.3863535 , -0.0897476 , -0.07723398],\n",
       "        [-0.29996821, -0.20311726, -0.232395  , -0.66455034,  0.17321025,\n",
       "          0.17110638,  0.19276196,  0.28549315,  0.13709111,  0.27192425,\n",
       "         -0.16791808,  0.25419906, -0.44570072, -0.23416225, -0.23388556,\n",
       "         -0.08579029,  0.16605399, -0.70234837, -0.46280573,  0.11649617],\n",
       "        [-0.10376369,  0.11011729,  0.03254365,  0.80147302,  0.0853291 ,\n",
       "         -0.17467301,  0.39599743, -0.79821784, -0.00761742, -0.5033114 ,\n",
       "         -0.39078616, -0.15988335, -0.18269875, -0.38562932, -0.13101316,\n",
       "         -0.74344717, -0.40423472,  0.25361791, -0.13407148, -0.11332409],\n",
       "        [ 0.14959374,  0.28217069,  0.13116567, -0.395764  ,  0.03006995,\n",
       "         -0.05910034, -0.40252374,  0.45799924, -0.07576054,  0.61604575,\n",
       "         -0.01971708, -0.22691086,  0.21259923, -0.24943798, -0.22087714,\n",
       "          0.68756023, -0.0455374 , -0.37392533, -0.25067572,  0.07604026],\n",
       "        [ 0.24855586, -0.10300034, -0.00425965,  0.07555292, -0.00816407,\n",
       "         -0.39452334,  0.16219137,  0.27450158, -0.15904461,  0.51108766,\n",
       "         -0.38213188,  0.11052532, -0.32700739,  0.18480556, -0.10363563,\n",
       "          0.11381783, -0.03052888,  0.12737284,  0.31665481, -0.1474484 ],\n",
       "        [-0.15691967, -0.283676  ,  0.3279371 ,  0.47274741, -0.47326187,\n",
       "         -0.39699305,  0.02494198,  0.11952669,  0.13102923, -0.12937643,\n",
       "         -0.23112151,  0.24126432,  0.12545366,  0.14346265, -0.21251902,\n",
       "          0.06210325, -0.18679814,  0.06997746,  0.58118913,  0.20662979],\n",
       "        [-0.20948141, -0.04543871,  0.28642883, -0.25470886, -0.26607262,\n",
       "          0.27048188,  0.00484026,  0.18204342,  0.36717897, -0.46368543,\n",
       "          0.36636289, -0.0842899 , -0.00398472, -0.23906021,  0.17437395,\n",
       "         -0.12772993,  0.35234824, -0.00625789, -0.18163191,  0.0173227 ],\n",
       "        [ 0.13426977,  0.2826982 ,  0.1424129 ,  0.92740444,  0.02971893,\n",
       "         -0.01399505,  0.34464113, -0.78583668,  0.34127247, -0.72017714,\n",
       "         -0.02143868, -0.40975236,  0.27058301,  0.08965074, -0.04317099,\n",
       "         -0.13753062, -0.42288162,  0.49476134, -0.10459564,  0.16574703],\n",
       "        [-0.34802035, -0.01078611,  0.17990101, -0.22648575, -0.47303048,\n",
       "         -0.01816911,  0.02104798,  0.48420261,  0.20087367, -0.25502089,\n",
       "          0.05996047, -0.27351304,  0.63744306,  0.38205597,  0.14112656,\n",
       "          0.38467813, -0.14896508, -0.33238854, -0.25309426, -0.14637495],\n",
       "        [-0.38732479,  0.18171283, -0.36915039, -0.7193048 ,  0.37949688,\n",
       "          0.13419138,  0.16593901,  0.47802119,  0.25592776,  0.96333927,\n",
       "          0.17235891,  0.25314527,  0.45890873, -0.1626481 ,  0.29824648,\n",
       "          0.59773501,  0.06081425, -0.31746514,  0.26300196,  0.38954223],\n",
       "        [-0.27150678,  0.35433776,  0.22283881,  0.57140262,  0.23160894,\n",
       "         -0.24305326, -0.23185295, -0.65816738, -0.2485681 , -0.57602242,\n",
       "         -0.26172653, -0.0522591 ,  0.05884032, -0.17647948,  0.3590631 ,\n",
       "          0.04020059,  0.16651869,  0.23201721, -0.36249509, -0.02659711],\n",
       "        [ 0.01987265,  0.25228028, -0.08540292, -1.06905294,  0.07112158,\n",
       "          0.05856774,  0.16039641,  0.54029851, -0.23542347,  0.88230844,\n",
       "         -0.29708689, -0.25117682,  0.40166338,  0.34204547, -0.13318073,\n",
       "          0.39560672, -0.33785407, -0.37764248, -0.03617766,  0.28816466],\n",
       "        [ 0.09026362, -0.27220428, -0.26281327, -0.61546885,  0.42260607,\n",
       "         -0.37130149, -0.449752  ,  0.39627366, -0.10774456,  0.84241142,\n",
       "          0.1011493 , -0.31208037, -0.27212597,  0.09599752,  0.15818596,\n",
       "          0.04436773,  0.13666457,  0.09689835,  0.41672709,  0.4401957 ]]),\n",
       " array([[-0.20501025, -0.24399719, -0.07601725, -0.12886134, -0.33089419,\n",
       "          0.14597864,  0.0155941 , -0.32845578, -0.32937836,  0.32417099,\n",
       "         -0.37877488,  0.1583366 , -0.11608956, -0.27282376,  0.09760955,\n",
       "          0.26657994,  0.0658897 ,  0.31502851, -0.42025026,  0.1763505 ],\n",
       "        [-0.27767596,  0.44385053,  0.35197644, -0.19462131, -0.18236394,\n",
       "          0.34123827, -0.08588102,  0.37296643,  0.0420503 , -0.17403043,\n",
       "         -0.11477732,  0.1570129 , -0.12631235, -0.19028931,  0.24098731,\n",
       "          0.02089745, -0.32146162, -0.05004447, -0.31401261,  0.07501037],\n",
       "        [ 0.21697696,  0.33883089, -0.0083945 , -0.25443118,  0.04515231,\n",
       "          0.24679362, -0.13762825, -0.10853815,  0.09551683, -0.30661038,\n",
       "         -0.32105213, -0.06009634, -0.09926133,  0.07259483,  0.19245019,\n",
       "          0.09631386, -0.13327056,  0.00184197, -0.31415651,  0.07686377],\n",
       "        [-0.49042498,  0.27710288, -0.11689506,  0.09196328,  0.25556098,\n",
       "          0.37695563, -0.41201879, -0.19966684, -0.11979089,  0.36927586,\n",
       "         -0.1953025 ,  0.54152882, -0.24316857,  0.36339187, -0.54240986,\n",
       "         -0.07591056, -0.03683038,  0.30006937, -0.53787032, -0.31517181],\n",
       "        [-0.37741205, -0.09847864,  0.03464889,  0.26298884, -0.08312492,\n",
       "          0.04679939,  0.12522328,  0.26710177, -0.16310888, -0.43416005,\n",
       "          0.15992003, -0.13232496, -0.16121156, -0.33883246,  0.33025468,\n",
       "         -0.3114767 ,  0.03832953, -0.02652104,  0.36914797,  0.27782341],\n",
       "        [ 0.31125456,  0.30444622, -0.06868923, -0.30516256, -0.14253858,\n",
       "          0.28746103, -0.19500293,  0.25756765, -0.01723819, -0.31389909,\n",
       "          0.25763701, -0.36080929, -0.30108926,  0.12254623,  0.2964797 ,\n",
       "         -0.07497997,  0.37838109, -0.0362381 , -0.07475419,  0.16134654],\n",
       "        [-0.08728411, -0.04542222, -0.19906595,  0.22128942,  0.3180532 ,\n",
       "          0.19464598, -0.42252466,  0.16312224, -0.25832144, -0.27523831,\n",
       "         -0.33560411, -0.23489864, -0.36721669,  0.27553494,  0.0023297 ,\n",
       "          0.14212081,  0.20243018,  0.05193026, -0.24965416, -0.06512854],\n",
       "        [ 0.29100718, -0.29815286,  0.04200071, -0.01927307,  0.25101477,\n",
       "          0.0224925 ,  0.4124525 , -0.38446576,  0.17928711,  0.33859859,\n",
       "         -0.33763848, -0.55841558, -0.18408384, -0.37722375,  0.11881611,\n",
       "          0.1837231 , -0.36222626, -0.13308385,  0.13557345,  0.47297188],\n",
       "        [ 0.09560688,  0.05570983, -0.13885255, -0.31579822,  0.11224373,\n",
       "          0.15014565, -0.12149023, -0.13508567, -0.0594394 , -0.12404155,\n",
       "         -0.14766552, -0.10520115, -0.25715651,  0.05586324,  0.15581225,\n",
       "         -0.1314936 , -0.18935557,  0.28457982, -0.10201105,  0.02218073],\n",
       "        [ 0.00112975, -0.42009172, -0.18043046, -0.0191613 ,  0.27965113,\n",
       "         -0.51567692,  0.46683946, -0.12350105,  0.06434792, -0.22870351,\n",
       "          0.05835518, -0.31848606, -0.28036059,  0.21705394,  0.06653725,\n",
       "          0.26562365, -0.17621603, -0.16793092,  0.60969692,  0.24066621],\n",
       "        [-0.17775423,  0.13586642, -0.23826407, -0.07346155, -0.03285709,\n",
       "         -0.02860741,  0.16470661,  0.10823547, -0.08319868, -0.36295142,\n",
       "          0.35137545, -0.22108473, -0.01664096, -0.24570386,  0.31021491,\n",
       "          0.24918105, -0.34027011, -0.20248933,  0.25155361, -0.17692506],\n",
       "        [ 0.29170571, -0.14015805, -0.12717415,  0.06305109, -0.36099086,\n",
       "         -0.05608696, -0.05798242, -0.08266468,  0.34561384, -0.07638621,\n",
       "          0.26236085,  0.04902093,  0.11741035,  0.10786187, -0.14729119,\n",
       "          0.1120208 ,  0.33506541, -0.36496949, -0.26822228, -0.25501842],\n",
       "        [ 0.24622008, -0.31582295,  0.14168227, -0.31155414, -0.08973505,\n",
       "         -0.38750743,  0.11089741, -0.25116692, -0.31740193,  0.0724602 ,\n",
       "         -0.13860733,  0.35374662,  0.2779773 , -0.25859913,  0.09939578,\n",
       "         -0.22663341,  0.00881844, -0.06775717,  0.08480913,  0.45058085],\n",
       "        [ 0.01279004, -0.26724453, -0.34331284, -0.14201654,  0.25455234,\n",
       "         -0.38624269, -0.1730322 ,  0.13301396, -0.12540927,  0.16417372,\n",
       "         -0.02489754, -0.15182252, -0.10081863,  0.36627226,  0.08967147,\n",
       "         -0.31039276,  0.22815407,  0.06023607,  0.14363327, -0.31243488],\n",
       "        [-0.23014228, -0.25936493,  0.20349685, -0.17980227,  0.3675403 ,\n",
       "          0.1697156 ,  0.32008955, -0.18479326,  0.23193988, -0.18055927,\n",
       "          0.23312448, -0.25468369, -0.29018796,  0.24116221,  0.37346156,\n",
       "         -0.09619442, -0.05883339,  0.2113438 ,  0.10875219, -0.08687834],\n",
       "        [-0.00787002, -0.36622752,  0.06338986, -0.29683129,  0.30570522,\n",
       "         -0.37233933, -0.10119799, -0.19006685, -0.05203175, -0.375304  ,\n",
       "         -0.26592129,  0.25454066, -0.21607946,  0.05673215,  0.55123488,\n",
       "         -0.27136928,  0.10111957, -0.32386951,  0.25999442,  0.64834692],\n",
       "        [ 0.34079338,  0.3599638 , -0.21501518,  0.14034579,  0.0668141 ,\n",
       "         -0.19791409,  0.18177558, -0.02882887, -0.19912589, -0.15535037,\n",
       "          0.29080231,  0.27388705,  0.25950078, -0.17533094, -0.26119046,\n",
       "          0.25752133, -0.35966941, -0.06535585, -0.26371841,  0.26330037],\n",
       "        [ 0.10487262,  0.44416907, -0.25310048,  0.12832676, -0.24063378,\n",
       "          0.0079428 ,  0.26484501, -0.24807817, -0.33799563,  0.03900467,\n",
       "         -0.19200003,  0.67217198,  0.22556243, -0.04268079,  0.01912735,\n",
       "         -0.09882957, -0.25071237, -0.04856305, -0.22159752, -0.32311216],\n",
       "        [ 0.22744105,  0.50743013,  0.28800546,  0.31002689,  0.12079098,\n",
       "          0.457489  , -0.27730897,  0.31399684, -0.03835654,  0.15796584,\n",
       "         -0.26932419,  0.11639445, -0.23149858, -0.12384145,  0.39017061,\n",
       "         -0.24874075,  0.27267144, -0.37949075, -0.02524179,  0.39905921],\n",
       "        [-0.39185037,  0.41031927,  0.09694618, -0.17233295, -0.08914572,\n",
       "          0.0972088 ,  0.34083735, -0.3814247 ,  0.15890255, -0.31960854,\n",
       "         -0.21142142, -0.32335168,  0.09517489,  0.01190325,  0.11357871,\n",
       "          0.23839125, -0.13412144, -0.09673748,  0.15677283,  0.27016342]]),\n",
       " array([[-0.49556723],\n",
       "        [ 0.81514045],\n",
       "        [-0.33845354],\n",
       "        [-0.08158611],\n",
       "        [-0.18751972],\n",
       "        [ 0.66212535],\n",
       "        [-0.55881255],\n",
       "        [-0.00297525],\n",
       "        [ 0.27824409],\n",
       "        [ 0.42939031],\n",
       "        [-0.31837629],\n",
       "        [ 0.88955677],\n",
       "        [-0.29939989],\n",
       "        [ 0.18641564],\n",
       "        [-0.56591837],\n",
       "        [-0.02606585],\n",
       "        [-0.10639658],\n",
       "        [ 0.00355485],\n",
       "        [-0.80797128],\n",
       "        [-0.8375419 ]])]"
      ]
     },
     "execution_count": 14,
     "metadata": {},
     "output_type": "execute_result"
    }
   ],
   "source": [
    "clf.coefs_"
   ]
  },
  {
   "cell_type": "code",
   "execution_count": 15,
   "id": "3890d9b6",
   "metadata": {
    "scrolled": false
   },
   "outputs": [
    {
     "data": {
      "text/plain": [
       "[array([ 0.2187443 , -0.12094606,  0.11846214,  0.32493263, -0.23192296,\n",
       "         0.02015213,  0.26896361,  0.27016309, -0.04037676, -0.14764694,\n",
       "         0.19334495, -0.25925589,  0.04487243, -0.34257192, -0.31002511,\n",
       "        -0.17311982, -0.37768739,  0.32755808,  0.44906637, -0.31648273]),\n",
       " array([-0.02387993,  0.30088354, -0.30304399,  0.08402056, -0.16997296,\n",
       "         0.31250461, -0.07347239, -0.28226156, -0.08723381,  0.4175607 ,\n",
       "         0.16705479,  0.16460069, -0.24918883,  0.07445661,  0.00851579,\n",
       "        -0.00123361,  0.17737536, -0.1385589 ,  0.16844052, -0.282149  ]),\n",
       " array([0.68286656])]"
      ]
     },
     "execution_count": 15,
     "metadata": {},
     "output_type": "execute_result"
    }
   ],
   "source": [
    "clf.intercepts_"
   ]
  },
  {
   "cell_type": "markdown",
   "id": "982f5065",
   "metadata": {},
   "source": [
    "# 7. Prediction"
   ]
  },
  {
   "cell_type": "markdown",
   "id": "3371e2e7",
   "metadata": {},
   "source": [
    "## 7.1. Training Set"
   ]
  },
  {
   "cell_type": "code",
   "execution_count": 16,
   "id": "1fcaad0d",
   "metadata": {},
   "outputs": [],
   "source": [
    "y_pred_train = clf.predict(X_train_scaled)"
   ]
  },
  {
   "cell_type": "markdown",
   "id": "95a112f5",
   "metadata": {},
   "source": [
    "## 7.2. Test Set"
   ]
  },
  {
   "cell_type": "code",
   "execution_count": 17,
   "id": "7158701f",
   "metadata": {},
   "outputs": [],
   "source": [
    "y_pred_test = clf.predict(X_test_scaled)"
   ]
  },
  {
   "cell_type": "markdown",
   "id": "72a16acb",
   "metadata": {},
   "source": [
    "# 8. Model Evaluation"
   ]
  },
  {
   "cell_type": "markdown",
   "id": "7f9d943a",
   "metadata": {},
   "source": [
    "## 8.1. Training Set"
   ]
  },
  {
   "cell_type": "markdown",
   "id": "55f96f40",
   "metadata": {},
   "source": [
    "### 8.1.1. Confusion Matrix"
   ]
  },
  {
   "cell_type": "code",
   "execution_count": 18,
   "id": "8eb5f70b",
   "metadata": {},
   "outputs": [
    {
     "data": {
      "image/png": "[encoded data removed]",
      "text/plain": [
       "<Figure size 432x432 with 2 Axes>"
      ]
     },
     "metadata": {
      "needs_background": "light"
     },
     "output_type": "display_data"
    }
   ],
   "source": [
    "fig, ax = plt.subplots(figsize=(6, 6))\n",
    "plot_confusion_matrix(clf, X_train_scaled, y_train, ax=ax)\n",
    "plt.xticks(rotation=90)\n",
    "plt.show()"
   ]
  },
  {
   "cell_type": "markdown",
   "id": "6fb54b57",
   "metadata": {},
   "source": [
    "### 8.1.2. Scoring"
   ]
  },
  {
   "cell_type": "code",
   "execution_count": 19,
   "id": "527a7b37",
   "metadata": {},
   "outputs": [],
   "source": [
    "report = classification_report(y_train, y_pred_train, output_dict=True)"
   ]
  },
  {
   "cell_type": "code",
   "execution_count": 20,
   "id": "dfa3133a",
   "metadata": {},
   "outputs": [
    {
     "name": "stdout",
     "output_type": "stream",
     "text": [
      "accuracy = 0.859504132231405\n"
     ]
    }
   ],
   "source": [
    "print('accuracy =', report['accuracy'])"
   ]
  },
  {
   "cell_type": "code",
   "execution_count": 21,
   "id": "042c261e",
   "metadata": {},
   "outputs": [
    {
     "data": {
      "text/html": [
       "<div>\n",
       "<style scoped>\n",
       "    .dataframe tbody tr th:only-of-type {\n",
       "        vertical-align: middle;\n",
       "    }\n",
       "\n",
       "    .dataframe tbody tr th {\n",
       "        vertical-align: top;\n",
       "    }\n",
       "\n",
       "    .dataframe thead th {\n",
       "        text-align: right;\n",
       "    }\n",
       "</style>\n",
       "<table border=\"1\" class=\"dataframe\">\n",
       "  <thead>\n",
       "    <tr style=\"text-align: right;\">\n",
       "      <th></th>\n",
       "      <th>precision</th>\n",
       "      <th>recall</th>\n",
       "      <th>f1-score</th>\n",
       "      <th>support</th>\n",
       "    </tr>\n",
       "  </thead>\n",
       "  <tbody>\n",
       "    <tr>\n",
       "      <th>0</th>\n",
       "      <td>0.943820</td>\n",
       "      <td>0.743363</td>\n",
       "      <td>0.831683</td>\n",
       "      <td>113.000000</td>\n",
       "    </tr>\n",
       "    <tr>\n",
       "      <th>1</th>\n",
       "      <td>0.810458</td>\n",
       "      <td>0.961240</td>\n",
       "      <td>0.879433</td>\n",
       "      <td>129.000000</td>\n",
       "    </tr>\n",
       "    <tr>\n",
       "      <th>accuracy</th>\n",
       "      <td>0.859504</td>\n",
       "      <td>0.859504</td>\n",
       "      <td>0.859504</td>\n",
       "      <td>0.859504</td>\n",
       "    </tr>\n",
       "    <tr>\n",
       "      <th>macro avg</th>\n",
       "      <td>0.877139</td>\n",
       "      <td>0.852302</td>\n",
       "      <td>0.855558</td>\n",
       "      <td>242.000000</td>\n",
       "    </tr>\n",
       "    <tr>\n",
       "      <th>weighted avg</th>\n",
       "      <td>0.872730</td>\n",
       "      <td>0.859504</td>\n",
       "      <td>0.857136</td>\n",
       "      <td>242.000000</td>\n",
       "    </tr>\n",
       "  </tbody>\n",
       "</table>\n",
       "</div>"
      ],
      "text/plain": [
       "              precision    recall  f1-score     support\n",
       "0              0.943820  0.743363  0.831683  113.000000\n",
       "1              0.810458  0.961240  0.879433  129.000000\n",
       "accuracy       0.859504  0.859504  0.859504    0.859504\n",
       "macro avg      0.877139  0.852302  0.855558  242.000000\n",
       "weighted avg   0.872730  0.859504  0.857136  242.000000"
      ]
     },
     "execution_count": 21,
     "metadata": {},
     "output_type": "execute_result"
    }
   ],
   "source": [
    "pd.DataFrame.from_dict(report).T"
   ]
  },
  {
   "cell_type": "markdown",
   "id": "9533f763",
   "metadata": {},
   "source": [
    "## 8.2. Test Set"
   ]
  },
  {
   "cell_type": "markdown",
   "id": "ef10b301",
   "metadata": {},
   "source": [
    "### 8.2.1. Confusion Matrix"
   ]
  },
  {
   "cell_type": "code",
   "execution_count": 22,
   "id": "aa27890a",
   "metadata": {},
   "outputs": [
    {
     "data": {
      "image/png": "[encoded data removed]",
      "text/plain": [
       "<Figure size 432x432 with 2 Axes>"
      ]
     },
     "metadata": {
      "needs_background": "light"
     },
     "output_type": "display_data"
    }
   ],
   "source": [
    "fig, ax = plt.subplots(figsize=(6, 6))\n",
    "plot_confusion_matrix(clf, X_test_scaled, y_test, ax=ax)\n",
    "plt.xticks(rotation=90)\n",
    "plt.show()"
   ]
  },
  {
   "cell_type": "markdown",
   "id": "cefece92",
   "metadata": {},
   "source": [
    "### 8.2.2. Scoring"
   ]
  },
  {
   "cell_type": "code",
   "execution_count": 23,
   "id": "9f72a11f",
   "metadata": {},
   "outputs": [],
   "source": [
    "report = classification_report(y_test, y_pred_test, output_dict=True)"
   ]
  },
  {
   "cell_type": "code",
   "execution_count": 24,
   "id": "d11d9541",
   "metadata": {},
   "outputs": [
    {
     "name": "stdout",
     "output_type": "stream",
     "text": [
      "accuracy = 0.8360655737704918\n"
     ]
    }
   ],
   "source": [
    "print('accuracy =', report['accuracy'])"
   ]
  },
  {
   "cell_type": "code",
   "execution_count": 25,
   "id": "a60bb854",
   "metadata": {},
   "outputs": [
    {
     "data": {
      "text/html": [
       "<div>\n",
       "<style scoped>\n",
       "    .dataframe tbody tr th:only-of-type {\n",
       "        vertical-align: middle;\n",
       "    }\n",
       "\n",
       "    .dataframe tbody tr th {\n",
       "        vertical-align: top;\n",
       "    }\n",
       "\n",
       "    .dataframe thead th {\n",
       "        text-align: right;\n",
       "    }\n",
       "</style>\n",
       "<table border=\"1\" class=\"dataframe\">\n",
       "  <thead>\n",
       "    <tr style=\"text-align: right;\">\n",
       "      <th></th>\n",
       "      <th>precision</th>\n",
       "      <th>recall</th>\n",
       "      <th>f1-score</th>\n",
       "      <th>support</th>\n",
       "    </tr>\n",
       "  </thead>\n",
       "  <tbody>\n",
       "    <tr>\n",
       "      <th>0</th>\n",
       "      <td>0.800000</td>\n",
       "      <td>0.800000</td>\n",
       "      <td>0.800000</td>\n",
       "      <td>25.000000</td>\n",
       "    </tr>\n",
       "    <tr>\n",
       "      <th>1</th>\n",
       "      <td>0.861111</td>\n",
       "      <td>0.861111</td>\n",
       "      <td>0.861111</td>\n",
       "      <td>36.000000</td>\n",
       "    </tr>\n",
       "    <tr>\n",
       "      <th>accuracy</th>\n",
       "      <td>0.836066</td>\n",
       "      <td>0.836066</td>\n",
       "      <td>0.836066</td>\n",
       "      <td>0.836066</td>\n",
       "    </tr>\n",
       "    <tr>\n",
       "      <th>macro avg</th>\n",
       "      <td>0.830556</td>\n",
       "      <td>0.830556</td>\n",
       "      <td>0.830556</td>\n",
       "      <td>61.000000</td>\n",
       "    </tr>\n",
       "    <tr>\n",
       "      <th>weighted avg</th>\n",
       "      <td>0.836066</td>\n",
       "      <td>0.836066</td>\n",
       "      <td>0.836066</td>\n",
       "      <td>61.000000</td>\n",
       "    </tr>\n",
       "  </tbody>\n",
       "</table>\n",
       "</div>"
      ],
      "text/plain": [
       "              precision    recall  f1-score    support\n",
       "0              0.800000  0.800000  0.800000  25.000000\n",
       "1              0.861111  0.861111  0.861111  36.000000\n",
       "accuracy       0.836066  0.836066  0.836066   0.836066\n",
       "macro avg      0.830556  0.830556  0.830556  61.000000\n",
       "weighted avg   0.836066  0.836066  0.836066  61.000000"
      ]
     },
     "execution_count": 25,
     "metadata": {},
     "output_type": "execute_result"
    }
   ],
   "source": [
    "pd.DataFrame.from_dict(report).T"
   ]
  },
  {
   "cell_type": "markdown",
   "id": "6b1cb541",
   "metadata": {},
   "source": [
    "# 9. Save Model"
   ]
  },
  {
   "cell_type": "code",
   "execution_count": 26,
   "id": "0291e4e9",
   "metadata": {},
   "outputs": [],
   "source": [
    "import pickle"
   ]
  },
  {
   "cell_type": "code",
   "execution_count": 27,
   "id": "2bf44e70",
   "metadata": {},
   "outputs": [
    {
     "ename": "SyntaxError",
     "evalue": "invalid syntax (<ipython-input-27-50d2f563999b>, line 2)",
     "output_type": "error",
     "traceback": [
      "\u001b[0;36m  File \u001b[0;32m\"<ipython-input-27-50d2f563999b>\"\u001b[0;36m, line \u001b[0;32m2\u001b[0m\n\u001b[0;31m    feature_name),  open('deep_learning_classification_model.pickle', 'wb'))\u001b[0m\n\u001b[0m    ^\u001b[0m\n\u001b[0;31mSyntaxError\u001b[0m\u001b[0;31m:\u001b[0m invalid syntax\n"
     ]
    }
   ],
   "source": [
    "pickle.dump((clf\n",
    "             feature_name),  open('deep_learning_classification_model.pickle', 'wb'))"
   ]
  },
  {
   "cell_type": "code",
   "execution_count": null,
   "id": "a088c2b0",
   "metadata": {},
   "outputs": [],
   "source": []
  }
 ],
 "metadata": {
  "kernelspec": {
   "display_name": "Python 3",
   "language": "python",
   "name": "python3"
  },
  "language_info": {
   "codemirror_mode": {
    "name": "ipython",
    "version": 3
   },
   "file_extension": ".py",
   "mimetype": "text/x-python",
   "name": "python",
   "nbconvert_exporter": "python",
   "pygments_lexer": "ipython3",
   "version": "3.8.8"
  }
 },
 "nbformat": 4,
 "nbformat_minor": 5
}
