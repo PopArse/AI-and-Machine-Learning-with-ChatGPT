{
 "cells": [
  {
   "cell_type": "markdown",
   "id": "57654bb6",
   "metadata": {},
   "source": [
    "# 1. Import Libraries"
   ]
  },
  {
   "cell_type": "code",
   "execution_count": 1,
   "id": "2f51eef5",
   "metadata": {},
   "outputs": [],
   "source": [
    "import numpy as np\n",
    "import pandas as pd\n",
    "import matplotlib.pyplot as plt\n",
    "\n",
    "from sklearn.model_selection import train_test_split\n",
    "from sklearn.preprocessing import OrdinalEncoder, OneHotEncoder\n",
    "from sklearn.tree import DecisionTreeRegressor\n",
    "from sklearn.tree import export_text\n",
    "from sklearn.metrics import (\n",
    "    r2_score, \n",
    "    mean_squared_error, \n",
    "    mean_absolute_error, \n",
    "    mean_absolute_percentage_error\n",
    ")\n",
    "\n",
    "import warnings\n",
    "warnings.filterwarnings('ignore')\n",
    "\n",
    "np.random.seed(12345)"
   ]
  },
  {
   "cell_type": "markdown",
   "id": "6707b8de",
   "metadata": {},
   "source": [
    "# 2. Read Data"
   ]
  },
  {
   "cell_type": "code",
   "execution_count": 2,
   "id": "89c2e441",
   "metadata": {
    "scrolled": true
   },
   "outputs": [
    {
     "data": {
      "text/html": [
       "<div>\n",
       "<style scoped>\n",
       "    .dataframe tbody tr th:only-of-type {\n",
       "        vertical-align: middle;\n",
       "    }\n",
       "\n",
       "    .dataframe tbody tr th {\n",
       "        vertical-align: top;\n",
       "    }\n",
       "\n",
       "    .dataframe thead th {\n",
       "        text-align: right;\n",
       "    }\n",
       "</style>\n",
       "<table border=\"1\" class=\"dataframe\">\n",
       "  <thead>\n",
       "    <tr style=\"text-align: right;\">\n",
       "      <th></th>\n",
       "      <th>Cement (component 1)(kg in a m^3 mixture)</th>\n",
       "      <th>Blast Furnace Slag (component 2)(kg in a m^3 mixture)</th>\n",
       "      <th>Fly Ash (component 3)(kg in a m^3 mixture)</th>\n",
       "      <th>Water  (component 4)(kg in a m^3 mixture)</th>\n",
       "      <th>Superplasticizer (component 5)(kg in a m^3 mixture)</th>\n",
       "      <th>Coarse Aggregate  (component 6)(kg in a m^3 mixture)</th>\n",
       "      <th>Fine Aggregate (component 7)(kg in a m^3 mixture)</th>\n",
       "      <th>Age (day)</th>\n",
       "      <th>Concrete compressive strength(MPa, megapascals)</th>\n",
       "    </tr>\n",
       "  </thead>\n",
       "  <tbody>\n",
       "    <tr>\n",
       "      <th>0</th>\n",
       "      <td>540.0</td>\n",
       "      <td>0.0</td>\n",
       "      <td>0.0</td>\n",
       "      <td>162.0</td>\n",
       "      <td>2.5</td>\n",
       "      <td>1040.0</td>\n",
       "      <td>676.0</td>\n",
       "      <td>28</td>\n",
       "      <td>79.986111</td>\n",
       "    </tr>\n",
       "    <tr>\n",
       "      <th>1</th>\n",
       "      <td>540.0</td>\n",
       "      <td>0.0</td>\n",
       "      <td>0.0</td>\n",
       "      <td>162.0</td>\n",
       "      <td>2.5</td>\n",
       "      <td>1055.0</td>\n",
       "      <td>676.0</td>\n",
       "      <td>28</td>\n",
       "      <td>61.887366</td>\n",
       "    </tr>\n",
       "    <tr>\n",
       "      <th>2</th>\n",
       "      <td>332.5</td>\n",
       "      <td>142.5</td>\n",
       "      <td>0.0</td>\n",
       "      <td>228.0</td>\n",
       "      <td>0.0</td>\n",
       "      <td>932.0</td>\n",
       "      <td>594.0</td>\n",
       "      <td>270</td>\n",
       "      <td>40.269535</td>\n",
       "    </tr>\n",
       "    <tr>\n",
       "      <th>3</th>\n",
       "      <td>332.5</td>\n",
       "      <td>142.5</td>\n",
       "      <td>0.0</td>\n",
       "      <td>228.0</td>\n",
       "      <td>0.0</td>\n",
       "      <td>932.0</td>\n",
       "      <td>594.0</td>\n",
       "      <td>365</td>\n",
       "      <td>41.052780</td>\n",
       "    </tr>\n",
       "    <tr>\n",
       "      <th>4</th>\n",
       "      <td>198.6</td>\n",
       "      <td>132.4</td>\n",
       "      <td>0.0</td>\n",
       "      <td>192.0</td>\n",
       "      <td>0.0</td>\n",
       "      <td>978.4</td>\n",
       "      <td>825.5</td>\n",
       "      <td>360</td>\n",
       "      <td>44.296075</td>\n",
       "    </tr>\n",
       "    <tr>\n",
       "      <th>...</th>\n",
       "      <td>...</td>\n",
       "      <td>...</td>\n",
       "      <td>...</td>\n",
       "      <td>...</td>\n",
       "      <td>...</td>\n",
       "      <td>...</td>\n",
       "      <td>...</td>\n",
       "      <td>...</td>\n",
       "      <td>...</td>\n",
       "    </tr>\n",
       "    <tr>\n",
       "      <th>1025</th>\n",
       "      <td>276.4</td>\n",
       "      <td>116.0</td>\n",
       "      <td>90.3</td>\n",
       "      <td>179.6</td>\n",
       "      <td>8.9</td>\n",
       "      <td>870.1</td>\n",
       "      <td>768.3</td>\n",
       "      <td>28</td>\n",
       "      <td>44.284354</td>\n",
       "    </tr>\n",
       "    <tr>\n",
       "      <th>1026</th>\n",
       "      <td>322.2</td>\n",
       "      <td>0.0</td>\n",
       "      <td>115.6</td>\n",
       "      <td>196.0</td>\n",
       "      <td>10.4</td>\n",
       "      <td>817.9</td>\n",
       "      <td>813.4</td>\n",
       "      <td>28</td>\n",
       "      <td>31.178794</td>\n",
       "    </tr>\n",
       "    <tr>\n",
       "      <th>1027</th>\n",
       "      <td>148.5</td>\n",
       "      <td>139.4</td>\n",
       "      <td>108.6</td>\n",
       "      <td>192.7</td>\n",
       "      <td>6.1</td>\n",
       "      <td>892.4</td>\n",
       "      <td>780.0</td>\n",
       "      <td>28</td>\n",
       "      <td>23.696601</td>\n",
       "    </tr>\n",
       "    <tr>\n",
       "      <th>1028</th>\n",
       "      <td>159.1</td>\n",
       "      <td>186.7</td>\n",
       "      <td>0.0</td>\n",
       "      <td>175.6</td>\n",
       "      <td>11.3</td>\n",
       "      <td>989.6</td>\n",
       "      <td>788.9</td>\n",
       "      <td>28</td>\n",
       "      <td>32.768036</td>\n",
       "    </tr>\n",
       "    <tr>\n",
       "      <th>1029</th>\n",
       "      <td>260.9</td>\n",
       "      <td>100.5</td>\n",
       "      <td>78.3</td>\n",
       "      <td>200.6</td>\n",
       "      <td>8.6</td>\n",
       "      <td>864.5</td>\n",
       "      <td>761.5</td>\n",
       "      <td>28</td>\n",
       "      <td>32.401235</td>\n",
       "    </tr>\n",
       "  </tbody>\n",
       "</table>\n",
       "<p>1030 rows × 9 columns</p>\n",
       "</div>"
      ],
      "text/plain": [
       "      Cement (component 1)(kg in a m^3 mixture)  \\\n",
       "0                                         540.0   \n",
       "1                                         540.0   \n",
       "2                                         332.5   \n",
       "3                                         332.5   \n",
       "4                                         198.6   \n",
       "...                                         ...   \n",
       "1025                                      276.4   \n",
       "1026                                      322.2   \n",
       "1027                                      148.5   \n",
       "1028                                      159.1   \n",
       "1029                                      260.9   \n",
       "\n",
       "      Blast Furnace Slag (component 2)(kg in a m^3 mixture)  \\\n",
       "0                                                   0.0       \n",
       "1                                                   0.0       \n",
       "2                                                 142.5       \n",
       "3                                                 142.5       \n",
       "4                                                 132.4       \n",
       "...                                                 ...       \n",
       "1025                                              116.0       \n",
       "1026                                                0.0       \n",
       "1027                                              139.4       \n",
       "1028                                              186.7       \n",
       "1029                                              100.5       \n",
       "\n",
       "      Fly Ash (component 3)(kg in a m^3 mixture)  \\\n",
       "0                                            0.0   \n",
       "1                                            0.0   \n",
       "2                                            0.0   \n",
       "3                                            0.0   \n",
       "4                                            0.0   \n",
       "...                                          ...   \n",
       "1025                                        90.3   \n",
       "1026                                       115.6   \n",
       "1027                                       108.6   \n",
       "1028                                         0.0   \n",
       "1029                                        78.3   \n",
       "\n",
       "      Water  (component 4)(kg in a m^3 mixture)  \\\n",
       "0                                         162.0   \n",
       "1                                         162.0   \n",
       "2                                         228.0   \n",
       "3                                         228.0   \n",
       "4                                         192.0   \n",
       "...                                         ...   \n",
       "1025                                      179.6   \n",
       "1026                                      196.0   \n",
       "1027                                      192.7   \n",
       "1028                                      175.6   \n",
       "1029                                      200.6   \n",
       "\n",
       "      Superplasticizer (component 5)(kg in a m^3 mixture)  \\\n",
       "0                                                   2.5     \n",
       "1                                                   2.5     \n",
       "2                                                   0.0     \n",
       "3                                                   0.0     \n",
       "4                                                   0.0     \n",
       "...                                                 ...     \n",
       "1025                                                8.9     \n",
       "1026                                               10.4     \n",
       "1027                                                6.1     \n",
       "1028                                               11.3     \n",
       "1029                                                8.6     \n",
       "\n",
       "      Coarse Aggregate  (component 6)(kg in a m^3 mixture)  \\\n",
       "0                                                1040.0      \n",
       "1                                                1055.0      \n",
       "2                                                 932.0      \n",
       "3                                                 932.0      \n",
       "4                                                 978.4      \n",
       "...                                                 ...      \n",
       "1025                                              870.1      \n",
       "1026                                              817.9      \n",
       "1027                                              892.4      \n",
       "1028                                              989.6      \n",
       "1029                                              864.5      \n",
       "\n",
       "      Fine Aggregate (component 7)(kg in a m^3 mixture)  Age (day)  \\\n",
       "0                                                 676.0         28   \n",
       "1                                                 676.0         28   \n",
       "2                                                 594.0        270   \n",
       "3                                                 594.0        365   \n",
       "4                                                 825.5        360   \n",
       "...                                                 ...        ...   \n",
       "1025                                              768.3         28   \n",
       "1026                                              813.4         28   \n",
       "1027                                              780.0         28   \n",
       "1028                                              788.9         28   \n",
       "1029                                              761.5         28   \n",
       "\n",
       "      Concrete compressive strength(MPa, megapascals)  \n",
       "0                                           79.986111  \n",
       "1                                           61.887366  \n",
       "2                                           40.269535  \n",
       "3                                           41.052780  \n",
       "4                                           44.296075  \n",
       "...                                               ...  \n",
       "1025                                        44.284354  \n",
       "1026                                        31.178794  \n",
       "1027                                        23.696601  \n",
       "1028                                        32.768036  \n",
       "1029                                        32.401235  \n",
       "\n",
       "[1030 rows x 9 columns]"
      ]
     },
     "execution_count": 2,
     "metadata": {},
     "output_type": "execute_result"
    }
   ],
   "source": [
    "data = pd.read_excel('concrete_dataset.xlsx')\n",
    "\n",
    "data"
   ]
  },
  {
   "cell_type": "markdown",
   "id": "aa424a64",
   "metadata": {},
   "source": [
    "# 3. Clean Data"
   ]
  },
  {
   "cell_type": "markdown",
   "id": "bc4f7a96",
   "metadata": {},
   "source": [
    "## 3.1. Handle Missing Values"
   ]
  },
  {
   "cell_type": "markdown",
   "id": "2b59944e",
   "metadata": {},
   "source": [
    "### 3.1.1. Check Missing Values"
   ]
  },
  {
   "cell_type": "code",
   "execution_count": 3,
   "id": "8a02b878",
   "metadata": {},
   "outputs": [
    {
     "name": "stdout",
     "output_type": "stream",
     "text": [
      "<class 'pandas.core.frame.DataFrame'>\n",
      "RangeIndex: 1030 entries, 0 to 1029\n",
      "Data columns (total 9 columns):\n",
      " #   Column                                                 Non-Null Count  Dtype  \n",
      "---  ------                                                 --------------  -----  \n",
      " 0   Cement (component 1)(kg in a m^3 mixture)              1030 non-null   float64\n",
      " 1   Blast Furnace Slag (component 2)(kg in a m^3 mixture)  1030 non-null   float64\n",
      " 2   Fly Ash (component 3)(kg in a m^3 mixture)             1030 non-null   float64\n",
      " 3   Water  (component 4)(kg in a m^3 mixture)              1030 non-null   float64\n",
      " 4   Superplasticizer (component 5)(kg in a m^3 mixture)    1030 non-null   float64\n",
      " 5   Coarse Aggregate  (component 6)(kg in a m^3 mixture)   1030 non-null   float64\n",
      " 6   Fine Aggregate (component 7)(kg in a m^3 mixture)      1030 non-null   float64\n",
      " 7   Age (day)                                              1030 non-null   int64  \n",
      " 8   Concrete compressive strength(MPa, megapascals)        1030 non-null   float64\n",
      "dtypes: float64(8), int64(1)\n",
      "memory usage: 72.5 KB\n"
     ]
    }
   ],
   "source": [
    "data.info()"
   ]
  },
  {
   "cell_type": "markdown",
   "id": "44279ff4",
   "metadata": {},
   "source": [
    "### 3.1.2. Remove Missing Values (Listwise Deletion)"
   ]
  },
  {
   "cell_type": "code",
   "execution_count": 4,
   "id": "7a3da168",
   "metadata": {},
   "outputs": [],
   "source": [
    "data.dropna(axis=0, inplace=True)"
   ]
  },
  {
   "cell_type": "markdown",
   "id": "5fed6619",
   "metadata": {},
   "source": [
    "## 3.2. Handle Outliers"
   ]
  },
  {
   "cell_type": "markdown",
   "id": "89eb99fe",
   "metadata": {},
   "source": [
    "### 3.2.1. Check Outliers"
   ]
  },
  {
   "cell_type": "code",
   "execution_count": 5,
   "id": "8400e390",
   "metadata": {},
   "outputs": [
    {
     "data": {
      "text/html": [
       "<div>\n",
       "<style scoped>\n",
       "    .dataframe tbody tr th:only-of-type {\n",
       "        vertical-align: middle;\n",
       "    }\n",
       "\n",
       "    .dataframe tbody tr th {\n",
       "        vertical-align: top;\n",
       "    }\n",
       "\n",
       "    .dataframe thead th {\n",
       "        text-align: right;\n",
       "    }\n",
       "</style>\n",
       "<table border=\"1\" class=\"dataframe\">\n",
       "  <thead>\n",
       "    <tr style=\"text-align: right;\">\n",
       "      <th></th>\n",
       "      <th>Cement (component 1)(kg in a m^3 mixture)</th>\n",
       "      <th>Blast Furnace Slag (component 2)(kg in a m^3 mixture)</th>\n",
       "      <th>Fly Ash (component 3)(kg in a m^3 mixture)</th>\n",
       "      <th>Water  (component 4)(kg in a m^3 mixture)</th>\n",
       "      <th>Superplasticizer (component 5)(kg in a m^3 mixture)</th>\n",
       "      <th>Coarse Aggregate  (component 6)(kg in a m^3 mixture)</th>\n",
       "      <th>Fine Aggregate (component 7)(kg in a m^3 mixture)</th>\n",
       "      <th>Age (day)</th>\n",
       "      <th>Concrete compressive strength(MPa, megapascals)</th>\n",
       "    </tr>\n",
       "  </thead>\n",
       "  <tbody>\n",
       "    <tr>\n",
       "      <th>count</th>\n",
       "      <td>1030.000000</td>\n",
       "      <td>1030.000000</td>\n",
       "      <td>1030.000000</td>\n",
       "      <td>1030.000000</td>\n",
       "      <td>1030.000000</td>\n",
       "      <td>1030.000000</td>\n",
       "      <td>1030.000000</td>\n",
       "      <td>1030.000000</td>\n",
       "      <td>1030.000000</td>\n",
       "    </tr>\n",
       "    <tr>\n",
       "      <th>mean</th>\n",
       "      <td>281.165631</td>\n",
       "      <td>73.895485</td>\n",
       "      <td>54.187136</td>\n",
       "      <td>181.566359</td>\n",
       "      <td>6.203112</td>\n",
       "      <td>972.918592</td>\n",
       "      <td>773.578883</td>\n",
       "      <td>45.662136</td>\n",
       "      <td>35.817836</td>\n",
       "    </tr>\n",
       "    <tr>\n",
       "      <th>std</th>\n",
       "      <td>104.507142</td>\n",
       "      <td>86.279104</td>\n",
       "      <td>63.996469</td>\n",
       "      <td>21.355567</td>\n",
       "      <td>5.973492</td>\n",
       "      <td>77.753818</td>\n",
       "      <td>80.175427</td>\n",
       "      <td>63.169912</td>\n",
       "      <td>16.705679</td>\n",
       "    </tr>\n",
       "    <tr>\n",
       "      <th>min</th>\n",
       "      <td>102.000000</td>\n",
       "      <td>0.000000</td>\n",
       "      <td>0.000000</td>\n",
       "      <td>121.750000</td>\n",
       "      <td>0.000000</td>\n",
       "      <td>801.000000</td>\n",
       "      <td>594.000000</td>\n",
       "      <td>1.000000</td>\n",
       "      <td>2.331808</td>\n",
       "    </tr>\n",
       "    <tr>\n",
       "      <th>25%</th>\n",
       "      <td>192.375000</td>\n",
       "      <td>0.000000</td>\n",
       "      <td>0.000000</td>\n",
       "      <td>164.900000</td>\n",
       "      <td>0.000000</td>\n",
       "      <td>932.000000</td>\n",
       "      <td>730.950000</td>\n",
       "      <td>7.000000</td>\n",
       "      <td>23.707115</td>\n",
       "    </tr>\n",
       "    <tr>\n",
       "      <th>50%</th>\n",
       "      <td>272.900000</td>\n",
       "      <td>22.000000</td>\n",
       "      <td>0.000000</td>\n",
       "      <td>185.000000</td>\n",
       "      <td>6.350000</td>\n",
       "      <td>968.000000</td>\n",
       "      <td>779.510000</td>\n",
       "      <td>28.000000</td>\n",
       "      <td>34.442774</td>\n",
       "    </tr>\n",
       "    <tr>\n",
       "      <th>75%</th>\n",
       "      <td>350.000000</td>\n",
       "      <td>142.950000</td>\n",
       "      <td>118.270000</td>\n",
       "      <td>192.000000</td>\n",
       "      <td>10.160000</td>\n",
       "      <td>1029.400000</td>\n",
       "      <td>824.000000</td>\n",
       "      <td>56.000000</td>\n",
       "      <td>46.136287</td>\n",
       "    </tr>\n",
       "    <tr>\n",
       "      <th>max</th>\n",
       "      <td>540.000000</td>\n",
       "      <td>359.400000</td>\n",
       "      <td>200.100000</td>\n",
       "      <td>247.000000</td>\n",
       "      <td>32.200000</td>\n",
       "      <td>1145.000000</td>\n",
       "      <td>992.600000</td>\n",
       "      <td>365.000000</td>\n",
       "      <td>82.599225</td>\n",
       "    </tr>\n",
       "  </tbody>\n",
       "</table>\n",
       "</div>"
      ],
      "text/plain": [
       "       Cement (component 1)(kg in a m^3 mixture)  \\\n",
       "count                                1030.000000   \n",
       "mean                                  281.165631   \n",
       "std                                   104.507142   \n",
       "min                                   102.000000   \n",
       "25%                                   192.375000   \n",
       "50%                                   272.900000   \n",
       "75%                                   350.000000   \n",
       "max                                   540.000000   \n",
       "\n",
       "       Blast Furnace Slag (component 2)(kg in a m^3 mixture)  \\\n",
       "count                                        1030.000000       \n",
       "mean                                           73.895485       \n",
       "std                                            86.279104       \n",
       "min                                             0.000000       \n",
       "25%                                             0.000000       \n",
       "50%                                            22.000000       \n",
       "75%                                           142.950000       \n",
       "max                                           359.400000       \n",
       "\n",
       "       Fly Ash (component 3)(kg in a m^3 mixture)  \\\n",
       "count                                 1030.000000   \n",
       "mean                                    54.187136   \n",
       "std                                     63.996469   \n",
       "min                                      0.000000   \n",
       "25%                                      0.000000   \n",
       "50%                                      0.000000   \n",
       "75%                                    118.270000   \n",
       "max                                    200.100000   \n",
       "\n",
       "       Water  (component 4)(kg in a m^3 mixture)  \\\n",
       "count                                1030.000000   \n",
       "mean                                  181.566359   \n",
       "std                                    21.355567   \n",
       "min                                   121.750000   \n",
       "25%                                   164.900000   \n",
       "50%                                   185.000000   \n",
       "75%                                   192.000000   \n",
       "max                                   247.000000   \n",
       "\n",
       "       Superplasticizer (component 5)(kg in a m^3 mixture)  \\\n",
       "count                                        1030.000000     \n",
       "mean                                            6.203112     \n",
       "std                                             5.973492     \n",
       "min                                             0.000000     \n",
       "25%                                             0.000000     \n",
       "50%                                             6.350000     \n",
       "75%                                            10.160000     \n",
       "max                                            32.200000     \n",
       "\n",
       "       Coarse Aggregate  (component 6)(kg in a m^3 mixture)  \\\n",
       "count                                        1030.000000      \n",
       "mean                                          972.918592      \n",
       "std                                            77.753818      \n",
       "min                                           801.000000      \n",
       "25%                                           932.000000      \n",
       "50%                                           968.000000      \n",
       "75%                                          1029.400000      \n",
       "max                                          1145.000000      \n",
       "\n",
       "       Fine Aggregate (component 7)(kg in a m^3 mixture)    Age (day)  \\\n",
       "count                                        1030.000000  1030.000000   \n",
       "mean                                          773.578883    45.662136   \n",
       "std                                            80.175427    63.169912   \n",
       "min                                           594.000000     1.000000   \n",
       "25%                                           730.950000     7.000000   \n",
       "50%                                           779.510000    28.000000   \n",
       "75%                                           824.000000    56.000000   \n",
       "max                                           992.600000   365.000000   \n",
       "\n",
       "       Concrete compressive strength(MPa, megapascals)  \n",
       "count                                      1030.000000  \n",
       "mean                                         35.817836  \n",
       "std                                          16.705679  \n",
       "min                                           2.331808  \n",
       "25%                                          23.707115  \n",
       "50%                                          34.442774  \n",
       "75%                                          46.136287  \n",
       "max                                          82.599225  "
      ]
     },
     "execution_count": 5,
     "metadata": {},
     "output_type": "execute_result"
    }
   ],
   "source": [
    "data.describe()"
   ]
  },
  {
   "cell_type": "markdown",
   "id": "62561b7e",
   "metadata": {},
   "source": [
    "### 3.2.2. Remove Outliers"
   ]
  },
  {
   "cell_type": "code",
   "execution_count": 6,
   "id": "f3524d5d",
   "metadata": {},
   "outputs": [],
   "source": [
    "# no outlier to remove"
   ]
  },
  {
   "cell_type": "markdown",
   "id": "50cdff68",
   "metadata": {},
   "source": [
    "# 4. Split Dataset into Training & Test Sets"
   ]
  },
  {
   "cell_type": "code",
   "execution_count": 7,
   "id": "d3ef93cc",
   "metadata": {},
   "outputs": [],
   "source": [
    "target_name = 'Concrete compressive strength(MPa, megapascals)'\n",
    "feature_name = list(data.columns.drop(target_name))"
   ]
  },
  {
   "cell_type": "code",
   "execution_count": 8,
   "id": "610f9450",
   "metadata": {},
   "outputs": [],
   "source": [
    "X = data[feature_name]\n",
    "y = data[target_name]"
   ]
  },
  {
   "cell_type": "code",
   "execution_count": 10,
   "id": "13cae49d",
   "metadata": {},
   "outputs": [],
   "source": [
    "X_train, X_test, y_train, y_test = train_test_split(X, y, test_size=0.20, shuffle=True)"
   ]
  },
  {
   "cell_type": "markdown",
   "id": "ed13b65f",
   "metadata": {},
   "source": [
    "# 5. Data Preparation"
   ]
  },
  {
   "cell_type": "markdown",
   "id": "7e7af4f1",
   "metadata": {},
   "source": [
    "## ### 5.1. Ordinal Encoding"
   ]
  },
  {
   "cell_type": "markdown",
   "id": "a25e32e6",
   "metadata": {},
   "source": [
    "## ### 5.2. One Hot Encoding"
   ]
  },
  {
   "cell_type": "markdown",
   "id": "446293fb",
   "metadata": {},
   "source": [
    "## ### 5.3. Feature Scaling"
   ]
  },
  {
   "cell_type": "markdown",
   "id": "f77fb5ee",
   "metadata": {},
   "source": [
    "# 6. Model Creation"
   ]
  },
  {
   "cell_type": "markdown",
   "id": "e81df55a",
   "metadata": {},
   "source": [
    "## 6.1. Setting Parameters"
   ]
  },
  {
   "cell_type": "code",
   "execution_count": 11,
   "id": "fd1486a3",
   "metadata": {},
   "outputs": [],
   "source": [
    "reg = DecisionTreeRegressor(max_depth=5)"
   ]
  },
  {
   "cell_type": "markdown",
   "id": "4cb08aa4",
   "metadata": {},
   "source": [
    "## 6.2. Train Model"
   ]
  },
  {
   "cell_type": "code",
   "execution_count": 12,
   "id": "8aa8df52",
   "metadata": {},
   "outputs": [
    {
     "data": {
      "text/plain": [
       "DecisionTreeRegressor(max_depth=5)"
      ]
     },
     "execution_count": 12,
     "metadata": {},
     "output_type": "execute_result"
    }
   ],
   "source": [
    "reg.fit(X_train, y_train)"
   ]
  },
  {
   "cell_type": "markdown",
   "id": "7f33bb7b",
   "metadata": {},
   "source": [
    "## 6.3. Model's Rules"
   ]
  },
  {
   "cell_type": "code",
   "execution_count": 13,
   "id": "ecca291b",
   "metadata": {},
   "outputs": [],
   "source": [
    "r = export_text(reg, feature_names=list(X_train.columns))"
   ]
  },
  {
   "cell_type": "code",
   "execution_count": 14,
   "id": "bb781dff",
   "metadata": {},
   "outputs": [
    {
     "name": "stdout",
     "output_type": "stream",
     "text": [
      "|--- Age (day) <= 21.00\n",
      "|   |--- Cement (component 1)(kg in a m^3 mixture) <= 354.50\n",
      "|   |   |--- Age (day) <= 10.50\n",
      "|   |   |   |--- Cement (component 1)(kg in a m^3 mixture) <= 255.25\n",
      "|   |   |   |   |--- Cement (component 1)(kg in a m^3 mixture) <= 155.00\n",
      "|   |   |   |   |   |--- value: [8.04]\n",
      "|   |   |   |   |--- Cement (component 1)(kg in a m^3 mixture) >  155.00\n",
      "|   |   |   |   |   |--- value: [14.15]\n",
      "|   |   |   |--- Cement (component 1)(kg in a m^3 mixture) >  255.25\n",
      "|   |   |   |   |--- Blast Furnace Slag (component 2)(kg in a m^3 mixture) <= 197.20\n",
      "|   |   |   |   |   |--- value: [18.17]\n",
      "|   |   |   |   |--- Blast Furnace Slag (component 2)(kg in a m^3 mixture) >  197.20\n",
      "|   |   |   |   |   |--- value: [31.96]\n",
      "|   |   |--- Age (day) >  10.50\n",
      "|   |   |   |--- Superplasticizer (component 5)(kg in a m^3 mixture) <= 7.81\n",
      "|   |   |   |   |--- Blast Furnace Slag (component 2)(kg in a m^3 mixture) <= 46.07\n",
      "|   |   |   |   |   |--- value: [21.90]\n",
      "|   |   |   |   |--- Blast Furnace Slag (component 2)(kg in a m^3 mixture) >  46.07\n",
      "|   |   |   |   |   |--- value: [28.87]\n",
      "|   |   |   |--- Superplasticizer (component 5)(kg in a m^3 mixture) >  7.81\n",
      "|   |   |   |   |--- Cement (component 1)(kg in a m^3 mixture) <= 213.62\n",
      "|   |   |   |   |   |--- value: [27.42]\n",
      "|   |   |   |   |--- Cement (component 1)(kg in a m^3 mixture) >  213.62\n",
      "|   |   |   |   |   |--- value: [37.95]\n",
      "|   |--- Cement (component 1)(kg in a m^3 mixture) >  354.50\n",
      "|   |   |--- Cement (component 1)(kg in a m^3 mixture) <= 400.90\n",
      "|   |   |   |--- Blast Furnace Slag (component 2)(kg in a m^3 mixture) <= 9.50\n",
      "|   |   |   |   |--- Age (day) <= 5.00\n",
      "|   |   |   |   |   |--- value: [15.11]\n",
      "|   |   |   |   |--- Age (day) >  5.00\n",
      "|   |   |   |   |   |--- value: [24.83]\n",
      "|   |   |   |--- Blast Furnace Slag (component 2)(kg in a m^3 mixture) >  9.50\n",
      "|   |   |   |   |--- Age (day) <= 5.00\n",
      "|   |   |   |   |   |--- value: [30.95]\n",
      "|   |   |   |   |--- Age (day) >  5.00\n",
      "|   |   |   |   |   |--- value: [41.57]\n",
      "|   |   |--- Cement (component 1)(kg in a m^3 mixture) >  400.90\n",
      "|   |   |   |--- Age (day) <= 5.00\n",
      "|   |   |   |   |--- Water  (component 4)(kg in a m^3 mixture) <= 150.45\n",
      "|   |   |   |   |   |--- value: [40.87]\n",
      "|   |   |   |   |--- Water  (component 4)(kg in a m^3 mixture) >  150.45\n",
      "|   |   |   |   |   |--- value: [33.37]\n",
      "|   |   |   |--- Age (day) >  5.00\n",
      "|   |   |   |   |--- Water  (component 4)(kg in a m^3 mixture) <= 194.50\n",
      "|   |   |   |   |   |--- value: [49.11]\n",
      "|   |   |   |   |--- Water  (component 4)(kg in a m^3 mixture) >  194.50\n",
      "|   |   |   |   |   |--- value: [36.35]\n",
      "|--- Age (day) >  21.00\n",
      "|   |--- Cement (component 1)(kg in a m^3 mixture) <= 352.50\n",
      "|   |   |--- Cement (component 1)(kg in a m^3 mixture) <= 159.05\n",
      "|   |   |   |--- Blast Furnace Slag (component 2)(kg in a m^3 mixture) <= 115.50\n",
      "|   |   |   |   |--- Blast Furnace Slag (component 2)(kg in a m^3 mixture) <= 58.50\n",
      "|   |   |   |   |   |--- value: [13.54]\n",
      "|   |   |   |   |--- Blast Furnace Slag (component 2)(kg in a m^3 mixture) >  58.50\n",
      "|   |   |   |   |   |--- value: [21.23]\n",
      "|   |   |   |--- Blast Furnace Slag (component 2)(kg in a m^3 mixture) >  115.50\n",
      "|   |   |   |   |--- Age (day) <= 59.00\n",
      "|   |   |   |   |   |--- value: [28.34]\n",
      "|   |   |   |   |--- Age (day) >  59.00\n",
      "|   |   |   |   |   |--- value: [38.66]\n",
      "|   |   |--- Cement (component 1)(kg in a m^3 mixture) >  159.05\n",
      "|   |   |   |--- Water  (component 4)(kg in a m^3 mixture) <= 175.55\n",
      "|   |   |   |   |--- Blast Furnace Slag (component 2)(kg in a m^3 mixture) <= 47.63\n",
      "|   |   |   |   |   |--- value: [42.48]\n",
      "|   |   |   |   |--- Blast Furnace Slag (component 2)(kg in a m^3 mixture) >  47.63\n",
      "|   |   |   |   |   |--- value: [53.49]\n",
      "|   |   |   |--- Water  (component 4)(kg in a m^3 mixture) >  175.55\n",
      "|   |   |   |   |--- Blast Furnace Slag (component 2)(kg in a m^3 mixture) <= 13.00\n",
      "|   |   |   |   |   |--- value: [31.42]\n",
      "|   |   |   |   |--- Blast Furnace Slag (component 2)(kg in a m^3 mixture) >  13.00\n",
      "|   |   |   |   |   |--- value: [40.49]\n",
      "|   |--- Cement (component 1)(kg in a m^3 mixture) >  352.50\n",
      "|   |   |--- Water  (component 4)(kg in a m^3 mixture) <= 183.05\n",
      "|   |   |   |--- Blast Furnace Slag (component 2)(kg in a m^3 mixture) <= 170.10\n",
      "|   |   |   |   |--- Coarse Aggregate  (component 6)(kg in a m^3 mixture) <= 811.50\n",
      "|   |   |   |   |   |--- value: [41.37]\n",
      "|   |   |   |   |--- Coarse Aggregate  (component 6)(kg in a m^3 mixture) >  811.50\n",
      "|   |   |   |   |   |--- value: [61.55]\n",
      "|   |   |   |--- Blast Furnace Slag (component 2)(kg in a m^3 mixture) >  170.10\n",
      "|   |   |   |   |--- Blast Furnace Slag (component 2)(kg in a m^3 mixture) <= 189.10\n",
      "|   |   |   |   |   |--- value: [76.23]\n",
      "|   |   |   |   |--- Blast Furnace Slag (component 2)(kg in a m^3 mixture) >  189.10\n",
      "|   |   |   |   |   |--- value: [62.25]\n",
      "|   |   |--- Water  (component 4)(kg in a m^3 mixture) >  183.05\n",
      "|   |   |   |--- Cement (component 1)(kg in a m^3 mixture) <= 437.50\n",
      "|   |   |   |   |--- Age (day) <= 73.00\n",
      "|   |   |   |   |   |--- value: [37.41]\n",
      "|   |   |   |   |--- Age (day) >  73.00\n",
      "|   |   |   |   |   |--- value: [46.49]\n",
      "|   |   |   |--- Cement (component 1)(kg in a m^3 mixture) >  437.50\n",
      "|   |   |   |   |--- Water  (component 4)(kg in a m^3 mixture) <= 190.50\n",
      "|   |   |   |   |   |--- value: [62.32]\n",
      "|   |   |   |   |--- Water  (component 4)(kg in a m^3 mixture) >  190.50\n",
      "|   |   |   |   |   |--- value: [49.84]\n",
      "\n"
     ]
    }
   ],
   "source": [
    "print(r)"
   ]
  },
  {
   "cell_type": "markdown",
   "id": "fee5da68",
   "metadata": {},
   "source": [
    "# 7. Prediction"
   ]
  },
  {
   "cell_type": "markdown",
   "id": "1290eb30",
   "metadata": {},
   "source": [
    "## 7.1. Training Set"
   ]
  },
  {
   "cell_type": "code",
   "execution_count": 15,
   "id": "f6ae8331",
   "metadata": {},
   "outputs": [],
   "source": [
    "y_pred_train = reg.predict(X_train)"
   ]
  },
  {
   "cell_type": "code",
   "execution_count": 16,
   "id": "86df5129",
   "metadata": {},
   "outputs": [
    {
     "data": {
      "text/plain": [
       "array([40.49251436, 61.54925389, 31.42083142, 24.83186118, 18.17419566,\n",
       "       21.9008221 , 31.42083142, 31.42083142, 40.49251436, 28.34065817,\n",
       "       40.49251436, 31.42083142, 40.49251436, 31.42083142, 14.1521225 ,\n",
       "       53.48931265, 40.49251436,  8.03873858, 14.1521225 , 40.49251436,\n",
       "       61.54925389, 18.17419566, 31.95797868, 33.36678808, 13.53612115,\n",
       "       18.17419566, 40.49251436, 53.48931265, 31.42083142, 40.49251436,\n",
       "       42.47531355, 31.42083142, 28.34065817, 31.42083142, 37.40789959,\n",
       "       40.49251436, 31.42083142, 61.54925389, 31.42083142, 31.42083142,\n",
       "       62.31599001, 14.1521225 , 61.54925389, 31.42083142, 18.17419566,\n",
       "       28.34065817, 14.1521225 , 31.42083142, 33.36678808, 14.1521225 ,\n",
       "       14.1521225 , 31.42083142, 49.11296237, 18.17419566, 40.49251436,\n",
       "       40.86524252, 14.1521225 , 14.1521225 , 61.54925389, 76.22846656,\n",
       "        8.03873858, 31.42083142, 49.11296237, 14.1521225 , 21.9008221 ,\n",
       "       14.1521225 , 40.49251436, 14.1521225 , 40.49251436, 13.53612115,\n",
       "       13.53612115, 27.41816227, 18.17419566, 15.11000444, 14.1521225 ,\n",
       "       18.17419566, 40.49251436, 42.47531355, 42.47531355, 40.49251436,\n",
       "       41.57424054, 14.1521225 , 53.48931265, 53.48931265, 28.34065817,\n",
       "       14.1521225 , 40.49251436, 13.53612115, 42.47531355, 14.1521225 ,\n",
       "       42.47531355, 36.3497263 , 24.83186118, 28.34065817, 18.17419566,\n",
       "       40.49251436, 31.42083142, 40.49251436, 14.1521225 , 46.48722982,\n",
       "       31.42083142, 31.42083142, 42.47531355,  8.03873858, 18.17419566,\n",
       "       53.48931265, 40.49251436, 31.42083142, 31.42083142, 41.57424054,\n",
       "       42.47531355, 40.49251436, 37.95220642, 42.47531355, 61.54925389,\n",
       "       62.31599001, 18.17419566, 40.49251436, 42.47531355, 49.11296237,\n",
       "       18.17419566, 61.54925389, 18.17419566, 42.47531355,  8.03873858,\n",
       "       13.53612115, 21.9008221 , 53.48931265, 27.41816227, 53.48931265,\n",
       "       31.42083142, 42.47531355, 61.54925389, 14.1521225 , 40.49251436,\n",
       "       31.42083142, 28.34065817, 40.49251436, 31.42083142, 28.34065817,\n",
       "       40.49251436, 62.31599001, 61.54925389, 21.9008221 , 21.9008221 ,\n",
       "       18.17419566, 13.53612115, 40.49251436, 37.95220642, 31.42083142,\n",
       "       53.48931265, 28.34065817, 42.47531355, 61.54925389, 21.9008221 ,\n",
       "       37.40789959, 42.47531355, 31.42083142, 31.42083142, 15.11000444,\n",
       "       31.42083142, 28.34065817, 42.47531355, 40.49251436, 40.49251436,\n",
       "       14.1521225 , 40.49251436, 61.54925389, 40.49251436, 31.42083142,\n",
       "       14.1521225 , 49.11296237, 37.40789959, 61.54925389, 42.47531355,\n",
       "       31.42083142, 37.40789959, 40.49251436, 40.49251436, 46.48722982,\n",
       "       53.48931265, 31.42083142, 41.57424054, 14.1521225 , 31.42083142,\n",
       "       30.95392652, 28.34065817, 31.42083142, 53.48931265, 37.95220642,\n",
       "       18.17419566, 62.24589328, 76.22846656, 31.42083142,  8.03873858,\n",
       "       28.34065817, 31.42083142, 30.95392652, 14.1521225 , 40.49251436,\n",
       "       28.34065817, 28.34065817, 31.42083142, 31.42083142, 24.83186118,\n",
       "       18.17419566, 28.34065817, 14.1521225 , 31.42083142, 14.1521225 ,\n",
       "       61.54925389, 31.42083142, 18.17419566, 40.49251436, 40.49251436,\n",
       "       40.49251436, 76.22846656, 31.42083142, 37.95220642, 14.1521225 ,\n",
       "       40.49251436, 18.17419566, 31.42083142, 31.95797868, 53.48931265,\n",
       "       28.34065817, 61.54925389, 28.34065817, 21.9008221 , 46.48722982,\n",
       "       37.40789959, 31.42083142, 53.48931265, 62.31599001, 49.11296237,\n",
       "       53.48931265, 40.49251436, 40.49251436, 27.41816227, 41.36856   ,\n",
       "       33.36678808, 28.86663643, 76.22846656, 38.66473062, 53.48931265,\n",
       "       18.17419566, 53.48931265, 14.1521225 , 37.40789959, 42.47531355,\n",
       "       37.95220642, 28.34065817, 61.54925389, 49.83568643, 76.22846656,\n",
       "       31.42083142, 24.83186118, 28.34065817, 61.54925389, 42.47531355,\n",
       "       31.42083142, 61.54925389, 28.34065817, 41.57424054, 37.95220642,\n",
       "       27.41816227, 61.54925389, 53.48931265, 40.49251436, 49.11296237,\n",
       "       21.23489553, 61.54925389, 42.47531355, 42.47531355, 33.36678808,\n",
       "       14.1521225 , 37.95220642, 41.57424054, 21.9008221 , 40.49251436,\n",
       "       42.47531355, 76.22846656, 53.48931265, 62.31599001, 37.40789959,\n",
       "       18.17419566, 40.49251436, 28.34065817, 31.42083142, 40.49251436,\n",
       "       27.41816227, 31.42083142, 40.49251436, 28.34065817, 40.49251436,\n",
       "       61.54925389, 40.49251436, 28.34065817, 37.40789959, 14.1521225 ,\n",
       "       49.11296237, 28.34065817, 31.42083142, 28.34065817, 40.49251436,\n",
       "       42.47531355, 18.17419566, 13.53612115, 40.49251436, 40.49251436,\n",
       "       21.9008221 , 38.66473062, 14.1521225 , 31.42083142, 31.42083142,\n",
       "       61.54925389, 14.1521225 , 31.42083142, 61.54925389, 28.34065817,\n",
       "       42.47531355, 37.40789959, 14.1521225 , 53.48931265, 28.34065817,\n",
       "       18.17419566, 18.17419566, 30.95392652, 61.54925389, 31.42083142,\n",
       "       49.83568643, 30.95392652, 31.95797868, 40.49251436, 28.34065817,\n",
       "       42.47531355, 42.47531355, 33.36678808, 46.48722982, 37.95220642,\n",
       "       40.49251436, 46.48722982, 31.42083142, 37.40789959, 42.47531355,\n",
       "       61.54925389, 31.42083142, 27.41816227, 61.54925389, 31.42083142,\n",
       "       40.49251436, 28.34065817, 40.49251436, 53.48931265, 40.49251436,\n",
       "       49.11296237, 40.49251436, 49.83568643, 28.34065817, 62.31599001,\n",
       "       28.34065817, 49.11296237,  8.03873858, 42.47531355, 24.83186118,\n",
       "       41.57424054, 37.40789959, 40.49251436, 14.1521225 , 49.11296237,\n",
       "       40.49251436, 14.1521225 , 37.40789959, 76.22846656, 61.54925389,\n",
       "       27.41816227, 61.54925389, 49.11296237, 42.47531355, 40.49251436,\n",
       "       14.1521225 , 31.42083142, 61.54925389, 13.53612115, 14.1521225 ,\n",
       "       28.34065817, 42.47531355, 14.1521225 , 27.41816227, 31.42083142,\n",
       "       28.34065817, 42.47531355, 31.42083142, 21.9008221 , 49.83568643,\n",
       "       42.47531355, 31.42083142, 21.9008221 , 76.22846656, 18.17419566,\n",
       "       13.53612115, 31.42083142, 24.83186118, 31.42083142, 13.53612115,\n",
       "       40.49251436, 61.54925389, 28.86663643, 76.22846656, 14.1521225 ,\n",
       "       18.17419566, 14.1521225 , 53.48931265, 28.34065817, 31.42083142,\n",
       "       31.42083142, 14.1521225 , 14.1521225 , 18.17419566, 40.49251436,\n",
       "       31.42083142, 61.54925389, 53.48931265, 40.49251436,  8.03873858,\n",
       "       18.17419566, 28.34065817, 40.49251436, 31.42083142, 14.1521225 ,\n",
       "        8.03873858, 31.42083142, 49.83568643, 40.49251436, 53.48931265,\n",
       "       42.47531355, 14.1521225 , 40.49251436, 14.1521225 , 18.17419566,\n",
       "       40.49251436, 31.42083142, 13.53612115, 31.42083142, 42.47531355,\n",
       "       14.1521225 , 31.42083142, 27.41816227, 14.1521225 , 31.42083142,\n",
       "       42.47531355, 49.83568643, 14.1521225 , 46.48722982, 18.17419566,\n",
       "       14.1521225 , 14.1521225 , 31.42083142, 41.57424054, 27.41816227,\n",
       "       31.42083142, 53.48931265, 13.53612115,  8.03873858, 61.54925389,\n",
       "       24.83186118, 31.42083142, 28.34065817, 40.49251436, 40.49251436,\n",
       "       36.3497263 , 21.23489553, 40.49251436, 61.54925389, 40.49251436,\n",
       "       40.49251436, 61.54925389, 30.95392652, 18.17419566, 40.49251436,\n",
       "       31.42083142, 53.48931265, 28.86663643, 53.48931265, 76.22846656,\n",
       "       14.1521225 , 40.49251436, 76.22846656, 61.54925389, 28.86663643,\n",
       "       38.66473062, 21.23489553, 21.9008221 , 53.48931265, 61.54925389,\n",
       "       31.42083142, 41.57424054, 31.42083142, 40.49251436, 49.11296237,\n",
       "       53.48931265, 37.40789959, 28.34065817, 49.83568643, 13.53612115,\n",
       "       53.48931265, 31.95797868, 31.42083142, 40.49251436, 33.36678808,\n",
       "       46.48722982, 27.41816227, 14.1521225 , 42.47531355, 14.1521225 ,\n",
       "       33.36678808, 13.53612115, 40.49251436, 36.3497263 , 40.49251436,\n",
       "       18.17419566, 28.34065817, 53.48931265, 18.17419566, 49.11296237,\n",
       "       31.42083142, 61.54925389, 14.1521225 , 37.40789959, 18.17419566,\n",
       "       46.48722982, 21.9008221 , 28.34065817, 40.86524252, 30.95392652,\n",
       "       28.34065817, 18.17419566, 61.54925389, 18.17419566, 14.1521225 ,\n",
       "        8.03873858, 28.34065817, 40.49251436, 49.11296237, 31.42083142,\n",
       "       28.34065817, 53.48931265, 28.34065817, 31.42083142, 31.42083142,\n",
       "       28.34065817, 40.49251436, 40.49251436, 28.34065817, 40.49251436,\n",
       "       13.53612115, 40.49251436, 31.42083142, 61.54925389, 40.49251436,\n",
       "       40.49251436,  8.03873858, 31.42083142, 37.40789959, 31.42083142,\n",
       "       13.53612115, 28.34065817, 53.48931265, 53.48931265, 14.1521225 ,\n",
       "       27.41816227, 14.1521225 , 31.42083142, 42.47531355, 31.42083142,\n",
       "       14.1521225 ,  8.03873858, 40.49251436, 61.54925389, 37.95220642,\n",
       "       13.53612115, 61.54925389, 49.11296237, 61.54925389, 40.49251436,\n",
       "       40.49251436, 42.47531355, 61.54925389, 53.48931265, 42.47531355,\n",
       "       28.34065817, 40.49251436, 14.1521225 , 46.48722982, 42.47531355,\n",
       "       14.1521225 , 46.48722982, 14.1521225 , 37.40789959, 61.54925389,\n",
       "       38.66473062, 42.47531355, 61.54925389, 14.1521225 , 40.49251436,\n",
       "       37.95220642, 36.3497263 , 31.42083142, 31.42083142, 31.42083142,\n",
       "       42.47531355, 41.36856   , 61.54925389, 42.47531355, 46.48722982,\n",
       "       14.1521225 , 53.48931265, 31.42083142, 61.54925389, 14.1521225 ,\n",
       "       21.23489553, 21.9008221 , 37.95220642, 61.54925389, 40.49251436,\n",
       "        8.03873858, 49.11296237, 28.34065817, 40.49251436, 28.34065817,\n",
       "       40.49251436, 53.48931265, 18.17419566, 21.9008221 , 49.11296237,\n",
       "       49.83568643, 40.49251436, 42.47531355, 14.1521225 , 40.49251436,\n",
       "       31.42083142, 31.95797868, 31.42083142, 49.83568643, 40.49251436,\n",
       "       40.49251436, 30.95392652, 31.42083142, 31.42083142, 37.40789959,\n",
       "       42.47531355, 13.53612115, 21.9008221 , 61.54925389, 61.54925389,\n",
       "       40.49251436, 61.54925389, 61.54925389, 61.54925389, 40.49251436,\n",
       "       61.54925389, 14.1521225 ,  8.03873858, 37.95220642, 14.1521225 ,\n",
       "       21.9008221 , 14.1521225 , 28.34065817, 18.17419566, 31.42083142,\n",
       "       61.54925389, 24.83186118, 49.83568643, 31.42083142, 31.42083142,\n",
       "       31.42083142, 61.54925389, 30.95392652, 31.42083142, 13.53612115,\n",
       "       41.57424054, 40.49251436, 40.49251436, 40.49251436, 18.17419566,\n",
       "       53.48931265, 42.47531355, 14.1521225 , 42.47531355, 14.1521225 ,\n",
       "       14.1521225 , 42.47531355, 42.47531355, 31.42083142, 61.54925389,\n",
       "       28.34065817, 40.49251436, 46.48722982, 31.42083142, 61.54925389,\n",
       "       40.49251436, 53.48931265, 53.48931265, 14.1521225 , 62.24589328,\n",
       "       31.95797868, 42.47531355, 37.40789959, 28.34065817, 40.49251436,\n",
       "       31.42083142, 61.54925389, 31.42083142, 18.17419566, 28.34065817,\n",
       "       37.40789959, 14.1521225 , 28.34065817, 31.42083142, 14.1521225 ,\n",
       "       42.47531355, 40.49251436, 42.47531355, 42.47531355, 40.49251436,\n",
       "       31.42083142, 31.42083142, 21.23489553, 31.42083142, 53.48931265,\n",
       "       14.1521225 , 42.47531355, 42.47531355, 40.49251436, 38.66473062,\n",
       "       14.1521225 , 28.34065817, 31.42083142, 40.49251436, 31.42083142,\n",
       "       33.36678808, 13.53612115, 40.49251436, 31.42083142, 31.42083142,\n",
       "       61.54925389, 14.1521225 , 40.49251436, 31.42083142, 21.9008221 ,\n",
       "       31.95797868, 18.17419566, 61.54925389, 42.47531355,  8.03873858,\n",
       "       31.42083142, 13.53612115, 31.42083142, 40.86524252, 24.83186118,\n",
       "       28.34065817, 33.36678808, 14.1521225 , 14.1521225 , 76.22846656,\n",
       "       37.40789959, 15.11000444, 40.49251436, 61.54925389, 30.95392652,\n",
       "       40.49251436, 42.47531355, 41.57424054, 42.47531355, 40.49251436,\n",
       "       33.36678808, 28.34065817, 18.17419566, 40.49251436, 49.83568643,\n",
       "       31.95797868, 42.47531355, 42.47531355, 28.34065817, 28.34065817,\n",
       "       18.17419566, 61.54925389, 14.1521225 , 61.54925389, 15.11000444,\n",
       "       61.54925389, 18.17419566, 40.49251436, 53.48931265, 31.42083142,\n",
       "       42.47531355, 40.49251436, 42.47531355, 53.48931265, 40.49251436,\n",
       "       36.3497263 , 38.66473062, 40.49251436, 46.48722982, 42.47531355,\n",
       "       61.54925389, 18.17419566, 31.95797868, 38.66473062, 33.36678808,\n",
       "       42.47531355, 14.1521225 , 28.34065817, 31.42083142, 15.11000444,\n",
       "       31.42083142, 30.95392652, 49.11296237, 28.34065817, 31.42083142,\n",
       "       31.42083142, 49.83568643, 76.22846656, 61.54925389])"
      ]
     },
     "execution_count": 16,
     "metadata": {},
     "output_type": "execute_result"
    }
   ],
   "source": [
    "y_pred_train"
   ]
  },
  {
   "cell_type": "markdown",
   "id": "20275bcf",
   "metadata": {},
   "source": [
    "## 7.2. Test Set"
   ]
  },
  {
   "cell_type": "code",
   "execution_count": 17,
   "id": "50cd359b",
   "metadata": {},
   "outputs": [],
   "source": [
    "y_pred_test = reg.predict(X_test)"
   ]
  },
  {
   "cell_type": "code",
   "execution_count": 18,
   "id": "d2bb7adb",
   "metadata": {},
   "outputs": [
    {
     "data": {
      "text/plain": [
       "array([40.49251436, 61.54925389, 14.1521225 , 38.66473062, 28.34065817,\n",
       "       31.42083142, 41.57424054, 49.83568643, 14.1521225 , 37.40789959,\n",
       "       31.42083142, 13.53612115, 61.54925389, 42.47531355, 31.42083142,\n",
       "       49.11296237, 31.42083142, 53.48931265, 53.48931265, 46.48722982,\n",
       "       13.53612115, 61.54925389, 31.42083142, 41.57424054, 14.1521225 ,\n",
       "       41.57424054, 42.47531355, 14.1521225 , 40.49251436, 33.36678808,\n",
       "       31.42083142, 53.48931265, 31.42083142, 18.17419566, 31.42083142,\n",
       "       61.54925389, 21.9008221 , 42.47531355, 21.9008221 , 40.49251436,\n",
       "       61.54925389, 61.54925389, 14.1521225 , 42.47531355, 24.83186118,\n",
       "       40.49251436, 42.47531355, 28.34065817, 53.48931265, 40.49251436,\n",
       "       13.53612115, 33.36678808,  8.03873858, 37.40789959, 42.47531355,\n",
       "       31.42083142, 37.95220642, 14.1521225 , 28.34065817, 31.42083142,\n",
       "       42.47531355, 33.36678808, 36.3497263 , 53.48931265, 40.49251436,\n",
       "       49.83568643, 49.83568643, 42.47531355, 53.48931265, 40.49251436,\n",
       "       31.42083142, 53.48931265, 28.34065817, 49.83568643, 18.17419566,\n",
       "       61.54925389, 53.48931265, 31.42083142, 31.42083142, 53.48931265,\n",
       "       28.34065817, 14.1521225 , 61.54925389, 28.34065817, 49.83568643,\n",
       "       28.34065817, 40.49251436, 14.1521225 , 40.49251436, 42.47531355,\n",
       "       18.17419566, 40.49251436, 31.42083142, 14.1521225 , 31.42083142,\n",
       "       76.22846656, 14.1521225 , 40.49251436, 38.66473062, 21.9008221 ,\n",
       "       49.83568643, 14.1521225 , 42.47531355, 49.11296237, 37.40789959,\n",
       "       31.42083142, 33.36678808, 28.34065817, 42.47531355, 62.24589328,\n",
       "       30.95392652, 28.86663643, 42.47531355, 31.42083142, 30.95392652,\n",
       "       42.47531355, 21.9008221 , 40.49251436, 42.47531355, 31.42083142,\n",
       "       14.1521225 , 38.66473062, 14.1521225 , 46.48722982, 40.49251436,\n",
       "       40.49251436, 42.47531355, 28.34065817, 40.49251436, 49.83568643,\n",
       "       24.83186118, 21.9008221 ,  8.03873858, 18.17419566, 53.48931265,\n",
       "       28.34065817, 31.42083142, 37.95220642, 53.48931265, 42.47531355,\n",
       "       24.83186118, 42.47531355, 61.54925389, 21.9008221 , 42.47531355,\n",
       "       31.42083142, 53.48931265, 13.53612115, 31.42083142, 42.47531355,\n",
       "       31.42083142, 31.42083142, 42.47531355, 40.49251436, 31.95797868,\n",
       "       42.47531355, 31.95797868, 53.48931265, 40.49251436, 18.17419566,\n",
       "       40.49251436, 31.42083142, 61.54925389, 40.49251436, 31.42083142,\n",
       "       21.9008221 , 42.47531355, 40.49251436, 14.1521225 , 40.49251436,\n",
       "       31.42083142, 18.17419566, 41.57424054, 42.47531355, 40.49251436,\n",
       "       42.47531355, 53.48931265, 33.36678808, 62.31599001, 40.49251436,\n",
       "       21.9008221 , 33.36678808, 30.95392652, 14.1521225 , 33.36678808,\n",
       "       31.42083142, 49.83568643, 40.49251436, 31.42083142, 53.48931265,\n",
       "       40.49251436, 18.17419566, 42.47531355, 62.31599001, 40.49251436,\n",
       "       40.49251436, 41.57424054, 18.17419566, 28.34065817, 42.47531355,\n",
       "       14.1521225 , 76.22846656, 30.95392652, 33.36678808, 42.47531355,\n",
       "       28.34065817])"
      ]
     },
     "execution_count": 18,
     "metadata": {},
     "output_type": "execute_result"
    }
   ],
   "source": [
    "y_pred_test"
   ]
  },
  {
   "cell_type": "markdown",
   "id": "0ac9e2f7",
   "metadata": {},
   "source": [
    "# 8. Model Evaluation"
   ]
  },
  {
   "cell_type": "markdown",
   "id": "323267ce",
   "metadata": {},
   "source": [
    "## 8.1. Training Set"
   ]
  },
  {
   "cell_type": "markdown",
   "id": "f2a400c0",
   "metadata": {},
   "source": [
    "### 8.1.1. Scoring"
   ]
  },
  {
   "cell_type": "code",
   "execution_count": 19,
   "id": "77e55cfb",
   "metadata": {},
   "outputs": [
    {
     "name": "stdout",
     "output_type": "stream",
     "text": [
      "r2_score =\t\t\t 0.8152175575959879\n",
      "mean_squared_error =\t\t 50.35574287401726\n",
      "mean_absolute_error =\t\t 5.487625092672867\n",
      "mean_absolute_percentage_error = 0.1932668661651823\n"
     ]
    }
   ],
   "source": [
    "print('r2_score =\\t\\t\\t', r2_score(y_train, y_pred_train))\n",
    "print('mean_squared_error =\\t\\t', mean_squared_error(y_train, y_pred_train))\n",
    "print('mean_absolute_error =\\t\\t', mean_absolute_error(y_train, y_pred_train))\n",
    "print('mean_absolute_percentage_error =', mean_absolute_percentage_error(y_train, y_pred_train))"
   ]
  },
  {
   "cell_type": "markdown",
   "id": "b1c2a693",
   "metadata": {},
   "source": [
    "### 8.1.2. Scatter Plot between Predicted & Actual Values"
   ]
  },
  {
   "cell_type": "code",
   "execution_count": 20,
   "id": "bb81c4d9",
   "metadata": {},
   "outputs": [
    {
     "data": {
      "text/plain": [
       "Text(0, 0.5, 'Actual')"
      ]
     },
     "execution_count": 20,
     "metadata": {},
     "output_type": "execute_result"
    },
    {
     "data": {
      "image/png": "[encoded data removed]",
      "text/plain": [
       "<Figure size 432x288 with 1 Axes>"
      ]
     },
     "metadata": {
      "needs_background": "light"
     },
     "output_type": "display_data"
    }
   ],
   "source": [
    "plt.scatter(y_pred_train, y_train)\n",
    "\n",
    "plt.plot(y_pred_train, y_pred_train, color='red')\n",
    "\n",
    "plt.title('Scatter Plot between Predicted & Actual Values')\n",
    "plt.xlabel('Predicted')\n",
    "plt.ylabel('Actual')"
   ]
  },
  {
   "cell_type": "markdown",
   "id": "85d799bd",
   "metadata": {},
   "source": [
    "## 8.2. Test Set"
   ]
  },
  {
   "cell_type": "markdown",
   "id": "f519ade0",
   "metadata": {},
   "source": [
    "### 8.2.1. Scoring"
   ]
  },
  {
   "cell_type": "code",
   "execution_count": 21,
   "id": "75265c82",
   "metadata": {},
   "outputs": [
    {
     "name": "stdout",
     "output_type": "stream",
     "text": [
      "r2_score =\t\t\t 0.7049366649726467\n",
      "mean_squared_error =\t\t 89.19256752269014\n",
      "mean_absolute_error =\t\t 7.226491942840475\n",
      "mean_absolute_percentage_error = 0.23522926120769685\n"
     ]
    }
   ],
   "source": [
    "print('r2_score =\\t\\t\\t', r2_score(y_test, y_pred_test))\n",
    "print('mean_squared_error =\\t\\t', mean_squared_error(y_test, y_pred_test))\n",
    "print('mean_absolute_error =\\t\\t', mean_absolute_error(y_test, y_pred_test))\n",
    "print('mean_absolute_percentage_error =', mean_absolute_percentage_error(y_test, y_pred_test))"
   ]
  },
  {
   "cell_type": "markdown",
   "id": "9d43b931",
   "metadata": {},
   "source": [
    "### 8.2.2 Scatter Plot between Predicted & Actual Values"
   ]
  },
  {
   "cell_type": "code",
   "execution_count": 22,
   "id": "91bb4023",
   "metadata": {
    "scrolled": true
   },
   "outputs": [
    {
     "data": {
      "text/plain": [
       "Text(0, 0.5, 'Actual')"
      ]
     },
     "execution_count": 22,
     "metadata": {},
     "output_type": "execute_result"
    },
    {
     "data": {
      "image/png": "[encoded data removed]",
      "text/plain": [
       "<Figure size 432x288 with 1 Axes>"
      ]
     },
     "metadata": {
      "needs_background": "light"
     },
     "output_type": "display_data"
    }
   ],
   "source": [
    "plt.scatter(y_pred_test, y_test)\n",
    "\n",
    "plt.plot(y_pred_test, y_pred_test, color='red')\n",
    "\n",
    "plt.title('Scatter Plot between Predicted & Actual Values')\n",
    "plt.xlabel('Predicted')\n",
    "plt.ylabel('Actual')"
   ]
  },
  {
   "cell_type": "markdown",
   "id": "e38a8e37",
   "metadata": {},
   "source": [
    "# 9. Save Model"
   ]
  },
  {
   "cell_type": "code",
   "execution_count": 23,
   "id": "50763e5c",
   "metadata": {},
   "outputs": [],
   "source": [
    "import pickle"
   ]
  },
  {
   "cell_type": "code",
   "execution_count": 24,
   "id": "928506b7",
   "metadata": {},
   "outputs": [],
   "source": [
    "pickle.dump((reg, \n",
    "             feature_name),  open('regression_tree_model.pickle', 'wb'))"
   ]
  },
  {
   "cell_type": "code",
   "execution_count": null,
   "id": "a088c2b0",
   "metadata": {},
   "outputs": [],
   "source": []
  }
 ],
 "metadata": {
  "kernelspec": {
   "display_name": "Python 3",
   "language": "python",
   "name": "python3"
  },
  "language_info": {
   "codemirror_mode": {
    "name": "ipython",
    "version": 3
   },
   "file_extension": ".py",
   "mimetype": "text/x-python",
   "name": "python",
   "nbconvert_exporter": "python",
   "pygments_lexer": "ipython3",
   "version": "3.8.8"
  }
 },
 "nbformat": 4,
 "nbformat_minor": 5
}
