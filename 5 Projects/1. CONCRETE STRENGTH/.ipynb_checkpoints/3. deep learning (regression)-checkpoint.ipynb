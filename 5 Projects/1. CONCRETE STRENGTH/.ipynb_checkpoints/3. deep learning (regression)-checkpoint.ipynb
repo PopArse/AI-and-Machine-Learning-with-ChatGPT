{
 "cells": [
  {
   "cell_type": "markdown",
   "id": "57654bb6",
   "metadata": {},
   "source": [
    "# 1. Import Libraries"
   ]
  },
  {
   "cell_type": "code",
   "execution_count": 1,
   "id": "2f51eef5",
   "metadata": {},
   "outputs": [],
   "source": [
    "import numpy as np\n",
    "import pandas as pd\n",
    "import matplotlib.pyplot as plt\n",
    "\n",
    "from sklearn.model_selection import train_test_split\n",
    "from sklearn.preprocessing import OrdinalEncoder, OneHotEncoder\n",
    "from sklearn.preprocessing import (\n",
    "    OrdinalEncoder, \n",
    "    OneHotEncoder, \n",
    "    StandardScaler, \n",
    "    MinMaxScaler\n",
    ")\n",
    "from sklearn.neural_network import MLPRegressor\n",
    "from sklearn.metrics import (\n",
    "    r2_score, \n",
    "    mean_squared_error, \n",
    "    mean_absolute_error, \n",
    "    mean_absolute_percentage_error\n",
    ")\n",
    "\n",
    "import warnings\n",
    "warnings.filterwarnings('ignore')\n",
    "\n",
    "np.random.seed(12345)"
   ]
  },
  {
   "cell_type": "markdown",
   "id": "6707b8de",
   "metadata": {},
   "source": [
    "# 2. Read Data"
   ]
  },
  {
   "cell_type": "code",
   "execution_count": 2,
   "id": "89c2e441",
   "metadata": {
    "scrolled": true
   },
   "outputs": [
    {
     "data": {
      "text/html": [
       "<div>\n",
       "<style scoped>\n",
       "    .dataframe tbody tr th:only-of-type {\n",
       "        vertical-align: middle;\n",
       "    }\n",
       "\n",
       "    .dataframe tbody tr th {\n",
       "        vertical-align: top;\n",
       "    }\n",
       "\n",
       "    .dataframe thead th {\n",
       "        text-align: right;\n",
       "    }\n",
       "</style>\n",
       "<table border=\"1\" class=\"dataframe\">\n",
       "  <thead>\n",
       "    <tr style=\"text-align: right;\">\n",
       "      <th></th>\n",
       "      <th>Cement (component 1)(kg in a m^3 mixture)</th>\n",
       "      <th>Blast Furnace Slag (component 2)(kg in a m^3 mixture)</th>\n",
       "      <th>Fly Ash (component 3)(kg in a m^3 mixture)</th>\n",
       "      <th>Water  (component 4)(kg in a m^3 mixture)</th>\n",
       "      <th>Superplasticizer (component 5)(kg in a m^3 mixture)</th>\n",
       "      <th>Coarse Aggregate  (component 6)(kg in a m^3 mixture)</th>\n",
       "      <th>Fine Aggregate (component 7)(kg in a m^3 mixture)</th>\n",
       "      <th>Age (day)</th>\n",
       "      <th>Concrete compressive strength(MPa, megapascals)</th>\n",
       "    </tr>\n",
       "  </thead>\n",
       "  <tbody>\n",
       "    <tr>\n",
       "      <th>0</th>\n",
       "      <td>540.0</td>\n",
       "      <td>0.0</td>\n",
       "      <td>0.0</td>\n",
       "      <td>162.0</td>\n",
       "      <td>2.5</td>\n",
       "      <td>1040.0</td>\n",
       "      <td>676.0</td>\n",
       "      <td>28</td>\n",
       "      <td>79.986111</td>\n",
       "    </tr>\n",
       "    <tr>\n",
       "      <th>1</th>\n",
       "      <td>540.0</td>\n",
       "      <td>0.0</td>\n",
       "      <td>0.0</td>\n",
       "      <td>162.0</td>\n",
       "      <td>2.5</td>\n",
       "      <td>1055.0</td>\n",
       "      <td>676.0</td>\n",
       "      <td>28</td>\n",
       "      <td>61.887366</td>\n",
       "    </tr>\n",
       "    <tr>\n",
       "      <th>2</th>\n",
       "      <td>332.5</td>\n",
       "      <td>142.5</td>\n",
       "      <td>0.0</td>\n",
       "      <td>228.0</td>\n",
       "      <td>0.0</td>\n",
       "      <td>932.0</td>\n",
       "      <td>594.0</td>\n",
       "      <td>270</td>\n",
       "      <td>40.269535</td>\n",
       "    </tr>\n",
       "    <tr>\n",
       "      <th>3</th>\n",
       "      <td>332.5</td>\n",
       "      <td>142.5</td>\n",
       "      <td>0.0</td>\n",
       "      <td>228.0</td>\n",
       "      <td>0.0</td>\n",
       "      <td>932.0</td>\n",
       "      <td>594.0</td>\n",
       "      <td>365</td>\n",
       "      <td>41.052780</td>\n",
       "    </tr>\n",
       "    <tr>\n",
       "      <th>4</th>\n",
       "      <td>198.6</td>\n",
       "      <td>132.4</td>\n",
       "      <td>0.0</td>\n",
       "      <td>192.0</td>\n",
       "      <td>0.0</td>\n",
       "      <td>978.4</td>\n",
       "      <td>825.5</td>\n",
       "      <td>360</td>\n",
       "      <td>44.296075</td>\n",
       "    </tr>\n",
       "    <tr>\n",
       "      <th>...</th>\n",
       "      <td>...</td>\n",
       "      <td>...</td>\n",
       "      <td>...</td>\n",
       "      <td>...</td>\n",
       "      <td>...</td>\n",
       "      <td>...</td>\n",
       "      <td>...</td>\n",
       "      <td>...</td>\n",
       "      <td>...</td>\n",
       "    </tr>\n",
       "    <tr>\n",
       "      <th>1025</th>\n",
       "      <td>276.4</td>\n",
       "      <td>116.0</td>\n",
       "      <td>90.3</td>\n",
       "      <td>179.6</td>\n",
       "      <td>8.9</td>\n",
       "      <td>870.1</td>\n",
       "      <td>768.3</td>\n",
       "      <td>28</td>\n",
       "      <td>44.284354</td>\n",
       "    </tr>\n",
       "    <tr>\n",
       "      <th>1026</th>\n",
       "      <td>322.2</td>\n",
       "      <td>0.0</td>\n",
       "      <td>115.6</td>\n",
       "      <td>196.0</td>\n",
       "      <td>10.4</td>\n",
       "      <td>817.9</td>\n",
       "      <td>813.4</td>\n",
       "      <td>28</td>\n",
       "      <td>31.178794</td>\n",
       "    </tr>\n",
       "    <tr>\n",
       "      <th>1027</th>\n",
       "      <td>148.5</td>\n",
       "      <td>139.4</td>\n",
       "      <td>108.6</td>\n",
       "      <td>192.7</td>\n",
       "      <td>6.1</td>\n",
       "      <td>892.4</td>\n",
       "      <td>780.0</td>\n",
       "      <td>28</td>\n",
       "      <td>23.696601</td>\n",
       "    </tr>\n",
       "    <tr>\n",
       "      <th>1028</th>\n",
       "      <td>159.1</td>\n",
       "      <td>186.7</td>\n",
       "      <td>0.0</td>\n",
       "      <td>175.6</td>\n",
       "      <td>11.3</td>\n",
       "      <td>989.6</td>\n",
       "      <td>788.9</td>\n",
       "      <td>28</td>\n",
       "      <td>32.768036</td>\n",
       "    </tr>\n",
       "    <tr>\n",
       "      <th>1029</th>\n",
       "      <td>260.9</td>\n",
       "      <td>100.5</td>\n",
       "      <td>78.3</td>\n",
       "      <td>200.6</td>\n",
       "      <td>8.6</td>\n",
       "      <td>864.5</td>\n",
       "      <td>761.5</td>\n",
       "      <td>28</td>\n",
       "      <td>32.401235</td>\n",
       "    </tr>\n",
       "  </tbody>\n",
       "</table>\n",
       "<p>1030 rows × 9 columns</p>\n",
       "</div>"
      ],
      "text/plain": [
       "      Cement (component 1)(kg in a m^3 mixture)  \\\n",
       "0                                         540.0   \n",
       "1                                         540.0   \n",
       "2                                         332.5   \n",
       "3                                         332.5   \n",
       "4                                         198.6   \n",
       "...                                         ...   \n",
       "1025                                      276.4   \n",
       "1026                                      322.2   \n",
       "1027                                      148.5   \n",
       "1028                                      159.1   \n",
       "1029                                      260.9   \n",
       "\n",
       "      Blast Furnace Slag (component 2)(kg in a m^3 mixture)  \\\n",
       "0                                                   0.0       \n",
       "1                                                   0.0       \n",
       "2                                                 142.5       \n",
       "3                                                 142.5       \n",
       "4                                                 132.4       \n",
       "...                                                 ...       \n",
       "1025                                              116.0       \n",
       "1026                                                0.0       \n",
       "1027                                              139.4       \n",
       "1028                                              186.7       \n",
       "1029                                              100.5       \n",
       "\n",
       "      Fly Ash (component 3)(kg in a m^3 mixture)  \\\n",
       "0                                            0.0   \n",
       "1                                            0.0   \n",
       "2                                            0.0   \n",
       "3                                            0.0   \n",
       "4                                            0.0   \n",
       "...                                          ...   \n",
       "1025                                        90.3   \n",
       "1026                                       115.6   \n",
       "1027                                       108.6   \n",
       "1028                                         0.0   \n",
       "1029                                        78.3   \n",
       "\n",
       "      Water  (component 4)(kg in a m^3 mixture)  \\\n",
       "0                                         162.0   \n",
       "1                                         162.0   \n",
       "2                                         228.0   \n",
       "3                                         228.0   \n",
       "4                                         192.0   \n",
       "...                                         ...   \n",
       "1025                                      179.6   \n",
       "1026                                      196.0   \n",
       "1027                                      192.7   \n",
       "1028                                      175.6   \n",
       "1029                                      200.6   \n",
       "\n",
       "      Superplasticizer (component 5)(kg in a m^3 mixture)  \\\n",
       "0                                                   2.5     \n",
       "1                                                   2.5     \n",
       "2                                                   0.0     \n",
       "3                                                   0.0     \n",
       "4                                                   0.0     \n",
       "...                                                 ...     \n",
       "1025                                                8.9     \n",
       "1026                                               10.4     \n",
       "1027                                                6.1     \n",
       "1028                                               11.3     \n",
       "1029                                                8.6     \n",
       "\n",
       "      Coarse Aggregate  (component 6)(kg in a m^3 mixture)  \\\n",
       "0                                                1040.0      \n",
       "1                                                1055.0      \n",
       "2                                                 932.0      \n",
       "3                                                 932.0      \n",
       "4                                                 978.4      \n",
       "...                                                 ...      \n",
       "1025                                              870.1      \n",
       "1026                                              817.9      \n",
       "1027                                              892.4      \n",
       "1028                                              989.6      \n",
       "1029                                              864.5      \n",
       "\n",
       "      Fine Aggregate (component 7)(kg in a m^3 mixture)  Age (day)  \\\n",
       "0                                                 676.0         28   \n",
       "1                                                 676.0         28   \n",
       "2                                                 594.0        270   \n",
       "3                                                 594.0        365   \n",
       "4                                                 825.5        360   \n",
       "...                                                 ...        ...   \n",
       "1025                                              768.3         28   \n",
       "1026                                              813.4         28   \n",
       "1027                                              780.0         28   \n",
       "1028                                              788.9         28   \n",
       "1029                                              761.5         28   \n",
       "\n",
       "      Concrete compressive strength(MPa, megapascals)  \n",
       "0                                           79.986111  \n",
       "1                                           61.887366  \n",
       "2                                           40.269535  \n",
       "3                                           41.052780  \n",
       "4                                           44.296075  \n",
       "...                                               ...  \n",
       "1025                                        44.284354  \n",
       "1026                                        31.178794  \n",
       "1027                                        23.696601  \n",
       "1028                                        32.768036  \n",
       "1029                                        32.401235  \n",
       "\n",
       "[1030 rows x 9 columns]"
      ]
     },
     "execution_count": 2,
     "metadata": {},
     "output_type": "execute_result"
    }
   ],
   "source": [
    "data = pd.read_excel('concrete_dataset.xlsx')\n",
    "\n",
    "data"
   ]
  },
  {
   "cell_type": "markdown",
   "id": "aa424a64",
   "metadata": {},
   "source": [
    "# 3. Clean Data"
   ]
  },
  {
   "cell_type": "markdown",
   "id": "bc4f7a96",
   "metadata": {},
   "source": [
    "## 3.1. Handle Missing Values"
   ]
  },
  {
   "cell_type": "markdown",
   "id": "2b59944e",
   "metadata": {},
   "source": [
    "### 3.1.1. Check Missing Values"
   ]
  },
  {
   "cell_type": "code",
   "execution_count": 3,
   "id": "8a02b878",
   "metadata": {},
   "outputs": [
    {
     "name": "stdout",
     "output_type": "stream",
     "text": [
      "<class 'pandas.core.frame.DataFrame'>\n",
      "RangeIndex: 1030 entries, 0 to 1029\n",
      "Data columns (total 9 columns):\n",
      " #   Column                                                 Non-Null Count  Dtype  \n",
      "---  ------                                                 --------------  -----  \n",
      " 0   Cement (component 1)(kg in a m^3 mixture)              1030 non-null   float64\n",
      " 1   Blast Furnace Slag (component 2)(kg in a m^3 mixture)  1030 non-null   float64\n",
      " 2   Fly Ash (component 3)(kg in a m^3 mixture)             1030 non-null   float64\n",
      " 3   Water  (component 4)(kg in a m^3 mixture)              1030 non-null   float64\n",
      " 4   Superplasticizer (component 5)(kg in a m^3 mixture)    1030 non-null   float64\n",
      " 5   Coarse Aggregate  (component 6)(kg in a m^3 mixture)   1030 non-null   float64\n",
      " 6   Fine Aggregate (component 7)(kg in a m^3 mixture)      1030 non-null   float64\n",
      " 7   Age (day)                                              1030 non-null   int64  \n",
      " 8   Concrete compressive strength(MPa, megapascals)        1030 non-null   float64\n",
      "dtypes: float64(8), int64(1)\n",
      "memory usage: 72.5 KB\n"
     ]
    }
   ],
   "source": [
    "data.info()"
   ]
  },
  {
   "cell_type": "markdown",
   "id": "44279ff4",
   "metadata": {},
   "source": [
    "### 3.1.2. Remove Missing Values (Listwise Deletion)"
   ]
  },
  {
   "cell_type": "code",
   "execution_count": 4,
   "id": "7a3da168",
   "metadata": {},
   "outputs": [],
   "source": [
    "data.dropna(axis=0, inplace=True)"
   ]
  },
  {
   "cell_type": "markdown",
   "id": "5fed6619",
   "metadata": {},
   "source": [
    "## 3.2. Handle Outliers"
   ]
  },
  {
   "cell_type": "markdown",
   "id": "89eb99fe",
   "metadata": {},
   "source": [
    "### 3.2.1. Check Outliers"
   ]
  },
  {
   "cell_type": "code",
   "execution_count": 5,
   "id": "8400e390",
   "metadata": {},
   "outputs": [
    {
     "data": {
      "text/html": [
       "<div>\n",
       "<style scoped>\n",
       "    .dataframe tbody tr th:only-of-type {\n",
       "        vertical-align: middle;\n",
       "    }\n",
       "\n",
       "    .dataframe tbody tr th {\n",
       "        vertical-align: top;\n",
       "    }\n",
       "\n",
       "    .dataframe thead th {\n",
       "        text-align: right;\n",
       "    }\n",
       "</style>\n",
       "<table border=\"1\" class=\"dataframe\">\n",
       "  <thead>\n",
       "    <tr style=\"text-align: right;\">\n",
       "      <th></th>\n",
       "      <th>Cement (component 1)(kg in a m^3 mixture)</th>\n",
       "      <th>Blast Furnace Slag (component 2)(kg in a m^3 mixture)</th>\n",
       "      <th>Fly Ash (component 3)(kg in a m^3 mixture)</th>\n",
       "      <th>Water  (component 4)(kg in a m^3 mixture)</th>\n",
       "      <th>Superplasticizer (component 5)(kg in a m^3 mixture)</th>\n",
       "      <th>Coarse Aggregate  (component 6)(kg in a m^3 mixture)</th>\n",
       "      <th>Fine Aggregate (component 7)(kg in a m^3 mixture)</th>\n",
       "      <th>Age (day)</th>\n",
       "      <th>Concrete compressive strength(MPa, megapascals)</th>\n",
       "    </tr>\n",
       "  </thead>\n",
       "  <tbody>\n",
       "    <tr>\n",
       "      <th>count</th>\n",
       "      <td>1030.000000</td>\n",
       "      <td>1030.000000</td>\n",
       "      <td>1030.000000</td>\n",
       "      <td>1030.000000</td>\n",
       "      <td>1030.000000</td>\n",
       "      <td>1030.000000</td>\n",
       "      <td>1030.000000</td>\n",
       "      <td>1030.000000</td>\n",
       "      <td>1030.000000</td>\n",
       "    </tr>\n",
       "    <tr>\n",
       "      <th>mean</th>\n",
       "      <td>281.165631</td>\n",
       "      <td>73.895485</td>\n",
       "      <td>54.187136</td>\n",
       "      <td>181.566359</td>\n",
       "      <td>6.203112</td>\n",
       "      <td>972.918592</td>\n",
       "      <td>773.578883</td>\n",
       "      <td>45.662136</td>\n",
       "      <td>35.817836</td>\n",
       "    </tr>\n",
       "    <tr>\n",
       "      <th>std</th>\n",
       "      <td>104.507142</td>\n",
       "      <td>86.279104</td>\n",
       "      <td>63.996469</td>\n",
       "      <td>21.355567</td>\n",
       "      <td>5.973492</td>\n",
       "      <td>77.753818</td>\n",
       "      <td>80.175427</td>\n",
       "      <td>63.169912</td>\n",
       "      <td>16.705679</td>\n",
       "    </tr>\n",
       "    <tr>\n",
       "      <th>min</th>\n",
       "      <td>102.000000</td>\n",
       "      <td>0.000000</td>\n",
       "      <td>0.000000</td>\n",
       "      <td>121.750000</td>\n",
       "      <td>0.000000</td>\n",
       "      <td>801.000000</td>\n",
       "      <td>594.000000</td>\n",
       "      <td>1.000000</td>\n",
       "      <td>2.331808</td>\n",
       "    </tr>\n",
       "    <tr>\n",
       "      <th>25%</th>\n",
       "      <td>192.375000</td>\n",
       "      <td>0.000000</td>\n",
       "      <td>0.000000</td>\n",
       "      <td>164.900000</td>\n",
       "      <td>0.000000</td>\n",
       "      <td>932.000000</td>\n",
       "      <td>730.950000</td>\n",
       "      <td>7.000000</td>\n",
       "      <td>23.707115</td>\n",
       "    </tr>\n",
       "    <tr>\n",
       "      <th>50%</th>\n",
       "      <td>272.900000</td>\n",
       "      <td>22.000000</td>\n",
       "      <td>0.000000</td>\n",
       "      <td>185.000000</td>\n",
       "      <td>6.350000</td>\n",
       "      <td>968.000000</td>\n",
       "      <td>779.510000</td>\n",
       "      <td>28.000000</td>\n",
       "      <td>34.442774</td>\n",
       "    </tr>\n",
       "    <tr>\n",
       "      <th>75%</th>\n",
       "      <td>350.000000</td>\n",
       "      <td>142.950000</td>\n",
       "      <td>118.270000</td>\n",
       "      <td>192.000000</td>\n",
       "      <td>10.160000</td>\n",
       "      <td>1029.400000</td>\n",
       "      <td>824.000000</td>\n",
       "      <td>56.000000</td>\n",
       "      <td>46.136287</td>\n",
       "    </tr>\n",
       "    <tr>\n",
       "      <th>max</th>\n",
       "      <td>540.000000</td>\n",
       "      <td>359.400000</td>\n",
       "      <td>200.100000</td>\n",
       "      <td>247.000000</td>\n",
       "      <td>32.200000</td>\n",
       "      <td>1145.000000</td>\n",
       "      <td>992.600000</td>\n",
       "      <td>365.000000</td>\n",
       "      <td>82.599225</td>\n",
       "    </tr>\n",
       "  </tbody>\n",
       "</table>\n",
       "</div>"
      ],
      "text/plain": [
       "       Cement (component 1)(kg in a m^3 mixture)  \\\n",
       "count                                1030.000000   \n",
       "mean                                  281.165631   \n",
       "std                                   104.507142   \n",
       "min                                   102.000000   \n",
       "25%                                   192.375000   \n",
       "50%                                   272.900000   \n",
       "75%                                   350.000000   \n",
       "max                                   540.000000   \n",
       "\n",
       "       Blast Furnace Slag (component 2)(kg in a m^3 mixture)  \\\n",
       "count                                        1030.000000       \n",
       "mean                                           73.895485       \n",
       "std                                            86.279104       \n",
       "min                                             0.000000       \n",
       "25%                                             0.000000       \n",
       "50%                                            22.000000       \n",
       "75%                                           142.950000       \n",
       "max                                           359.400000       \n",
       "\n",
       "       Fly Ash (component 3)(kg in a m^3 mixture)  \\\n",
       "count                                 1030.000000   \n",
       "mean                                    54.187136   \n",
       "std                                     63.996469   \n",
       "min                                      0.000000   \n",
       "25%                                      0.000000   \n",
       "50%                                      0.000000   \n",
       "75%                                    118.270000   \n",
       "max                                    200.100000   \n",
       "\n",
       "       Water  (component 4)(kg in a m^3 mixture)  \\\n",
       "count                                1030.000000   \n",
       "mean                                  181.566359   \n",
       "std                                    21.355567   \n",
       "min                                   121.750000   \n",
       "25%                                   164.900000   \n",
       "50%                                   185.000000   \n",
       "75%                                   192.000000   \n",
       "max                                   247.000000   \n",
       "\n",
       "       Superplasticizer (component 5)(kg in a m^3 mixture)  \\\n",
       "count                                        1030.000000     \n",
       "mean                                            6.203112     \n",
       "std                                             5.973492     \n",
       "min                                             0.000000     \n",
       "25%                                             0.000000     \n",
       "50%                                             6.350000     \n",
       "75%                                            10.160000     \n",
       "max                                            32.200000     \n",
       "\n",
       "       Coarse Aggregate  (component 6)(kg in a m^3 mixture)  \\\n",
       "count                                        1030.000000      \n",
       "mean                                          972.918592      \n",
       "std                                            77.753818      \n",
       "min                                           801.000000      \n",
       "25%                                           932.000000      \n",
       "50%                                           968.000000      \n",
       "75%                                          1029.400000      \n",
       "max                                          1145.000000      \n",
       "\n",
       "       Fine Aggregate (component 7)(kg in a m^3 mixture)    Age (day)  \\\n",
       "count                                        1030.000000  1030.000000   \n",
       "mean                                          773.578883    45.662136   \n",
       "std                                            80.175427    63.169912   \n",
       "min                                           594.000000     1.000000   \n",
       "25%                                           730.950000     7.000000   \n",
       "50%                                           779.510000    28.000000   \n",
       "75%                                           824.000000    56.000000   \n",
       "max                                           992.600000   365.000000   \n",
       "\n",
       "       Concrete compressive strength(MPa, megapascals)  \n",
       "count                                      1030.000000  \n",
       "mean                                         35.817836  \n",
       "std                                          16.705679  \n",
       "min                                           2.331808  \n",
       "25%                                          23.707115  \n",
       "50%                                          34.442774  \n",
       "75%                                          46.136287  \n",
       "max                                          82.599225  "
      ]
     },
     "execution_count": 5,
     "metadata": {},
     "output_type": "execute_result"
    }
   ],
   "source": [
    "data.describe()"
   ]
  },
  {
   "cell_type": "markdown",
   "id": "62561b7e",
   "metadata": {},
   "source": [
    "### 3.2.2. Remove Outliers"
   ]
  },
  {
   "cell_type": "code",
   "execution_count": 6,
   "id": "f3524d5d",
   "metadata": {},
   "outputs": [],
   "source": [
    "# no outlier to remove"
   ]
  },
  {
   "cell_type": "markdown",
   "id": "50cdff68",
   "metadata": {},
   "source": [
    "# 4. Split Dataset into Training & Test Sets"
   ]
  },
  {
   "cell_type": "code",
   "execution_count": 7,
   "id": "d3ef93cc",
   "metadata": {},
   "outputs": [],
   "source": [
    "target_name = 'Concrete compressive strength(MPa, megapascals)'\n",
    "feature_name = list(data.columns.drop(target_name))"
   ]
  },
  {
   "cell_type": "code",
   "execution_count": 8,
   "id": "610f9450",
   "metadata": {},
   "outputs": [],
   "source": [
    "X = data[feature_name]\n",
    "y = data[target_name]"
   ]
  },
  {
   "cell_type": "code",
   "execution_count": 10,
   "id": "13cae49d",
   "metadata": {},
   "outputs": [],
   "source": [
    "X_train, X_test, y_train, y_test = train_test_split(X, y, test_size=0.20, shuffle=True)"
   ]
  },
  {
   "cell_type": "markdown",
   "id": "ed13b65f",
   "metadata": {},
   "source": [
    "# 5. Data Preparation"
   ]
  },
  {
   "cell_type": "markdown",
   "id": "7e7af4f1",
   "metadata": {},
   "source": [
    "## ### 5.1. Ordinal Encoding"
   ]
  },
  {
   "cell_type": "markdown",
   "id": "a25e32e6",
   "metadata": {},
   "source": [
    "## ### 5.2. One Hot Encoding"
   ]
  },
  {
   "cell_type": "markdown",
   "id": "6aeaeb0a",
   "metadata": {},
   "source": [
    "## 5.3. Feature Scaling"
   ]
  },
  {
   "cell_type": "markdown",
   "id": "6bd90e8d",
   "metadata": {},
   "source": [
    "### 5.3.1. Training Set"
   ]
  },
  {
   "cell_type": "code",
   "execution_count": 11,
   "id": "bd4efdd2",
   "metadata": {},
   "outputs": [],
   "source": [
    "scaler = MinMaxScaler()\n",
    "X_train_scaled = scaler.fit_transform(X_train)"
   ]
  },
  {
   "cell_type": "markdown",
   "id": "f370ec47",
   "metadata": {},
   "source": [
    "### 5.3.2. Test Set"
   ]
  },
  {
   "cell_type": "code",
   "execution_count": 12,
   "id": "72df8ec8",
   "metadata": {},
   "outputs": [],
   "source": [
    "X_test_scaled = scaler.transform(X_test)"
   ]
  },
  {
   "cell_type": "markdown",
   "id": "f77fb5ee",
   "metadata": {},
   "source": [
    "# 6. Model Creation"
   ]
  },
  {
   "cell_type": "markdown",
   "id": "e81df55a",
   "metadata": {},
   "source": [
    "## 6.1. Setting Parameters"
   ]
  },
  {
   "cell_type": "code",
   "execution_count": 13,
   "id": "fd1486a3",
   "metadata": {},
   "outputs": [],
   "source": [
    "reg = MLPRegressor(\n",
    "    hidden_layer_sizes=(20, 20),\n",
    "    activation='relu',\n",
    "    learning_rate_init=0.01,\n",
    "    max_iter=1000,\n",
    "    alpha=0,\n",
    "    solver='sgd',\n",
    "    momentum=0\n",
    ")"
   ]
  },
  {
   "cell_type": "markdown",
   "id": "4cb08aa4",
   "metadata": {},
   "source": [
    "## 6.2. Train Model"
   ]
  },
  {
   "cell_type": "code",
   "execution_count": 14,
   "id": "8aa8df52",
   "metadata": {},
   "outputs": [
    {
     "data": {
      "text/plain": [
       "MLPRegressor(alpha=0, hidden_layer_sizes=(20, 20), learning_rate_init=0.01,\n",
       "             max_iter=1000, momentum=0, solver='sgd')"
      ]
     },
     "execution_count": 14,
     "metadata": {},
     "output_type": "execute_result"
    }
   ],
   "source": [
    "reg.fit(X_train_scaled, y_train)"
   ]
  },
  {
   "cell_type": "markdown",
   "id": "7f33bb7b",
   "metadata": {},
   "source": [
    "## 6.3. Model's Weight & Bias"
   ]
  },
  {
   "cell_type": "code",
   "execution_count": 15,
   "id": "ff6657d5",
   "metadata": {},
   "outputs": [
    {
     "data": {
      "text/plain": [
       "[array([[-9.88020129e-01,  1.67937004e-01,  4.86069755e-01,\n",
       "         -1.36241093e-01,  5.33722424e-01, -8.47458390e-01,\n",
       "          1.21554425e+00,  1.91447536e-01,  1.08466737e+00,\n",
       "         -3.00571380e-01, -4.92088717e-01,  2.26518703e-01,\n",
       "          4.72918247e-01, -2.73099357e-01,  2.90376515e-01,\n",
       "         -2.86041189e+00,  1.53381416e+00,  2.37187619e-01,\n",
       "          2.21312051e+00,  2.39854243e+00],\n",
       "        [-6.89314770e-01, -1.92363181e-01, -2.14755706e-01,\n",
       "         -4.50199361e-01,  3.78197978e-01, -1.00469660e+00,\n",
       "          5.62885692e-01,  2.49732874e-01,  8.80467230e-01,\n",
       "         -1.92148477e-01, -4.30483958e-01,  3.29114089e-01,\n",
       "          1.65026039e-01,  1.14263898e+00, -3.73228087e-01,\n",
       "         -1.28124474e+00,  3.45758460e-01,  5.15366247e-01,\n",
       "          1.49824397e+00,  1.29792849e+00],\n",
       "        [ 9.64161519e-01, -7.31447518e-02, -5.64445107e-01,\n",
       "         -2.61889055e-01, -8.55103176e-02, -8.87431229e-01,\n",
       "         -4.43886834e-02, -1.92739049e-01,  2.26368633e-01,\n",
       "         -8.83072623e-02,  1.00476795e-01, -2.02896489e-01,\n",
       "         -2.78484376e-01,  2.98003273e-03, -3.05870327e-01,\n",
       "         -4.03197829e-01,  2.35003527e-01,  3.83022904e-01,\n",
       "          3.35413350e-01,  4.58283603e-01],\n",
       "        [ 3.15538557e-01, -2.30784243e-01, -8.17662321e-02,\n",
       "         -1.87867672e-01, -2.26846843e-01,  3.81888221e-01,\n",
       "         -9.60010502e-01, -1.99696950e-01, -1.44296717e+00,\n",
       "          2.00703077e-02,  7.50062260e-02, -1.58315790e-01,\n",
       "          6.49245480e-02, -2.92408925e-01, -1.12556695e-01,\n",
       "          1.62258631e+00, -5.37458622e-01, -2.45982049e-02,\n",
       "         -1.98353895e+00, -2.12392182e+00],\n",
       "        [ 3.25307085e-01,  2.58869291e-01, -3.42498564e-01,\n",
       "         -5.35487042e-01, -1.43399580e-02, -9.13493128e-01,\n",
       "          7.51773421e-01,  3.52628839e-01,  2.37289645e-01,\n",
       "         -2.49104235e-01,  1.20348487e+00,  6.58633451e-01,\n",
       "          1.37687807e-01, -3.15723157e-01, -1.74807046e-01,\n",
       "         -1.52627225e+00,  4.94158189e-01, -8.20950005e-02,\n",
       "          6.91802767e-01,  6.74237553e-01],\n",
       "        [-2.65857200e-01,  1.15383419e-01, -2.35054439e-01,\n",
       "         -2.91877251e-01, -6.92975289e-01,  1.10206753e-01,\n",
       "         -1.06084949e-01, -5.84027614e-02,  1.24370977e-01,\n",
       "          1.86327572e-01, -6.71902803e-01, -4.50491842e-01,\n",
       "          2.89051091e-02,  3.12365683e-01, -2.73576575e-01,\n",
       "          9.48713096e-01, -4.00397296e-01, -2.60992536e-01,\n",
       "          1.17398788e-01,  3.36555471e-01],\n",
       "        [-4.34992905e-01, -2.78236631e-02, -6.00236966e-02,\n",
       "          2.84167635e-02, -1.93849317e-01,  8.50364263e-01,\n",
       "         -7.55725777e-02, -2.24725139e-01,  2.39307054e-01,\n",
       "         -4.23406424e-01, -1.72930638e-01, -2.02067795e-01,\n",
       "         -2.98171270e-01, -1.15197933e+00, -1.29605415e-01,\n",
       "          1.61528931e+00, -5.88412870e-01,  2.15497156e-01,\n",
       "         -3.05756634e-01, -4.19831189e-01],\n",
       "        [-1.09548755e+00,  5.77819733e-02, -2.31991576e-01,\n",
       "          1.90683295e+00,  1.94652653e-01, -3.52874494e-01,\n",
       "          3.04308662e-01,  1.27635252e-01,  2.17482218e+00,\n",
       "         -4.56305545e-01, -6.38763483e-01, -6.70550002e-01,\n",
       "          9.20492198e-02, -1.07506747e+00,  8.16074122e-02,\n",
       "         -6.15685569e+00,  6.91901724e-01,  3.03535575e-01,\n",
       "          3.44887364e+00,  2.64352730e+00]]),\n",
       " array([[ 1.50111518e-01, -6.95688051e-01, -2.35968464e-01,\n",
       "         -1.42123447e-02, -2.46036763e-01,  2.07960491e-01,\n",
       "         -7.83101488e-01,  2.28302563e-01, -2.82731487e-01,\n",
       "          2.66388558e-01,  2.62377032e-01,  3.17773658e-01,\n",
       "          9.71587180e-02, -1.41869272e-01, -3.72504782e-01,\n",
       "          4.78688862e-02,  3.53737925e-01, -2.68282664e-01,\n",
       "          2.05250422e-01, -3.62151430e-01],\n",
       "        [-2.36601599e-01,  1.56904372e-02, -2.71900757e-02,\n",
       "          2.24253224e-01, -2.88104678e-01,  3.03963606e-01,\n",
       "         -2.50665605e-01, -5.04411962e-02, -2.71609710e-01,\n",
       "          1.46216410e-01,  2.43226143e-01, -2.38150008e-01,\n",
       "          6.05262001e-02,  1.71082512e-01, -1.92622929e-02,\n",
       "         -1.84391852e-01,  1.81355879e-01, -1.16803792e-01,\n",
       "          1.32815773e-01, -3.44650317e-01],\n",
       "        [ 1.98687401e-01, -3.42973251e-01, -1.74111476e-01,\n",
       "          2.20833716e-01, -3.05182489e-01,  4.83559349e-02,\n",
       "         -2.97250165e-01, -8.91998218e-02,  2.50527871e-02,\n",
       "          1.35448589e-01, -3.35362085e-01, -1.63379187e-01,\n",
       "         -2.33934991e-01, -8.59400368e-02, -1.66293606e-01,\n",
       "          3.49627070e-01,  1.70416144e-01,  3.34821284e-01,\n",
       "         -1.18798841e-01, -8.40393680e-02],\n",
       "        [ 3.03320117e-02, -8.37683268e-01, -1.70244997e-01,\n",
       "         -2.76631625e-01, -5.07384391e-01, -1.53788940e-01,\n",
       "         -1.08689648e+00, -3.35280903e-01, -6.82023984e-01,\n",
       "         -3.29995479e-02, -2.58368080e-01,  5.22513133e-01,\n",
       "         -3.75848507e-01,  3.76865251e-01,  3.14134718e-01,\n",
       "          2.00430107e-01,  1.09631946e-01, -1.52054522e-01,\n",
       "          2.07891139e-01,  5.64940919e-02],\n",
       "        [ 1.51438880e-01, -1.53393824e-01, -3.14312972e-01,\n",
       "          3.49240215e-01, -3.76501293e-02,  9.66716698e-02,\n",
       "          4.73717186e-01,  2.79038284e-01, -2.55445976e-01,\n",
       "          5.70201422e-03, -2.50142020e-01, -3.44500402e-01,\n",
       "          3.25422137e-01, -1.68501781e-01, -3.76400119e-01,\n",
       "         -9.66662445e-03,  2.05397794e-01,  3.52373061e-02,\n",
       "         -2.96695226e-01, -9.72112859e-02],\n",
       "        [-2.11362205e-01, -3.29809944e-01,  3.20468549e-01,\n",
       "          2.64586940e-01,  1.42410277e-02, -2.32069617e-01,\n",
       "         -7.41949547e-01, -4.47468501e-01,  1.73402108e-01,\n",
       "         -3.03567678e-01, -1.04640447e-01, -2.12945150e-01,\n",
       "         -1.51304497e-01,  2.84718760e-01,  3.65830654e-01,\n",
       "         -3.55022700e-01,  3.60316042e-02,  1.81901537e-01,\n",
       "         -9.96898657e-02, -1.38865480e-01],\n",
       "        [ 1.98266688e-01,  4.86175902e-01,  2.33576075e-01,\n",
       "          4.07387841e-01,  4.14011971e-01,  6.10194875e-02,\n",
       "          1.70219946e-01,  9.66250727e-02,  1.46584180e-01,\n",
       "          3.16080453e-01, -4.12670694e-02,  2.92594340e-01,\n",
       "          1.14174962e-01,  2.99076825e-01, -2.70703586e-01,\n",
       "         -4.37136831e-01,  2.51162190e-01,  1.46419675e-01,\n",
       "         -1.65095941e-02,  6.39055468e-02],\n",
       "        [ 2.61866280e-01,  3.09698008e-01, -4.11996622e-02,\n",
       "         -3.07824359e-01,  2.54129361e-01,  2.82946140e-01,\n",
       "         -1.95758428e-01, -3.92920525e-02,  1.11129839e-01,\n",
       "         -9.47932600e-02, -1.49035976e-01,  3.04818496e-01,\n",
       "          8.01762342e-02,  2.92278715e-01, -3.41367321e-01,\n",
       "          9.60141689e-02,  2.62451885e-01,  8.27762295e-02,\n",
       "          1.37504775e-01,  1.53359164e-01],\n",
       "        [ 3.43691830e-01,  5.79779041e-01, -2.56623547e-01,\n",
       "          1.37461801e-01, -2.54064770e-01,  2.24770903e-01,\n",
       "          5.60147518e-01, -9.56910925e-02,  1.28743028e-01,\n",
       "          3.48699310e-01, -1.22954038e-02,  4.71250274e-01,\n",
       "          2.21887709e-02,  5.37576399e-02,  3.40122602e-01,\n",
       "          4.19387812e-01,  1.14389432e-01,  2.76493110e-01,\n",
       "         -3.32861288e-01,  1.10873982e-01],\n",
       "        [ 2.50410364e-01, -3.99005890e-01,  7.05572643e-02,\n",
       "         -2.37019596e-01, -1.00227962e-01, -1.28808096e-01,\n",
       "          2.97155413e-01,  1.51053067e-01,  3.31275444e-01,\n",
       "          3.33018285e-02, -2.29974134e-01, -2.46317216e-01,\n",
       "          1.65249013e-01,  2.77227832e-01,  1.27822226e-01,\n",
       "         -1.04360291e-01, -3.07166202e-01,  9.43856370e-02,\n",
       "         -2.43715313e-01, -2.56780239e-01],\n",
       "        [-1.64352118e-01, -2.18951472e-01, -5.80033618e-03,\n",
       "          3.69653673e-01, -1.04159095e-01, -2.38582911e-01,\n",
       "         -6.80518765e-01, -2.57032184e-01, -4.67771441e-01,\n",
       "         -1.51951470e-01, -7.01266016e-02,  1.31729858e-01,\n",
       "          1.01867899e-02,  4.05320611e-01,  2.30109800e-01,\n",
       "         -1.18446388e-01, -3.30184556e-01,  2.20066139e-01,\n",
       "          3.08838138e-02,  1.21423930e-01],\n",
       "        [-3.53893906e-01, -1.21610566e-01,  3.11950193e-01,\n",
       "          1.72019339e-01, -4.22406923e-01, -1.83681741e-01,\n",
       "         -4.20842851e-01,  7.33593099e-02, -4.23573907e-02,\n",
       "          2.38616338e-01, -3.08114535e-01,  3.60959350e-01,\n",
       "         -2.77908631e-01, -8.51238594e-02, -1.35972566e-01,\n",
       "         -1.17583392e-01,  2.69154685e-01, -5.52389690e-02,\n",
       "         -1.26528126e-01, -2.63805772e-01],\n",
       "        [ 1.39179564e-01, -1.92827063e-01,  9.26893858e-02,\n",
       "         -3.25566200e-01, -2.47698524e-02, -2.57333296e-01,\n",
       "         -1.75235286e-01,  1.79193368e-02,  1.84884941e-01,\n",
       "          8.68871370e-02,  3.38780241e-01, -1.24977963e-01,\n",
       "          1.10769044e-01,  1.57046980e-01, -2.34731275e-01,\n",
       "          2.34087032e-01, -3.08290268e-01, -1.97839648e-01,\n",
       "         -1.37953110e-01,  5.38028415e-02],\n",
       "        [-2.81688451e-03, -3.92285315e-01, -3.62595695e-01,\n",
       "          3.44374749e-01, -1.78559752e-01,  2.86987407e-01,\n",
       "         -9.11578223e-01, -2.38775976e-01, -4.27194265e-01,\n",
       "         -2.80010349e-01, -3.17318175e-01, -2.90739594e-01,\n",
       "         -3.67914264e-01, -9.96937396e-02, -2.16262192e-01,\n",
       "         -1.23340824e-01, -1.61303580e-01, -2.87778540e-01,\n",
       "          1.23267496e-02,  2.40535640e-01],\n",
       "        [ 3.73259342e-01, -3.45326177e-01, -2.04767264e-01,\n",
       "          2.61233630e-01,  2.98927887e-01, -2.06786920e-01,\n",
       "         -2.25111129e-01, -3.74830879e-01,  7.01934690e-02,\n",
       "          2.84530031e-01,  2.42597249e-01,  3.00602302e-01,\n",
       "          2.21172165e-01, -1.03168478e-01,  3.12093215e-01,\n",
       "         -3.18012632e-01,  1.45129318e-01, -9.15304384e-02,\n",
       "          1.96375052e-01,  1.78275673e-01],\n",
       "        [ 2.94667760e-01, -8.22940446e-01, -7.17635286e-02,\n",
       "         -1.15611021e-01, -8.82492433e-01, -1.21845714e-01,\n",
       "         -1.24485987e+00, -4.89256136e-01, -6.04270577e-01,\n",
       "         -3.72480146e-01,  2.17245476e-01,  2.50613366e-01,\n",
       "         -3.55521152e-03, -3.07501257e-01, -2.18943484e-01,\n",
       "         -2.55740537e-01, -3.84181288e-01,  1.67251135e-01,\n",
       "          1.56972878e-01, -1.60570194e-01],\n",
       "        [-3.91455810e-01,  2.67909586e-01, -2.36062544e-01,\n",
       "         -5.01971624e-04,  4.39881596e-01, -1.05596203e-01,\n",
       "          1.21925049e-01,  2.05865305e-01,  1.19017297e-01,\n",
       "         -5.54386210e-02, -3.10973972e-01,  3.04961353e-01,\n",
       "          3.42999913e-01, -1.68455906e-01, -3.54762188e-01,\n",
       "          2.90726644e-01, -2.82640901e-01,  8.24042001e-02,\n",
       "          1.05626796e-01,  8.66023239e-02],\n",
       "        [ 1.79292017e-01,  4.92005897e-02,  1.73151778e-01,\n",
       "         -3.81739102e-01,  2.09136270e-01, -2.48816017e-01,\n",
       "         -6.60946979e-02,  3.75591107e-01,  3.54212618e-02,\n",
       "         -2.69357855e-01,  1.53033942e-01, -6.08662892e-02,\n",
       "          9.34157208e-02, -1.41014579e-02,  4.67021683e-02,\n",
       "         -3.36884832e-01, -2.82650411e-01, -3.80437898e-02,\n",
       "          1.97706236e-01,  9.90984840e-02],\n",
       "        [ 1.08759581e-01,  5.12884458e-01, -1.31451152e-01,\n",
       "         -8.76621217e-02,  6.05834313e-01, -1.77594088e-01,\n",
       "          9.48707082e-01, -1.22603944e-01,  1.52578507e-01,\n",
       "          4.40462309e-01, -3.06743688e-03,  1.89922618e-01,\n",
       "         -6.81080891e-02,  3.28897423e-01,  4.24826587e-01,\n",
       "          6.24409805e-02, -2.22811503e-01,  3.64598125e-02,\n",
       "          3.29118845e-01, -2.96331437e-01],\n",
       "        [-2.76711102e-01,  2.39939134e-01, -3.83076359e-01,\n",
       "         -7.43969679e-02,  5.62272172e-01, -2.62882932e-01,\n",
       "          7.84580076e-01,  2.88688510e-01,  7.76812311e-02,\n",
       "         -2.26222020e-01, -3.79509028e-01, -2.76484293e-02,\n",
       "          4.26752527e-01,  9.50525462e-02, -1.41739508e-01,\n",
       "          9.80976578e-02,  1.06817104e-01,  1.09090778e-01,\n",
       "          2.88522442e-02, -3.31727127e-01]]),\n",
       " array([[-0.15377309],\n",
       "        [ 2.9439883 ],\n",
       "        [-0.14149856],\n",
       "        [-0.28584778],\n",
       "        [ 1.57137708],\n",
       "        [-0.35587459],\n",
       "        [ 3.77290605],\n",
       "        [ 1.03955785],\n",
       "        [ 1.02193038],\n",
       "        [-0.48809619],\n",
       "        [-0.38343797],\n",
       "        [-0.6390284 ],\n",
       "        [ 0.6418056 ],\n",
       "        [-0.47326286],\n",
       "        [-0.78449655],\n",
       "        [-0.57056522],\n",
       "        [-0.30527213],\n",
       "        [-0.23866765],\n",
       "        [-0.30360042],\n",
       "        [ 0.0582728 ]])]"
      ]
     },
     "execution_count": 15,
     "metadata": {},
     "output_type": "execute_result"
    }
   ],
   "source": [
    "reg.coefs_"
   ]
  },
  {
   "cell_type": "code",
   "execution_count": 16,
   "id": "3890d9b6",
   "metadata": {
    "scrolled": false
   },
   "outputs": [
    {
     "data": {
      "text/plain": [
       "[array([ 0.12803145, -0.41869453, -0.50069315, -0.12837121,  0.26543536,\n",
       "         0.21046102, -0.17319568, -0.45479428, -0.14265332,  0.09858739,\n",
       "         0.29781363, -0.18759633, -0.5812136 ,  0.0020273 , -0.13243659,\n",
       "         0.82141537,  0.0304638 , -0.29849393, -0.27448338, -0.2599098 ]),\n",
       " array([-0.42519855,  3.61657154, -0.01219753, -0.26762086,  1.51014811,\n",
       "        -0.0737539 ,  4.33761282,  1.41882143,  1.16070629, -0.51501464,\n",
       "        -0.24710635, -0.62753894,  0.54536725, -0.45404259, -0.35078238,\n",
       "        -0.58569583, -0.25432405, -0.37564064, -0.2896425 ,  0.1414187 ]),\n",
       " array([4.7117893])]"
      ]
     },
     "execution_count": 16,
     "metadata": {},
     "output_type": "execute_result"
    }
   ],
   "source": [
    "reg.intercepts_"
   ]
  },
  {
   "cell_type": "markdown",
   "id": "fee5da68",
   "metadata": {},
   "source": [
    "# 7. Prediction"
   ]
  },
  {
   "cell_type": "markdown",
   "id": "1290eb30",
   "metadata": {},
   "source": [
    "## 7.1. Training Set"
   ]
  },
  {
   "cell_type": "code",
   "execution_count": 17,
   "id": "f6ae8331",
   "metadata": {},
   "outputs": [],
   "source": [
    "y_pred_train = reg.predict(X_train_scaled)"
   ]
  },
  {
   "cell_type": "code",
   "execution_count": 18,
   "id": "86df5129",
   "metadata": {},
   "outputs": [
    {
     "data": {
      "text/plain": [
       "array([36.18567598, 81.94335702, 31.92708263, 23.7792799 , 32.35973381,\n",
       "       18.6541116 , 60.25324459, 16.09671775, 58.24243432, 35.29234515,\n",
       "       33.78504192, 26.14894932, 57.41567708, 44.87697871, 18.68771662,\n",
       "       42.40239169, 28.02044755, 12.37314394, 26.87610727, 34.18072156,\n",
       "       56.88800199, 18.4428492 , 56.97974237, 52.07999697, 17.78326579,\n",
       "       18.11636789, 47.30792131, 47.37925993, 19.25657955, 47.78377983,\n",
       "       55.93176772, 40.15124325, 36.41310605, 36.11840898, 36.96642213,\n",
       "       30.882251  , 28.47524846, 60.46626731, 15.7550785 , 25.84107615,\n",
       "       75.64852778, 16.8262302 , 66.20697615, 39.50165432, 33.96041011,\n",
       "       24.88903334, 24.98122423, 42.76491795, 58.4785381 , 16.16746857,\n",
       "       18.22934971, 36.2992181 , 71.22644536, 22.96105054, 43.49855236,\n",
       "       59.45263153, 19.82822085, 26.57070587, 67.26643621, 74.04594314,\n",
       "       15.18162463, 27.09143916, 59.89182839, 11.58632488, 24.24995762,\n",
       "       15.67853139, 25.32240577, 21.17926064, 45.914223  , 20.64547424,\n",
       "       20.18274289, 29.83340314, 29.03609741, 28.05400737, 30.38187565,\n",
       "       17.87184391, 18.72940657, 44.81165779, 32.38725125, 47.0587247 ,\n",
       "       54.09185697, 21.6690215 , 44.59280366, 53.7414366 , 23.66171224,\n",
       "       36.06215916, 17.03524758, 26.55146888, 44.26154587, 18.47470284,\n",
       "       54.36033048, 49.53751972, 32.70876015, 21.41709578, 20.64819757,\n",
       "       46.16252845, 42.21645319, 20.04833937, 39.83505468, 65.94859629,\n",
       "       25.9828018 , 24.35789532, 35.98052283, 10.83854928, 37.52134741,\n",
       "       44.60847317, 56.98995246, 28.72559183, 21.3418026 , 59.17453276,\n",
       "       34.40218404, 42.34580579, 32.14716025, 34.14314928, 65.48588092,\n",
       "       70.26578013, 20.16878921, 52.12947569, 45.36339594, 60.89970578,\n",
       "       19.43708428, 62.35810404, 16.84842015, 50.34706057,  9.82110426,\n",
       "       18.79448743, 21.8881261 , 34.05263717, 23.27825448, 59.13003446,\n",
       "       37.68381248, 34.45274245, 65.04031929, 14.04219269, 28.06477135,\n",
       "       19.23142714, 25.57579809, 33.79620249, 38.40517417, 33.41098543,\n",
       "       38.49729324, 63.20199586, 68.24093949, 21.35856037, 16.34163656,\n",
       "       35.31682633, 26.26310132, 51.46754589, 35.58360261, 18.48956776,\n",
       "       57.8094501 , 26.25392784, 34.241627  , 60.356727  , 12.32354396,\n",
       "       40.37165056, 25.88885682, 38.20183209, 22.4710749 , 29.80834679,\n",
       "       57.56927477, 26.47141789, 25.98798867, 46.09267339, 37.73527325,\n",
       "       16.24079474, 31.27473454, 61.4219826 , 34.77538918, 33.93526067,\n",
       "       17.50092826, 59.5129076 , 32.03299814, 59.53247379, 46.35981483,\n",
       "       47.94492023, 53.54515113, 47.1630503 , 35.72220291, 55.46014645,\n",
       "       54.31544134, 20.32771749, 54.09185697, 20.92732833, 17.13282978,\n",
       "       54.45850664, 23.84666809, 23.05691501, 49.21336645, 36.39772018,\n",
       "       33.17919333, 64.08918501, 61.68242789, 41.19544536, 14.57638751,\n",
       "       23.91696255, 38.45404013, 62.32438321, 18.08551347, 47.7939662 ,\n",
       "       34.08869893, 28.10266693, 28.22190926, 30.70081631, 32.8969696 ,\n",
       "       17.48052048, 18.56899193, 12.83029097, 21.3425651 , 12.7998168 ,\n",
       "       62.30921982, 14.97195364, 22.48281172, 40.41108156, 47.28896479,\n",
       "       52.03942763, 68.87420048, 21.17983528, 33.20364698, 27.7481618 ,\n",
       "       21.46995499, 31.08118375, 42.54648966, 57.87992129, 59.48184305,\n",
       "       36.55718766, 69.2074305 , 40.65017639, 23.68436375, 52.74751708,\n",
       "       31.86699996, 20.80847001, 65.19391376, 58.17784049, 58.81343846,\n",
       "       49.96863689, 43.45553479, 30.12324433, 32.8534955 , 61.96533143,\n",
       "       58.34365886, 24.91729389, 64.93475842, 59.61942909, 29.09574157,\n",
       "       35.06450157, 67.34479317,  9.08667202, 26.18328422, 27.72741093,\n",
       "       36.10583757, 35.66688985, 59.11372786, 52.8984257 , 68.87420048,\n",
       "       22.2906141 , 30.21884911, 30.44908884, 63.62830454, 16.29267172,\n",
       "       36.14362298, 61.84936839, 36.86232051, 54.466876  , 38.63933009,\n",
       "       26.58480379, 58.18296381, 48.12687565, 22.16115107, 67.52558241,\n",
       "       23.54954309, 58.80867855, 46.4208486 , 35.68649779, 59.21573363,\n",
       "       23.61095872, 40.56106319, 62.19802555, 23.82706091, 33.80665645,\n",
       "       44.78581813, 68.87420048, 54.08763732, 69.73901563, 38.70935376,\n",
       "       21.68388633, 45.64331767, 45.9087281 , 38.21994488, 36.60140279,\n",
       "       30.0536009 , 22.56752569, 42.38380572, 30.61986883, 35.36209838,\n",
       "       73.81071904, 37.58706898, 26.37495453, 36.30602099, 27.928749  ,\n",
       "       60.89970578, 24.87516093, 25.19366142, 30.42240545, 40.42984027,\n",
       "       48.69186352, 30.51469822, 18.73645294, 44.27383855, 39.14811241,\n",
       "       22.93719197, 42.62670483, 25.97240065, 23.49791637, 32.60918156,\n",
       "       57.07037951, 37.20977949, 33.4557485 , 64.9266243 , 27.52747815,\n",
       "       52.63705805, 39.10476984, 34.87593658, 48.43304269, 22.43351363,\n",
       "       22.37048749, 20.93599015, 53.96169566, 58.64675554, 46.01719995,\n",
       "       42.51069256, 61.67829245, 54.48196318, 39.78196239, 35.49792014,\n",
       "       52.15815156, 35.6011403 , 59.42038119, 58.36536916, 44.13459832,\n",
       "       36.89970416, 47.05410436, 30.31710936, 41.39677094, 42.66487317,\n",
       "       57.35009634, 37.1983791 , 22.46664823, 78.25761837, 18.86794511,\n",
       "       59.48393937, 38.15831307, 33.30498753, 49.958189  , 27.53892052,\n",
       "       60.89970578, 47.37869813, 71.11846145, 27.63437345, 56.08573028,\n",
       "       32.80272985, 59.70405844, 15.67473112, 52.86268377, 29.13384149,\n",
       "       58.34772823, 36.82790366, 39.55869903, 16.63646742, 59.88153321,\n",
       "       36.40513161, 21.11114691, 38.87352425, 64.93475842, 64.15620733,\n",
       "       31.30708492, 57.48705127, 54.44013339, 41.59097929, 40.69045426,\n",
       "       12.09394091, 41.71278781, 60.356727  , 19.5390108 , 32.99579324,\n",
       "       29.38475584, 20.79327566, 29.44742993, 22.14072219, 28.6768407 ,\n",
       "       34.40927809, 48.39599711, 44.90656336, 20.51107153, 56.17749211,\n",
       "       39.68670835, 48.26904033, 23.57203952, 61.68242789, 17.61721104,\n",
       "       25.58188648, 29.90717587, 29.98316539, 26.76168116, 18.34452133,\n",
       "       47.59487348, 71.70160788, 26.7473979 , 64.93475842, 45.82544709,\n",
       "       19.08304364, 20.97691158, 62.17608331, 26.51572485, 43.34654973,\n",
       "       32.64606388, 12.32499982, 21.79727716, 22.48731009, 47.4193017 ,\n",
       "       37.42707505, 62.29892464, 50.51048472, 37.51319911,  9.44857167,\n",
       "       19.48043554, 33.16315218, 47.7395156 , 33.42974218, 41.92602287,\n",
       "       14.49868686, 29.89651575, 49.36350758, 54.07499227, 32.66820433,\n",
       "       37.18322069, 28.81082482, 42.45411058, 20.05791169, 19.21876923,\n",
       "       43.90146073, 45.52187101, 23.81863631, 30.57708673, 28.21452088,\n",
       "       21.2634694 , 45.83583487, 23.54262792, 21.07086674, 24.47384814,\n",
       "       36.57154658, 58.54611339, 21.79867137, 60.89244245, 17.43614284,\n",
       "       28.18985377, 15.47884996, 35.20382474, 35.80335679, 28.38756529,\n",
       "       33.00311898, 52.77508483, 17.76675215, 11.3497835 , 44.78257417,\n",
       "       32.38219901, 44.74215292, 29.25285591, 42.95573017, 27.3171171 ,\n",
       "       47.65716183, 25.68468555, 45.07945772, 61.02751444, 19.64583781,\n",
       "       23.5955284 , 60.95747049, 58.68623486, 19.75589532, 47.25150771,\n",
       "       39.15929647, 59.75864959, 23.19018824, 54.78327455, 68.87420048,\n",
       "       16.20607168, 49.41996123, 61.68242789, 61.20438082, 23.37627172,\n",
       "       33.69600782, 23.66599724, 20.21968111, 62.05991007, 75.07322993,\n",
       "       23.2165504 , 67.77401158, 24.65022405, 35.0681556 , 53.60487538,\n",
       "       37.41232287, 43.04661715, 28.32712632, 55.17663758, 19.48865864,\n",
       "       54.6039842 , 53.57260076, 50.80346639, 49.20498074, 59.41499513,\n",
       "       47.89843633, 23.58144563, 11.5399477 , 52.31824781, 16.88846829,\n",
       "       60.37997268, 21.71793721, 29.26581717, 37.80043949, 45.59596519,\n",
       "       29.84870076, 14.12211174, 41.1226784 , 19.89162091, 58.9668629 ,\n",
       "       36.35623546, 61.23778597, 26.56396052, 33.88841542, 17.84864268,\n",
       "       48.1571139 , 17.98003461, 46.07204026, 67.0110826 , 53.52106273,\n",
       "       26.3838659 , 40.99369694, 67.26643621, 15.02463003, 18.81932647,\n",
       "       17.76903831, 36.30009084, 63.83584167, 59.62619169, 32.01834445,\n",
       "       24.13203707, 33.99985474, 38.54755222, 42.1503572 , 15.7202519 ,\n",
       "       27.95273733, 39.20421032, 42.67396754, 21.75154726, 37.89208473,\n",
       "       18.78100888, 36.32457297, 30.47959756, 74.13174973, 50.27412182,\n",
       "       37.55171947, 16.22681503, 42.42279094, 38.46945132, 43.24120906,\n",
       "       29.15375171, 39.80270669, 50.14238453, 52.76187743, 25.03478564,\n",
       "       26.22405104, 12.08968791, 34.02451456, 42.86797123, 54.04820499,\n",
       "       20.93850562, 10.33182729, 36.65664336, 69.50435455, 31.90821953,\n",
       "       25.5620842 , 77.51890608, 52.81577248, 65.60464713, 52.93005642,\n",
       "       54.13019503, 26.53947555, 69.78478865, 60.65707934, 48.02239705,\n",
       "       25.13475111, 49.52406841, 11.07497748, 40.46662747, 40.20255742,\n",
       "       19.40650167, 42.60723567, 19.43897038, 38.79593203, 58.05757991,\n",
       "       24.04281248, 47.34768893, 65.47461847, 19.0161283 , 48.31374782,\n",
       "       38.09478789, 52.57718575, 14.19845297, 25.52063742, 50.53000076,\n",
       "       48.52898084, 61.9757351 , 73.94413411, 45.43906561, 60.18819091,\n",
       "       29.0590617 , 47.24418224, 37.35255254, 63.89465604, 10.92246109,\n",
       "       13.00679677, 20.67160963, 43.15450499, 65.59264778, 46.02273234,\n",
       "       17.16901006, 59.89182839, 27.53206115, 47.39019942, 25.12891817,\n",
       "       30.7101009 , 45.38057205, 53.59597413, 38.26218089, 63.49038926,\n",
       "       49.97694582, 35.25951882, 58.09360464, 15.13334841, 51.42172239,\n",
       "       15.86648903, 54.12901008, 61.91595344, 51.25274325, 49.59030815,\n",
       "       45.69337394, 54.82954916, 19.73944612, 45.90418411, 35.13177095,\n",
       "       47.90141212, 20.61726989, 13.86146812, 73.57827577, 62.30921982,\n",
       "       34.62973068, 61.64905465, 63.62830454, 57.50814425, 51.32113175,\n",
       "       71.70160788, 14.04862937, 13.95123743, 37.36233704, 21.67274926,\n",
       "       21.78579629, 14.11850557, 35.47853073, 23.49023177, 29.26085983,\n",
       "       68.8113255 , 29.82343303, 58.57002056, 49.88622409, 17.05183922,\n",
       "       20.72840672, 60.77290972, 58.68623486, 23.9982219 , 16.1668961 ,\n",
       "       54.88423685, 46.82276479, 50.0233116 , 25.85159294, 18.27109286,\n",
       "       47.64171421, 53.15379899, 22.95520765, 58.16575389, 25.22985964,\n",
       "       26.63696383, 46.01264338, 36.250498  , 30.79154964, 70.23041306,\n",
       "       35.73510884, 46.77736639, 48.51364762, 13.78315619, 62.04029187,\n",
       "       38.01758852, 54.41673   , 50.53596351, 29.38375621, 60.83343193,\n",
       "       37.56570057, 37.84316475, 41.0500973 , 23.06050216, 52.47393358,\n",
       "       28.31512454, 61.53056812, 43.33376295, 16.3693462 , 21.97907452,\n",
       "       35.91060491, 34.9334977 , 19.40187538, 24.73818579, 20.50403208,\n",
       "       55.84083687, 33.11493091, 27.33254603, 47.98362655, 27.1560968 ,\n",
       "       30.43186869, 23.94115995, 23.06816301, 24.44294626, 42.45517413,\n",
       "       20.57433062, 45.42512553, 50.90190304, 37.58113187, 32.79189373,\n",
       "       17.87270757, 29.25530028, 23.61066377, 49.24541878, 44.37600596,\n",
       "       54.97229982, 29.30636494, 50.61609666, 23.06549166, 19.60095637,\n",
       "       65.79942026, 22.04548341, 46.57064928, 56.92835218, 17.88601807,\n",
       "       44.00683218, 36.28201612, 67.26643621, 38.98266441, 15.90238083,\n",
       "       32.33958565, 20.12703128, 42.53208629, 70.70879036, 25.81957891,\n",
       "       23.11270548, 46.51235601, 28.53125752, 23.23448786, 64.93475842,\n",
       "       36.07033727, 29.19276987, 26.96974728, 56.88800199, 58.68623486,\n",
       "       37.8847008 , 27.76432405, 62.8493638 , 42.49579306, 38.71758527,\n",
       "       60.37997268, 27.6214016 , 29.97977818, 56.13850323, 52.37040781,\n",
       "       55.04831134, 50.86542401, 34.20759089, 29.04625667, 36.23873231,\n",
       "       20.23636054, 68.51171511, 30.26583627, 57.97410163, 29.73268693,\n",
       "       58.23096487, 22.79484542, 31.75857978, 53.7875835 , 22.00956211,\n",
       "       53.09630614, 52.7660027 , 32.34933064, 34.35595343, 38.31275259,\n",
       "       40.13390103, 49.28342701, 27.34746002, 47.40684256, 48.39972875,\n",
       "       72.87866531, 17.31250753, 57.10627713, 28.29741972, 60.37997268,\n",
       "       38.60371889, 20.43045319, 25.17080455, 43.47091789, 21.89041937,\n",
       "       26.08746781, 58.68623486, 59.91477421, 17.44077597, 59.4543474 ,\n",
       "       24.27036003, 54.20160162, 61.68242789, 65.49608462])"
      ]
     },
     "execution_count": 18,
     "metadata": {},
     "output_type": "execute_result"
    }
   ],
   "source": [
    "y_pred_train"
   ]
  },
  {
   "cell_type": "markdown",
   "id": "20275bcf",
   "metadata": {},
   "source": [
    "## 7.2. Test Set"
   ]
  },
  {
   "cell_type": "code",
   "execution_count": 19,
   "id": "50cd359b",
   "metadata": {},
   "outputs": [],
   "source": [
    "y_pred_test = reg.predict(X_test_scaled)"
   ]
  },
  {
   "cell_type": "code",
   "execution_count": 20,
   "id": "d2bb7adb",
   "metadata": {},
   "outputs": [
    {
     "data": {
      "text/plain": [
       "array([39.00439516, 65.49608462, 26.67284454, 22.22938942, 25.1851537 ,\n",
       "       30.62224084, 59.17453276, 51.12197618, 15.97957051, 40.7047753 ,\n",
       "       34.78105535, 16.19907345, 64.81802662, 24.06396823, 43.16607534,\n",
       "       55.53241487, 23.00971702, 58.98034864, 45.37944609, 66.65284783,\n",
       "       23.73298527, 55.59719254, 46.54401577, 55.34928225, 19.29716243,\n",
       "       54.95428081, 47.43779909, 19.40336386, 26.91429888, 62.97401157,\n",
       "       35.54723051, 63.99274065, 30.42017802, 14.73554609, 20.25405551,\n",
       "       63.62830454, 24.09430285, 28.58368585, 21.4428498 , 28.98288175,\n",
       "       57.91833902, 63.88430139, 19.35422577, 41.01903804, 30.86224333,\n",
       "       43.7062262 , 44.45670948, 22.52321803, 68.2904754 , 38.73558221,\n",
       "       18.45973471, 45.9399531 ,  8.93853664, 42.95610555, 42.19150773,\n",
       "       25.40285714, 29.90866164, 14.00425388, 35.38947862, 32.51484922,\n",
       "       46.86035331, 46.09744312, 50.28818458, 40.73001863, 57.8414017 ,\n",
       "       61.59669399, 56.3135683 , 30.72955251, 50.43357853, 58.05275083,\n",
       "       11.76796792, 56.50289651, 34.56294334, 49.86206975, 19.95169159,\n",
       "       80.45597757, 60.35460898, 21.87407667, 21.18657583, 42.96065848,\n",
       "       39.77149772, 20.2635841 , 65.22671171, 12.12625558, 67.35709937,\n",
       "       15.23048177, 34.41182435, 16.52157644, 23.17881889, 35.87855095,\n",
       "       15.60815326, 54.079902  , 21.96339972, 24.23386447, 30.64304281,\n",
       "       70.48842368, 23.55705702, 48.34160168, 34.88810446, 21.02126201,\n",
       "       65.7357138 , 19.66752516, 50.33024456, 47.24411731, 53.74434773,\n",
       "       48.45444767, 53.12856872, 40.75712945, 21.31239615, 68.07357554,\n",
       "       54.38836593, 29.88933794, 50.27766287, 25.36246022, 57.86015626,\n",
       "       24.06490328, 20.58395029, 39.11874694, 45.8517018 , 40.07247294,\n",
       "       19.43886869, 26.48694422, 13.12405476, 54.73096476, 42.22820201,\n",
       "       46.07632476, 47.18700346, 24.00410299, 27.34165474, 57.39530023,\n",
       "       25.67079438, 18.10171922, 11.863016  , 18.76343872, 56.96012887,\n",
       "       29.55051716, 29.19478246, 33.73856702, 56.65780447, 52.91197797,\n",
       "       27.82434755, 51.89418328, 71.70160788, 18.69381011, 37.31109605,\n",
       "       37.05561287, 63.7870495 , 18.87476169, 20.9448457 , 30.35060699,\n",
       "       18.39674995, 41.14412642, 53.00678921, 48.73273848, 36.35055663,\n",
       "       39.77652235, 57.62601022, 63.46561885, 37.48568852, 33.18105323,\n",
       "       61.80375962, 17.13282978, 57.55709522, 65.24434475, 32.68777772,\n",
       "       20.2004798 , 46.79306048, 52.31899513, 13.50169112, 39.09729732,\n",
       "       41.97523643, 16.73002286, 59.17453276, 54.00899197, 57.9512063 ,\n",
       "       56.26274086, 59.16018594, 45.62071476, 65.67445947, 34.58472936,\n",
       "       17.12343262, 49.7909958 , 53.52106273, 15.36523629, 52.94452124,\n",
       "       45.29373538, 57.27419125, 37.50723532, 23.89844959, 60.29788636,\n",
       "       29.13462337, 54.06108171, 27.43338589, 62.26776366, 51.89327051,\n",
       "       47.55372802, 59.17453276, 15.28819518, 37.48739307, 36.20227491,\n",
       "       32.88698626, 78.422055  , 67.25635658, 59.42038119, 21.49384476,\n",
       "       19.32916576])"
      ]
     },
     "execution_count": 20,
     "metadata": {},
     "output_type": "execute_result"
    }
   ],
   "source": [
    "y_pred_test"
   ]
  },
  {
   "cell_type": "markdown",
   "id": "0ac9e2f7",
   "metadata": {},
   "source": [
    "# 8. Model Evaluation"
   ]
  },
  {
   "cell_type": "markdown",
   "id": "323267ce",
   "metadata": {},
   "source": [
    "## 8.1. Training Set"
   ]
  },
  {
   "cell_type": "markdown",
   "id": "f2a400c0",
   "metadata": {},
   "source": [
    "### 8.1.1. Scoring"
   ]
  },
  {
   "cell_type": "code",
   "execution_count": 21,
   "id": "77e55cfb",
   "metadata": {},
   "outputs": [
    {
     "name": "stdout",
     "output_type": "stream",
     "text": [
      "r2_score =\t\t\t 0.6494096535432151\n",
      "mean_squared_error =\t\t 95.540664527482\n",
      "mean_absolute_error =\t\t 7.479499035536795\n",
      "mean_absolute_percentage_error = 0.2890133501931493\n"
     ]
    }
   ],
   "source": [
    "print('r2_score =\\t\\t\\t', r2_score(y_train, y_pred_train))\n",
    "print('mean_squared_error =\\t\\t', mean_squared_error(y_train, y_pred_train))\n",
    "print('mean_absolute_error =\\t\\t', mean_absolute_error(y_train, y_pred_train))\n",
    "print('mean_absolute_percentage_error =', mean_absolute_percentage_error(y_train, y_pred_train))"
   ]
  },
  {
   "cell_type": "markdown",
   "id": "b1c2a693",
   "metadata": {},
   "source": [
    "### 8.1.2. Scatter Plot between Predicted & Actual Values"
   ]
  },
  {
   "cell_type": "code",
   "execution_count": 22,
   "id": "bb81c4d9",
   "metadata": {},
   "outputs": [
    {
     "data": {
      "text/plain": [
       "Text(0, 0.5, 'Actual')"
      ]
     },
     "execution_count": 22,
     "metadata": {},
     "output_type": "execute_result"
    },
    {
     "data": {
      "image/png": "[encoded data removed]",
      "text/plain": [
       "<Figure size 432x288 with 1 Axes>"
      ]
     },
     "metadata": {
      "needs_background": "light"
     },
     "output_type": "display_data"
    }
   ],
   "source": [
    "plt.scatter(y_pred_train, y_train)\n",
    "\n",
    "plt.plot(y_pred_train, y_pred_train, color='red')\n",
    "\n",
    "plt.title('Scatter Plot between Predicted & Actual Values')\n",
    "plt.xlabel('Predicted')\n",
    "plt.ylabel('Actual')"
   ]
  },
  {
   "cell_type": "markdown",
   "id": "85d799bd",
   "metadata": {},
   "source": [
    "## 8.2. Test Set"
   ]
  },
  {
   "cell_type": "markdown",
   "id": "f519ade0",
   "metadata": {},
   "source": [
    "### 8.2.1. Scoring"
   ]
  },
  {
   "cell_type": "code",
   "execution_count": 23,
   "id": "75265c82",
   "metadata": {},
   "outputs": [
    {
     "name": "stdout",
     "output_type": "stream",
     "text": [
      "r2_score =\t\t\t 0.6364224623610217\n",
      "mean_squared_error =\t\t 109.90323169970195\n",
      "mean_absolute_error =\t\t 7.7103497321773595\n",
      "mean_absolute_percentage_error = 0.2798682156465568\n"
     ]
    }
   ],
   "source": [
    "print('r2_score =\\t\\t\\t', r2_score(y_test, y_pred_test))\n",
    "print('mean_squared_error =\\t\\t', mean_squared_error(y_test, y_pred_test))\n",
    "print('mean_absolute_error =\\t\\t', mean_absolute_error(y_test, y_pred_test))\n",
    "print('mean_absolute_percentage_error =', mean_absolute_percentage_error(y_test, y_pred_test))"
   ]
  },
  {
   "cell_type": "markdown",
   "id": "9d43b931",
   "metadata": {},
   "source": [
    "### 8.2.2 Scatter Plot between Predicted & Actual Values"
   ]
  },
  {
   "cell_type": "code",
   "execution_count": 24,
   "id": "91bb4023",
   "metadata": {
    "scrolled": true
   },
   "outputs": [
    {
     "data": {
      "text/plain": [
       "Text(0, 0.5, 'Actual')"
      ]
     },
     "execution_count": 24,
     "metadata": {},
     "output_type": "execute_result"
    },
    {
     "data": {
      "image/png": "[encoded data removed]",
      "text/plain": [
       "<Figure size 432x288 with 1 Axes>"
      ]
     },
     "metadata": {
      "needs_background": "light"
     },
     "output_type": "display_data"
    }
   ],
   "source": [
    "plt.scatter(y_pred_test, y_test)\n",
    "\n",
    "plt.plot(y_pred_test, y_pred_test, color='red')\n",
    "\n",
    "plt.title('Scatter Plot between Predicted & Actual Values')\n",
    "plt.xlabel('Predicted')\n",
    "plt.ylabel('Actual')"
   ]
  },
  {
   "cell_type": "markdown",
   "id": "e38a8e37",
   "metadata": {},
   "source": [
    "# 9. Save Model"
   ]
  },
  {
   "cell_type": "code",
   "execution_count": 25,
   "id": "50763e5c",
   "metadata": {},
   "outputs": [],
   "source": [
    "import pickle"
   ]
  },
  {
   "cell_type": "code",
   "execution_count": 26,
   "id": "928506b7",
   "metadata": {},
   "outputs": [],
   "source": [
    "pickle.dump((reg, \n",
    "             feature_name),  open('deep_learning_regrssion_model.pickle', 'wb'))"
   ]
  },
  {
   "cell_type": "code",
   "execution_count": null,
   "id": "a088c2b0",
   "metadata": {},
   "outputs": [],
   "source": []
  }
 ],
 "metadata": {
  "kernelspec": {
   "display_name": "Python 3",
   "language": "python",
   "name": "python3"
  },
  "language_info": {
   "codemirror_mode": {
    "name": "ipython",
    "version": 3
   },
   "file_extension": ".py",
   "mimetype": "text/x-python",
   "name": "python",
   "nbconvert_exporter": "python",
   "pygments_lexer": "ipython3",
   "version": "3.8.8"
  }
 },
 "nbformat": 4,
 "nbformat_minor": 5
}
