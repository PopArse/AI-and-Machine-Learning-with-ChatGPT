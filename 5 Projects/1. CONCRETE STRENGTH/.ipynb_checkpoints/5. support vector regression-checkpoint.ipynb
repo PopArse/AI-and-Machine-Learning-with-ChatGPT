{
 "cells": [
  {
   "cell_type": "markdown",
   "id": "57654bb6",
   "metadata": {},
   "source": [
    "# 1. Import Libraries"
   ]
  },
  {
   "cell_type": "code",
   "execution_count": 1,
   "id": "2f51eef5",
   "metadata": {},
   "outputs": [],
   "source": [
    "import numpy as np\n",
    "import pandas as pd\n",
    "import matplotlib.pyplot as plt\n",
    "\n",
    "from sklearn.model_selection import train_test_split\n",
    "from sklearn.preprocessing import OrdinalEncoder, OneHotEncoder\n",
    "from sklearn.preprocessing import (\n",
    "    OrdinalEncoder, \n",
    "    OneHotEncoder, \n",
    "    StandardScaler, \n",
    "    MinMaxScaler\n",
    ")\n",
    "from sklearn.svm import SVR\n",
    "from sklearn.metrics import (\n",
    "    r2_score, \n",
    "    mean_squared_error, \n",
    "    mean_absolute_error, \n",
    "    mean_absolute_percentage_error\n",
    ")\n",
    "\n",
    "import warnings\n",
    "warnings.filterwarnings('ignore')\n",
    "\n",
    "np.random.seed(12345)"
   ]
  },
  {
   "cell_type": "markdown",
   "id": "6707b8de",
   "metadata": {},
   "source": [
    "# 2. Read Data"
   ]
  },
  {
   "cell_type": "code",
   "execution_count": 2,
   "id": "89c2e441",
   "metadata": {
    "scrolled": true
   },
   "outputs": [
    {
     "data": {
      "text/html": [
       "<div>\n",
       "<style scoped>\n",
       "    .dataframe tbody tr th:only-of-type {\n",
       "        vertical-align: middle;\n",
       "    }\n",
       "\n",
       "    .dataframe tbody tr th {\n",
       "        vertical-align: top;\n",
       "    }\n",
       "\n",
       "    .dataframe thead th {\n",
       "        text-align: right;\n",
       "    }\n",
       "</style>\n",
       "<table border=\"1\" class=\"dataframe\">\n",
       "  <thead>\n",
       "    <tr style=\"text-align: right;\">\n",
       "      <th></th>\n",
       "      <th>Cement (component 1)(kg in a m^3 mixture)</th>\n",
       "      <th>Blast Furnace Slag (component 2)(kg in a m^3 mixture)</th>\n",
       "      <th>Fly Ash (component 3)(kg in a m^3 mixture)</th>\n",
       "      <th>Water  (component 4)(kg in a m^3 mixture)</th>\n",
       "      <th>Superplasticizer (component 5)(kg in a m^3 mixture)</th>\n",
       "      <th>Coarse Aggregate  (component 6)(kg in a m^3 mixture)</th>\n",
       "      <th>Fine Aggregate (component 7)(kg in a m^3 mixture)</th>\n",
       "      <th>Age (day)</th>\n",
       "      <th>Concrete compressive strength(MPa, megapascals)</th>\n",
       "    </tr>\n",
       "  </thead>\n",
       "  <tbody>\n",
       "    <tr>\n",
       "      <th>0</th>\n",
       "      <td>540.0</td>\n",
       "      <td>0.0</td>\n",
       "      <td>0.0</td>\n",
       "      <td>162.0</td>\n",
       "      <td>2.5</td>\n",
       "      <td>1040.0</td>\n",
       "      <td>676.0</td>\n",
       "      <td>28</td>\n",
       "      <td>79.986111</td>\n",
       "    </tr>\n",
       "    <tr>\n",
       "      <th>1</th>\n",
       "      <td>540.0</td>\n",
       "      <td>0.0</td>\n",
       "      <td>0.0</td>\n",
       "      <td>162.0</td>\n",
       "      <td>2.5</td>\n",
       "      <td>1055.0</td>\n",
       "      <td>676.0</td>\n",
       "      <td>28</td>\n",
       "      <td>61.887366</td>\n",
       "    </tr>\n",
       "    <tr>\n",
       "      <th>2</th>\n",
       "      <td>332.5</td>\n",
       "      <td>142.5</td>\n",
       "      <td>0.0</td>\n",
       "      <td>228.0</td>\n",
       "      <td>0.0</td>\n",
       "      <td>932.0</td>\n",
       "      <td>594.0</td>\n",
       "      <td>270</td>\n",
       "      <td>40.269535</td>\n",
       "    </tr>\n",
       "    <tr>\n",
       "      <th>3</th>\n",
       "      <td>332.5</td>\n",
       "      <td>142.5</td>\n",
       "      <td>0.0</td>\n",
       "      <td>228.0</td>\n",
       "      <td>0.0</td>\n",
       "      <td>932.0</td>\n",
       "      <td>594.0</td>\n",
       "      <td>365</td>\n",
       "      <td>41.052780</td>\n",
       "    </tr>\n",
       "    <tr>\n",
       "      <th>4</th>\n",
       "      <td>198.6</td>\n",
       "      <td>132.4</td>\n",
       "      <td>0.0</td>\n",
       "      <td>192.0</td>\n",
       "      <td>0.0</td>\n",
       "      <td>978.4</td>\n",
       "      <td>825.5</td>\n",
       "      <td>360</td>\n",
       "      <td>44.296075</td>\n",
       "    </tr>\n",
       "    <tr>\n",
       "      <th>...</th>\n",
       "      <td>...</td>\n",
       "      <td>...</td>\n",
       "      <td>...</td>\n",
       "      <td>...</td>\n",
       "      <td>...</td>\n",
       "      <td>...</td>\n",
       "      <td>...</td>\n",
       "      <td>...</td>\n",
       "      <td>...</td>\n",
       "    </tr>\n",
       "    <tr>\n",
       "      <th>1025</th>\n",
       "      <td>276.4</td>\n",
       "      <td>116.0</td>\n",
       "      <td>90.3</td>\n",
       "      <td>179.6</td>\n",
       "      <td>8.9</td>\n",
       "      <td>870.1</td>\n",
       "      <td>768.3</td>\n",
       "      <td>28</td>\n",
       "      <td>44.284354</td>\n",
       "    </tr>\n",
       "    <tr>\n",
       "      <th>1026</th>\n",
       "      <td>322.2</td>\n",
       "      <td>0.0</td>\n",
       "      <td>115.6</td>\n",
       "      <td>196.0</td>\n",
       "      <td>10.4</td>\n",
       "      <td>817.9</td>\n",
       "      <td>813.4</td>\n",
       "      <td>28</td>\n",
       "      <td>31.178794</td>\n",
       "    </tr>\n",
       "    <tr>\n",
       "      <th>1027</th>\n",
       "      <td>148.5</td>\n",
       "      <td>139.4</td>\n",
       "      <td>108.6</td>\n",
       "      <td>192.7</td>\n",
       "      <td>6.1</td>\n",
       "      <td>892.4</td>\n",
       "      <td>780.0</td>\n",
       "      <td>28</td>\n",
       "      <td>23.696601</td>\n",
       "    </tr>\n",
       "    <tr>\n",
       "      <th>1028</th>\n",
       "      <td>159.1</td>\n",
       "      <td>186.7</td>\n",
       "      <td>0.0</td>\n",
       "      <td>175.6</td>\n",
       "      <td>11.3</td>\n",
       "      <td>989.6</td>\n",
       "      <td>788.9</td>\n",
       "      <td>28</td>\n",
       "      <td>32.768036</td>\n",
       "    </tr>\n",
       "    <tr>\n",
       "      <th>1029</th>\n",
       "      <td>260.9</td>\n",
       "      <td>100.5</td>\n",
       "      <td>78.3</td>\n",
       "      <td>200.6</td>\n",
       "      <td>8.6</td>\n",
       "      <td>864.5</td>\n",
       "      <td>761.5</td>\n",
       "      <td>28</td>\n",
       "      <td>32.401235</td>\n",
       "    </tr>\n",
       "  </tbody>\n",
       "</table>\n",
       "<p>1030 rows × 9 columns</p>\n",
       "</div>"
      ],
      "text/plain": [
       "      Cement (component 1)(kg in a m^3 mixture)  \\\n",
       "0                                         540.0   \n",
       "1                                         540.0   \n",
       "2                                         332.5   \n",
       "3                                         332.5   \n",
       "4                                         198.6   \n",
       "...                                         ...   \n",
       "1025                                      276.4   \n",
       "1026                                      322.2   \n",
       "1027                                      148.5   \n",
       "1028                                      159.1   \n",
       "1029                                      260.9   \n",
       "\n",
       "      Blast Furnace Slag (component 2)(kg in a m^3 mixture)  \\\n",
       "0                                                   0.0       \n",
       "1                                                   0.0       \n",
       "2                                                 142.5       \n",
       "3                                                 142.5       \n",
       "4                                                 132.4       \n",
       "...                                                 ...       \n",
       "1025                                              116.0       \n",
       "1026                                                0.0       \n",
       "1027                                              139.4       \n",
       "1028                                              186.7       \n",
       "1029                                              100.5       \n",
       "\n",
       "      Fly Ash (component 3)(kg in a m^3 mixture)  \\\n",
       "0                                            0.0   \n",
       "1                                            0.0   \n",
       "2                                            0.0   \n",
       "3                                            0.0   \n",
       "4                                            0.0   \n",
       "...                                          ...   \n",
       "1025                                        90.3   \n",
       "1026                                       115.6   \n",
       "1027                                       108.6   \n",
       "1028                                         0.0   \n",
       "1029                                        78.3   \n",
       "\n",
       "      Water  (component 4)(kg in a m^3 mixture)  \\\n",
       "0                                         162.0   \n",
       "1                                         162.0   \n",
       "2                                         228.0   \n",
       "3                                         228.0   \n",
       "4                                         192.0   \n",
       "...                                         ...   \n",
       "1025                                      179.6   \n",
       "1026                                      196.0   \n",
       "1027                                      192.7   \n",
       "1028                                      175.6   \n",
       "1029                                      200.6   \n",
       "\n",
       "      Superplasticizer (component 5)(kg in a m^3 mixture)  \\\n",
       "0                                                   2.5     \n",
       "1                                                   2.5     \n",
       "2                                                   0.0     \n",
       "3                                                   0.0     \n",
       "4                                                   0.0     \n",
       "...                                                 ...     \n",
       "1025                                                8.9     \n",
       "1026                                               10.4     \n",
       "1027                                                6.1     \n",
       "1028                                               11.3     \n",
       "1029                                                8.6     \n",
       "\n",
       "      Coarse Aggregate  (component 6)(kg in a m^3 mixture)  \\\n",
       "0                                                1040.0      \n",
       "1                                                1055.0      \n",
       "2                                                 932.0      \n",
       "3                                                 932.0      \n",
       "4                                                 978.4      \n",
       "...                                                 ...      \n",
       "1025                                              870.1      \n",
       "1026                                              817.9      \n",
       "1027                                              892.4      \n",
       "1028                                              989.6      \n",
       "1029                                              864.5      \n",
       "\n",
       "      Fine Aggregate (component 7)(kg in a m^3 mixture)  Age (day)  \\\n",
       "0                                                 676.0         28   \n",
       "1                                                 676.0         28   \n",
       "2                                                 594.0        270   \n",
       "3                                                 594.0        365   \n",
       "4                                                 825.5        360   \n",
       "...                                                 ...        ...   \n",
       "1025                                              768.3         28   \n",
       "1026                                              813.4         28   \n",
       "1027                                              780.0         28   \n",
       "1028                                              788.9         28   \n",
       "1029                                              761.5         28   \n",
       "\n",
       "      Concrete compressive strength(MPa, megapascals)  \n",
       "0                                           79.986111  \n",
       "1                                           61.887366  \n",
       "2                                           40.269535  \n",
       "3                                           41.052780  \n",
       "4                                           44.296075  \n",
       "...                                               ...  \n",
       "1025                                        44.284354  \n",
       "1026                                        31.178794  \n",
       "1027                                        23.696601  \n",
       "1028                                        32.768036  \n",
       "1029                                        32.401235  \n",
       "\n",
       "[1030 rows x 9 columns]"
      ]
     },
     "execution_count": 2,
     "metadata": {},
     "output_type": "execute_result"
    }
   ],
   "source": [
    "data = pd.read_excel('concrete_dataset.xlsx')\n",
    "\n",
    "data"
   ]
  },
  {
   "cell_type": "markdown",
   "id": "aa424a64",
   "metadata": {},
   "source": [
    "# 3. Clean Data"
   ]
  },
  {
   "cell_type": "markdown",
   "id": "bc4f7a96",
   "metadata": {},
   "source": [
    "## 3.1. Handle Missing Values"
   ]
  },
  {
   "cell_type": "markdown",
   "id": "2b59944e",
   "metadata": {},
   "source": [
    "### 3.1.1. Check Missing Values"
   ]
  },
  {
   "cell_type": "code",
   "execution_count": 3,
   "id": "8a02b878",
   "metadata": {},
   "outputs": [
    {
     "name": "stdout",
     "output_type": "stream",
     "text": [
      "<class 'pandas.core.frame.DataFrame'>\n",
      "RangeIndex: 1030 entries, 0 to 1029\n",
      "Data columns (total 9 columns):\n",
      " #   Column                                                 Non-Null Count  Dtype  \n",
      "---  ------                                                 --------------  -----  \n",
      " 0   Cement (component 1)(kg in a m^3 mixture)              1030 non-null   float64\n",
      " 1   Blast Furnace Slag (component 2)(kg in a m^3 mixture)  1030 non-null   float64\n",
      " 2   Fly Ash (component 3)(kg in a m^3 mixture)             1030 non-null   float64\n",
      " 3   Water  (component 4)(kg in a m^3 mixture)              1030 non-null   float64\n",
      " 4   Superplasticizer (component 5)(kg in a m^3 mixture)    1030 non-null   float64\n",
      " 5   Coarse Aggregate  (component 6)(kg in a m^3 mixture)   1030 non-null   float64\n",
      " 6   Fine Aggregate (component 7)(kg in a m^3 mixture)      1030 non-null   float64\n",
      " 7   Age (day)                                              1030 non-null   int64  \n",
      " 8   Concrete compressive strength(MPa, megapascals)        1030 non-null   float64\n",
      "dtypes: float64(8), int64(1)\n",
      "memory usage: 72.5 KB\n"
     ]
    }
   ],
   "source": [
    "data.info()"
   ]
  },
  {
   "cell_type": "markdown",
   "id": "44279ff4",
   "metadata": {},
   "source": [
    "### 3.1.2. Remove Missing Values (Listwise Deletion)"
   ]
  },
  {
   "cell_type": "code",
   "execution_count": 4,
   "id": "7a3da168",
   "metadata": {},
   "outputs": [],
   "source": [
    "data.dropna(axis=0, inplace=True)"
   ]
  },
  {
   "cell_type": "markdown",
   "id": "5fed6619",
   "metadata": {},
   "source": [
    "## 3.2. Handle Outliers"
   ]
  },
  {
   "cell_type": "markdown",
   "id": "89eb99fe",
   "metadata": {},
   "source": [
    "### 3.2.1. Check Outliers"
   ]
  },
  {
   "cell_type": "code",
   "execution_count": 5,
   "id": "8400e390",
   "metadata": {},
   "outputs": [
    {
     "data": {
      "text/html": [
       "<div>\n",
       "<style scoped>\n",
       "    .dataframe tbody tr th:only-of-type {\n",
       "        vertical-align: middle;\n",
       "    }\n",
       "\n",
       "    .dataframe tbody tr th {\n",
       "        vertical-align: top;\n",
       "    }\n",
       "\n",
       "    .dataframe thead th {\n",
       "        text-align: right;\n",
       "    }\n",
       "</style>\n",
       "<table border=\"1\" class=\"dataframe\">\n",
       "  <thead>\n",
       "    <tr style=\"text-align: right;\">\n",
       "      <th></th>\n",
       "      <th>Cement (component 1)(kg in a m^3 mixture)</th>\n",
       "      <th>Blast Furnace Slag (component 2)(kg in a m^3 mixture)</th>\n",
       "      <th>Fly Ash (component 3)(kg in a m^3 mixture)</th>\n",
       "      <th>Water  (component 4)(kg in a m^3 mixture)</th>\n",
       "      <th>Superplasticizer (component 5)(kg in a m^3 mixture)</th>\n",
       "      <th>Coarse Aggregate  (component 6)(kg in a m^3 mixture)</th>\n",
       "      <th>Fine Aggregate (component 7)(kg in a m^3 mixture)</th>\n",
       "      <th>Age (day)</th>\n",
       "      <th>Concrete compressive strength(MPa, megapascals)</th>\n",
       "    </tr>\n",
       "  </thead>\n",
       "  <tbody>\n",
       "    <tr>\n",
       "      <th>count</th>\n",
       "      <td>1030.000000</td>\n",
       "      <td>1030.000000</td>\n",
       "      <td>1030.000000</td>\n",
       "      <td>1030.000000</td>\n",
       "      <td>1030.000000</td>\n",
       "      <td>1030.000000</td>\n",
       "      <td>1030.000000</td>\n",
       "      <td>1030.000000</td>\n",
       "      <td>1030.000000</td>\n",
       "    </tr>\n",
       "    <tr>\n",
       "      <th>mean</th>\n",
       "      <td>281.165631</td>\n",
       "      <td>73.895485</td>\n",
       "      <td>54.187136</td>\n",
       "      <td>181.566359</td>\n",
       "      <td>6.203112</td>\n",
       "      <td>972.918592</td>\n",
       "      <td>773.578883</td>\n",
       "      <td>45.662136</td>\n",
       "      <td>35.817836</td>\n",
       "    </tr>\n",
       "    <tr>\n",
       "      <th>std</th>\n",
       "      <td>104.507142</td>\n",
       "      <td>86.279104</td>\n",
       "      <td>63.996469</td>\n",
       "      <td>21.355567</td>\n",
       "      <td>5.973492</td>\n",
       "      <td>77.753818</td>\n",
       "      <td>80.175427</td>\n",
       "      <td>63.169912</td>\n",
       "      <td>16.705679</td>\n",
       "    </tr>\n",
       "    <tr>\n",
       "      <th>min</th>\n",
       "      <td>102.000000</td>\n",
       "      <td>0.000000</td>\n",
       "      <td>0.000000</td>\n",
       "      <td>121.750000</td>\n",
       "      <td>0.000000</td>\n",
       "      <td>801.000000</td>\n",
       "      <td>594.000000</td>\n",
       "      <td>1.000000</td>\n",
       "      <td>2.331808</td>\n",
       "    </tr>\n",
       "    <tr>\n",
       "      <th>25%</th>\n",
       "      <td>192.375000</td>\n",
       "      <td>0.000000</td>\n",
       "      <td>0.000000</td>\n",
       "      <td>164.900000</td>\n",
       "      <td>0.000000</td>\n",
       "      <td>932.000000</td>\n",
       "      <td>730.950000</td>\n",
       "      <td>7.000000</td>\n",
       "      <td>23.707115</td>\n",
       "    </tr>\n",
       "    <tr>\n",
       "      <th>50%</th>\n",
       "      <td>272.900000</td>\n",
       "      <td>22.000000</td>\n",
       "      <td>0.000000</td>\n",
       "      <td>185.000000</td>\n",
       "      <td>6.350000</td>\n",
       "      <td>968.000000</td>\n",
       "      <td>779.510000</td>\n",
       "      <td>28.000000</td>\n",
       "      <td>34.442774</td>\n",
       "    </tr>\n",
       "    <tr>\n",
       "      <th>75%</th>\n",
       "      <td>350.000000</td>\n",
       "      <td>142.950000</td>\n",
       "      <td>118.270000</td>\n",
       "      <td>192.000000</td>\n",
       "      <td>10.160000</td>\n",
       "      <td>1029.400000</td>\n",
       "      <td>824.000000</td>\n",
       "      <td>56.000000</td>\n",
       "      <td>46.136287</td>\n",
       "    </tr>\n",
       "    <tr>\n",
       "      <th>max</th>\n",
       "      <td>540.000000</td>\n",
       "      <td>359.400000</td>\n",
       "      <td>200.100000</td>\n",
       "      <td>247.000000</td>\n",
       "      <td>32.200000</td>\n",
       "      <td>1145.000000</td>\n",
       "      <td>992.600000</td>\n",
       "      <td>365.000000</td>\n",
       "      <td>82.599225</td>\n",
       "    </tr>\n",
       "  </tbody>\n",
       "</table>\n",
       "</div>"
      ],
      "text/plain": [
       "       Cement (component 1)(kg in a m^3 mixture)  \\\n",
       "count                                1030.000000   \n",
       "mean                                  281.165631   \n",
       "std                                   104.507142   \n",
       "min                                   102.000000   \n",
       "25%                                   192.375000   \n",
       "50%                                   272.900000   \n",
       "75%                                   350.000000   \n",
       "max                                   540.000000   \n",
       "\n",
       "       Blast Furnace Slag (component 2)(kg in a m^3 mixture)  \\\n",
       "count                                        1030.000000       \n",
       "mean                                           73.895485       \n",
       "std                                            86.279104       \n",
       "min                                             0.000000       \n",
       "25%                                             0.000000       \n",
       "50%                                            22.000000       \n",
       "75%                                           142.950000       \n",
       "max                                           359.400000       \n",
       "\n",
       "       Fly Ash (component 3)(kg in a m^3 mixture)  \\\n",
       "count                                 1030.000000   \n",
       "mean                                    54.187136   \n",
       "std                                     63.996469   \n",
       "min                                      0.000000   \n",
       "25%                                      0.000000   \n",
       "50%                                      0.000000   \n",
       "75%                                    118.270000   \n",
       "max                                    200.100000   \n",
       "\n",
       "       Water  (component 4)(kg in a m^3 mixture)  \\\n",
       "count                                1030.000000   \n",
       "mean                                  181.566359   \n",
       "std                                    21.355567   \n",
       "min                                   121.750000   \n",
       "25%                                   164.900000   \n",
       "50%                                   185.000000   \n",
       "75%                                   192.000000   \n",
       "max                                   247.000000   \n",
       "\n",
       "       Superplasticizer (component 5)(kg in a m^3 mixture)  \\\n",
       "count                                        1030.000000     \n",
       "mean                                            6.203112     \n",
       "std                                             5.973492     \n",
       "min                                             0.000000     \n",
       "25%                                             0.000000     \n",
       "50%                                             6.350000     \n",
       "75%                                            10.160000     \n",
       "max                                            32.200000     \n",
       "\n",
       "       Coarse Aggregate  (component 6)(kg in a m^3 mixture)  \\\n",
       "count                                        1030.000000      \n",
       "mean                                          972.918592      \n",
       "std                                            77.753818      \n",
       "min                                           801.000000      \n",
       "25%                                           932.000000      \n",
       "50%                                           968.000000      \n",
       "75%                                          1029.400000      \n",
       "max                                          1145.000000      \n",
       "\n",
       "       Fine Aggregate (component 7)(kg in a m^3 mixture)    Age (day)  \\\n",
       "count                                        1030.000000  1030.000000   \n",
       "mean                                          773.578883    45.662136   \n",
       "std                                            80.175427    63.169912   \n",
       "min                                           594.000000     1.000000   \n",
       "25%                                           730.950000     7.000000   \n",
       "50%                                           779.510000    28.000000   \n",
       "75%                                           824.000000    56.000000   \n",
       "max                                           992.600000   365.000000   \n",
       "\n",
       "       Concrete compressive strength(MPa, megapascals)  \n",
       "count                                      1030.000000  \n",
       "mean                                         35.817836  \n",
       "std                                          16.705679  \n",
       "min                                           2.331808  \n",
       "25%                                          23.707115  \n",
       "50%                                          34.442774  \n",
       "75%                                          46.136287  \n",
       "max                                          82.599225  "
      ]
     },
     "execution_count": 5,
     "metadata": {},
     "output_type": "execute_result"
    }
   ],
   "source": [
    "data.describe()"
   ]
  },
  {
   "cell_type": "markdown",
   "id": "62561b7e",
   "metadata": {},
   "source": [
    "### 3.2.2. Remove Outliers"
   ]
  },
  {
   "cell_type": "code",
   "execution_count": 6,
   "id": "f3524d5d",
   "metadata": {},
   "outputs": [],
   "source": [
    "# no outlier to remove"
   ]
  },
  {
   "cell_type": "markdown",
   "id": "50cdff68",
   "metadata": {},
   "source": [
    "# 4. Split Dataset into Training & Test Sets"
   ]
  },
  {
   "cell_type": "code",
   "execution_count": 7,
   "id": "d3ef93cc",
   "metadata": {},
   "outputs": [],
   "source": [
    "target_name = 'Concrete compressive strength(MPa, megapascals)'\n",
    "feature_name = list(data.columns.drop(target_name))"
   ]
  },
  {
   "cell_type": "code",
   "execution_count": 8,
   "id": "610f9450",
   "metadata": {},
   "outputs": [],
   "source": [
    "X = data[feature_name]\n",
    "y = data[target_name]"
   ]
  },
  {
   "cell_type": "code",
   "execution_count": 10,
   "id": "13cae49d",
   "metadata": {},
   "outputs": [],
   "source": [
    "X_train, X_test, y_train, y_test = train_test_split(X, y, test_size=0.20, shuffle=True)"
   ]
  },
  {
   "cell_type": "markdown",
   "id": "ed13b65f",
   "metadata": {},
   "source": [
    "# 5. Data Preparation"
   ]
  },
  {
   "cell_type": "markdown",
   "id": "7e7af4f1",
   "metadata": {},
   "source": [
    "## ### 5.1. Ordinal Encoding"
   ]
  },
  {
   "cell_type": "markdown",
   "id": "a25e32e6",
   "metadata": {},
   "source": [
    "## ### 5.2. One Hot Encoding"
   ]
  },
  {
   "cell_type": "markdown",
   "id": "6aeaeb0a",
   "metadata": {},
   "source": [
    "## 5.3. Feature Scaling"
   ]
  },
  {
   "cell_type": "markdown",
   "id": "6bd90e8d",
   "metadata": {},
   "source": [
    "### 5.3.1. Training Set"
   ]
  },
  {
   "cell_type": "code",
   "execution_count": 11,
   "id": "bd4efdd2",
   "metadata": {},
   "outputs": [],
   "source": [
    "scaler = MinMaxScaler()\n",
    "X_train_scaled = scaler.fit_transform(X_train)"
   ]
  },
  {
   "cell_type": "markdown",
   "id": "f370ec47",
   "metadata": {},
   "source": [
    "### 5.3.2. Test Set"
   ]
  },
  {
   "cell_type": "code",
   "execution_count": 12,
   "id": "72df8ec8",
   "metadata": {},
   "outputs": [],
   "source": [
    "X_test_scaled = scaler.transform(X_test)"
   ]
  },
  {
   "cell_type": "markdown",
   "id": "f77fb5ee",
   "metadata": {},
   "source": [
    "# 6. Model Creation"
   ]
  },
  {
   "cell_type": "markdown",
   "id": "e81df55a",
   "metadata": {},
   "source": [
    "## 6.1. Setting Parameters"
   ]
  },
  {
   "cell_type": "code",
   "execution_count": 13,
   "id": "fd1486a3",
   "metadata": {},
   "outputs": [],
   "source": [
    "reg = SVR()"
   ]
  },
  {
   "cell_type": "markdown",
   "id": "4cb08aa4",
   "metadata": {},
   "source": [
    "## 6.2. Train Model"
   ]
  },
  {
   "cell_type": "code",
   "execution_count": 14,
   "id": "8aa8df52",
   "metadata": {},
   "outputs": [
    {
     "data": {
      "text/plain": [
       "SVR()"
      ]
     },
     "execution_count": 14,
     "metadata": {},
     "output_type": "execute_result"
    }
   ],
   "source": [
    "reg.fit(X_train_scaled, y_train)"
   ]
  },
  {
   "cell_type": "markdown",
   "id": "7f33bb7b",
   "metadata": {},
   "source": [
    "## 6.3. Model's Weight & Bias"
   ]
  },
  {
   "cell_type": "code",
   "execution_count": 15,
   "id": "ff6657d5",
   "metadata": {},
   "outputs": [
    {
     "data": {
      "text/plain": [
       "array([[ 1.        ,  1.        , -1.        , -1.        , -1.        ,\n",
       "        -1.        , -1.        ,  1.        , -1.        , -1.        ,\n",
       "         1.        , -0.66668842,  1.        , -1.        , -1.        ,\n",
       "         1.        , -1.        , -1.        , -1.        , -1.        ,\n",
       "         1.        , -1.        , -1.        , -1.        , -1.        ,\n",
       "        -1.        ,  1.        ,  1.        , -1.        ,  1.        ,\n",
       "         1.        ,  1.        ,  1.        , -1.        ,  1.        ,\n",
       "         1.        ,  1.        , -1.        ,  1.        ,  1.        ,\n",
       "        -1.        ,  1.        ,  1.        , -1.        ,  1.        ,\n",
       "        -1.        , -1.        , -1.        , -1.        , -1.        ,\n",
       "         1.        ,  1.        , -1.        , -0.38381752, -1.        ,\n",
       "        -1.        , -1.        ,  1.        ,  1.        , -1.        ,\n",
       "         1.        , -1.        , -1.        , -1.        , -1.        ,\n",
       "         1.        , -1.        ,  1.        , -1.        , -1.        ,\n",
       "         1.        , -1.        , -1.        , -1.        , -1.        ,\n",
       "         1.        ,  1.        ,  1.        ,  1.        , -1.        ,\n",
       "        -1.        ,  1.        ,  1.        ,  1.        , -1.        ,\n",
       "         1.        , -1.        ,  1.        , -1.        ,  1.        ,\n",
       "        -1.        , -1.        ,  1.        , -1.        ,  1.        ,\n",
       "         1.        ,  1.        , -1.        ,  1.        ,  1.        ,\n",
       "         1.        ,  1.        , -1.        , -1.        ,  1.        ,\n",
       "         1.        ,  1.        ,  1.        , -1.        ,  1.        ,\n",
       "         1.        , -1.        ,  1.        ,  1.        ,  1.        ,\n",
       "        -1.        ,  1.        ,  1.        , -1.        , -1.        ,\n",
       "         1.        , -1.        ,  1.        , -1.        , -1.        ,\n",
       "        -1.        ,  1.        , -1.        , -1.        , -1.        ,\n",
       "         1.        ,  1.        , -1.        ,  1.        , -1.        ,\n",
       "         1.        , -1.        , -1.        , -1.        , -1.        ,\n",
       "         1.        ,  1.        , -1.        ,  1.        , -1.        ,\n",
       "        -1.        ,  1.        ,  1.        ,  1.        ,  1.        ,\n",
       "        -1.        , -1.        ,  1.        , -1.        ,  0.49555674,\n",
       "        -1.        ,  1.        ,  1.        , -1.        , -1.        ,\n",
       "        -1.        , -1.        ,  1.        , -1.        , -1.        ,\n",
       "        -1.        ,  1.        ,  1.        ,  1.        , -1.        ,\n",
       "         1.        ,  1.        ,  1.        , -1.        , -1.        ,\n",
       "         1.        ,  1.        ,  1.        , -1.        ,  1.        ,\n",
       "        -1.        , -1.        , -1.        , -1.        , -1.        ,\n",
       "         1.        , -1.        ,  1.        ,  1.        , -1.        ,\n",
       "         1.        ,  1.        , -1.        , -1.        , -1.        ,\n",
       "        -1.        , -1.        , -1.        ,  1.        , -1.        ,\n",
       "        -1.        ,  1.        , -1.        , -1.        , -1.        ,\n",
       "         1.        , -1.        ,  1.        , -1.        , -1.        ,\n",
       "        -1.        , -1.        ,  1.        ,  1.        ,  1.        ,\n",
       "         1.        , -1.        ,  1.        , -1.        ,  1.        ,\n",
       "        -1.        ,  1.        , -1.        ,  1.        ,  1.        ,\n",
       "         1.        , -1.        , -1.        ,  1.        , -1.        ,\n",
       "        -1.        ,  1.        ,  1.        ,  1.        ,  1.        ,\n",
       "        -1.        ,  1.        ,  1.        , -1.        , -1.        ,\n",
       "         1.        ,  1.        ,  1.        ,  1.        , -1.        ,\n",
       "         1.        , -1.        ,  1.        ,  1.        , -1.        ,\n",
       "        -1.        ,  1.        ,  1.        ,  1.        ,  1.        ,\n",
       "        -1.        , -1.        ,  1.        , -0.92819004,  1.        ,\n",
       "         1.        ,  1.        , -1.        ,  1.        , -1.        ,\n",
       "         1.        ,  1.        , -0.02302878, -0.8132683 , -1.        ,\n",
       "         1.        , -1.        ,  1.        , -1.        , -1.        ,\n",
       "         1.        , -0.58365839,  1.        ,  1.        ,  1.        ,\n",
       "         1.        ,  1.        ,  1.        ,  1.        , -1.        ,\n",
       "         1.        ,  1.        ,  1.        ,  1.        ,  0.2503108 ,\n",
       "         1.        , -1.        , -1.        ,  1.        ,  1.        ,\n",
       "         1.        , -1.        ,  1.        , -1.        , -1.        ,\n",
       "         1.        ,  1.        , -1.        , -1.        ,  1.        ,\n",
       "        -1.        , -1.        ,  1.        ,  1.        , -1.        ,\n",
       "         1.        , -1.        ,  1.        , -1.        ,  1.        ,\n",
       "        -1.        ,  1.        ,  1.        , -1.        ,  1.        ,\n",
       "         1.        , -1.        ,  1.        ,  1.        , -1.        ,\n",
       "         1.        , -1.        ,  1.        ,  1.        ,  0.59047939,\n",
       "        -1.        , -1.        ,  1.        , -1.        ,  1.        ,\n",
       "         1.        , -1.        ,  1.        ,  1.        ,  1.        ,\n",
       "         1.        , -1.        ,  1.        ,  1.        , -1.        ,\n",
       "        -1.        ,  1.        ,  1.        , -1.        ,  1.        ,\n",
       "        -1.        ,  1.        ,  1.        , -1.        ,  1.        ,\n",
       "         1.        , -1.        ,  1.        , -0.16603055,  1.        ,\n",
       "        -1.        ,  1.        , -1.        , -1.        ,  1.        ,\n",
       "        -1.        , -1.        ,  1.        , -1.        , -1.        ,\n",
       "        -1.        ,  1.        ,  1.        , -1.        , -1.        ,\n",
       "         1.        ,  1.        ,  0.89269772, -1.        , -1.        ,\n",
       "         1.        , -1.        , -1.        , -1.        ,  1.        ,\n",
       "        -1.        , -1.        ,  1.        , -1.        ,  1.        ,\n",
       "         1.        , -1.        , -1.        ,  1.        , -1.        ,\n",
       "         1.        ,  1.        , -1.        , -1.        ,  1.        ,\n",
       "        -1.        ,  1.        , -1.        ,  1.        ,  1.        ,\n",
       "         1.        ,  1.        , -1.        , -1.        , -1.        ,\n",
       "        -1.        , -1.        , -0.2553279 , -1.        , -1.        ,\n",
       "        -1.        , -1.        , -1.        , -1.        ,  1.        ,\n",
       "         1.        ,  1.        , -1.        , -1.        , -1.        ,\n",
       "         1.        ,  1.        , -1.        , -1.        ,  1.        ,\n",
       "        -1.        ,  1.        ,  1.        , -1.        ,  1.        ,\n",
       "        -1.        , -1.        , -1.        , -1.        , -1.        ,\n",
       "         1.        ,  1.        , -1.        ,  1.        , -1.        ,\n",
       "        -1.        ,  1.        ,  1.        ,  1.        , -1.        ,\n",
       "        -1.        , -1.        , -1.        , -1.        ,  1.        ,\n",
       "        -1.        ,  1.        ,  1.        , -1.        , -1.        ,\n",
       "        -1.        ,  1.        , -1.        , -1.        , -0.36643021,\n",
       "         1.        , -1.        , -1.        , -1.        ,  1.        ,\n",
       "         1.        , -1.        ,  1.        , -1.        , -1.        ,\n",
       "        -1.        , -1.        , -1.        ,  1.        , -1.        ,\n",
       "         1.        ,  1.        , -1.        , -1.        ,  1.        ,\n",
       "         1.        ,  1.        ,  1.        , -1.        , -1.        ,\n",
       "        -1.        ,  1.        , -1.        ,  1.        , -1.        ,\n",
       "         1.        , -1.        ,  1.        ,  1.        , -1.        ,\n",
       "         1.        , -1.        ,  1.        , -1.        , -1.        ,\n",
       "         1.        , -1.        ,  1.        , -1.        , -1.        ,\n",
       "         1.        , -1.        , -1.        , -1.        ,  1.        ,\n",
       "        -1.        ,  1.        , -1.        ,  0.89182946,  1.        ,\n",
       "        -1.        ,  1.        , -1.        ,  1.        , -1.        ,\n",
       "         1.        , -1.        , -0.15041914, -1.        ,  1.        ,\n",
       "        -1.        , -1.        , -1.        , -1.        ,  1.        ,\n",
       "        -1.        , -1.        , -1.        ,  1.        , -1.        ,\n",
       "         1.        , -1.        ,  1.        ,  1.        ,  1.        ,\n",
       "         1.        , -1.        , -1.        ,  1.        ,  1.        ,\n",
       "        -1.        ,  1.        , -1.        , -1.        , -1.        ,\n",
       "         1.        ,  1.        ,  1.        , -1.        ,  1.        ,\n",
       "         1.        ,  1.        , -1.        ,  1.        ,  1.        ,\n",
       "        -1.        , -1.        ,  1.        , -1.        ,  1.        ,\n",
       "         1.        , -1.        , -1.        , -1.        ,  1.        ,\n",
       "         1.        ,  1.        , -1.        ,  1.        , -1.        ,\n",
       "         1.        , -1.        ,  1.        ,  1.        ,  1.        ,\n",
       "         1.        ,  1.        , -1.        ,  1.        , -1.        ,\n",
       "         1.        , -1.        , -1.        ,  1.        , -1.        ,\n",
       "        -1.        ,  1.        ,  1.        , -1.        ,  1.        ,\n",
       "        -1.        ,  1.        ,  1.        , -1.        ,  1.        ,\n",
       "         1.        , -1.        ,  1.        , -1.        ,  1.        ,\n",
       "         1.        , -1.        , -1.        ,  1.        , -1.        ,\n",
       "         1.        , -1.        , -1.        , -1.        ,  1.        ,\n",
       "         1.        , -1.        , -1.        , -1.        , -1.        ,\n",
       "         1.        , -1.        ,  1.        ,  1.        , -1.        ,\n",
       "        -1.        , -1.        ,  1.        ,  1.        , -1.        ,\n",
       "        -1.        , -1.        , -1.        ,  1.        ,  1.        ,\n",
       "         1.        ,  1.        ,  1.        , -1.        , -0.37463739,\n",
       "        -1.        ,  1.        ,  1.        , -1.        , -1.        ,\n",
       "         1.        , -1.        ,  1.        ,  1.        ,  1.        ,\n",
       "        -1.        , -1.        ,  1.        , -1.        , -1.        ,\n",
       "         1.        , -1.        ,  1.        , -1.        , -1.        ,\n",
       "        -1.        ,  1.        ,  1.        , -1.        ,  1.        ,\n",
       "        -1.        , -1.        ,  1.        ,  1.        , -1.        ,\n",
       "        -1.        , -1.        ,  1.        ,  1.        ,  1.        ,\n",
       "         1.        , -1.        ,  1.        ,  1.        , -1.        ,\n",
       "         1.        , -1.        , -1.        ,  1.        , -1.        ,\n",
       "         1.        ,  1.        , -1.        ,  1.        ,  1.        ,\n",
       "        -1.        ,  1.        , -1.        ,  1.        ,  1.        ,\n",
       "        -1.        ,  1.        , -1.        , -1.        ,  1.        ,\n",
       "         1.        ,  1.        ,  1.        ,  1.        , -1.        ,\n",
       "        -1.        , -1.        ,  1.        , -1.        , -1.        ,\n",
       "         1.        , -1.        ,  1.        , -1.        ,  1.        ,\n",
       "         1.        ,  1.        ,  1.        , -1.        , -1.        ,\n",
       "         1.        , -1.        ,  1.        , -1.        , -1.        ,\n",
       "         1.        , -1.        , -1.        ,  1.        ,  1.        ,\n",
       "         1.        , -1.        , -1.        ,  1.        , -1.        ,\n",
       "         1.        , -1.        ,  1.        , -1.        ,  1.        ,\n",
       "        -1.        , -1.        ,  1.        ,  1.        , -1.        ,\n",
       "        -1.        , -1.        ,  1.        , -1.        , -1.        ,\n",
       "         1.        , -1.        , -1.        , -1.        ,  1.        ,\n",
       "         1.        , -1.        ,  1.        ,  1.        , -1.        ,\n",
       "        -1.        ,  1.        ,  0.31393108, -1.        ,  1.        ,\n",
       "        -1.        , -1.        , -1.        ,  1.        ,  1.        ,\n",
       "         1.        ,  1.        , -1.        , -1.        ,  1.        ,\n",
       "        -1.        ,  1.        , -1.        ,  1.        , -1.        ,\n",
       "         1.        , -1.        , -1.        ,  1.        , -1.        ,\n",
       "         1.        ,  1.        ,  1.        ,  1.        , -1.        ,\n",
       "         1.        ,  1.        ,  1.        ,  1.        ,  1.        ,\n",
       "         1.        , -1.        , -1.        ,  1.        , -1.        ,\n",
       "         1.        , -1.        ,  1.        ,  1.        , -1.        ,\n",
       "        -1.        , -1.        ,  1.        ,  1.        ,  0.27669148,\n",
       "         1.        ,  1.        ,  1.        ,  1.        ]])"
      ]
     },
     "execution_count": 15,
     "metadata": {},
     "output_type": "execute_result"
    }
   ],
   "source": [
    "reg.dual_coef_"
   ]
  },
  {
   "cell_type": "code",
   "execution_count": 16,
   "id": "3890d9b6",
   "metadata": {
    "scrolled": false
   },
   "outputs": [
    {
     "data": {
      "text/plain": [
       "array([36.03556439])"
      ]
     },
     "execution_count": 16,
     "metadata": {},
     "output_type": "execute_result"
    }
   ],
   "source": [
    "reg.intercept_"
   ]
  },
  {
   "cell_type": "markdown",
   "id": "fee5da68",
   "metadata": {},
   "source": [
    "# 7. Prediction"
   ]
  },
  {
   "cell_type": "markdown",
   "id": "1290eb30",
   "metadata": {},
   "source": [
    "## 7.1. Training Set"
   ]
  },
  {
   "cell_type": "code",
   "execution_count": 17,
   "id": "f6ae8331",
   "metadata": {},
   "outputs": [],
   "source": [
    "y_pred_train = reg.predict(X_train_scaled)"
   ]
  },
  {
   "cell_type": "code",
   "execution_count": 18,
   "id": "86df5129",
   "metadata": {},
   "outputs": [
    {
     "data": {
      "text/plain": [
       "array([30.37650243, 51.27390697, 32.29359066, 27.56277033, 33.07496624,\n",
       "       25.40614581, 42.09939265, 19.44539765, 42.36580938, 30.74915022,\n",
       "       30.97952354, 27.76148038, 43.42299344, 38.20561283, 24.7779008 ,\n",
       "       33.84164044, 28.23764831, 20.92564884, 28.16831126, 34.09931184,\n",
       "       43.15435119, 21.36828909, 43.37965762, 41.26178105, 24.14073795,\n",
       "       21.69728199, 36.87301722, 37.35458531, 27.42005146, 36.58327288,\n",
       "       45.39971927, 33.76184115, 30.83060878, 30.04849054, 34.03074219,\n",
       "       28.83218251, 28.02065129, 49.55626032, 19.68005271, 25.7721669 ,\n",
       "       47.39321467, 18.7279205 , 57.16528053, 31.67876407, 33.63456597,\n",
       "       28.13961356, 24.52503465, 36.9039197 , 50.40727948, 21.07456268,\n",
       "       27.02995939, 33.31742308, 49.0371502 , 25.75386169, 33.86208721,\n",
       "       49.15303055, 26.77368887, 30.73831893, 55.17794834, 58.0055575 ,\n",
       "       20.87509975, 29.78686672, 49.91880824, 21.07286482, 28.60780787,\n",
       "       18.05171891, 28.01097145, 25.44118205, 35.35317773, 26.66192698,\n",
       "       27.10714012, 29.04661944, 26.83948062, 31.22733397, 29.71190124,\n",
       "       21.41041711, 20.43467034, 36.01760907, 31.85130219, 43.46931948,\n",
       "       40.94102774, 27.17083476, 37.70262637, 47.10053771, 30.409969  ,\n",
       "       31.79654868, 19.80111927, 29.20521091, 35.78934117, 20.39402937,\n",
       "       44.55392718, 41.50423504, 32.2312075 , 24.53912579, 25.03111764,\n",
       "       37.59711907, 33.45058138, 21.19478742, 34.65724257, 42.93937429,\n",
       "       27.68961395, 25.87109071, 33.15311802, 18.32349955, 31.62158349,\n",
       "       37.64536557, 43.47317267, 29.99719546, 23.60152094, 50.41661822,\n",
       "       33.30447827, 38.35385693, 32.87694538, 33.32897601, 54.89419783,\n",
       "       49.05928872, 23.85045482, 46.37226461, 36.06333362, 51.61701881,\n",
       "       23.41223353, 51.82537109, 20.78763549, 39.9336238 , 19.67257554,\n",
       "       25.65376697, 28.47996445, 30.62158876, 29.34634219, 45.04807433,\n",
       "       35.62004779, 33.00233583, 54.53385264, 18.39529284, 29.20119653,\n",
       "       24.11951118, 27.41670048, 33.31486627, 34.88833971, 33.01121757,\n",
       "       34.1978127 , 47.26180723, 48.52936318, 25.59957069, 19.47608737,\n",
       "       33.78826551, 29.12197833, 45.02497687, 34.40447483, 20.96970805,\n",
       "       39.88295842, 26.92809646, 33.55635691, 46.00096615, 16.47345754,\n",
       "       36.34752781, 30.05917275, 35.22069236, 24.24356803, 32.24430366,\n",
       "       40.93787511, 26.94084662, 30.2184264 , 42.48492422, 37.25120147,\n",
       "       18.28805011, 27.01411512, 50.11327837, 30.91963964, 33.35181336,\n",
       "       19.28120331, 42.68615727, 31.89782168, 42.84563839, 38.82692311,\n",
       "       40.86127905, 46.41617046, 39.59970725, 32.13007271, 44.97950255,\n",
       "       41.44204268, 22.49772048, 40.94102774, 26.50039723, 20.46614909,\n",
       "       44.53545713, 30.54567823, 27.80847913, 38.15712398, 32.72218784,\n",
       "       29.24029147, 55.04991997, 52.783449  , 35.9400993 , 20.52782056,\n",
       "       26.75937655, 33.66176946, 46.74939912, 19.72961693, 41.64217519,\n",
       "       29.5087056 , 30.71514003, 27.92921302, 32.45581287, 32.49922434,\n",
       "       21.23752456, 22.84049128, 17.72505378, 23.61447383, 17.70759518,\n",
       "       52.17042122, 22.82446851, 25.76822356, 37.66717474, 39.63058071,\n",
       "       46.09451496, 58.55283892, 24.23296382, 33.12559986, 30.69585226,\n",
       "       22.23566524, 31.92368371, 36.2308099 , 43.79917234, 44.78554106,\n",
       "       30.77426707, 49.72062485, 33.8196041 , 26.50856516, 44.56461859,\n",
       "       29.98994363, 23.10817957, 47.30969763, 48.87065033, 44.59909576,\n",
       "       40.38866303, 33.87966934, 28.35452393, 32.29327623, 48.00028131,\n",
       "       44.37240144, 28.2116871 , 55.65810861, 41.90964079, 29.59743156,\n",
       "       32.04267677, 51.67754387, 16.27292444, 28.97176664, 29.55199056,\n",
       "       34.26740116, 30.93504524, 45.1320943 , 42.42725543, 58.55283892,\n",
       "       24.40754302, 30.63715814, 29.70798674, 53.27642258, 26.30039852,\n",
       "       33.33563628, 51.75299034, 30.80444965, 44.07280804, 35.13108935,\n",
       "       30.04888809, 44.16597089, 40.07855295, 22.72986029, 46.99805832,\n",
       "       26.19663461, 46.31887635, 38.87901542, 34.1591004 , 51.0074907 ,\n",
       "       25.93118268, 35.62621706, 45.79831423, 27.73992929, 31.70928863,\n",
       "       37.11152547, 58.55283892, 43.65360722, 57.56769138, 34.42908306,\n",
       "       24.93568711, 36.46770389, 34.98270713, 35.22145266, 32.39191549,\n",
       "       29.4507429 , 24.6879035 , 35.99820577, 29.76738196, 29.33227378,\n",
       "       48.59162906, 34.90093089, 26.54638074, 32.88447783, 30.69414533,\n",
       "       51.61701881, 28.12509299, 25.70716272, 29.69351005, 31.11857691,\n",
       "       40.46700707, 31.96529848, 24.79406981, 36.16501572, 36.71259449,\n",
       "       27.42280438, 33.75578609, 26.75766752, 25.63261418, 33.46850948,\n",
       "       46.49809866, 34.47981138, 33.41576545, 46.74438426, 30.60771041,\n",
       "       40.10638957, 34.56794309, 34.14492279, 36.99187402, 25.65197696,\n",
       "       25.36021809, 23.33438346, 43.60624461, 47.47814846, 39.1166313 ,\n",
       "       39.18923629, 45.60725926, 43.6012256 , 37.43386912, 30.34549012,\n",
       "       41.7535658 , 33.04750748, 49.47755614, 42.47243528, 38.26469961,\n",
       "       33.60941836, 40.542525  , 32.10727713, 37.96997465, 36.86561993,\n",
       "       44.62386993, 35.77567841, 28.00711403, 49.20874683, 23.66558454,\n",
       "       44.7502203 , 35.34725146, 30.18397475, 40.47586474, 29.35500732,\n",
       "       51.61701881, 37.0559485 , 46.85780432, 28.18143177, 44.22346309,\n",
       "       29.82348106, 51.38067767, 21.79960217, 43.97731748, 31.62942532,\n",
       "       49.83033142, 34.82041449, 31.69974585, 24.19352819, 49.90981745,\n",
       "       35.03576567, 23.92257943, 37.61158818, 55.65810861, 46.71321544,\n",
       "       31.71036144, 47.22249861, 43.42263015, 36.84151537, 37.81439623,\n",
       "       21.33548115, 35.03224526, 46.00096615, 24.90402777, 31.34561   ,\n",
       "       29.72107713, 26.32418044, 31.29470847, 28.60445842, 28.12784596,\n",
       "       30.77283765, 38.9228677 , 38.26335606, 26.07851625, 44.62790321,\n",
       "       36.1281736 , 42.67890026, 26.11950333, 52.783449  , 20.85778802,\n",
       "       29.96936155, 29.81966263, 30.56019055, 29.52542604, 23.03800088,\n",
       "       39.90454851, 56.88917555, 27.17658934, 55.65810861, 34.44798524,\n",
       "       23.25173737, 23.72134789, 45.2564492 , 26.98160292, 37.35941933,\n",
       "       33.01103548, 16.2145679 , 26.50251947, 27.55966055, 39.9183509 ,\n",
       "       35.51034259, 52.16227806, 38.95614822, 31.89043365, 21.46327644,\n",
       "       23.44229725, 29.95115311, 40.07602622, 33.38179617, 33.52520551,\n",
       "       19.813727  , 30.57063001, 42.17365265, 43.73415719, 30.38171249,\n",
       "       33.60477302, 31.61117156, 33.33550217, 21.37105984, 22.91247019,\n",
       "       34.01159999, 38.79991351, 28.2350457 , 30.76058941, 30.3782365 ,\n",
       "       22.37846441, 38.85844708, 28.84730979, 26.17443721, 27.04554305,\n",
       "       34.02555719, 43.92021279, 26.39001286, 44.97687492, 20.9112606 ,\n",
       "       30.12492365, 25.03488279, 33.48014793, 34.90556048, 28.97722865,\n",
       "       32.74629162, 46.02819034, 24.12017842, 18.64640364, 36.9550943 ,\n",
       "       32.14532707, 38.16377599, 29.96848307, 34.19659004, 30.25107242,\n",
       "       41.0844648 , 27.62590338, 40.54980922, 50.23785047, 21.28685202,\n",
       "       23.85895335, 50.16624593, 49.95307961, 23.65291694, 39.67316991,\n",
       "       34.81179079, 51.47481755, 25.12144476, 43.52395203, 58.55283892,\n",
       "       23.45934033, 43.37038091, 52.783449  , 50.28987435, 25.32301533,\n",
       "       29.45633893, 26.31352258, 23.1466818 , 45.22534133, 49.80031515,\n",
       "       26.73989054, 54.60414149, 27.81685019, 30.86155026, 43.01469006,\n",
       "       32.49115113, 37.385521  , 29.308413  , 42.56979278, 24.85281312,\n",
       "       40.39740071, 41.3500127 , 38.53300889, 35.62390927, 49.46841773,\n",
       "       40.06976279, 27.81328636, 15.90800777, 43.83097711, 21.31468281,\n",
       "       51.28378426, 27.93383751, 30.43045031, 36.66842145, 37.54585354,\n",
       "       31.5930729 , 20.49432207, 33.30223111, 23.32991099, 50.76984455,\n",
       "       30.25752181, 45.75408881, 27.86754739, 31.42435192, 21.43026089,\n",
       "       41.64287656, 20.97026459, 35.10328914, 46.83795994, 40.51925949,\n",
       "       26.5798228 , 36.85241929, 55.17794834, 21.46363427, 23.74379484,\n",
       "       22.50700048, 31.25170714, 41.33495138, 44.99139624, 32.33545489,\n",
       "       27.61747639, 30.60788743, 35.57941315, 32.84940408, 19.66089996,\n",
       "       30.55259508, 35.52480418, 34.80974177, 23.9544272 , 35.05799522,\n",
       "       24.83344128, 34.88331158, 32.31400574, 61.44899657, 44.28055403,\n",
       "       33.71508028, 22.14012027, 36.55775806, 34.38421964, 36.49190726,\n",
       "       31.58192359, 36.33109457, 37.81419813, 46.02643521, 27.91935089,\n",
       "       30.03909865, 24.09389548, 33.36463218, 36.87220289, 39.39361746,\n",
       "       26.11533553, 19.93487875, 31.43397421, 57.1954194 , 31.97408304,\n",
       "       29.94231647, 50.68965082, 41.81842383, 48.24998089, 40.70003614,\n",
       "       42.24020699, 29.63749359, 59.42241648, 45.17598323, 39.57047178,\n",
       "       30.53824185, 43.42499549, 16.55318679, 38.37088944, 35.81627035,\n",
       "       20.92465783, 36.40680135, 23.815286  , 34.44509952, 49.03925193,\n",
       "       26.887186  , 39.71165211, 52.14787469, 23.36775201, 43.84978619,\n",
       "       35.33193496, 41.47474429, 17.8391654 , 29.15526361, 41.16383798,\n",
       "       39.09761961, 48.02277196, 49.85045633, 38.55787021, 45.17569754,\n",
       "       30.79850836, 39.60430038, 35.87702569, 48.45382744, 15.48046683,\n",
       "       21.44098677, 25.02721929, 35.83244167, 54.51999821, 39.05265991,\n",
       "       22.14533878, 49.91880824, 30.55279871, 34.85078801, 30.49733305,\n",
       "       29.12116653, 38.59714908, 45.3244204 , 32.97939918, 55.19228062,\n",
       "       42.19303255, 31.0585321 , 39.57706697, 17.62887811, 43.14004122,\n",
       "       19.73369236, 41.64872116, 41.67593218, 42.33662698, 37.13449801,\n",
       "       37.60368531, 46.00569816, 22.53583302, 40.12467994, 33.79362353,\n",
       "       39.57744829, 26.66968053, 25.0335872 , 51.1177641 , 52.17042122,\n",
       "       30.88235708, 45.99280331, 53.27642258, 44.91758832, 43.08981866,\n",
       "       56.88917555, 17.57389067, 19.45727428, 35.03093903, 27.26647819,\n",
       "       25.25922916, 18.4351786 , 35.98570204, 26.07028142, 30.93737048,\n",
       "       56.73934935, 30.50089828, 45.62649075, 37.81380186, 20.42178951,\n",
       "       22.64399642, 40.84481733, 49.95307961, 24.66659821, 25.61192686,\n",
       "       44.87394925, 39.31044063, 43.79176724, 28.32727599, 21.48340433,\n",
       "       39.89202511, 40.70181025, 28.80987779, 44.36805055, 26.3277451 ,\n",
       "       27.83202397, 38.74490393, 34.52620035, 28.15940799, 47.77121145,\n",
       "       30.40977858, 38.60352459, 41.07227893, 18.44216235, 43.83793976,\n",
       "       34.28898786, 42.80161981, 38.8069431 , 30.43444573, 52.18358356,\n",
       "       33.29194712, 35.14105535, 38.08769162, 24.48273659, 40.80825243,\n",
       "       30.32851664, 52.59220016, 37.44855974, 20.31643679, 24.20576786,\n",
       "       32.7462927 , 32.15690178, 23.98309076, 26.10413062, 28.15676355,\n",
       "       43.42437042, 29.98798968, 29.75478216, 38.67857658, 26.98292511,\n",
       "       32.30601403, 26.90380435, 26.67460533, 27.0200907 , 33.91081976,\n",
       "       27.62331196, 36.92226621, 36.26637539, 31.57159832, 30.42260432,\n",
       "       26.91393589, 28.29365248, 26.39233356, 37.34952882, 34.97229882,\n",
       "       42.40826694, 31.63830997, 43.47916667, 28.04742376, 22.4226669 ,\n",
       "       51.42642288, 26.64471482, 43.12888618, 40.08035771, 22.34483121,\n",
       "       34.90814446, 32.47534324, 55.17794834, 34.85694447, 22.08207258,\n",
       "       31.21609243, 27.09070446, 33.16625337, 48.86695899, 27.99349844,\n",
       "       24.56639177, 40.84433811, 30.96481799, 28.85627297, 55.65810861,\n",
       "       32.80296597, 31.1117437 , 29.28905824, 43.15435119, 49.95307961,\n",
       "       34.6001906 , 30.46179747, 46.99829018, 34.05935212, 35.31787002,\n",
       "       51.28378426, 28.19167105, 31.737051  , 42.59336151, 43.44639623,\n",
       "       43.92229674, 40.35842436, 33.58279177, 28.10591938, 31.23178739,\n",
       "       23.4105745 , 47.81400854, 31.04380141, 48.05352664, 31.32223224,\n",
       "       47.26044078, 25.66474858, 31.97432232, 47.19601215, 27.27814874,\n",
       "       40.31155427, 41.66073374, 32.38739014, 30.87707761, 34.11455797,\n",
       "       38.0954451 , 38.08946188, 27.18399369, 43.48730858, 38.81345181,\n",
       "       48.74969568, 20.33762845, 46.7041898 , 28.67451921, 51.28378426,\n",
       "       34.98205143, 25.08584154, 25.79657315, 37.008293  , 26.50087664,\n",
       "       28.03957896, 49.95307961, 49.59166187, 21.83514042, 41.14447121,\n",
       "       27.16941926, 44.40665243, 52.783449  , 54.90106208])"
      ]
     },
     "execution_count": 18,
     "metadata": {},
     "output_type": "execute_result"
    }
   ],
   "source": [
    "y_pred_train"
   ]
  },
  {
   "cell_type": "markdown",
   "id": "20275bcf",
   "metadata": {},
   "source": [
    "## 7.2. Test Set"
   ]
  },
  {
   "cell_type": "code",
   "execution_count": 19,
   "id": "50cd359b",
   "metadata": {},
   "outputs": [],
   "source": [
    "y_pred_test = reg.predict(X_test_scaled)"
   ]
  },
  {
   "cell_type": "code",
   "execution_count": 20,
   "id": "d2bb7adb",
   "metadata": {},
   "outputs": [
    {
     "data": {
      "text/plain": [
       "array([32.28212981, 54.90106208, 28.37448694, 27.46449235, 25.88296976,\n",
       "       31.41518772, 50.41661822, 41.99323753, 22.12861238, 37.81895399,\n",
       "       33.21593112, 25.62351683, 54.72755835, 29.15953832, 38.49228814,\n",
       "       42.69371519, 27.98657986, 48.67404601, 38.48137545, 42.59013714,\n",
       "       28.2026305 , 43.28993721, 35.9901993 , 46.34207132, 21.42550466,\n",
       "       44.985604  , 39.6817994 , 24.30258045, 24.82542935, 54.79572274,\n",
       "       30.55353652, 50.6335287 , 30.2390587 , 18.37314824, 24.0484229 ,\n",
       "       53.27642258, 27.99807557, 30.39776121, 25.1414775 , 27.26214801,\n",
       "       44.18917105, 48.72387457, 27.28736277, 35.64480299, 31.74668886,\n",
       "       35.19696577, 37.85344963, 25.723401  , 52.57098322, 36.25818076,\n",
       "       23.14828856, 40.72431863, 21.23380615, 37.36771281, 36.86816453,\n",
       "       30.30858708, 31.96982153, 18.33217177, 35.86029047, 33.38990612,\n",
       "       38.34208122, 40.09753599, 41.14063915, 34.51916854, 43.06880368,\n",
       "       44.21027663, 44.04032885, 31.62152434, 38.38564241, 42.46484825,\n",
       "       18.00398679, 48.32112411, 30.82947197, 42.00016312, 24.64195   ,\n",
       "       47.66308343, 48.66624398, 27.23297989, 23.10119775, 33.83508626,\n",
       "       36.2907867 , 24.99262819, 46.69445672, 22.78823835, 41.86390241,\n",
       "       22.59322961, 34.26946692, 19.02491576, 23.76203077, 33.78291796,\n",
       "       21.7979976 , 42.23452815, 23.66103525, 24.70949085, 29.68908837,\n",
       "       56.21259431, 24.24080213, 43.82153513, 31.25563135, 24.66502885,\n",
       "       47.98236923, 23.91452492, 39.76556096, 40.4341798 , 46.70404287,\n",
       "       42.67236864, 42.78011588, 33.85723782, 27.02188621, 57.95059645,\n",
       "       44.42083826, 29.03254968, 40.00638285, 27.64278783, 49.37005486,\n",
       "       29.47297816, 28.07773391, 35.48493971, 36.28617473, 32.81946482,\n",
       "       27.38468697, 28.29825727, 17.40880165, 44.67016572, 38.30911175,\n",
       "       37.55011493, 38.66429535, 26.80371001, 30.2732003 , 46.81612778,\n",
       "       28.02959275, 24.68642248, 20.63306835, 22.11148106, 43.20425312,\n",
       "       30.06541318, 28.38470014, 33.34645428, 41.74897029, 42.72544306,\n",
       "       29.12928066, 39.92613287, 56.88917555, 22.56108876, 34.93059642,\n",
       "       31.63374654, 54.83053132, 25.66110938, 23.46338395, 31.65805056,\n",
       "       21.00814959, 35.58965507, 40.08195651, 37.63295627, 32.93911584,\n",
       "       35.10891606, 47.02693345, 48.72993759, 33.89223022, 33.11203289,\n",
       "       47.6408616 , 20.46614909, 47.31767071, 42.83177389, 33.03150496,\n",
       "       27.87564832, 38.12713699, 45.0786789 , 17.18008087, 36.37985161,\n",
       "       34.85693715, 19.92365589, 50.41661822, 45.71080494, 45.57946293,\n",
       "       44.33416265, 45.0267659 , 39.88817021, 55.46804778, 29.28229833,\n",
       "       26.05331335, 40.8923414 , 40.51925949, 21.77421975, 42.20536433,\n",
       "       40.24588248, 46.67059272, 37.09409924, 27.32722728, 45.97959185,\n",
       "       27.29127423, 45.80891762, 30.91772067, 53.25893516, 45.24642995,\n",
       "       41.26653127, 50.41661822, 18.85660114, 31.54965436, 33.30088368,\n",
       "       33.07438933, 59.52963045, 54.27732895, 49.47755614, 28.99470798,\n",
       "       24.05766015])"
      ]
     },
     "execution_count": 20,
     "metadata": {},
     "output_type": "execute_result"
    }
   ],
   "source": [
    "y_pred_test"
   ]
  },
  {
   "cell_type": "markdown",
   "id": "0ac9e2f7",
   "metadata": {},
   "source": [
    "# 8. Model Evaluation"
   ]
  },
  {
   "cell_type": "markdown",
   "id": "323267ce",
   "metadata": {},
   "source": [
    "## 8.1. Training Set"
   ]
  },
  {
   "cell_type": "markdown",
   "id": "f2a400c0",
   "metadata": {},
   "source": [
    "### 8.1.1. Scoring"
   ]
  },
  {
   "cell_type": "code",
   "execution_count": 21,
   "id": "77e55cfb",
   "metadata": {},
   "outputs": [
    {
     "name": "stdout",
     "output_type": "stream",
     "text": [
      "r2_score =\t\t\t 0.6192023205038226\n",
      "mean_squared_error =\t\t 103.77257593449576\n",
      "mean_absolute_error =\t\t 8.038258045011244\n",
      "mean_absolute_percentage_error = 0.3347680787145709\n"
     ]
    }
   ],
   "source": [
    "print('r2_score =\\t\\t\\t', r2_score(y_train, y_pred_train))\n",
    "print('mean_squared_error =\\t\\t', mean_squared_error(y_train, y_pred_train))\n",
    "print('mean_absolute_error =\\t\\t', mean_absolute_error(y_train, y_pred_train))\n",
    "print('mean_absolute_percentage_error =', mean_absolute_percentage_error(y_train, y_pred_train))"
   ]
  },
  {
   "cell_type": "markdown",
   "id": "b1c2a693",
   "metadata": {},
   "source": [
    "### 8.1.2. Scatter Plot between Predicted & Actual Values"
   ]
  },
  {
   "cell_type": "code",
   "execution_count": 22,
   "id": "bb81c4d9",
   "metadata": {},
   "outputs": [
    {
     "data": {
      "text/plain": [
       "Text(0, 0.5, 'Actual')"
      ]
     },
     "execution_count": 22,
     "metadata": {},
     "output_type": "execute_result"
    },
    {
     "data": {
      "image/png": "[encoded data removed]",
      "text/plain": [
       "<Figure size 432x288 with 1 Axes>"
      ]
     },
     "metadata": {
      "needs_background": "light"
     },
     "output_type": "display_data"
    }
   ],
   "source": [
    "plt.scatter(y_pred_train, y_train)\n",
    "\n",
    "plt.plot(y_pred_train, y_pred_train, color='red')\n",
    "\n",
    "plt.title('Scatter Plot between Predicted & Actual Values')\n",
    "plt.xlabel('Predicted')\n",
    "plt.ylabel('Actual')"
   ]
  },
  {
   "cell_type": "markdown",
   "id": "85d799bd",
   "metadata": {},
   "source": [
    "## 8.2. Test Set"
   ]
  },
  {
   "cell_type": "markdown",
   "id": "f519ade0",
   "metadata": {},
   "source": [
    "### 8.2.1. Scoring"
   ]
  },
  {
   "cell_type": "code",
   "execution_count": 23,
   "id": "75265c82",
   "metadata": {},
   "outputs": [
    {
     "name": "stdout",
     "output_type": "stream",
     "text": [
      "r2_score =\t\t\t 0.5948497671362758\n",
      "mean_squared_error =\t\t 122.46994191325538\n",
      "mean_absolute_error =\t\t 8.63461527778156\n",
      "mean_absolute_percentage_error = 0.3239888446766363\n"
     ]
    }
   ],
   "source": [
    "print('r2_score =\\t\\t\\t', r2_score(y_test, y_pred_test))\n",
    "print('mean_squared_error =\\t\\t', mean_squared_error(y_test, y_pred_test))\n",
    "print('mean_absolute_error =\\t\\t', mean_absolute_error(y_test, y_pred_test))\n",
    "print('mean_absolute_percentage_error =', mean_absolute_percentage_error(y_test, y_pred_test))"
   ]
  },
  {
   "cell_type": "markdown",
   "id": "9d43b931",
   "metadata": {},
   "source": [
    "### 8.2.2 Scatter Plot between Predicted & Actual Values"
   ]
  },
  {
   "cell_type": "code",
   "execution_count": 24,
   "id": "91bb4023",
   "metadata": {
    "scrolled": true
   },
   "outputs": [
    {
     "data": {
      "text/plain": [
       "Text(0, 0.5, 'Actual')"
      ]
     },
     "execution_count": 24,
     "metadata": {},
     "output_type": "execute_result"
    },
    {
     "data": {
      "image/png": "[encoded data removed]",
      "text/plain": [
       "<Figure size 432x288 with 1 Axes>"
      ]
     },
     "metadata": {
      "needs_background": "light"
     },
     "output_type": "display_data"
    }
   ],
   "source": [
    "plt.scatter(y_pred_test, y_test)\n",
    "\n",
    "plt.plot(y_pred_test, y_pred_test, color='red')\n",
    "\n",
    "plt.title('Scatter Plot between Predicted & Actual Values')\n",
    "plt.xlabel('Predicted')\n",
    "plt.ylabel('Actual')"
   ]
  },
  {
   "cell_type": "markdown",
   "id": "e38a8e37",
   "metadata": {},
   "source": [
    "# 9. Save Model"
   ]
  },
  {
   "cell_type": "code",
   "execution_count": 25,
   "id": "50763e5c",
   "metadata": {},
   "outputs": [],
   "source": [
    "import pickle"
   ]
  },
  {
   "cell_type": "code",
   "execution_count": 26,
   "id": "928506b7",
   "metadata": {},
   "outputs": [],
   "source": [
    "pickle.dump((reg, \n",
    "             feature_name),  open('support_vector_regrssion_model.pickle', 'wb'))"
   ]
  },
  {
   "cell_type": "code",
   "execution_count": null,
   "id": "a088c2b0",
   "metadata": {},
   "outputs": [],
   "source": []
  }
 ],
 "metadata": {
  "kernelspec": {
   "display_name": "Python 3",
   "language": "python",
   "name": "python3"
  },
  "language_info": {
   "codemirror_mode": {
    "name": "ipython",
    "version": 3
   },
   "file_extension": ".py",
   "mimetype": "text/x-python",
   "name": "python",
   "nbconvert_exporter": "python",
   "pygments_lexer": "ipython3",
   "version": "3.8.8"
  }
 },
 "nbformat": 4,
 "nbformat_minor": 5
}
