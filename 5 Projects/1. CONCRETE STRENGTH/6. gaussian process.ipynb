{
 "cells": [
  {
   "cell_type": "markdown",
   "id": "57654bb6",
   "metadata": {},
   "source": [
    "# 1. Import Libraries"
   ]
  },
  {
   "cell_type": "code",
   "execution_count": 1,
   "id": "2f51eef5",
   "metadata": {},
   "outputs": [],
   "source": [
    "import numpy as np\n",
    "import pandas as pd\n",
    "import matplotlib.pyplot as plt\n",
    "\n",
    "from sklearn.model_selection import train_test_split\n",
    "from sklearn.preprocessing import OrdinalEncoder, OneHotEncoder\n",
    "from sklearn.preprocessing import (\n",
    "    OrdinalEncoder, \n",
    "    OneHotEncoder, \n",
    "    StandardScaler, \n",
    "    MinMaxScaler\n",
    ")\n",
    "from sklearn.gaussian_process import GaussianProcessRegressor\n",
    "from sklearn.metrics import (\n",
    "    r2_score, \n",
    "    mean_squared_error, \n",
    "    mean_absolute_error, \n",
    "    mean_absolute_percentage_error\n",
    ")\n",
    "\n",
    "import warnings\n",
    "warnings.filterwarnings('ignore')\n",
    "\n",
    "np.random.seed(12345)"
   ]
  },
  {
   "cell_type": "markdown",
   "id": "6707b8de",
   "metadata": {},
   "source": [
    "# 2. Read Data"
   ]
  },
  {
   "cell_type": "code",
   "execution_count": 2,
   "id": "89c2e441",
   "metadata": {
    "scrolled": true
   },
   "outputs": [
    {
     "data": {
      "text/html": [
       "<div>\n",
       "<style scoped>\n",
       "    .dataframe tbody tr th:only-of-type {\n",
       "        vertical-align: middle;\n",
       "    }\n",
       "\n",
       "    .dataframe tbody tr th {\n",
       "        vertical-align: top;\n",
       "    }\n",
       "\n",
       "    .dataframe thead th {\n",
       "        text-align: right;\n",
       "    }\n",
       "</style>\n",
       "<table border=\"1\" class=\"dataframe\">\n",
       "  <thead>\n",
       "    <tr style=\"text-align: right;\">\n",
       "      <th></th>\n",
       "      <th>Cement (component 1)(kg in a m^3 mixture)</th>\n",
       "      <th>Blast Furnace Slag (component 2)(kg in a m^3 mixture)</th>\n",
       "      <th>Fly Ash (component 3)(kg in a m^3 mixture)</th>\n",
       "      <th>Water  (component 4)(kg in a m^3 mixture)</th>\n",
       "      <th>Superplasticizer (component 5)(kg in a m^3 mixture)</th>\n",
       "      <th>Coarse Aggregate  (component 6)(kg in a m^3 mixture)</th>\n",
       "      <th>Fine Aggregate (component 7)(kg in a m^3 mixture)</th>\n",
       "      <th>Age (day)</th>\n",
       "      <th>Concrete compressive strength(MPa, megapascals)</th>\n",
       "    </tr>\n",
       "  </thead>\n",
       "  <tbody>\n",
       "    <tr>\n",
       "      <th>0</th>\n",
       "      <td>540.0</td>\n",
       "      <td>0.0</td>\n",
       "      <td>0.0</td>\n",
       "      <td>162.0</td>\n",
       "      <td>2.5</td>\n",
       "      <td>1040.0</td>\n",
       "      <td>676.0</td>\n",
       "      <td>28</td>\n",
       "      <td>79.986111</td>\n",
       "    </tr>\n",
       "    <tr>\n",
       "      <th>1</th>\n",
       "      <td>540.0</td>\n",
       "      <td>0.0</td>\n",
       "      <td>0.0</td>\n",
       "      <td>162.0</td>\n",
       "      <td>2.5</td>\n",
       "      <td>1055.0</td>\n",
       "      <td>676.0</td>\n",
       "      <td>28</td>\n",
       "      <td>61.887366</td>\n",
       "    </tr>\n",
       "    <tr>\n",
       "      <th>2</th>\n",
       "      <td>332.5</td>\n",
       "      <td>142.5</td>\n",
       "      <td>0.0</td>\n",
       "      <td>228.0</td>\n",
       "      <td>0.0</td>\n",
       "      <td>932.0</td>\n",
       "      <td>594.0</td>\n",
       "      <td>270</td>\n",
       "      <td>40.269535</td>\n",
       "    </tr>\n",
       "    <tr>\n",
       "      <th>3</th>\n",
       "      <td>332.5</td>\n",
       "      <td>142.5</td>\n",
       "      <td>0.0</td>\n",
       "      <td>228.0</td>\n",
       "      <td>0.0</td>\n",
       "      <td>932.0</td>\n",
       "      <td>594.0</td>\n",
       "      <td>365</td>\n",
       "      <td>41.052780</td>\n",
       "    </tr>\n",
       "    <tr>\n",
       "      <th>4</th>\n",
       "      <td>198.6</td>\n",
       "      <td>132.4</td>\n",
       "      <td>0.0</td>\n",
       "      <td>192.0</td>\n",
       "      <td>0.0</td>\n",
       "      <td>978.4</td>\n",
       "      <td>825.5</td>\n",
       "      <td>360</td>\n",
       "      <td>44.296075</td>\n",
       "    </tr>\n",
       "    <tr>\n",
       "      <th>...</th>\n",
       "      <td>...</td>\n",
       "      <td>...</td>\n",
       "      <td>...</td>\n",
       "      <td>...</td>\n",
       "      <td>...</td>\n",
       "      <td>...</td>\n",
       "      <td>...</td>\n",
       "      <td>...</td>\n",
       "      <td>...</td>\n",
       "    </tr>\n",
       "    <tr>\n",
       "      <th>1025</th>\n",
       "      <td>276.4</td>\n",
       "      <td>116.0</td>\n",
       "      <td>90.3</td>\n",
       "      <td>179.6</td>\n",
       "      <td>8.9</td>\n",
       "      <td>870.1</td>\n",
       "      <td>768.3</td>\n",
       "      <td>28</td>\n",
       "      <td>44.284354</td>\n",
       "    </tr>\n",
       "    <tr>\n",
       "      <th>1026</th>\n",
       "      <td>322.2</td>\n",
       "      <td>0.0</td>\n",
       "      <td>115.6</td>\n",
       "      <td>196.0</td>\n",
       "      <td>10.4</td>\n",
       "      <td>817.9</td>\n",
       "      <td>813.4</td>\n",
       "      <td>28</td>\n",
       "      <td>31.178794</td>\n",
       "    </tr>\n",
       "    <tr>\n",
       "      <th>1027</th>\n",
       "      <td>148.5</td>\n",
       "      <td>139.4</td>\n",
       "      <td>108.6</td>\n",
       "      <td>192.7</td>\n",
       "      <td>6.1</td>\n",
       "      <td>892.4</td>\n",
       "      <td>780.0</td>\n",
       "      <td>28</td>\n",
       "      <td>23.696601</td>\n",
       "    </tr>\n",
       "    <tr>\n",
       "      <th>1028</th>\n",
       "      <td>159.1</td>\n",
       "      <td>186.7</td>\n",
       "      <td>0.0</td>\n",
       "      <td>175.6</td>\n",
       "      <td>11.3</td>\n",
       "      <td>989.6</td>\n",
       "      <td>788.9</td>\n",
       "      <td>28</td>\n",
       "      <td>32.768036</td>\n",
       "    </tr>\n",
       "    <tr>\n",
       "      <th>1029</th>\n",
       "      <td>260.9</td>\n",
       "      <td>100.5</td>\n",
       "      <td>78.3</td>\n",
       "      <td>200.6</td>\n",
       "      <td>8.6</td>\n",
       "      <td>864.5</td>\n",
       "      <td>761.5</td>\n",
       "      <td>28</td>\n",
       "      <td>32.401235</td>\n",
       "    </tr>\n",
       "  </tbody>\n",
       "</table>\n",
       "<p>1030 rows × 9 columns</p>\n",
       "</div>"
      ],
      "text/plain": [
       "      Cement (component 1)(kg in a m^3 mixture)  \\\n",
       "0                                         540.0   \n",
       "1                                         540.0   \n",
       "2                                         332.5   \n",
       "3                                         332.5   \n",
       "4                                         198.6   \n",
       "...                                         ...   \n",
       "1025                                      276.4   \n",
       "1026                                      322.2   \n",
       "1027                                      148.5   \n",
       "1028                                      159.1   \n",
       "1029                                      260.9   \n",
       "\n",
       "      Blast Furnace Slag (component 2)(kg in a m^3 mixture)  \\\n",
       "0                                                   0.0       \n",
       "1                                                   0.0       \n",
       "2                                                 142.5       \n",
       "3                                                 142.5       \n",
       "4                                                 132.4       \n",
       "...                                                 ...       \n",
       "1025                                              116.0       \n",
       "1026                                                0.0       \n",
       "1027                                              139.4       \n",
       "1028                                              186.7       \n",
       "1029                                              100.5       \n",
       "\n",
       "      Fly Ash (component 3)(kg in a m^3 mixture)  \\\n",
       "0                                            0.0   \n",
       "1                                            0.0   \n",
       "2                                            0.0   \n",
       "3                                            0.0   \n",
       "4                                            0.0   \n",
       "...                                          ...   \n",
       "1025                                        90.3   \n",
       "1026                                       115.6   \n",
       "1027                                       108.6   \n",
       "1028                                         0.0   \n",
       "1029                                        78.3   \n",
       "\n",
       "      Water  (component 4)(kg in a m^3 mixture)  \\\n",
       "0                                         162.0   \n",
       "1                                         162.0   \n",
       "2                                         228.0   \n",
       "3                                         228.0   \n",
       "4                                         192.0   \n",
       "...                                         ...   \n",
       "1025                                      179.6   \n",
       "1026                                      196.0   \n",
       "1027                                      192.7   \n",
       "1028                                      175.6   \n",
       "1029                                      200.6   \n",
       "\n",
       "      Superplasticizer (component 5)(kg in a m^3 mixture)  \\\n",
       "0                                                   2.5     \n",
       "1                                                   2.5     \n",
       "2                                                   0.0     \n",
       "3                                                   0.0     \n",
       "4                                                   0.0     \n",
       "...                                                 ...     \n",
       "1025                                                8.9     \n",
       "1026                                               10.4     \n",
       "1027                                                6.1     \n",
       "1028                                               11.3     \n",
       "1029                                                8.6     \n",
       "\n",
       "      Coarse Aggregate  (component 6)(kg in a m^3 mixture)  \\\n",
       "0                                                1040.0      \n",
       "1                                                1055.0      \n",
       "2                                                 932.0      \n",
       "3                                                 932.0      \n",
       "4                                                 978.4      \n",
       "...                                                 ...      \n",
       "1025                                              870.1      \n",
       "1026                                              817.9      \n",
       "1027                                              892.4      \n",
       "1028                                              989.6      \n",
       "1029                                              864.5      \n",
       "\n",
       "      Fine Aggregate (component 7)(kg in a m^3 mixture)  Age (day)  \\\n",
       "0                                                 676.0         28   \n",
       "1                                                 676.0         28   \n",
       "2                                                 594.0        270   \n",
       "3                                                 594.0        365   \n",
       "4                                                 825.5        360   \n",
       "...                                                 ...        ...   \n",
       "1025                                              768.3         28   \n",
       "1026                                              813.4         28   \n",
       "1027                                              780.0         28   \n",
       "1028                                              788.9         28   \n",
       "1029                                              761.5         28   \n",
       "\n",
       "      Concrete compressive strength(MPa, megapascals)  \n",
       "0                                           79.986111  \n",
       "1                                           61.887366  \n",
       "2                                           40.269535  \n",
       "3                                           41.052780  \n",
       "4                                           44.296075  \n",
       "...                                               ...  \n",
       "1025                                        44.284354  \n",
       "1026                                        31.178794  \n",
       "1027                                        23.696601  \n",
       "1028                                        32.768036  \n",
       "1029                                        32.401235  \n",
       "\n",
       "[1030 rows x 9 columns]"
      ]
     },
     "execution_count": 2,
     "metadata": {},
     "output_type": "execute_result"
    }
   ],
   "source": [
    "data = pd.read_excel('concrete_dataset.xlsx')\n",
    "\n",
    "data"
   ]
  },
  {
   "cell_type": "markdown",
   "id": "aa424a64",
   "metadata": {},
   "source": [
    "# 3. Clean Data"
   ]
  },
  {
   "cell_type": "markdown",
   "id": "bc4f7a96",
   "metadata": {},
   "source": [
    "## 3.1. Handle Missing Values"
   ]
  },
  {
   "cell_type": "markdown",
   "id": "2b59944e",
   "metadata": {},
   "source": [
    "### 3.1.1. Check Missing Values"
   ]
  },
  {
   "cell_type": "code",
   "execution_count": 3,
   "id": "8a02b878",
   "metadata": {},
   "outputs": [
    {
     "name": "stdout",
     "output_type": "stream",
     "text": [
      "<class 'pandas.core.frame.DataFrame'>\n",
      "RangeIndex: 1030 entries, 0 to 1029\n",
      "Data columns (total 9 columns):\n",
      " #   Column                                                 Non-Null Count  Dtype  \n",
      "---  ------                                                 --------------  -----  \n",
      " 0   Cement (component 1)(kg in a m^3 mixture)              1030 non-null   float64\n",
      " 1   Blast Furnace Slag (component 2)(kg in a m^3 mixture)  1030 non-null   float64\n",
      " 2   Fly Ash (component 3)(kg in a m^3 mixture)             1030 non-null   float64\n",
      " 3   Water  (component 4)(kg in a m^3 mixture)              1030 non-null   float64\n",
      " 4   Superplasticizer (component 5)(kg in a m^3 mixture)    1030 non-null   float64\n",
      " 5   Coarse Aggregate  (component 6)(kg in a m^3 mixture)   1030 non-null   float64\n",
      " 6   Fine Aggregate (component 7)(kg in a m^3 mixture)      1030 non-null   float64\n",
      " 7   Age (day)                                              1030 non-null   int64  \n",
      " 8   Concrete compressive strength(MPa, megapascals)        1030 non-null   float64\n",
      "dtypes: float64(8), int64(1)\n",
      "memory usage: 72.5 KB\n"
     ]
    }
   ],
   "source": [
    "data.info()"
   ]
  },
  {
   "cell_type": "markdown",
   "id": "44279ff4",
   "metadata": {},
   "source": [
    "### 3.1.2. Remove Missing Values (Listwise Deletion)"
   ]
  },
  {
   "cell_type": "code",
   "execution_count": 4,
   "id": "7a3da168",
   "metadata": {},
   "outputs": [],
   "source": [
    "data.dropna(axis=0, inplace=True)"
   ]
  },
  {
   "cell_type": "markdown",
   "id": "5fed6619",
   "metadata": {},
   "source": [
    "## 3.2. Handle Outliers"
   ]
  },
  {
   "cell_type": "markdown",
   "id": "89eb99fe",
   "metadata": {},
   "source": [
    "### 3.2.1. Check Outliers"
   ]
  },
  {
   "cell_type": "code",
   "execution_count": 5,
   "id": "8400e390",
   "metadata": {},
   "outputs": [
    {
     "data": {
      "text/html": [
       "<div>\n",
       "<style scoped>\n",
       "    .dataframe tbody tr th:only-of-type {\n",
       "        vertical-align: middle;\n",
       "    }\n",
       "\n",
       "    .dataframe tbody tr th {\n",
       "        vertical-align: top;\n",
       "    }\n",
       "\n",
       "    .dataframe thead th {\n",
       "        text-align: right;\n",
       "    }\n",
       "</style>\n",
       "<table border=\"1\" class=\"dataframe\">\n",
       "  <thead>\n",
       "    <tr style=\"text-align: right;\">\n",
       "      <th></th>\n",
       "      <th>Cement (component 1)(kg in a m^3 mixture)</th>\n",
       "      <th>Blast Furnace Slag (component 2)(kg in a m^3 mixture)</th>\n",
       "      <th>Fly Ash (component 3)(kg in a m^3 mixture)</th>\n",
       "      <th>Water  (component 4)(kg in a m^3 mixture)</th>\n",
       "      <th>Superplasticizer (component 5)(kg in a m^3 mixture)</th>\n",
       "      <th>Coarse Aggregate  (component 6)(kg in a m^3 mixture)</th>\n",
       "      <th>Fine Aggregate (component 7)(kg in a m^3 mixture)</th>\n",
       "      <th>Age (day)</th>\n",
       "      <th>Concrete compressive strength(MPa, megapascals)</th>\n",
       "    </tr>\n",
       "  </thead>\n",
       "  <tbody>\n",
       "    <tr>\n",
       "      <th>count</th>\n",
       "      <td>1030.000000</td>\n",
       "      <td>1030.000000</td>\n",
       "      <td>1030.000000</td>\n",
       "      <td>1030.000000</td>\n",
       "      <td>1030.000000</td>\n",
       "      <td>1030.000000</td>\n",
       "      <td>1030.000000</td>\n",
       "      <td>1030.000000</td>\n",
       "      <td>1030.000000</td>\n",
       "    </tr>\n",
       "    <tr>\n",
       "      <th>mean</th>\n",
       "      <td>281.165631</td>\n",
       "      <td>73.895485</td>\n",
       "      <td>54.187136</td>\n",
       "      <td>181.566359</td>\n",
       "      <td>6.203112</td>\n",
       "      <td>972.918592</td>\n",
       "      <td>773.578883</td>\n",
       "      <td>45.662136</td>\n",
       "      <td>35.817836</td>\n",
       "    </tr>\n",
       "    <tr>\n",
       "      <th>std</th>\n",
       "      <td>104.507142</td>\n",
       "      <td>86.279104</td>\n",
       "      <td>63.996469</td>\n",
       "      <td>21.355567</td>\n",
       "      <td>5.973492</td>\n",
       "      <td>77.753818</td>\n",
       "      <td>80.175427</td>\n",
       "      <td>63.169912</td>\n",
       "      <td>16.705679</td>\n",
       "    </tr>\n",
       "    <tr>\n",
       "      <th>min</th>\n",
       "      <td>102.000000</td>\n",
       "      <td>0.000000</td>\n",
       "      <td>0.000000</td>\n",
       "      <td>121.750000</td>\n",
       "      <td>0.000000</td>\n",
       "      <td>801.000000</td>\n",
       "      <td>594.000000</td>\n",
       "      <td>1.000000</td>\n",
       "      <td>2.331808</td>\n",
       "    </tr>\n",
       "    <tr>\n",
       "      <th>25%</th>\n",
       "      <td>192.375000</td>\n",
       "      <td>0.000000</td>\n",
       "      <td>0.000000</td>\n",
       "      <td>164.900000</td>\n",
       "      <td>0.000000</td>\n",
       "      <td>932.000000</td>\n",
       "      <td>730.950000</td>\n",
       "      <td>7.000000</td>\n",
       "      <td>23.707115</td>\n",
       "    </tr>\n",
       "    <tr>\n",
       "      <th>50%</th>\n",
       "      <td>272.900000</td>\n",
       "      <td>22.000000</td>\n",
       "      <td>0.000000</td>\n",
       "      <td>185.000000</td>\n",
       "      <td>6.350000</td>\n",
       "      <td>968.000000</td>\n",
       "      <td>779.510000</td>\n",
       "      <td>28.000000</td>\n",
       "      <td>34.442774</td>\n",
       "    </tr>\n",
       "    <tr>\n",
       "      <th>75%</th>\n",
       "      <td>350.000000</td>\n",
       "      <td>142.950000</td>\n",
       "      <td>118.270000</td>\n",
       "      <td>192.000000</td>\n",
       "      <td>10.160000</td>\n",
       "      <td>1029.400000</td>\n",
       "      <td>824.000000</td>\n",
       "      <td>56.000000</td>\n",
       "      <td>46.136287</td>\n",
       "    </tr>\n",
       "    <tr>\n",
       "      <th>max</th>\n",
       "      <td>540.000000</td>\n",
       "      <td>359.400000</td>\n",
       "      <td>200.100000</td>\n",
       "      <td>247.000000</td>\n",
       "      <td>32.200000</td>\n",
       "      <td>1145.000000</td>\n",
       "      <td>992.600000</td>\n",
       "      <td>365.000000</td>\n",
       "      <td>82.599225</td>\n",
       "    </tr>\n",
       "  </tbody>\n",
       "</table>\n",
       "</div>"
      ],
      "text/plain": [
       "       Cement (component 1)(kg in a m^3 mixture)  \\\n",
       "count                                1030.000000   \n",
       "mean                                  281.165631   \n",
       "std                                   104.507142   \n",
       "min                                   102.000000   \n",
       "25%                                   192.375000   \n",
       "50%                                   272.900000   \n",
       "75%                                   350.000000   \n",
       "max                                   540.000000   \n",
       "\n",
       "       Blast Furnace Slag (component 2)(kg in a m^3 mixture)  \\\n",
       "count                                        1030.000000       \n",
       "mean                                           73.895485       \n",
       "std                                            86.279104       \n",
       "min                                             0.000000       \n",
       "25%                                             0.000000       \n",
       "50%                                            22.000000       \n",
       "75%                                           142.950000       \n",
       "max                                           359.400000       \n",
       "\n",
       "       Fly Ash (component 3)(kg in a m^3 mixture)  \\\n",
       "count                                 1030.000000   \n",
       "mean                                    54.187136   \n",
       "std                                     63.996469   \n",
       "min                                      0.000000   \n",
       "25%                                      0.000000   \n",
       "50%                                      0.000000   \n",
       "75%                                    118.270000   \n",
       "max                                    200.100000   \n",
       "\n",
       "       Water  (component 4)(kg in a m^3 mixture)  \\\n",
       "count                                1030.000000   \n",
       "mean                                  181.566359   \n",
       "std                                    21.355567   \n",
       "min                                   121.750000   \n",
       "25%                                   164.900000   \n",
       "50%                                   185.000000   \n",
       "75%                                   192.000000   \n",
       "max                                   247.000000   \n",
       "\n",
       "       Superplasticizer (component 5)(kg in a m^3 mixture)  \\\n",
       "count                                        1030.000000     \n",
       "mean                                            6.203112     \n",
       "std                                             5.973492     \n",
       "min                                             0.000000     \n",
       "25%                                             0.000000     \n",
       "50%                                             6.350000     \n",
       "75%                                            10.160000     \n",
       "max                                            32.200000     \n",
       "\n",
       "       Coarse Aggregate  (component 6)(kg in a m^3 mixture)  \\\n",
       "count                                        1030.000000      \n",
       "mean                                          972.918592      \n",
       "std                                            77.753818      \n",
       "min                                           801.000000      \n",
       "25%                                           932.000000      \n",
       "50%                                           968.000000      \n",
       "75%                                          1029.400000      \n",
       "max                                          1145.000000      \n",
       "\n",
       "       Fine Aggregate (component 7)(kg in a m^3 mixture)    Age (day)  \\\n",
       "count                                        1030.000000  1030.000000   \n",
       "mean                                          773.578883    45.662136   \n",
       "std                                            80.175427    63.169912   \n",
       "min                                           594.000000     1.000000   \n",
       "25%                                           730.950000     7.000000   \n",
       "50%                                           779.510000    28.000000   \n",
       "75%                                           824.000000    56.000000   \n",
       "max                                           992.600000   365.000000   \n",
       "\n",
       "       Concrete compressive strength(MPa, megapascals)  \n",
       "count                                      1030.000000  \n",
       "mean                                         35.817836  \n",
       "std                                          16.705679  \n",
       "min                                           2.331808  \n",
       "25%                                          23.707115  \n",
       "50%                                          34.442774  \n",
       "75%                                          46.136287  \n",
       "max                                          82.599225  "
      ]
     },
     "execution_count": 5,
     "metadata": {},
     "output_type": "execute_result"
    }
   ],
   "source": [
    "data.describe()"
   ]
  },
  {
   "cell_type": "markdown",
   "id": "62561b7e",
   "metadata": {},
   "source": [
    "### 3.2.2. Remove Outliers"
   ]
  },
  {
   "cell_type": "code",
   "execution_count": 6,
   "id": "f3524d5d",
   "metadata": {},
   "outputs": [],
   "source": [
    "# no outlier to remove"
   ]
  },
  {
   "cell_type": "markdown",
   "id": "50cdff68",
   "metadata": {},
   "source": [
    "# 4. Split Dataset into Training & Test Sets"
   ]
  },
  {
   "cell_type": "code",
   "execution_count": 7,
   "id": "d3ef93cc",
   "metadata": {},
   "outputs": [],
   "source": [
    "target_name = 'Concrete compressive strength(MPa, megapascals)'\n",
    "feature_name = list(data.columns.drop(target_name))"
   ]
  },
  {
   "cell_type": "code",
   "execution_count": 8,
   "id": "610f9450",
   "metadata": {},
   "outputs": [],
   "source": [
    "X = data[feature_name]\n",
    "y = data[target_name]"
   ]
  },
  {
   "cell_type": "code",
   "execution_count": 10,
   "id": "13cae49d",
   "metadata": {},
   "outputs": [],
   "source": [
    "X_train, X_test, y_train, y_test = train_test_split(X, y, test_size=0.20, shuffle=True)"
   ]
  },
  {
   "cell_type": "markdown",
   "id": "ed13b65f",
   "metadata": {},
   "source": [
    "# 5. Data Preparation"
   ]
  },
  {
   "cell_type": "markdown",
   "id": "7e7af4f1",
   "metadata": {},
   "source": [
    "## ### 5.1. Ordinal Encoding"
   ]
  },
  {
   "cell_type": "markdown",
   "id": "a25e32e6",
   "metadata": {},
   "source": [
    "## ### 5.2. One Hot Encoding"
   ]
  },
  {
   "cell_type": "markdown",
   "id": "6aeaeb0a",
   "metadata": {},
   "source": [
    "## 5.3. Feature Scaling"
   ]
  },
  {
   "cell_type": "markdown",
   "id": "6bd90e8d",
   "metadata": {},
   "source": [
    "### 5.3.1. Training Set"
   ]
  },
  {
   "cell_type": "code",
   "execution_count": 11,
   "id": "bd4efdd2",
   "metadata": {},
   "outputs": [],
   "source": [
    "scaler = MinMaxScaler()\n",
    "X_train_scaled = scaler.fit_transform(X_train)"
   ]
  },
  {
   "cell_type": "markdown",
   "id": "f370ec47",
   "metadata": {},
   "source": [
    "### 5.3.2. Test Set"
   ]
  },
  {
   "cell_type": "code",
   "execution_count": 12,
   "id": "72df8ec8",
   "metadata": {},
   "outputs": [],
   "source": [
    "X_test_scaled = scaler.transform(X_test)"
   ]
  },
  {
   "cell_type": "markdown",
   "id": "f77fb5ee",
   "metadata": {},
   "source": [
    "# 6. Model Creation"
   ]
  },
  {
   "cell_type": "markdown",
   "id": "e81df55a",
   "metadata": {},
   "source": [
    "## 6.1. Setting Parameters"
   ]
  },
  {
   "cell_type": "code",
   "execution_count": 13,
   "id": "fd1486a3",
   "metadata": {},
   "outputs": [],
   "source": [
    "reg = GaussianProcessRegressor()"
   ]
  },
  {
   "cell_type": "markdown",
   "id": "4cb08aa4",
   "metadata": {},
   "source": [
    "## 6.2. Train Model"
   ]
  },
  {
   "cell_type": "code",
   "execution_count": 14,
   "id": "8aa8df52",
   "metadata": {},
   "outputs": [
    {
     "data": {
      "text/plain": [
       "GaussianProcessRegressor()"
      ]
     },
     "execution_count": 14,
     "metadata": {},
     "output_type": "execute_result"
    }
   ],
   "source": [
    "reg.fit(X_train_scaled, y_train)"
   ]
  },
  {
   "cell_type": "markdown",
   "id": "fee5da68",
   "metadata": {},
   "source": [
    "# 7. Prediction"
   ]
  },
  {
   "cell_type": "markdown",
   "id": "1290eb30",
   "metadata": {},
   "source": [
    "## 7.1. Training Set"
   ]
  },
  {
   "cell_type": "code",
   "execution_count": 15,
   "id": "f6ae8331",
   "metadata": {},
   "outputs": [],
   "source": [
    "y_pred_train, sd_train = reg.predict(X_train_scaled, return_std=True)"
   ]
  },
  {
   "cell_type": "code",
   "execution_count": 16,
   "id": "86df5129",
   "metadata": {},
   "outputs": [
    {
     "data": {
      "text/plain": [
       "array([43.13092041, 70.75402832, 24.98959351, 25.30633545, 25.82324219,\n",
       "       25.043396  , 38.89373779, 20.83148193, 38.39401245, 29.07788086,\n",
       "       39.84512329, 28.51184082, 55.25369263, 36.5871582 , 11.40579224,\n",
       "       54.02490234, 22.93084717, 10.09939575, 12.58721924, 33.39648438,\n",
       "       61.33239746, 14.72061157, 24.33081055, 28.84182739,  9.7645874 ,\n",
       "       14.24560547, 50.10980225, 51.96826172, 21.28268433, 51.86871338,\n",
       "       58.73312378, 41.57293701, 30.88015747, 35.5375061 , 32.55645752,\n",
       "       39.5930481 , 32.13006592, 60.73989868, 17.39501953, 26.79354858,\n",
       "       67.10073853, 14.35467529, 62.07241821, 37.56472778, 20.85232544,\n",
       "       35.21643066, 15.3984375 , 32.54309082, 41.27133179, 12.33758545,\n",
       "       13.4911499 , 40.715271  , 51.43850708, 21.10626221, 33.75686646,\n",
       "       43.4286499 , 13.77783203, 14.66503906, 63.73571777, 79.39663696,\n",
       "       13.56390381, 31.17050171, 40.04138184,  7.5473938 , 26.68103027,\n",
       "       10.25637817, 40.89633179, 16.40274048, 47.77163696, 12.43218994,\n",
       "       15.50595093, 34.76391602, 17.88641357, 20.74206543, 17.05258179,\n",
       "       17.01580811, 24.32192993, 47.20257568, 35.85546875, 52.28173828,\n",
       "       36.67678833, 22.91903687, 39.44619751, 61.50979614, 33.05010986,\n",
       "       21.44470215, 24.21148682, 15.41137695, 51.39593506, 11.97283936,\n",
       "       55.35214233, 37.15988159, 24.89703369, 29.6204834 , 22.56311035,\n",
       "       53.5244751 , 38.54153442, 28.01385498, 25.03829956, 43.69706726,\n",
       "       32.46929932, 30.95565796, 43.37277222,  2.60726929, 21.26528931,\n",
       "       39.4619751 , 52.9216156 , 39.43322754, 25.54675293, 41.83444214,\n",
       "       37.9637146 , 42.11938477, 27.1187439 , 34.7409668 , 58.86312866,\n",
       "       61.97729492, 18.90982056, 52.48434448, 37.68557739, 44.95684814,\n",
       "       14.3807373 , 69.38757324, 10.06109619, 55.93301392,  4.6187439 ,\n",
       "        8.53601074, 20.48519897, 41.75115967, 21.81494141, 33.6867981 ,\n",
       "       31.15402222, 42.53463745, 54.59915161, 12.45455933, 45.7043457 ,\n",
       "       21.95797729, 33.79125977, 32.7663269 , 33.59967041, 32.76040649,\n",
       "       33.7989502 , 58.63650513, 69.52252197, 22.12518311, 21.11795044,\n",
       "       23.61630249, 15.42877197, 51.70870972, 39.61572266, 26.07513428,\n",
       "       81.75085449, 21.01776123, 31.63995361, 67.74838257, 13.53738403,\n",
       "       36.34899902, 27.52752686, 40.67871094, 27.67657471, 18.88952637,\n",
       "       36.15853882, 23.62347412, 24.98883057, 48.71563721, 33.42086792,\n",
       "        9.4196167 , 27.75238037, 54.72512817, 35.28848267, 42.77658081,\n",
       "       11.42803955, 50.5078125 , 36.80670166, 55.64587402, 38.23175049,\n",
       "       38.96398926, 65.91375732, 44.28445435, 39.54330444, 41.80859375,\n",
       "       67.86691284, 21.87637329, 36.67678833,  7.16644287, 19.48495483,\n",
       "       25.25378418, 32.7310791 , 26.65457153, 54.27536011, 37.74682617,\n",
       "       19.8637085 , 62.88546753, 69.57763672, 35.46038818,  8.77883911,\n",
       "       19.01239014, 23.94219971, 33.65228271, 16.69854736, 57.20166016,\n",
       "       24.58053589, 26.83505249, 31.77975464, 31.43249512, 26.28884888,\n",
       "       14.66711426, 28.63098145, 10.76531982, 25.35925293, 11.31967163,\n",
       "       50.91705322, 18.63247681, 17.27929688, 37.90655518, 44.26733398,\n",
       "       52.42346191, 79.25253296, 22.34588623, 35.29876709, 26.09558105,\n",
       "       31.03488159, 23.2253418 , 42.41906738, 38.06817627, 63.47653198,\n",
       "       33.29437256, 53.83709717, 27.67770386, 22.67724609, 53.26916504,\n",
       "       22.54464722, 21.57037354, 66.51531982, 56.83450317, 50.26895142,\n",
       "       52.82318115, 33.76275635, 32.45843506, 34.73306274, 41.37356567,\n",
       "       43.87277222, 32.38821411, 77.82858276, 44.69723511, 39.64822388,\n",
       "       16.40802002, 76.79858398,  7.79397583, 31.54092407, 31.57327271,\n",
       "       32.10427856, 29.07492065, 65.68670654, 55.55163574, 79.25253296,\n",
       "       31.66836548, 24.49197388, 26.24002075, 62.6317749 , 25.81195068,\n",
       "       34.27078247, 53.97824097, 33.31411743, 40.59594727, 40.13165283,\n",
       "       22.71038818, 72.13711548, 62.05215454, 22.60977173, 47.03036499,\n",
       "       19.9503479 , 60.28079224, 38.70336914, 38.45477295, 39.62026978,\n",
       "       21.22634888, 41.21435547, 40.97781372, 27.06710815, 39.30062866,\n",
       "       53.12805176, 79.25253296, 67.04159546, 73.31619263, 37.01382446,\n",
       "       15.05114746, 47.56915283, 36.34481812, 38.62081909, 41.76077271,\n",
       "       29.53207397, 25.20352173, 33.02178955, 26.22879028, 30.41885376,\n",
       "       58.5489502 , 41.53735352, 23.45178223, 36.97595215, 14.22134399,\n",
       "       44.95684814, 35.2336731 , 30.340271  , 29.41339111, 23.89047241,\n",
       "       51.79830933, 20.37985229, 13.31234741, 44.49240112, 46.24383545,\n",
       "       23.15530396, 43.36727905, 17.77737427, 30.88916016, 31.86477661,\n",
       "       47.3604126 , 23.96136475, 40.02706909, 58.09457397, 18.3394165 ,\n",
       "       49.89276123, 37.49472046, 22.14169312, 56.19082642, 31.02645874,\n",
       "       19.79876709, 30.962677  , 35.84738159, 58.99835205, 44.105896  ,\n",
       "       39.27581787, 32.63449097, 28.3052063 , 50.28494263, 29.02209473,\n",
       "       46.05175781, 43.10736084, 32.2258606 , 52.52279663, 49.14431763,\n",
       "       42.28710938, 40.62887573, 32.15014648, 37.6270752 , 37.08355713,\n",
       "       55.42190552, 30.42248535, 24.96499634, 59.26776123, 25.3928833 ,\n",
       "       40.25613403, 37.34002686, 27.23815918, 52.82556152, 49.24938965,\n",
       "       44.95684814, 53.4866333 , 55.15805054, 16.45004272, 56.14651489,\n",
       "       29.73516846, 55.7590332 ,  7.60876465, 48.40847778, 26.33850098,\n",
       "       45.53265381, 39.88848877, 32.07263184, 12.46591187, 41.72070312,\n",
       "       32.34414673, 17.78640747, 23.84823608, 77.82858276, 67.56860352,\n",
       "       32.3586731 , 47.46203613, 48.62771606, 47.36355591, 37.92468262,\n",
       "       10.96282959, 30.95437622, 67.74838257, 13.10800171, 18.63815308,\n",
       "       24.33839417, 35.99536133, 17.10070801, 19.34246826, 32.00872803,\n",
       "       25.56347656, 42.625     , 40.10842896, 20.58474731, 42.640625  ,\n",
       "       46.53778076, 32.81842041, 25.99624634, 69.57763672, 15.41412354,\n",
       "       17.94277954, 44.8621521 , 24.11151123, 32.66693115, 12.1817627 ,\n",
       "       41.7769165 , 65.33035278, 33.31079102, 77.82858276, 25.12512207,\n",
       "       11.33016968, 10.10876465, 44.48565674, 23.77020264, 37.22839355,\n",
       "       23.84552002,  9.39825439, 14.7024231 , 13.52954102, 39.37628174,\n",
       "       31.2071228 , 52.18453979, 53.73596191, 39.9425354 ,  7.67492676,\n",
       "       14.13143921, 29.70922852, 43.97250366, 40.0892334 , 22.540802  ,\n",
       "        9.33203125, 38.54351807, 42.20803833, 39.8215332 , 41.79348755,\n",
       "       45.07485962, 15.49978638, 38.07614136, 14.203125  , 12.95144653,\n",
       "       33.37442017, 37.32406616, 15.5697937 , 38.72409058, 33.36279297,\n",
       "       12.99291992, 43.4418335 , 26.71282959,  7.61352539, 31.78485107,\n",
       "       41.98062134, 61.91506958, 16.9197998 , 43.01000977, 14.32333374,\n",
       "       13.35314941, 10.9631958 , 36.83679199, 32.83041382, 31.41546631,\n",
       "       39.83139038, 45.40432739,  9.706604  ,  7.38757324, 52.30841064,\n",
       "       30.12542725, 37.02478027, 29.86837769, 43.55084229, 28.63046265,\n",
       "       31.46786499, 21.91192627, 46.92532349, 53.56781006, 17.59335327,\n",
       "       32.40023804, 51.13250732, 31.80245972, 16.13577271, 39.46054077,\n",
       "       27.6887207 , 59.88864136, 24.85717773, 56.5581665 , 79.25253296,\n",
       "       12.7255249 , 41.04278564, 69.57763672, 58.52072144, 32.06716919,\n",
       "       39.25283813, 20.02438354, 20.61401367, 44.55780029, 71.63903809,\n",
       "       24.82928467, 59.09814453, 21.86895752, 47.29782104, 42.09899902,\n",
       "       52.97335815, 40.87228394, 26.96343994, 57.64501953, 13.29641724,\n",
       "       62.65917969, 29.89318848, 29.779953  , 39.69161987, 33.99145508,\n",
       "       48.9597168 , 21.46957397, 10.20199585, 53.00354004, 10.31188965,\n",
       "       36.56112671, 15.34112549, 47.95330811, 34.95498657, 43.69213867,\n",
       "       14.12387085, 20.6529541 , 53.67767334, 17.73596191, 51.26904297,\n",
       "       29.40893555, 68.43865967, 18.58724976, 38.89752197, 16.78707886,\n",
       "       41.50286865, 18.08441162, 36.35470581, 41.08172607, 25.92709351,\n",
       "       23.59533691, 29.88934326, 63.73571777, 11.93258667, 10.6192627 ,\n",
       "       10.9402771 , 44.5680542 , 38.99864197, 58.85968018, 25.21292114,\n",
       "       29.15878296, 45.27139282, 37.38647461, 40.96365356, 17.92468262,\n",
       "       26.88009644, 37.16894531, 38.73751831, 23.65866089, 41.54644775,\n",
       "       13.27062988, 32.46115112, 31.40899658, 66.70300293, 52.36535645,\n",
       "       43.94213867, 12.8934021 , 40.99700928, 42.80181885, 44.4574585 ,\n",
       "       13.45983887, 37.43103027, 56.75930786, 45.212677  , 16.45852661,\n",
       "       30.62576294, 14.00616455, 42.50372314, 49.84799194, 33.67095947,\n",
       "       11.06637573,  8.55593872, 32.75271606, 75.54489136, 32.57855225,\n",
       "       17.97018433, 68.90896606, 39.0163269 , 54.91717529, 36.28833008,\n",
       "       46.23419189, 32.73181152, 64.77862549, 65.12698364, 46.23431396,\n",
       "       23.78173828, 44.29629517, 11.22494507, 52.93603516, 36.37536621,\n",
       "        7.97311401, 42.91409302, 13.5475769 , 36.8442688 , 78.79995728,\n",
       "       29.2281189 , 35.85461426, 57.73571777,  8.83007812, 56.61584473,\n",
       "       41.8241272 , 38.83911133, 17.61575317, 31.23324585, 40.91366577,\n",
       "       40.61975098, 41.36315918, 68.08999634, 47.01641846, 41.1652832 ,\n",
       "       10.24291992, 49.7024231 , 29.82354736, 61.88650513,  6.12994385,\n",
       "       17.94812012, 19.54278564, 41.25982666, 73.42428589, 37.61068726,\n",
       "        4.55435181, 40.04138184, 18.2322998 , 39.18804932, 23.78927612,\n",
       "       37.63998413, 40.92526245, 24.1000061 , 17.79092407, 46.64169312,\n",
       "       43.94116211, 52.7383728 , 39.21746826,  5.24658203, 41.08010864,\n",
       "       17.76956177, 41.55633545, 42.13391113, 44.28933716, 38.51138306,\n",
       "       43.45654297, 27.89025879, 22.29318237, 34.43469238, 39.42880249,\n",
       "       52.53033447, 12.48565674, 17.64840698, 56.67486572, 50.91705322,\n",
       "       32.86694336, 74.35372925, 62.6317749 , 44.05905151, 41.03057861,\n",
       "       65.33035278, 11.44909668,  3.94528198, 38.23681641, 16.20223999,\n",
       "       24.84640503, 13.40118408, 32.95721436, 20.35681152, 31.30703735,\n",
       "       74.12619019, 24.36428833, 47.21789551, 25.10295105, 19.15618896,\n",
       "       28.78408813, 71.98779297, 31.80245972, 22.33480835, 10.5355835 ,\n",
       "       42.26245117, 41.72589111, 52.47344971, 34.29278564, 12.39596558,\n",
       "       49.83737183, 47.27926636, 19.97323608, 66.36517334, 10.78378296,\n",
       "       14.78945923, 44.37365723, 32.34487915, 31.07424927, 56.66503906,\n",
       "       28.9553833 , 44.32635498, 48.66674805, 17.39233398, 74.99060059,\n",
       "       33.80953979, 53.57699585, 54.99194336, 20.72293091, 62.27584839,\n",
       "       25.88983154, 38.39526367, 39.05279541, 26.94451904, 54.60162354,\n",
       "       31.10540771, 69.22283936, 37.29296875, 14.12716675, 23.82537842,\n",
       "       36.47772217,  7.77767944, 18.21337891, 33.17266846, 10.27371216,\n",
       "       45.71160889, 27.82363892, 44.07797241, 48.66748047, 36.02850342,\n",
       "       32.334198  , 29.2215271 , 26.32089233, 23.2550354 , 51.23959351,\n",
       "       12.93811035, 45.24584961, 32.89901733, 30.64682007, 36.61889648,\n",
       "       21.28286743, 26.13961792, 27.10211182, 50.69967651, 39.89657593,\n",
       "       32.07980347, 13.45980835, 50.67237854, 18.03079224, 22.58825684,\n",
       "       69.83932495, 14.82571411, 50.84811401, 38.112854  , 23.65643311,\n",
       "       24.64007568, 23.26043701, 63.73571777, 39.30810547,  7.50042725,\n",
       "       30.02993774, 15.54095459, 39.59741211, 42.79852295, 14.47619629,\n",
       "       26.89614868, 27.3885498 , 18.3480835 ,  8.04443359, 77.82858276,\n",
       "       36.22937012,  8.90325928, 39.39437866, 61.33239746, 31.80245972,\n",
       "       33.10974121, 36.60092163, 40.20755005, 24.21478271, 47.14874268,\n",
       "       36.56112671, 16.55358887, 23.42446899, 53.68572998, 44.13305664,\n",
       "       49.79095459, 57.03463745, 31.22415161, 26.13745117, 44.64099121,\n",
       "       17.74664307, 59.871521  , 18.77761841, 51.23855591, 12.53457642,\n",
       "       51.02224731, 20.81011963, 30.30981445, 60.93045044, 15.08505249,\n",
       "       59.4118042 , 50.56289673, 35.82446289, 37.82995605, 33.62838745,\n",
       "       38.61767578, 44.22961426, 42.63589478, 53.10314941, 47.55429077,\n",
       "       62.51351929, 16.64181519, 25.19952393, 33.14202881, 36.56112671,\n",
       "       45.38815308, 10.07589722, 36.4359436 , 39.28268433, 16.65914917,\n",
       "       28.33584595, 31.80245972, 51.10791016, 24.74237061, 41.24517822,\n",
       "       32.73596191, 64.01672363, 69.57763672, 58.06295776])"
      ]
     },
     "execution_count": 16,
     "metadata": {},
     "output_type": "execute_result"
    }
   ],
   "source": [
    "y_pred_train"
   ]
  },
  {
   "cell_type": "code",
   "execution_count": 17,
   "id": "41eeeb1b",
   "metadata": {},
   "outputs": [
    {
     "data": {
      "text/plain": [
       "array([9.96903275e-06, 9.99252582e-06, 9.19018169e-06, 6.40877272e-06,\n",
       "       8.45766596e-06, 8.55704939e-06, 9.99860143e-06, 9.38414749e-06,\n",
       "       9.99196472e-06, 9.92634341e-06, 9.99993380e-06, 8.93566616e-06,\n",
       "       9.99722447e-06, 9.80005429e-06, 8.40227975e-06, 8.35924596e-06,\n",
       "       9.99997821e-06, 9.98509011e-06, 8.96157742e-06, 9.99956187e-06,\n",
       "       6.93231583e-06, 9.86196854e-06, 9.90390408e-06, 8.80564701e-06,\n",
       "       9.93311897e-06, 8.42413265e-06, 9.52787984e-06, 7.74074807e-06,\n",
       "       9.84932939e-06, 9.99397008e-06, 9.91312558e-06, 9.95426009e-06,\n",
       "       9.99966734e-06, 8.35809040e-06, 9.21419661e-06, 9.69690703e-06,\n",
       "       6.41384649e-06, 9.83764460e-06, 6.24154130e-06, 9.83334390e-06,\n",
       "       9.99983388e-06, 6.80466058e-06, 8.96295865e-06, 7.75047340e-06,\n",
       "       8.91422660e-06, 9.99583066e-06, 6.57919595e-06, 9.86130995e-06,\n",
       "       8.31402006e-06, 8.93631222e-06, 9.95724871e-06, 9.97557343e-06,\n",
       "       6.65973555e-06, 6.97275633e-06, 9.98128119e-06, 8.08720627e-06,\n",
       "       8.52206385e-06, 9.56321420e-06, 5.57510572e-06, 1.00000226e-05,\n",
       "       6.49486389e-06, 6.85531156e-06, 4.56065612e-06, 8.08204284e-06,\n",
       "       6.02722038e-06, 6.46706962e-06, 9.97666962e-06, 6.85342457e-06,\n",
       "       9.99108135e-06, 9.95267620e-06, 9.98785831e-06, 6.34533192e-06,\n",
       "       6.89739486e-06, 7.67426439e-06, 7.41085998e-06, 6.06267620e-06,\n",
       "       9.08422256e-06, 9.61335107e-06, 9.97945684e-06, 9.86944640e-06,\n",
       "       5.48897981e-06, 9.06827791e-06, 9.98114215e-06, 9.24865872e-06,\n",
       "       9.99771309e-06, 8.26987597e-06, 9.81870065e-06, 9.96653782e-06,\n",
       "       9.71572279e-06, 9.89931815e-06, 9.86788827e-06, 5.76378379e-06,\n",
       "       7.17275408e-06, 9.14150716e-06, 9.06094756e-06, 9.99996156e-06,\n",
       "       9.32347211e-06, 9.89446080e-06, 9.25191727e-06, 9.99957297e-06,\n",
       "       7.86337396e-06, 8.29854216e-06, 8.87620284e-06, 8.04719962e-06,\n",
       "       8.33771569e-06, 9.98316081e-06, 9.99593617e-06, 9.29500466e-06,\n",
       "       6.29188187e-06, 4.11822376e-06, 9.99835160e-06, 9.99814617e-06,\n",
       "       6.42246962e-06, 9.57548897e-06, 7.07960425e-06, 9.99635267e-06,\n",
       "       5.32428311e-06, 9.91658003e-06, 9.99382567e-06, 3.96555709e-06,\n",
       "       6.02795714e-06, 8.89868851e-06, 7.71668685e-06, 9.97092582e-06,\n",
       "       8.29033706e-06, 1.00000504e-05, 8.68786259e-06, 7.86438340e-06,\n",
       "       7.47151711e-06, 1.00000448e-05, 9.96694440e-06, 9.61904870e-06,\n",
       "       9.98755262e-06, 5.85841194e-06, 9.86234004e-06, 9.99958962e-06,\n",
       "       9.67177772e-06, 9.93086096e-06, 9.98944217e-06, 9.92265739e-06,\n",
       "       9.20993629e-06, 9.89049350e-06, 9.96228719e-06, 9.83074112e-06,\n",
       "       8.08018128e-06, 8.69681607e-06, 9.96529568e-06, 9.97710361e-06,\n",
       "       6.18741001e-06, 7.37662416e-06, 9.99996711e-06, 9.89208735e-06,\n",
       "       9.63320023e-06, 7.06083154e-06, 6.15140076e-06, 8.89501350e-06,\n",
       "       7.18236742e-06, 9.95176145e-06, 9.14219332e-06, 9.67963764e-06,\n",
       "       9.99486431e-06, 9.63634027e-06, 6.97762685e-06, 9.89863961e-06,\n",
       "       9.99976726e-06, 7.88109441e-06, 8.78102684e-06, 9.24904884e-06,\n",
       "       9.97972384e-06, 9.65185261e-06, 7.80202089e-06, 9.99995600e-06,\n",
       "       9.10296314e-06, 9.99995045e-06, 9.22637016e-06, 9.93595752e-06,\n",
       "       9.99988384e-06, 9.29951254e-06, 9.81197054e-06, 9.95804032e-06,\n",
       "       9.99997266e-06, 8.51410676e-06, 5.48897981e-06, 8.75542450e-06,\n",
       "       7.26483187e-06, 9.56315034e-06, 9.99754652e-06, 7.80537844e-06,\n",
       "       9.73262017e-06, 8.27443918e-06, 6.54239890e-06, 9.81264942e-06,\n",
       "       4.78011507e-06, 9.83305035e-06, 8.04306654e-06, 9.99950635e-06,\n",
       "       9.95996334e-06, 8.25833592e-06, 6.47142866e-06, 9.99905113e-06,\n",
       "       9.99994490e-06, 9.95063462e-06, 6.24252843e-06, 9.99252026e-06,\n",
       "       6.43319561e-06, 7.09978957e-06, 9.78929173e-06, 6.90884589e-06,\n",
       "       5.42580315e-06, 7.49105398e-06, 5.75436658e-06, 9.81490069e-06,\n",
       "       7.54390326e-06, 9.99289802e-06, 9.34332514e-06, 9.89790494e-06,\n",
       "       4.99589069e-06, 8.09272996e-06, 7.21134610e-06, 9.94935703e-06,\n",
       "       9.42272545e-06, 7.03482384e-06, 9.78827097e-06, 9.89488156e-06,\n",
       "       9.97820519e-06, 9.99540303e-06, 9.88925866e-06, 9.99971175e-06,\n",
       "       5.91615509e-06, 9.99676914e-06, 9.98272152e-06, 9.84413160e-06,\n",
       "       9.99514201e-06, 1.00000171e-05, 5.85515148e-06, 9.98997007e-06,\n",
       "       9.98269928e-06, 9.92444743e-06, 6.39238106e-06, 9.96415368e-06,\n",
       "       7.88663577e-06, 6.46871748e-06, 4.92429834e-06, 1.00000337e-05,\n",
       "       7.50634070e-06, 8.05474960e-06, 9.99977837e-06, 9.94714177e-06,\n",
       "       7.24277681e-06, 6.92312503e-06, 9.11094820e-06, 9.92952492e-06,\n",
       "       9.99950080e-06, 1.00000670e-05, 4.99589069e-06, 7.58360778e-06,\n",
       "       7.04651634e-06, 9.72462041e-06, 6.26083774e-06, 9.49550702e-06,\n",
       "       9.91068378e-06, 9.97969603e-06, 9.99421448e-06, 6.53359421e-06,\n",
       "       6.25137012e-06, 8.69327920e-06, 9.98413940e-06, 8.55247470e-06,\n",
       "       9.89719826e-06, 6.64044464e-06, 9.93678434e-06, 1.00000171e-05,\n",
       "       9.19009108e-06, 9.40571989e-06, 9.86567160e-06, 9.51948644e-06,\n",
       "       6.42374870e-06, 6.61169241e-06, 6.04519926e-06, 9.99889568e-06,\n",
       "       9.00260779e-06, 4.99589069e-06, 9.94430084e-06, 9.99974506e-06,\n",
       "       6.00504779e-06, 6.81122445e-06, 9.95564300e-06, 9.98288278e-06,\n",
       "       9.94898321e-06, 9.80769821e-06, 9.99305356e-06, 7.81201103e-06,\n",
       "       9.89779838e-06, 9.74037970e-06, 6.77529434e-06, 9.89441031e-06,\n",
       "       9.82544875e-06, 8.90694396e-06, 5.86661195e-06, 8.91661132e-06,\n",
       "       3.96555709e-06, 9.99597505e-06, 9.15599664e-06, 9.99981723e-06,\n",
       "       1.00000060e-05, 9.69280161e-06, 8.84584438e-06, 9.29877830e-06,\n",
       "       9.98907540e-06, 9.99769644e-06, 6.22135526e-06, 9.97818294e-06,\n",
       "       6.57040677e-06, 8.83958560e-06, 9.99801847e-06, 9.13150040e-06,\n",
       "       9.15805170e-06, 9.96893809e-06, 9.49771657e-06, 9.96264937e-06,\n",
       "       9.93570052e-06, 7.47788908e-06, 9.58859330e-06, 9.93948781e-06,\n",
       "       9.99933981e-06, 5.57264581e-06, 9.99876799e-06, 7.95759678e-06,\n",
       "       1.00000448e-05, 9.47402188e-06, 9.62208952e-06, 8.27703506e-06,\n",
       "       9.99323131e-06, 9.88615964e-06, 9.88378981e-06, 9.86731446e-06,\n",
       "       7.54954505e-06, 5.70182180e-06, 9.99966734e-06, 6.51634100e-06,\n",
       "       9.91644568e-06, 9.69905353e-06, 9.95241963e-06, 8.13725521e-06,\n",
       "       8.64009110e-06, 9.99305356e-06, 9.83282453e-06, 6.34424703e-06,\n",
       "       9.99468658e-06, 9.72624144e-06, 9.98527356e-06, 9.94134183e-06,\n",
       "       9.99977282e-06, 9.99058684e-06, 9.99998931e-06, 3.96555709e-06,\n",
       "       9.55018548e-06, 9.99979502e-06, 9.91138950e-06, 8.55638118e-06,\n",
       "       9.99333686e-06, 9.85304847e-06, 8.08790638e-06, 9.44505609e-06,\n",
       "       6.45204793e-06, 9.66528417e-06, 9.47826893e-06, 6.87221457e-06,\n",
       "       8.58862911e-06, 4.66696661e-06, 9.91663601e-06, 8.29792003e-06,\n",
       "       9.99995600e-06, 4.92429834e-06, 1.00000226e-05, 6.46920660e-06,\n",
       "       9.37396153e-06, 6.10408567e-06, 7.50263478e-06, 9.99321465e-06,\n",
       "       6.84754972e-06, 9.35438123e-06, 7.06083154e-06, 9.69090004e-06,\n",
       "       9.16747243e-06, 9.99979502e-06, 8.24680665e-06, 8.83227285e-06,\n",
       "       8.71844007e-06, 9.24946896e-06, 9.99997266e-06, 9.37744885e-06,\n",
       "       9.92983798e-06, 6.12247352e-06, 9.99107579e-06, 6.74816981e-06,\n",
       "       9.97742631e-06, 5.37065427e-06, 4.78011507e-06, 8.80333943e-06,\n",
       "       9.90896968e-06, 9.99970065e-06, 5.43092644e-06, 7.06665477e-06,\n",
       "       9.99937312e-06, 9.53295892e-06, 7.04571276e-06, 8.35830293e-06,\n",
       "       4.92429834e-06, 9.79074330e-06, 7.24673053e-06, 8.25403283e-06,\n",
       "       9.90113484e-06, 9.60102064e-06, 9.96942253e-06, 9.99877909e-06,\n",
       "       9.87316352e-06, 6.64255927e-06, 9.99940088e-06, 9.66942424e-06,\n",
       "       9.96117270e-06, 5.82183619e-06, 9.73869833e-06, 9.86088212e-06,\n",
       "       9.99882906e-06, 5.85866777e-06, 9.99315910e-06, 9.56500186e-06,\n",
       "       9.97438808e-06, 8.69654160e-06, 6.58713917e-06, 8.40461819e-06,\n",
       "       9.90906492e-06, 9.94165452e-06, 7.13715067e-06, 8.71379722e-06,\n",
       "       8.91002844e-06, 8.32365580e-06, 6.39830077e-06, 7.33734297e-06,\n",
       "       8.20643489e-06, 9.96089963e-06, 9.99984498e-06, 9.10373757e-06,\n",
       "       6.17597856e-06, 9.03758190e-06, 9.72023544e-06, 6.27798849e-06,\n",
       "       7.87277860e-06, 6.99080478e-06, 8.29353708e-06, 9.99312577e-06,\n",
       "       7.82703971e-06, 9.99551966e-06, 9.86506390e-06, 8.24559494e-06,\n",
       "       9.91487815e-06, 8.02253526e-06, 9.50341926e-06, 6.34532317e-06,\n",
       "       8.80115109e-06, 7.51148602e-06, 9.93320280e-06, 6.87749531e-06,\n",
       "       9.99956187e-06, 8.96063583e-06, 9.79235905e-06, 1.00000393e-05,\n",
       "       9.98577945e-06, 9.99995600e-06, 5.86636593e-06, 9.99992825e-06,\n",
       "       9.93995135e-06, 9.55957979e-06, 9.98318305e-06, 8.38246940e-06,\n",
       "       9.32069717e-06, 4.66821536e-06, 6.22523541e-06, 9.63600615e-06,\n",
       "       9.97979059e-06, 9.99938422e-06, 6.18260832e-06, 9.97740405e-06,\n",
       "       4.99589069e-06, 9.44364544e-06, 9.87049813e-06, 4.78011507e-06,\n",
       "       9.99992270e-06, 6.20067380e-06, 9.99001452e-06, 9.93942637e-06,\n",
       "       7.84548613e-06, 9.89761330e-06, 9.99852926e-06, 6.82907391e-06,\n",
       "       1.00000504e-05, 9.99651926e-06, 7.95691312e-06, 8.46909171e-06,\n",
       "       9.19188488e-06, 9.99982278e-06, 9.99997266e-06, 9.84841068e-06,\n",
       "       9.68390915e-06, 9.50133374e-06, 9.11621695e-06, 9.99969510e-06,\n",
       "       9.78954124e-06, 5.81501468e-06, 9.92468795e-06, 6.19447562e-06,\n",
       "       9.51318653e-06, 9.61314319e-06, 9.57972000e-06, 4.77397950e-06,\n",
       "       9.99995600e-06, 9.93178882e-06, 9.20024530e-06, 9.70979033e-06,\n",
       "       8.33602442e-06, 9.58321354e-06, 8.90637057e-06, 6.24401329e-06,\n",
       "       7.23819975e-06, 9.99721892e-06, 8.79701255e-06, 8.63389533e-06,\n",
       "       8.12139259e-06, 5.48958657e-06, 9.56893007e-06, 8.46898684e-06,\n",
       "       9.98487329e-06, 8.29888999e-06, 7.21185414e-06, 8.96605482e-06,\n",
       "       9.36942430e-06, 5.57510572e-06, 9.72401531e-06, 8.60593341e-06,\n",
       "       6.52728693e-06, 9.91531485e-06, 9.99967844e-06, 5.85907519e-06,\n",
       "       9.18662328e-06, 9.99978947e-06, 6.98421892e-06, 9.94038694e-06,\n",
       "       9.72327886e-06, 7.55920795e-06, 9.94730361e-06, 9.99968955e-06,\n",
       "       9.83977168e-06, 9.77876144e-06, 9.79982204e-06, 9.29763204e-06,\n",
       "       9.89731604e-06, 9.99274803e-06, 9.95948401e-06, 9.96770183e-06,\n",
       "       9.78671127e-06, 7.90889571e-06, 9.86261021e-06, 8.54915733e-06,\n",
       "       9.94005745e-06, 9.99852926e-06, 9.99988939e-06, 9.92838439e-06,\n",
       "       7.46433657e-06, 8.89913141e-06, 7.86925230e-06, 9.54884268e-06,\n",
       "       9.67686158e-06, 6.97213533e-06, 9.99133137e-06, 8.83406390e-06,\n",
       "       7.20861288e-06, 7.35159778e-06, 9.96199186e-06, 8.30109038e-06,\n",
       "       9.90840386e-06, 9.86453495e-06, 9.99962848e-06, 9.51908990e-06,\n",
       "       9.95722641e-06, 9.99992270e-06, 7.02021839e-06, 9.40688838e-06,\n",
       "       9.96412025e-06, 9.67259269e-06, 9.94417244e-06, 9.87806506e-06,\n",
       "       9.82154401e-06, 9.99168138e-06, 7.41186364e-06, 7.42696955e-06,\n",
       "       9.94864843e-06, 9.11856102e-06, 5.50944113e-06, 9.99990604e-06,\n",
       "       9.97703128e-06, 9.99859033e-06, 9.94562931e-06, 9.25777138e-06,\n",
       "       9.99997266e-06, 9.33662693e-06, 7.92241645e-06, 8.52114535e-06,\n",
       "       6.97751547e-06, 9.99133137e-06, 9.90115726e-06, 9.96411468e-06,\n",
       "       9.49125599e-06, 8.54477332e-06, 9.97878931e-06, 8.12057916e-06,\n",
       "       9.82477076e-06, 9.83893670e-06, 9.99995600e-06, 8.90148899e-06,\n",
       "       9.86647619e-06, 6.26069588e-06, 6.58403722e-06, 9.45261124e-06,\n",
       "       9.80505465e-06, 7.50699146e-06, 4.56065612e-06, 9.96070458e-06,\n",
       "       8.68135564e-06, 9.94275444e-06, 9.50473344e-06, 9.99925099e-06,\n",
       "       9.99936202e-06, 6.87836697e-06, 9.80958845e-06, 9.99964514e-06,\n",
       "       8.05536983e-06, 9.99484765e-06, 7.72688072e-06, 9.66225120e-06,\n",
       "       8.32965581e-06, 8.85572261e-06, 9.99997266e-06, 8.88880183e-06,\n",
       "       9.84234951e-06, 9.72345014e-06, 9.85076648e-06, 8.67723034e-06,\n",
       "       9.97320258e-06, 8.99383529e-06, 8.67156045e-06, 9.95416529e-06,\n",
       "       8.06383466e-06, 9.99438666e-06, 5.75436658e-06, 9.97818850e-06,\n",
       "       9.99620273e-06, 6.26083774e-06, 9.99348683e-06, 9.67147926e-06,\n",
       "       7.04571276e-06, 9.83605322e-06, 7.56378157e-06, 6.38049905e-06,\n",
       "       7.89025280e-06, 9.08020693e-06, 8.21817615e-06, 9.99998931e-06,\n",
       "       8.45511898e-06, 9.48240284e-06, 9.99884572e-06, 6.39125204e-06,\n",
       "       9.97868918e-06, 9.99886792e-06, 6.28678914e-06, 7.62479474e-06,\n",
       "       1.00000226e-05, 4.66821536e-06, 9.74138839e-06, 1.00000226e-05,\n",
       "       8.84925127e-06, 9.99965069e-06, 9.96668263e-06, 9.51659367e-06,\n",
       "       9.20297814e-06, 9.83091052e-06, 9.99996156e-06, 8.76529063e-06,\n",
       "       9.98896982e-06, 7.84520311e-06, 9.26344202e-06, 7.47268349e-06,\n",
       "       9.14729236e-06, 9.65774020e-06, 9.53188741e-06, 9.89040931e-06,\n",
       "       1.00000004e-05, 9.96148477e-06, 9.81972390e-06, 9.99997266e-06,\n",
       "       9.99466992e-06, 9.99990049e-06, 9.70917859e-06, 7.10919705e-06,\n",
       "       8.95187801e-06, 9.99814617e-06, 7.45044649e-06, 1.00000060e-05,\n",
       "       9.94709713e-06, 9.99832384e-06, 8.77100120e-06, 9.88604173e-06,\n",
       "       9.97318032e-06, 9.08744234e-06, 9.77802911e-06, 6.04752204e-06,\n",
       "       9.53018090e-06, 9.97818850e-06, 7.41798004e-06, 8.56643768e-06,\n",
       "       9.96319540e-06, 8.51582133e-06, 9.64056763e-06, 9.94254229e-06,\n",
       "       6.64569237e-06, 9.95729331e-06, 7.16198856e-06, 9.99740771e-06,\n",
       "       9.99959517e-06, 8.50535908e-06, 8.74396025e-06, 9.94136975e-06,\n",
       "       9.82198485e-06, 9.99970065e-06, 9.99251471e-06, 9.99542525e-06,\n",
       "       9.92399436e-06, 7.46347385e-06, 9.99368125e-06, 8.96609196e-06,\n",
       "       9.99539748e-06, 9.99847929e-06, 9.98366680e-06, 9.99970620e-06,\n",
       "       8.18834739e-06, 9.99993380e-06, 8.80167457e-06, 9.90272136e-06,\n",
       "       9.99737439e-06, 8.68004471e-06, 9.85347101e-06, 6.77901302e-06,\n",
       "       5.57510572e-06, 9.94426734e-06, 9.98562935e-06, 7.34730762e-06,\n",
       "       9.98781384e-06, 9.47174820e-06, 8.29868263e-06, 9.98334430e-06,\n",
       "       9.94072200e-06, 7.78927468e-06, 9.11314135e-06, 9.19696241e-06,\n",
       "       4.92429834e-06, 5.25540105e-06, 7.18108433e-06, 9.99970065e-06,\n",
       "       6.93231583e-06, 4.66821536e-06, 9.90744579e-06, 8.77224791e-06,\n",
       "       6.55635853e-06, 8.16679479e-06, 9.78579802e-06, 4.77397950e-06,\n",
       "       9.91528685e-06, 8.21320321e-06, 9.99892899e-06, 1.00000393e-05,\n",
       "       9.99312022e-06, 8.98030814e-06, 7.86402341e-06, 9.94147025e-06,\n",
       "       9.92556605e-06, 8.36053416e-06, 9.87121797e-06, 6.86536133e-06,\n",
       "       8.93979639e-06, 6.33341423e-06, 9.99988384e-06, 6.12168466e-06,\n",
       "       9.84184753e-06, 9.20425078e-06, 1.00000171e-05, 9.96524555e-06,\n",
       "       9.99661921e-06, 9.80711521e-06, 9.99286469e-06, 9.22637618e-06,\n",
       "       9.83988451e-06, 9.99951190e-06, 6.69879709e-06, 9.98890313e-06,\n",
       "       9.97557899e-06, 9.99294801e-06, 8.66757138e-06, 9.99998931e-06,\n",
       "       9.95630092e-06, 4.77397950e-06, 9.80601139e-06, 7.96467414e-06,\n",
       "       9.99876799e-06, 9.87863825e-06, 9.12267538e-06, 6.29478386e-06,\n",
       "       4.66821536e-06, 6.49417155e-06, 8.89096236e-06, 9.99797960e-06,\n",
       "       8.77830176e-06, 9.99998931e-06, 4.78011507e-06, 7.24397235e-06])"
      ]
     },
     "execution_count": 17,
     "metadata": {},
     "output_type": "execute_result"
    }
   ],
   "source": [
    "sd_train"
   ]
  },
  {
   "cell_type": "markdown",
   "id": "20275bcf",
   "metadata": {},
   "source": [
    "## 7.2. Test Set"
   ]
  },
  {
   "cell_type": "code",
   "execution_count": 18,
   "id": "50cd359b",
   "metadata": {},
   "outputs": [],
   "source": [
    "y_pred_test, sd_test = reg.predict(X_test_scaled, return_std=True)"
   ]
  },
  {
   "cell_type": "code",
   "execution_count": 19,
   "id": "d2bb7adb",
   "metadata": {},
   "outputs": [
    {
     "data": {
      "text/plain": [
       "array([   37.85879517,    58.06295776,    15.12585449,   -19.19424438,\n",
       "          36.46386719,    35.32525635,    41.83444214,  -150.60180664,\n",
       "          16.43887329,    51.61636353,    38.24368286,    12.47219849,\n",
       "          58.74163818,    20.79135132,     8.76675415,    45.55325317,\n",
       "          19.92642212,    25.54797363,    39.32540894,    64.32180786,\n",
       "          14.12182617,    67.39306641,    46.22601318,    35.06723022,\n",
       "         128.80047607,    31.79647827,    37.46096802,    13.2791748 ,\n",
       "          24.16482544,    39.30853271,    37.52111816,   348.10739136,\n",
       "          48.43530273,    12.40280151,    32.22192383,    62.6317749 ,\n",
       "          25.39627075,    41.43731689,    23.08856201,    42.95553589,\n",
       "        -163.51043701,    78.71334839,    10.04638672,     9.48864746,\n",
       "          18.67666626,    41.70004272,    37.37213135,    31.18771362,\n",
       "         593.181427  ,    46.08370972,    11.80795288,    25.09213257,\n",
       "           4.49307251,    39.89712524,    52.39154053,    31.83404541,\n",
       "          25.5802002 ,    13.77560425,    39.51446533,    30.56918335,\n",
       "          19.62225342,    22.0317688 ,   286.74926758,    48.64071655,\n",
       "          55.58366394,    27.2428894 ,  -298.36715698,    32.10101318,\n",
       "          59.33825684,     6.3526001 ,    14.70379639,    57.85400391,\n",
       "          27.90411377,    35.9944458 ,    18.26184082,   -43.39663696,\n",
       "         172.97485352,    21.21688843,    26.45123291,    45.36569214,\n",
       "          38.84292603,     7.27935791, -2921.49099731,    11.06387329,\n",
       "          34.47714233,    21.42306519,    35.55184937,    12.87997437,\n",
       "         125.29574585,    50.06539917,    15.73413086,    46.84762573,\n",
       "          23.26763916,    19.13739014,    39.28930664,    83.2026062 ,\n",
       "          12.50262451,    57.41418457,    40.55749512,    19.52484131,\n",
       "          27.18191528,    12.63845825,    29.4574585 ,    28.84686279,\n",
       "          69.85803223,    45.74487305,    37.27737427,    27.2427063 ,\n",
       "          33.8359375 ,    73.84838867,    36.97674561,    31.01675415,\n",
       "          32.20373535,    44.13439941,    37.93688965,    27.01800537,\n",
       "          21.85977173,    38.16345215,    52.30593872,    36.20797729,\n",
       "           9.30114746,    23.05792236,    13.93560791,    39.82330322,\n",
       "          40.14169312,    55.90167236,    38.39404297,    18.75128174,\n",
       "          34.20001221,    75.9850769 ,     5.43643188,    26.42654419,\n",
       "           5.6187439 ,    18.7041626 ,    70.25933838,    47.15075684,\n",
       "          34.01348877,    32.42745972,    -8.69604492,    42.00195312,\n",
       "          25.19827271,    64.48602295,    65.33035278,    18.09954834,\n",
       "          41.11923218,    29.1333313 ,    46.11856079,    12.0032959 ,\n",
       "          27.58227539,    37.75039673,    23.49188232,    50.77304077,\n",
       "          65.73287964,     5.15255737,    19.30093384,    14.65692139,\n",
       "          49.99472046,   108.69940186,    33.0838623 ,    29.79544067,\n",
       "         180.81411743,    19.48495483,    42.978302  ,    22.05288696,\n",
       "          27.4670105 ,    19.9152832 ,    26.54336548,    52.43432617,\n",
       "           6.89035034,    48.0916748 ,    35.21337891,    12.43347168,\n",
       "          41.83444214,    61.86779785,   129.00036621,    39.24453735,\n",
       "          29.40216064,    14.32061768,    99.04525757,    32.98397827,\n",
       "          16.71868896,   323.23757935,    25.92709351,    13.78399658,\n",
       "          96.9413147 ,    16.65097046,    69.09191895,    36.47229004,\n",
       "          26.57354736,    86.15551758,    36.90435791,    33.309021  ,\n",
       "          29.35946655,    99.53878784,    52.42047119,    59.95068359,\n",
       "          41.83444214,    14.55767822,    40.89776611,    40.73297119,\n",
       "          22.71005249,    40.79772949,    48.99847412,    32.2258606 ,\n",
       "          50.99594116,    27.59417725])"
      ]
     },
     "execution_count": 19,
     "metadata": {},
     "output_type": "execute_result"
    }
   ],
   "source": [
    "y_pred_test"
   ]
  },
  {
   "cell_type": "code",
   "execution_count": 20,
   "id": "99c6809e",
   "metadata": {},
   "outputs": [
    {
     "data": {
      "text/plain": [
       "array([8.71305363e-05, 7.24397235e-06, 2.63003300e-05, 8.99103104e-04,\n",
       "       9.58340521e-05, 1.37989902e-05, 4.11822376e-06, 1.00044333e-02,\n",
       "       1.19181473e-04, 9.59786008e-05, 1.15089936e-05, 2.24167913e-04,\n",
       "       4.24394410e-05, 2.41161495e-05, 1.83536767e-04, 1.06317879e-05,\n",
       "       9.88361312e-05, 1.30838257e-04, 5.43119659e-05, 4.05398550e-04,\n",
       "       2.22226827e-04, 4.21857295e-05, 2.86858538e-05, 8.56739668e-06,\n",
       "       1.94140987e-03, 1.00952095e-05, 5.88572638e-05, 1.75522270e-05,\n",
       "       1.63391283e-05, 1.36373185e-05, 4.91989453e-05, 6.11868775e-03,\n",
       "       5.12493731e-05, 1.36247877e-05, 1.63536799e-05, 6.26083774e-06,\n",
       "       7.46006660e-06, 3.98812717e-05, 7.59171388e-06, 8.92559355e-05,\n",
       "       6.08516322e-03, 9.35321189e-04, 1.67805800e-05, 1.26170004e-04,\n",
       "       5.91528241e-06, 5.62437652e-05, 3.36976080e-05, 2.41657442e-05,\n",
       "       1.00954794e-02, 7.01342318e-05, 3.18443620e-05, 9.46993121e-06,\n",
       "       4.87494375e-05, 6.74510604e-05, 1.49412250e-05, 2.67478334e-05,\n",
       "       7.85335021e-06, 9.76561102e-06, 3.16352394e-04, 4.39357750e-05,\n",
       "       6.28571454e-05, 3.09980174e-04, 1.64892533e-03, 1.10999249e-05,\n",
       "       1.16133199e-04, 3.49691531e-04, 2.19682386e-03, 1.31158409e-05,\n",
       "       3.50759361e-04, 5.87146441e-03, 4.69472866e-05, 4.48857555e-05,\n",
       "       6.07422857e-05, 1.81330405e-04, 1.12534355e-05, 8.97677020e-04,\n",
       "       2.89953986e-03, 3.52390616e-04, 1.31544595e-05, 7.58756366e-05,\n",
       "       3.99929928e-05, 2.98386609e-05, 2.09972970e-02, 2.40041797e-04,\n",
       "       1.80971317e-03, 7.85740710e-05, 5.62985768e-05, 6.41999406e-05,\n",
       "       1.86171867e-03, 2.17565246e-05, 8.76257966e-06, 3.33866344e-05,\n",
       "       3.43676377e-05, 1.45472011e-04, 5.98109557e-05, 1.30761178e-04,\n",
       "       1.51319163e-04, 6.98150722e-05, 4.79295404e-05, 7.81642253e-06,\n",
       "       1.64721497e-04, 1.90215526e-05, 9.66444686e-05, 2.59577457e-04,\n",
       "       1.78773780e-04, 7.90895628e-05, 1.19966379e-05, 2.39847301e-05,\n",
       "       1.70505166e-05, 6.59085990e-05, 1.18866022e-05, 8.06334589e-06,\n",
       "       6.99532945e-05, 2.62259421e-05, 1.26901914e-05, 1.46984000e-05,\n",
       "       1.25887299e-05, 5.67204005e-05, 2.28541699e-05, 3.26818629e-05,\n",
       "       1.66383559e-05, 2.42610434e-04, 1.49636078e-05, 2.88710123e-05,\n",
       "       3.32501574e-05, 6.76445381e-05, 4.17895833e-05, 1.94417472e-05,\n",
       "       7.73386768e-05, 7.69031969e-04, 8.37810397e-05, 8.09969610e-06,\n",
       "       2.01759521e-05, 7.63910903e-06, 2.67992734e-05, 2.64469794e-04,\n",
       "       1.08541689e-05, 7.50465440e-06, 3.17468179e-03, 9.59337290e-05,\n",
       "       1.05926086e-05, 8.83397065e-05, 7.04571276e-06, 8.13401419e-06,\n",
       "       8.41616212e-06, 3.57453995e-05, 1.92853316e-04, 1.86063736e-04,\n",
       "       1.81730978e-05, 1.06453076e-05, 1.47473887e-05, 3.22608729e-05,\n",
       "       2.17648918e-05, 3.95929037e-04, 1.87158881e-05, 8.47817460e-05,\n",
       "       4.65533275e-04, 1.01648454e-04, 5.04685457e-05, 2.65923736e-05,\n",
       "       5.55834228e-04, 7.26483187e-06, 1.66411149e-05, 2.37344456e-04,\n",
       "       9.56724839e-05, 1.92194742e-05, 7.36165300e-05, 5.50918359e-05,\n",
       "       1.25070817e-05, 2.96637641e-05, 3.80837023e-05, 1.05587898e-05,\n",
       "       4.11822376e-06, 6.90959566e-05, 1.36045098e-04, 1.23931321e-04,\n",
       "       1.20054325e-04, 3.38830011e-04, 1.02096711e-04, 1.17236477e-04,\n",
       "       8.99216249e-06, 1.96290184e-03, 7.21185414e-06, 1.53398875e-04,\n",
       "       2.33502876e-03, 1.45553133e-04, 7.36280942e-04, 1.02295195e-04,\n",
       "       9.24768033e-06, 6.48710856e-05, 1.15742284e-04, 1.56851055e-05,\n",
       "       9.19143798e-06, 6.43512370e-05, 4.89776506e-05, 9.46179571e-05,\n",
       "       4.11822376e-06, 1.23973766e-05, 1.01972355e-03, 1.14029134e-05,\n",
       "       2.01185874e-05, 6.48593490e-04, 4.85183891e-05, 5.70182180e-06,\n",
       "       4.61301348e-05, 2.84437563e-05])"
      ]
     },
     "execution_count": 20,
     "metadata": {},
     "output_type": "execute_result"
    }
   ],
   "source": [
    "sd_test"
   ]
  },
  {
   "cell_type": "markdown",
   "id": "0ac9e2f7",
   "metadata": {},
   "source": [
    "# 8. Model Evaluation"
   ]
  },
  {
   "cell_type": "markdown",
   "id": "323267ce",
   "metadata": {},
   "source": [
    "## 8.1. Training Set"
   ]
  },
  {
   "cell_type": "markdown",
   "id": "f2a400c0",
   "metadata": {},
   "source": [
    "### 8.1.1. Scoring"
   ]
  },
  {
   "cell_type": "code",
   "execution_count": 21,
   "id": "77e55cfb",
   "metadata": {},
   "outputs": [
    {
     "name": "stdout",
     "output_type": "stream",
     "text": [
      "r2_score =\t\t\t 0.9933293107611665\n",
      "mean_squared_error =\t\t 1.8178540543843356\n",
      "mean_absolute_error =\t\t 0.5787959659540072\n",
      "mean_absolute_percentage_error = 0.02197197628785002\n"
     ]
    }
   ],
   "source": [
    "print('r2_score =\\t\\t\\t', r2_score(y_train, y_pred_train))\n",
    "print('mean_squared_error =\\t\\t', mean_squared_error(y_train, y_pred_train))\n",
    "print('mean_absolute_error =\\t\\t', mean_absolute_error(y_train, y_pred_train))\n",
    "print('mean_absolute_percentage_error =', mean_absolute_percentage_error(y_train, y_pred_train))"
   ]
  },
  {
   "cell_type": "markdown",
   "id": "b1c2a693",
   "metadata": {},
   "source": [
    "### 8.1.2. Scatter Plot between Predicted & Actual Values"
   ]
  },
  {
   "cell_type": "code",
   "execution_count": 22,
   "id": "bb81c4d9",
   "metadata": {},
   "outputs": [
    {
     "data": {
      "text/plain": [
       "Text(0, 0.5, 'Actual')"
      ]
     },
     "execution_count": 22,
     "metadata": {},
     "output_type": "execute_result"
    },
    {
     "data": {
      "image/png": "[encoded data removed]",
      "text/plain": [
       "<Figure size 432x288 with 1 Axes>"
      ]
     },
     "metadata": {
      "needs_background": "light"
     },
     "output_type": "display_data"
    }
   ],
   "source": [
    "plt.scatter(y_pred_train, y_train)\n",
    "\n",
    "plt.plot(y_pred_train, y_pred_train, color='red')\n",
    "\n",
    "plt.title('Scatter Plot between Predicted & Actual Values')\n",
    "plt.xlabel('Predicted')\n",
    "plt.ylabel('Actual')"
   ]
  },
  {
   "cell_type": "markdown",
   "id": "85d799bd",
   "metadata": {},
   "source": [
    "## 8.2. Test Set"
   ]
  },
  {
   "cell_type": "markdown",
   "id": "f519ade0",
   "metadata": {},
   "source": [
    "### 8.2.1. Scoring"
   ]
  },
  {
   "cell_type": "code",
   "execution_count": 23,
   "id": "75265c82",
   "metadata": {},
   "outputs": [
    {
     "name": "stdout",
     "output_type": "stream",
     "text": [
      "r2_score =\t\t\t -154.6674433018706\n",
      "mean_squared_error =\t\t 47055.58874842756\n",
      "mean_absolute_error =\t\t 34.89293174403092\n",
      "mean_absolute_percentage_error = 0.7689284263082237\n"
     ]
    }
   ],
   "source": [
    "print('r2_score =\\t\\t\\t', r2_score(y_test, y_pred_test))\n",
    "print('mean_squared_error =\\t\\t', mean_squared_error(y_test, y_pred_test))\n",
    "print('mean_absolute_error =\\t\\t', mean_absolute_error(y_test, y_pred_test))\n",
    "print('mean_absolute_percentage_error =', mean_absolute_percentage_error(y_test, y_pred_test))"
   ]
  },
  {
   "cell_type": "markdown",
   "id": "9d43b931",
   "metadata": {},
   "source": [
    "### 8.2.2 Scatter Plot between Predicted & Actual Values"
   ]
  },
  {
   "cell_type": "code",
   "execution_count": 24,
   "id": "91bb4023",
   "metadata": {
    "scrolled": true
   },
   "outputs": [
    {
     "data": {
      "text/plain": [
       "Text(0, 0.5, 'Actual')"
      ]
     },
     "execution_count": 24,
     "metadata": {},
     "output_type": "execute_result"
    },
    {
     "data": {
      "image/png": "[encoded data removed]",
      "text/plain": [
       "<Figure size 432x288 with 1 Axes>"
      ]
     },
     "metadata": {
      "needs_background": "light"
     },
     "output_type": "display_data"
    }
   ],
   "source": [
    "plt.scatter(y_pred_test, y_test)\n",
    "\n",
    "plt.plot(y_pred_test, y_pred_test, color='red')\n",
    "\n",
    "plt.title('Scatter Plot between Predicted & Actual Values')\n",
    "plt.xlabel('Predicted')\n",
    "plt.ylabel('Actual')"
   ]
  },
  {
   "cell_type": "markdown",
   "id": "e38a8e37",
   "metadata": {},
   "source": [
    "# 9. Save Model"
   ]
  },
  {
   "cell_type": "code",
   "execution_count": 25,
   "id": "50763e5c",
   "metadata": {},
   "outputs": [],
   "source": [
    "import pickle"
   ]
  },
  {
   "cell_type": "code",
   "execution_count": 26,
   "id": "928506b7",
   "metadata": {},
   "outputs": [],
   "source": [
    "pickle.dump((reg,\n",
    "             feature_name),  open('gaussian_process_model.pickle', 'wb'))"
   ]
  },
  {
   "cell_type": "code",
   "execution_count": null,
   "id": "a088c2b0",
   "metadata": {},
   "outputs": [],
   "source": []
  }
 ],
 "metadata": {
  "kernelspec": {
   "display_name": "Python 3",
   "language": "python",
   "name": "python3"
  },
  "language_info": {
   "codemirror_mode": {
    "name": "ipython",
    "version": 3
   },
   "file_extension": ".py",
   "mimetype": "text/x-python",
   "name": "python",
   "nbconvert_exporter": "python",
   "pygments_lexer": "ipython3",
   "version": "3.8.8"
  }
 },
 "nbformat": 4,
 "nbformat_minor": 5
}
