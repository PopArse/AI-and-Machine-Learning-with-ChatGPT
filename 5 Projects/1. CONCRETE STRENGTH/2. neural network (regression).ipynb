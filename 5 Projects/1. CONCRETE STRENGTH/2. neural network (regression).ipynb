{
 "cells": [
  {
   "cell_type": "markdown",
   "id": "57654bb6",
   "metadata": {},
   "source": [
    "# 1. Import Libraries"
   ]
  },
  {
   "cell_type": "code",
   "execution_count": 1,
   "id": "2f51eef5",
   "metadata": {},
   "outputs": [],
   "source": [
    "import numpy as np\n",
    "import pandas as pd\n",
    "import matplotlib.pyplot as plt\n",
    "\n",
    "from sklearn.model_selection import train_test_split\n",
    "from sklearn.preprocessing import OrdinalEncoder, OneHotEncoder\n",
    "from sklearn.preprocessing import (\n",
    "    OrdinalEncoder, \n",
    "    OneHotEncoder, \n",
    "    StandardScaler, \n",
    "    MinMaxScaler\n",
    ")\n",
    "from sklearn.neural_network import MLPRegressor\n",
    "from sklearn.metrics import (\n",
    "    r2_score, \n",
    "    mean_squared_error, \n",
    "    mean_absolute_error, \n",
    "    mean_absolute_percentage_error\n",
    ")\n",
    "\n",
    "import warnings\n",
    "warnings.filterwarnings('ignore')\n",
    "\n",
    "np.random.seed(12345)"
   ]
  },
  {
   "cell_type": "markdown",
   "id": "6707b8de",
   "metadata": {},
   "source": [
    "# 2. Read Data"
   ]
  },
  {
   "cell_type": "code",
   "execution_count": 2,
   "id": "89c2e441",
   "metadata": {
    "scrolled": true
   },
   "outputs": [
    {
     "data": {
      "text/html": [
       "<div>\n",
       "<style scoped>\n",
       "    .dataframe tbody tr th:only-of-type {\n",
       "        vertical-align: middle;\n",
       "    }\n",
       "\n",
       "    .dataframe tbody tr th {\n",
       "        vertical-align: top;\n",
       "    }\n",
       "\n",
       "    .dataframe thead th {\n",
       "        text-align: right;\n",
       "    }\n",
       "</style>\n",
       "<table border=\"1\" class=\"dataframe\">\n",
       "  <thead>\n",
       "    <tr style=\"text-align: right;\">\n",
       "      <th></th>\n",
       "      <th>Cement (component 1)(kg in a m^3 mixture)</th>\n",
       "      <th>Blast Furnace Slag (component 2)(kg in a m^3 mixture)</th>\n",
       "      <th>Fly Ash (component 3)(kg in a m^3 mixture)</th>\n",
       "      <th>Water  (component 4)(kg in a m^3 mixture)</th>\n",
       "      <th>Superplasticizer (component 5)(kg in a m^3 mixture)</th>\n",
       "      <th>Coarse Aggregate  (component 6)(kg in a m^3 mixture)</th>\n",
       "      <th>Fine Aggregate (component 7)(kg in a m^3 mixture)</th>\n",
       "      <th>Age (day)</th>\n",
       "      <th>Concrete compressive strength(MPa, megapascals)</th>\n",
       "    </tr>\n",
       "  </thead>\n",
       "  <tbody>\n",
       "    <tr>\n",
       "      <th>0</th>\n",
       "      <td>540.0</td>\n",
       "      <td>0.0</td>\n",
       "      <td>0.0</td>\n",
       "      <td>162.0</td>\n",
       "      <td>2.5</td>\n",
       "      <td>1040.0</td>\n",
       "      <td>676.0</td>\n",
       "      <td>28</td>\n",
       "      <td>79.986111</td>\n",
       "    </tr>\n",
       "    <tr>\n",
       "      <th>1</th>\n",
       "      <td>540.0</td>\n",
       "      <td>0.0</td>\n",
       "      <td>0.0</td>\n",
       "      <td>162.0</td>\n",
       "      <td>2.5</td>\n",
       "      <td>1055.0</td>\n",
       "      <td>676.0</td>\n",
       "      <td>28</td>\n",
       "      <td>61.887366</td>\n",
       "    </tr>\n",
       "    <tr>\n",
       "      <th>2</th>\n",
       "      <td>332.5</td>\n",
       "      <td>142.5</td>\n",
       "      <td>0.0</td>\n",
       "      <td>228.0</td>\n",
       "      <td>0.0</td>\n",
       "      <td>932.0</td>\n",
       "      <td>594.0</td>\n",
       "      <td>270</td>\n",
       "      <td>40.269535</td>\n",
       "    </tr>\n",
       "    <tr>\n",
       "      <th>3</th>\n",
       "      <td>332.5</td>\n",
       "      <td>142.5</td>\n",
       "      <td>0.0</td>\n",
       "      <td>228.0</td>\n",
       "      <td>0.0</td>\n",
       "      <td>932.0</td>\n",
       "      <td>594.0</td>\n",
       "      <td>365</td>\n",
       "      <td>41.052780</td>\n",
       "    </tr>\n",
       "    <tr>\n",
       "      <th>4</th>\n",
       "      <td>198.6</td>\n",
       "      <td>132.4</td>\n",
       "      <td>0.0</td>\n",
       "      <td>192.0</td>\n",
       "      <td>0.0</td>\n",
       "      <td>978.4</td>\n",
       "      <td>825.5</td>\n",
       "      <td>360</td>\n",
       "      <td>44.296075</td>\n",
       "    </tr>\n",
       "    <tr>\n",
       "      <th>...</th>\n",
       "      <td>...</td>\n",
       "      <td>...</td>\n",
       "      <td>...</td>\n",
       "      <td>...</td>\n",
       "      <td>...</td>\n",
       "      <td>...</td>\n",
       "      <td>...</td>\n",
       "      <td>...</td>\n",
       "      <td>...</td>\n",
       "    </tr>\n",
       "    <tr>\n",
       "      <th>1025</th>\n",
       "      <td>276.4</td>\n",
       "      <td>116.0</td>\n",
       "      <td>90.3</td>\n",
       "      <td>179.6</td>\n",
       "      <td>8.9</td>\n",
       "      <td>870.1</td>\n",
       "      <td>768.3</td>\n",
       "      <td>28</td>\n",
       "      <td>44.284354</td>\n",
       "    </tr>\n",
       "    <tr>\n",
       "      <th>1026</th>\n",
       "      <td>322.2</td>\n",
       "      <td>0.0</td>\n",
       "      <td>115.6</td>\n",
       "      <td>196.0</td>\n",
       "      <td>10.4</td>\n",
       "      <td>817.9</td>\n",
       "      <td>813.4</td>\n",
       "      <td>28</td>\n",
       "      <td>31.178794</td>\n",
       "    </tr>\n",
       "    <tr>\n",
       "      <th>1027</th>\n",
       "      <td>148.5</td>\n",
       "      <td>139.4</td>\n",
       "      <td>108.6</td>\n",
       "      <td>192.7</td>\n",
       "      <td>6.1</td>\n",
       "      <td>892.4</td>\n",
       "      <td>780.0</td>\n",
       "      <td>28</td>\n",
       "      <td>23.696601</td>\n",
       "    </tr>\n",
       "    <tr>\n",
       "      <th>1028</th>\n",
       "      <td>159.1</td>\n",
       "      <td>186.7</td>\n",
       "      <td>0.0</td>\n",
       "      <td>175.6</td>\n",
       "      <td>11.3</td>\n",
       "      <td>989.6</td>\n",
       "      <td>788.9</td>\n",
       "      <td>28</td>\n",
       "      <td>32.768036</td>\n",
       "    </tr>\n",
       "    <tr>\n",
       "      <th>1029</th>\n",
       "      <td>260.9</td>\n",
       "      <td>100.5</td>\n",
       "      <td>78.3</td>\n",
       "      <td>200.6</td>\n",
       "      <td>8.6</td>\n",
       "      <td>864.5</td>\n",
       "      <td>761.5</td>\n",
       "      <td>28</td>\n",
       "      <td>32.401235</td>\n",
       "    </tr>\n",
       "  </tbody>\n",
       "</table>\n",
       "<p>1030 rows × 9 columns</p>\n",
       "</div>"
      ],
      "text/plain": [
       "      Cement (component 1)(kg in a m^3 mixture)  \\\n",
       "0                                         540.0   \n",
       "1                                         540.0   \n",
       "2                                         332.5   \n",
       "3                                         332.5   \n",
       "4                                         198.6   \n",
       "...                                         ...   \n",
       "1025                                      276.4   \n",
       "1026                                      322.2   \n",
       "1027                                      148.5   \n",
       "1028                                      159.1   \n",
       "1029                                      260.9   \n",
       "\n",
       "      Blast Furnace Slag (component 2)(kg in a m^3 mixture)  \\\n",
       "0                                                   0.0       \n",
       "1                                                   0.0       \n",
       "2                                                 142.5       \n",
       "3                                                 142.5       \n",
       "4                                                 132.4       \n",
       "...                                                 ...       \n",
       "1025                                              116.0       \n",
       "1026                                                0.0       \n",
       "1027                                              139.4       \n",
       "1028                                              186.7       \n",
       "1029                                              100.5       \n",
       "\n",
       "      Fly Ash (component 3)(kg in a m^3 mixture)  \\\n",
       "0                                            0.0   \n",
       "1                                            0.0   \n",
       "2                                            0.0   \n",
       "3                                            0.0   \n",
       "4                                            0.0   \n",
       "...                                          ...   \n",
       "1025                                        90.3   \n",
       "1026                                       115.6   \n",
       "1027                                       108.6   \n",
       "1028                                         0.0   \n",
       "1029                                        78.3   \n",
       "\n",
       "      Water  (component 4)(kg in a m^3 mixture)  \\\n",
       "0                                         162.0   \n",
       "1                                         162.0   \n",
       "2                                         228.0   \n",
       "3                                         228.0   \n",
       "4                                         192.0   \n",
       "...                                         ...   \n",
       "1025                                      179.6   \n",
       "1026                                      196.0   \n",
       "1027                                      192.7   \n",
       "1028                                      175.6   \n",
       "1029                                      200.6   \n",
       "\n",
       "      Superplasticizer (component 5)(kg in a m^3 mixture)  \\\n",
       "0                                                   2.5     \n",
       "1                                                   2.5     \n",
       "2                                                   0.0     \n",
       "3                                                   0.0     \n",
       "4                                                   0.0     \n",
       "...                                                 ...     \n",
       "1025                                                8.9     \n",
       "1026                                               10.4     \n",
       "1027                                                6.1     \n",
       "1028                                               11.3     \n",
       "1029                                                8.6     \n",
       "\n",
       "      Coarse Aggregate  (component 6)(kg in a m^3 mixture)  \\\n",
       "0                                                1040.0      \n",
       "1                                                1055.0      \n",
       "2                                                 932.0      \n",
       "3                                                 932.0      \n",
       "4                                                 978.4      \n",
       "...                                                 ...      \n",
       "1025                                              870.1      \n",
       "1026                                              817.9      \n",
       "1027                                              892.4      \n",
       "1028                                              989.6      \n",
       "1029                                              864.5      \n",
       "\n",
       "      Fine Aggregate (component 7)(kg in a m^3 mixture)  Age (day)  \\\n",
       "0                                                 676.0         28   \n",
       "1                                                 676.0         28   \n",
       "2                                                 594.0        270   \n",
       "3                                                 594.0        365   \n",
       "4                                                 825.5        360   \n",
       "...                                                 ...        ...   \n",
       "1025                                              768.3         28   \n",
       "1026                                              813.4         28   \n",
       "1027                                              780.0         28   \n",
       "1028                                              788.9         28   \n",
       "1029                                              761.5         28   \n",
       "\n",
       "      Concrete compressive strength(MPa, megapascals)  \n",
       "0                                           79.986111  \n",
       "1                                           61.887366  \n",
       "2                                           40.269535  \n",
       "3                                           41.052780  \n",
       "4                                           44.296075  \n",
       "...                                               ...  \n",
       "1025                                        44.284354  \n",
       "1026                                        31.178794  \n",
       "1027                                        23.696601  \n",
       "1028                                        32.768036  \n",
       "1029                                        32.401235  \n",
       "\n",
       "[1030 rows x 9 columns]"
      ]
     },
     "execution_count": 2,
     "metadata": {},
     "output_type": "execute_result"
    }
   ],
   "source": [
    "data = pd.read_excel('concrete_dataset.xlsx')\n",
    "\n",
    "data"
   ]
  },
  {
   "cell_type": "markdown",
   "id": "aa424a64",
   "metadata": {},
   "source": [
    "# 3. Clean Data"
   ]
  },
  {
   "cell_type": "markdown",
   "id": "bc4f7a96",
   "metadata": {},
   "source": [
    "## 3.1. Handle Missing Values"
   ]
  },
  {
   "cell_type": "markdown",
   "id": "2b59944e",
   "metadata": {},
   "source": [
    "### 3.1.1. Check Missing Values"
   ]
  },
  {
   "cell_type": "code",
   "execution_count": 3,
   "id": "8a02b878",
   "metadata": {},
   "outputs": [
    {
     "name": "stdout",
     "output_type": "stream",
     "text": [
      "<class 'pandas.core.frame.DataFrame'>\n",
      "RangeIndex: 1030 entries, 0 to 1029\n",
      "Data columns (total 9 columns):\n",
      " #   Column                                                 Non-Null Count  Dtype  \n",
      "---  ------                                                 --------------  -----  \n",
      " 0   Cement (component 1)(kg in a m^3 mixture)              1030 non-null   float64\n",
      " 1   Blast Furnace Slag (component 2)(kg in a m^3 mixture)  1030 non-null   float64\n",
      " 2   Fly Ash (component 3)(kg in a m^3 mixture)             1030 non-null   float64\n",
      " 3   Water  (component 4)(kg in a m^3 mixture)              1030 non-null   float64\n",
      " 4   Superplasticizer (component 5)(kg in a m^3 mixture)    1030 non-null   float64\n",
      " 5   Coarse Aggregate  (component 6)(kg in a m^3 mixture)   1030 non-null   float64\n",
      " 6   Fine Aggregate (component 7)(kg in a m^3 mixture)      1030 non-null   float64\n",
      " 7   Age (day)                                              1030 non-null   int64  \n",
      " 8   Concrete compressive strength(MPa, megapascals)        1030 non-null   float64\n",
      "dtypes: float64(8), int64(1)\n",
      "memory usage: 72.5 KB\n"
     ]
    }
   ],
   "source": [
    "data.info()"
   ]
  },
  {
   "cell_type": "markdown",
   "id": "44279ff4",
   "metadata": {},
   "source": [
    "### 3.1.2. Remove Missing Values (Listwise Deletion)"
   ]
  },
  {
   "cell_type": "code",
   "execution_count": 4,
   "id": "7a3da168",
   "metadata": {},
   "outputs": [],
   "source": [
    "data.dropna(axis=0, inplace=True)"
   ]
  },
  {
   "cell_type": "markdown",
   "id": "5fed6619",
   "metadata": {},
   "source": [
    "## 3.2. Handle Outliers"
   ]
  },
  {
   "cell_type": "markdown",
   "id": "89eb99fe",
   "metadata": {},
   "source": [
    "### 3.2.1. Check Outliers"
   ]
  },
  {
   "cell_type": "code",
   "execution_count": 5,
   "id": "8400e390",
   "metadata": {},
   "outputs": [
    {
     "data": {
      "text/html": [
       "<div>\n",
       "<style scoped>\n",
       "    .dataframe tbody tr th:only-of-type {\n",
       "        vertical-align: middle;\n",
       "    }\n",
       "\n",
       "    .dataframe tbody tr th {\n",
       "        vertical-align: top;\n",
       "    }\n",
       "\n",
       "    .dataframe thead th {\n",
       "        text-align: right;\n",
       "    }\n",
       "</style>\n",
       "<table border=\"1\" class=\"dataframe\">\n",
       "  <thead>\n",
       "    <tr style=\"text-align: right;\">\n",
       "      <th></th>\n",
       "      <th>Cement (component 1)(kg in a m^3 mixture)</th>\n",
       "      <th>Blast Furnace Slag (component 2)(kg in a m^3 mixture)</th>\n",
       "      <th>Fly Ash (component 3)(kg in a m^3 mixture)</th>\n",
       "      <th>Water  (component 4)(kg in a m^3 mixture)</th>\n",
       "      <th>Superplasticizer (component 5)(kg in a m^3 mixture)</th>\n",
       "      <th>Coarse Aggregate  (component 6)(kg in a m^3 mixture)</th>\n",
       "      <th>Fine Aggregate (component 7)(kg in a m^3 mixture)</th>\n",
       "      <th>Age (day)</th>\n",
       "      <th>Concrete compressive strength(MPa, megapascals)</th>\n",
       "    </tr>\n",
       "  </thead>\n",
       "  <tbody>\n",
       "    <tr>\n",
       "      <th>count</th>\n",
       "      <td>1030.000000</td>\n",
       "      <td>1030.000000</td>\n",
       "      <td>1030.000000</td>\n",
       "      <td>1030.000000</td>\n",
       "      <td>1030.000000</td>\n",
       "      <td>1030.000000</td>\n",
       "      <td>1030.000000</td>\n",
       "      <td>1030.000000</td>\n",
       "      <td>1030.000000</td>\n",
       "    </tr>\n",
       "    <tr>\n",
       "      <th>mean</th>\n",
       "      <td>281.165631</td>\n",
       "      <td>73.895485</td>\n",
       "      <td>54.187136</td>\n",
       "      <td>181.566359</td>\n",
       "      <td>6.203112</td>\n",
       "      <td>972.918592</td>\n",
       "      <td>773.578883</td>\n",
       "      <td>45.662136</td>\n",
       "      <td>35.817836</td>\n",
       "    </tr>\n",
       "    <tr>\n",
       "      <th>std</th>\n",
       "      <td>104.507142</td>\n",
       "      <td>86.279104</td>\n",
       "      <td>63.996469</td>\n",
       "      <td>21.355567</td>\n",
       "      <td>5.973492</td>\n",
       "      <td>77.753818</td>\n",
       "      <td>80.175427</td>\n",
       "      <td>63.169912</td>\n",
       "      <td>16.705679</td>\n",
       "    </tr>\n",
       "    <tr>\n",
       "      <th>min</th>\n",
       "      <td>102.000000</td>\n",
       "      <td>0.000000</td>\n",
       "      <td>0.000000</td>\n",
       "      <td>121.750000</td>\n",
       "      <td>0.000000</td>\n",
       "      <td>801.000000</td>\n",
       "      <td>594.000000</td>\n",
       "      <td>1.000000</td>\n",
       "      <td>2.331808</td>\n",
       "    </tr>\n",
       "    <tr>\n",
       "      <th>25%</th>\n",
       "      <td>192.375000</td>\n",
       "      <td>0.000000</td>\n",
       "      <td>0.000000</td>\n",
       "      <td>164.900000</td>\n",
       "      <td>0.000000</td>\n",
       "      <td>932.000000</td>\n",
       "      <td>730.950000</td>\n",
       "      <td>7.000000</td>\n",
       "      <td>23.707115</td>\n",
       "    </tr>\n",
       "    <tr>\n",
       "      <th>50%</th>\n",
       "      <td>272.900000</td>\n",
       "      <td>22.000000</td>\n",
       "      <td>0.000000</td>\n",
       "      <td>185.000000</td>\n",
       "      <td>6.350000</td>\n",
       "      <td>968.000000</td>\n",
       "      <td>779.510000</td>\n",
       "      <td>28.000000</td>\n",
       "      <td>34.442774</td>\n",
       "    </tr>\n",
       "    <tr>\n",
       "      <th>75%</th>\n",
       "      <td>350.000000</td>\n",
       "      <td>142.950000</td>\n",
       "      <td>118.270000</td>\n",
       "      <td>192.000000</td>\n",
       "      <td>10.160000</td>\n",
       "      <td>1029.400000</td>\n",
       "      <td>824.000000</td>\n",
       "      <td>56.000000</td>\n",
       "      <td>46.136287</td>\n",
       "    </tr>\n",
       "    <tr>\n",
       "      <th>max</th>\n",
       "      <td>540.000000</td>\n",
       "      <td>359.400000</td>\n",
       "      <td>200.100000</td>\n",
       "      <td>247.000000</td>\n",
       "      <td>32.200000</td>\n",
       "      <td>1145.000000</td>\n",
       "      <td>992.600000</td>\n",
       "      <td>365.000000</td>\n",
       "      <td>82.599225</td>\n",
       "    </tr>\n",
       "  </tbody>\n",
       "</table>\n",
       "</div>"
      ],
      "text/plain": [
       "       Cement (component 1)(kg in a m^3 mixture)  \\\n",
       "count                                1030.000000   \n",
       "mean                                  281.165631   \n",
       "std                                   104.507142   \n",
       "min                                   102.000000   \n",
       "25%                                   192.375000   \n",
       "50%                                   272.900000   \n",
       "75%                                   350.000000   \n",
       "max                                   540.000000   \n",
       "\n",
       "       Blast Furnace Slag (component 2)(kg in a m^3 mixture)  \\\n",
       "count                                        1030.000000       \n",
       "mean                                           73.895485       \n",
       "std                                            86.279104       \n",
       "min                                             0.000000       \n",
       "25%                                             0.000000       \n",
       "50%                                            22.000000       \n",
       "75%                                           142.950000       \n",
       "max                                           359.400000       \n",
       "\n",
       "       Fly Ash (component 3)(kg in a m^3 mixture)  \\\n",
       "count                                 1030.000000   \n",
       "mean                                    54.187136   \n",
       "std                                     63.996469   \n",
       "min                                      0.000000   \n",
       "25%                                      0.000000   \n",
       "50%                                      0.000000   \n",
       "75%                                    118.270000   \n",
       "max                                    200.100000   \n",
       "\n",
       "       Water  (component 4)(kg in a m^3 mixture)  \\\n",
       "count                                1030.000000   \n",
       "mean                                  181.566359   \n",
       "std                                    21.355567   \n",
       "min                                   121.750000   \n",
       "25%                                   164.900000   \n",
       "50%                                   185.000000   \n",
       "75%                                   192.000000   \n",
       "max                                   247.000000   \n",
       "\n",
       "       Superplasticizer (component 5)(kg in a m^3 mixture)  \\\n",
       "count                                        1030.000000     \n",
       "mean                                            6.203112     \n",
       "std                                             5.973492     \n",
       "min                                             0.000000     \n",
       "25%                                             0.000000     \n",
       "50%                                             6.350000     \n",
       "75%                                            10.160000     \n",
       "max                                            32.200000     \n",
       "\n",
       "       Coarse Aggregate  (component 6)(kg in a m^3 mixture)  \\\n",
       "count                                        1030.000000      \n",
       "mean                                          972.918592      \n",
       "std                                            77.753818      \n",
       "min                                           801.000000      \n",
       "25%                                           932.000000      \n",
       "50%                                           968.000000      \n",
       "75%                                          1029.400000      \n",
       "max                                          1145.000000      \n",
       "\n",
       "       Fine Aggregate (component 7)(kg in a m^3 mixture)    Age (day)  \\\n",
       "count                                        1030.000000  1030.000000   \n",
       "mean                                          773.578883    45.662136   \n",
       "std                                            80.175427    63.169912   \n",
       "min                                           594.000000     1.000000   \n",
       "25%                                           730.950000     7.000000   \n",
       "50%                                           779.510000    28.000000   \n",
       "75%                                           824.000000    56.000000   \n",
       "max                                           992.600000   365.000000   \n",
       "\n",
       "       Concrete compressive strength(MPa, megapascals)  \n",
       "count                                      1030.000000  \n",
       "mean                                         35.817836  \n",
       "std                                          16.705679  \n",
       "min                                           2.331808  \n",
       "25%                                          23.707115  \n",
       "50%                                          34.442774  \n",
       "75%                                          46.136287  \n",
       "max                                          82.599225  "
      ]
     },
     "execution_count": 5,
     "metadata": {},
     "output_type": "execute_result"
    }
   ],
   "source": [
    "data.describe()"
   ]
  },
  {
   "cell_type": "markdown",
   "id": "62561b7e",
   "metadata": {},
   "source": [
    "### 3.2.2. Remove Outliers"
   ]
  },
  {
   "cell_type": "code",
   "execution_count": 6,
   "id": "f3524d5d",
   "metadata": {},
   "outputs": [],
   "source": [
    "# no outlier to remove"
   ]
  },
  {
   "cell_type": "markdown",
   "id": "50cdff68",
   "metadata": {},
   "source": [
    "# 4. Split Dataset into Training & Test Sets"
   ]
  },
  {
   "cell_type": "code",
   "execution_count": 7,
   "id": "d3ef93cc",
   "metadata": {},
   "outputs": [],
   "source": [
    "target_name = 'Concrete compressive strength(MPa, megapascals)'\n",
    "feature_name = list(data.columns.drop(target_name))"
   ]
  },
  {
   "cell_type": "code",
   "execution_count": 8,
   "id": "610f9450",
   "metadata": {},
   "outputs": [],
   "source": [
    "X = data[feature_name]\n",
    "y = data[target_name]"
   ]
  },
  {
   "cell_type": "code",
   "execution_count": 10,
   "id": "13cae49d",
   "metadata": {},
   "outputs": [],
   "source": [
    "X_train, X_test, y_train, y_test = train_test_split(X, y, test_size=0.20, shuffle=True)"
   ]
  },
  {
   "cell_type": "markdown",
   "id": "ed13b65f",
   "metadata": {},
   "source": [
    "# 5. Data Preparation"
   ]
  },
  {
   "cell_type": "markdown",
   "id": "7e7af4f1",
   "metadata": {},
   "source": [
    "## ### 5.1. Ordinal Encoding"
   ]
  },
  {
   "cell_type": "markdown",
   "id": "a25e32e6",
   "metadata": {},
   "source": [
    "## ### 5.2. One Hot Encoding"
   ]
  },
  {
   "cell_type": "markdown",
   "id": "6aeaeb0a",
   "metadata": {},
   "source": [
    "## 5.3. Feature Scaling"
   ]
  },
  {
   "cell_type": "markdown",
   "id": "6bd90e8d",
   "metadata": {},
   "source": [
    "### 5.3.1. Training Set"
   ]
  },
  {
   "cell_type": "code",
   "execution_count": 11,
   "id": "bd4efdd2",
   "metadata": {},
   "outputs": [],
   "source": [
    "scaler = MinMaxScaler()\n",
    "X_train_scaled = scaler.fit_transform(X_train)"
   ]
  },
  {
   "cell_type": "markdown",
   "id": "f370ec47",
   "metadata": {},
   "source": [
    "### 5.3.2. Test Set"
   ]
  },
  {
   "cell_type": "code",
   "execution_count": 12,
   "id": "72df8ec8",
   "metadata": {},
   "outputs": [],
   "source": [
    "X_test_scaled = scaler.transform(X_test)"
   ]
  },
  {
   "cell_type": "markdown",
   "id": "f77fb5ee",
   "metadata": {},
   "source": [
    "# 6. Model Creation"
   ]
  },
  {
   "cell_type": "markdown",
   "id": "e81df55a",
   "metadata": {},
   "source": [
    "## 6.1. Setting Parameters"
   ]
  },
  {
   "cell_type": "code",
   "execution_count": 13,
   "id": "fd1486a3",
   "metadata": {},
   "outputs": [],
   "source": [
    "reg = MLPRegressor(\n",
    "    hidden_layer_sizes=(20),\n",
    "    activation='relu',\n",
    "    learning_rate_init=0.01,\n",
    "    max_iter=1000,\n",
    "    alpha=0,\n",
    "    solver='sgd',\n",
    "    momentum=0\n",
    ")"
   ]
  },
  {
   "cell_type": "markdown",
   "id": "4cb08aa4",
   "metadata": {},
   "source": [
    "## 6.2. Train Model"
   ]
  },
  {
   "cell_type": "code",
   "execution_count": 14,
   "id": "8aa8df52",
   "metadata": {},
   "outputs": [
    {
     "data": {
      "text/plain": [
       "MLPRegressor(alpha=0, hidden_layer_sizes=20, learning_rate_init=0.01,\n",
       "             max_iter=1000, momentum=0, solver='sgd')"
      ]
     },
     "execution_count": 14,
     "metadata": {},
     "output_type": "execute_result"
    }
   ],
   "source": [
    "reg.fit(X_train_scaled, y_train)"
   ]
  },
  {
   "cell_type": "markdown",
   "id": "7f33bb7b",
   "metadata": {},
   "source": [
    "## 6.3. Model's Weight & Bias"
   ]
  },
  {
   "cell_type": "code",
   "execution_count": 15,
   "id": "ff6657d5",
   "metadata": {},
   "outputs": [
    {
     "data": {
      "text/plain": [
       "[array([[-0.40351238,  0.167937  ,  0.72622098,  1.1076546 ,  0.32151921,\n",
       "          1.29517328,  0.31537514,  0.19144754,  0.04538176,  0.71182453,\n",
       "          1.02879185,  0.69108356,  2.22628906,  0.56247694,  0.31145792,\n",
       "          0.20334649,  3.44863405, -0.08123541,  3.713011  ,  0.09767124],\n",
       "        [-0.37673175, -0.19236318, -0.06751718,  0.22254745,  0.41664109,\n",
       "          0.80359082, -0.07632133,  0.24973287, -0.25641299,  0.36972122,\n",
       "          0.7415547 ,  0.70354787,  1.2936917 ,  0.72699555, -0.37322809,\n",
       "          0.03803042,  1.74845172,  0.21716014,  2.42408221, -0.21508546],\n",
       "        [ 0.13101296, -0.07314475, -0.36175762,  0.58774346,  0.22267849,\n",
       "          0.48390853, -0.11731681, -0.19273905,  0.15757176,  0.2524123 ,\n",
       "          0.3070029 , -0.0723368 ,  0.47965644,  0.48649417, -0.30587033,\n",
       "         -0.12070892,  1.27035348,  0.43790392,  0.84407832, -0.26787824],\n",
       "        [ 0.20360057, -0.23078424,  0.16623114, -0.59184958, -0.23373158,\n",
       "         -0.66868607, -0.04296969, -0.19969695, -0.43616393, -0.26872637,\n",
       "         -0.39788844, -0.12010841, -0.78494591, -0.43731908, -0.10338819,\n",
       "          0.21476518, -1.37691103,  0.12444127, -2.23272462, -0.21338726],\n",
       "        [-0.20155285,  0.25886929, -0.31307624, -0.19491109,  0.04333324,\n",
       "          0.22301284,  0.59655571,  0.35262884,  0.28791344,  0.08873569,\n",
       "          0.80556021,  0.52873222,  0.43170267, -0.14157434, -0.16896513,\n",
       "          0.39433935,  0.98241862, -0.08653123,  0.77641556, -0.10979763],\n",
       "        [-0.13947069,  0.11538342,  0.20200446,  0.03946197, -0.38192183,\n",
       "          0.14927657, -0.11782588, -0.05840276, -0.19733424,  0.40792733,\n",
       "         -0.25341942, -0.21865618,  0.40028583,  0.30226783, -0.2733065 ,\n",
       "          0.15468255, -0.14754235, -0.32700421,  0.17535016,  0.06116501],\n",
       "        [-0.26368203, -0.02782366,  0.33663198, -0.03967789, -0.04509235,\n",
       "          0.1491533 ,  0.01774938, -0.22472514,  0.36248053, -0.32312482,\n",
       "         -0.33477853, -0.1347346 , -0.16921648, -0.40912399, -0.1199873 ,\n",
       "          0.28102459, -0.22580526,  0.23816835,  0.26832091,  0.21237474],\n",
       "        [-0.35697627,  0.05778197, -0.13615182,  1.22094193,  0.22032781,\n",
       "          1.83535406, -0.52993674,  0.12763525,  0.36177632,  0.29567943,\n",
       "          1.04160576, -0.03469808,  1.662206  ,  0.15734928,  0.08427219,\n",
       "         -0.10511804,  2.57126715,  0.18624048,  3.37691482, -0.01786384]]),\n",
       " array([[ 0.21170684],\n",
       "        [-0.36140378],\n",
       "        [ 0.22424221],\n",
       "        [ 1.50654917],\n",
       "        [ 0.55127592],\n",
       "        [ 2.20838172],\n",
       "        [-0.6374187 ],\n",
       "        [ 0.52615117],\n",
       "        [-0.29189333],\n",
       "        [ 0.93491952],\n",
       "        [ 1.60117254],\n",
       "        [ 0.64912022],\n",
       "        [ 2.64524972],\n",
       "        [ 0.86006318],\n",
       "        [-0.5091757 ],\n",
       "        [ 0.16604121],\n",
       "        [ 4.28597292],\n",
       "        [-0.32982986],\n",
       "        [ 5.07254752],\n",
       "        [-0.44210518]])]"
      ]
     },
     "execution_count": 15,
     "metadata": {},
     "output_type": "execute_result"
    }
   ],
   "source": [
    "reg.coefs_"
   ]
  },
  {
   "cell_type": "code",
   "execution_count": 16,
   "id": "3890d9b6",
   "metadata": {
    "scrolled": false
   },
   "outputs": [
    {
     "data": {
      "text/plain": [
       "[array([-0.02283567, -0.41869453,  0.18673212,  0.4776398 ,  0.4316927 ,\n",
       "         0.85244222, -0.16129223, -0.45479428, -0.10168966,  0.67150033,\n",
       "         0.83302362,  0.19700751,  0.11612746,  0.3684645 , -0.10981896,\n",
       "         0.3695995 ,  0.89569344, -0.37472309,  0.77055648, -0.23480932]),\n",
       " array([1.32904775])]"
      ]
     },
     "execution_count": 16,
     "metadata": {},
     "output_type": "execute_result"
    }
   ],
   "source": [
    "reg.intercepts_"
   ]
  },
  {
   "cell_type": "markdown",
   "id": "fee5da68",
   "metadata": {},
   "source": [
    "# 7. Prediction"
   ]
  },
  {
   "cell_type": "markdown",
   "id": "1290eb30",
   "metadata": {},
   "source": [
    "## 7.1. Training Set"
   ]
  },
  {
   "cell_type": "code",
   "execution_count": 17,
   "id": "f6ae8331",
   "metadata": {},
   "outputs": [],
   "source": [
    "y_pred_train = reg.predict(X_train_scaled)"
   ]
  },
  {
   "cell_type": "code",
   "execution_count": 18,
   "id": "86df5129",
   "metadata": {},
   "outputs": [
    {
     "data": {
      "text/plain": [
       "array([33.06463069, 81.22248707, 33.42890935, 29.44555233, 37.84578707,\n",
       "       28.04176549, 67.54100177, 23.63312464, 59.11016832, 37.35518451,\n",
       "       38.59062623, 29.47618553, 64.09631589, 41.7770637 , 27.44355412,\n",
       "       40.65587989, 32.51210365, 17.33326196, 34.40801785, 36.06288147,\n",
       "       55.03401354, 25.60924907, 50.81165038, 54.50927864, 23.19124636,\n",
       "       27.45157451, 39.38337958, 44.8079637 , 28.45648571, 45.24161282,\n",
       "       50.34043015, 36.86113568, 39.43974273, 34.77906053, 37.07478099,\n",
       "       35.65687751, 32.77311803, 57.51240905, 21.82139964, 27.28839847,\n",
       "       79.85540673, 23.63044401, 62.09063551, 37.14824418, 38.64505554,\n",
       "       24.70529468, 31.68920218, 41.12904323, 56.62888793, 24.07146352,\n",
       "       29.91275664, 34.8693121 , 71.80660267, 30.43254259, 45.30553512,\n",
       "       54.14116791, 30.33782861, 34.386864  , 63.48747918, 70.24123539,\n",
       "       23.62015947, 32.90841655, 57.26230358, 18.23088963, 32.33269596,\n",
       "       19.11257637, 23.06459167, 27.12117825, 39.03453528, 24.4753304 ,\n",
       "       29.15065323, 35.97472902, 34.42903229, 33.87548917, 36.9889997 ,\n",
       "       25.63499067, 21.4531518 , 43.47360355, 37.00247356, 44.63398127,\n",
       "       52.68004244, 33.67614738, 40.19495579, 48.42400426, 26.24336363,\n",
       "       40.82352635, 21.67279233, 34.14307022, 43.07802061, 26.21537988,\n",
       "       48.6695812 , 46.57506795, 36.52432962, 24.00815743, 27.61028991,\n",
       "       45.01138841, 38.12273973, 25.97101944, 42.02881713, 74.03731234,\n",
       "       30.00854811, 32.37485107, 36.37964552, 13.3401605 , 39.93331219,\n",
       "       40.22052348, 62.93929547, 32.69032313, 27.9755661 , 54.82258753,\n",
       "       35.1978964 , 39.63495895, 36.95977951, 35.4483523 , 62.75639859,\n",
       "       69.82436914, 29.99812961, 46.51938619, 41.88634621, 57.99487994,\n",
       "       29.55012705, 56.94351446, 24.8347748 , 44.63963918, 15.121121  ,\n",
       "       23.38110857, 30.77154087, 37.48432903, 31.49437883, 58.71870261,\n",
       "       39.21973048, 36.22961935, 62.3228818 , 21.02485009, 25.37863251,\n",
       "       24.64336349, 29.46175368, 32.99013149, 36.48046599, 32.82726113,\n",
       "       38.23479539, 59.79333156, 64.37468761, 27.65364314, 22.62735168,\n",
       "       39.55524909, 33.9831324 , 52.35097802, 39.07881955, 24.18773531,\n",
       "       50.61961628, 31.6122139 , 35.25739244, 58.17264167, 17.54353473,\n",
       "       36.47664938, 32.33192449, 40.81185663, 27.18942088, 33.93940783,\n",
       "       64.71054445, 30.32728584, 32.14234892, 42.31994043, 36.00619799,\n",
       "       23.18462011, 34.02977761, 56.45698449, 37.78730114, 36.62706924,\n",
       "       23.36796102, 56.25992754, 34.1267032 , 61.67998464, 43.42130807,\n",
       "       46.94291121, 50.25849864, 44.37013113, 37.47421312, 54.86423283,\n",
       "       50.80569868, 24.81888682, 52.68004244, 30.47247894, 23.43789791,\n",
       "       52.46682461, 26.31790072, 30.22995345, 43.57104381, 38.90083475,\n",
       "       37.17573249, 60.02720945, 57.18265095, 36.72343237, 23.17433558,\n",
       "       27.37260668, 36.22646658, 58.01976189, 23.81378492, 43.45792976,\n",
       "       38.84905138, 30.44804752, 32.66607787, 31.48460411, 35.51439737,\n",
       "       25.277228  , 25.96073491, 19.4808242 , 28.01513508, 19.41633373,\n",
       "       59.62236699, 21.01728896, 27.80214522, 37.81931687, 44.47376365,\n",
       "       46.40651349, 64.26284119, 26.35541828, 37.94213007, 29.79724737,\n",
       "       26.15436035, 37.29947545, 38.48940798, 51.26118626, 52.81190584,\n",
       "       39.63779786, 63.9761124 , 39.49517611, 28.58233703, 55.82203928,\n",
       "       37.35534596, 26.85509704, 62.49576055, 54.95209989, 55.1126094 ,\n",
       "       47.68083658, 45.32111969, 28.36342214, 39.28613757, 57.479531  ,\n",
       "       54.66307351, 34.90216308, 60.32940217, 62.96411801, 36.4610296 ,\n",
       "       37.61730839, 60.66124325, 16.2815352 , 31.00593596, 33.25887827,\n",
       "       39.44606905, 37.56259069, 59.12938196, 55.96428112, 64.26284119,\n",
       "       30.23797384, 35.04093198, 34.64751057, 60.34885104, 27.19257113,\n",
       "       34.37693616, 59.17613059, 39.78361531, 52.01980981, 40.78016593,\n",
       "       33.35886438, 57.96795454, 43.66484912, 28.55595531, 67.13306255,\n",
       "       25.80716956, 55.61800019, 43.42463429, 36.16550794, 57.47252292,\n",
       "       32.87047818, 41.75442393, 58.51481917, 31.14114007, 34.41267946,\n",
       "       43.31074601, 64.26284119, 46.78782077, 67.36231246, 38.80743557,\n",
       "       27.22214878, 39.38458073, 45.03327601, 40.79190172, 38.33134248,\n",
       "       37.21369982, 27.03594055, 39.04809314, 34.72793129, 36.76960773,\n",
       "       72.62566178, 38.31684651, 29.97916289, 37.38150742, 37.18622987,\n",
       "       57.99487994, 24.629186  , 31.33518624, 34.98234937, 44.25656197,\n",
       "       44.55222212, 36.9943164 , 25.87869323, 42.73833363, 37.34353805,\n",
       "       30.39507109, 36.37202402, 30.13373495, 30.00160329, 34.22510021,\n",
       "       54.37378091, 40.53159944, 35.85081817, 60.86879027, 28.74432293,\n",
       "       48.36490152, 38.99177497, 38.6986645 , 44.45758942, 25.1429417 ,\n",
       "       27.66797267, 25.58735477, 51.57143437, 51.84850275, 40.93324662,\n",
       "       39.36920043, 58.06644372, 53.83243145, 34.60294368, 37.86725889,\n",
       "       45.16995271, 39.96537645, 56.81276769, 66.41035673, 42.09147352,\n",
       "       29.97486201, 43.38691971, 32.29649177, 37.9229249 , 40.27865474,\n",
       "       53.52995879, 37.00015123, 31.5606531 , 76.54894695, 24.94949324,\n",
       "       62.00271936, 36.36322042, 35.808424  , 47.777326  , 32.99244678,\n",
       "       57.99487994, 39.45485777, 75.10779709, 28.3316936 , 52.88306122,\n",
       "       36.17918409, 57.92205881, 21.06478746, 47.79692785, 34.32131306,\n",
       "       54.52039482, 36.72580716, 39.51630793, 26.818941  , 57.25231321,\n",
       "       36.75733842, 28.64362837, 36.21385379, 60.32940217, 59.13468869,\n",
       "       38.40905437, 55.14031426, 51.32267759, 41.43145487, 37.98323755,\n",
       "       18.67671352, 37.052991  , 58.17264167, 25.06775199, 37.67481905,\n",
       "       32.97912532, 28.73306446, 38.06331308, 30.5819653 , 32.72970977,\n",
       "       35.64914527, 44.13597764, 39.98028478, 28.66956982, 56.30795941,\n",
       "       40.64813362, 47.08402858, 28.44816448, 57.18265095, 26.30356321,\n",
       "       31.57083002, 33.48138782, 34.96942422, 32.7015237 , 22.57047971,\n",
       "       45.10357492, 67.41076434, 34.09649389, 60.32940217, 47.24991436,\n",
       "       29.58845174, 28.57215018, 54.25193558, 30.36829167, 43.09166452,\n",
       "       34.58132571, 17.5917288 , 27.58836444, 26.7377131 , 43.95641075,\n",
       "       39.09516695, 59.61237662, 45.5091591 , 33.07518061, 14.01194137,\n",
       "       29.55230572, 36.38336743, 45.2348763 , 35.82552543, 44.67676722,\n",
       "       17.24105453, 33.59811001, 46.27947076, 51.97168178, 37.97265114,\n",
       "       40.84245965, 35.72674703, 43.16410179, 23.82433484, 27.21520396,\n",
       "       42.27388763, 44.55911136, 32.27743996, 32.83330952, 33.89307958,\n",
       "       28.9325871 , 40.72635377, 32.10956557, 27.14254055, 29.71903627,\n",
       "       37.01384683, 60.46562916, 29.91512437, 64.89527041, 24.5145216 ,\n",
       "       34.68781379, 25.67008638, 36.0291838 , 34.13607394, 36.41226752,\n",
       "       35.07622196, 46.50179095, 23.1367423 , 13.78598439, 42.18578952,\n",
       "       36.50993062, 41.71777643, 34.28661637, 36.83921022, 23.63744744,\n",
       "       45.79487614, 32.17456808, 40.00589959, 58.40779929, 25.78759686,\n",
       "       26.16491028, 58.27894239, 54.37305165, 30.03427564, 43.719847  ,\n",
       "       37.31943605, 55.11296967, 29.79816588, 48.46234178, 64.26284119,\n",
       "       25.95391789, 44.12782376, 57.18265095, 55.09140306, 29.86964407,\n",
       "       32.87100525, 25.92395241, 25.47555693, 54.13865157, 74.4057252 ,\n",
       "       28.6986023 , 64.74178029, 27.91995754, 34.47931676, 50.54163947,\n",
       "       39.57367376, 45.48330185, 31.25367617, 57.31887794, 25.04282873,\n",
       "       47.92060787, 52.68763491, 57.89240343, 49.5904898 , 56.80277732,\n",
       "       43.57215884, 31.69849465, 16.94768231, 47.50839087, 23.56901895,\n",
       "       57.54650449, 30.05681089, 26.53565293, 35.58234946, 42.52372104,\n",
       "       36.85548703, 16.12655983, 41.0926413 , 27.66102785, 57.07842382,\n",
       "       33.76536737, 57.46441728, 34.74871331, 36.34620025, 25.67455965,\n",
       "       44.83319524, 23.2585032 , 45.19483134, 66.6846871 , 52.23166699,\n",
       "       29.98083836, 40.85524982, 63.48747918, 22.16309391, 25.91220297,\n",
       "       21.66758199, 38.38539154, 69.69848577, 55.89929721, 33.48182449,\n",
       "       29.77941007, 37.53511264, 36.52558689, 39.28512141, 21.75690917,\n",
       "       30.41234581, 37.49399729, 40.40370772, 26.3643842 , 38.46646731,\n",
       "       25.96860186, 36.74374566, 31.2231026 , 69.15254881, 44.93237911,\n",
       "       39.63041467, 21.51061135, 37.23885683, 38.85050606, 37.72460749,\n",
       "       34.28586532, 37.13595615, 45.98229612, 46.49756296, 35.18625181,\n",
       "       33.63903231, 24.41187763, 36.65583769, 42.33648801, 61.14022279,\n",
       "       29.16905538, 15.56694489, 39.32957514, 64.00542776, 38.8046373 ,\n",
       "       31.57337907, 77.29920191, 53.63757392, 60.82936119, 49.07913073,\n",
       "       52.47396355, 33.11697519, 65.22926364, 58.59480149, 41.91635593,\n",
       "       27.50947724, 44.18637491, 18.7882434 , 35.7599641 , 41.01538312,\n",
       "       23.37851095, 39.03076602, 27.69614739, 38.86490505, 52.24788855,\n",
       "       23.03683016, 43.49841642, 60.38026965, 26.78362116, 44.7054143 ,\n",
       "       39.93169698, 54.95881453, 19.10391835, 31.95545471, 49.28001297,\n",
       "       41.05680591, 57.49951544, 74.16057377, 42.6170929 , 63.44899489,\n",
       "       35.54494315, 42.94431825, 37.11756914, 59.82333158, 16.31751902,\n",
       "       17.90752033, 27.13821867, 43.25164162, 60.08214259, 41.94064419,\n",
       "       21.2217581 , 57.26230358, 28.75290727, 47.01734266, 27.51902622,\n",
       "       32.47431039, 41.15585026, 49.15661915, 40.91830013, 59.73666441,\n",
       "       46.2794348 , 34.55079495, 50.47856435, 18.66675247, 45.18792822,\n",
       "       21.93642542, 53.1334588 , 69.31653248, 48.13545158, 46.37331106,\n",
       "       42.58516724, 50.51600981, 26.58339993, 44.13072881, 36.6618885 ,\n",
       "       43.77828322, 24.42133733, 25.63538277, 67.90955143, 59.62236699,\n",
       "       37.67165583, 61.10658267, 60.34885104, 53.82071282, 45.12864095,\n",
       "       67.41076434, 19.33221689, 16.79523063, 39.87107125, 31.10668025,\n",
       "       28.15865264, 21.09732247, 35.32464751, 31.31457722, 32.33479401,\n",
       "       66.51867747, 34.85659259, 55.04572192, 56.79215125, 23.36542552,\n",
       "       27.8687902 , 55.981058  , 54.37305165, 26.01418869, 22.32133469,\n",
       "       52.78634316, 42.91232737, 44.7074984 , 29.92893988, 24.40302155,\n",
       "       43.14069907, 54.26579873, 32.41301661, 51.31468815, 29.68791106,\n",
       "       34.6979297 , 42.90562988, 38.52909358, 31.09800565, 69.48703365,\n",
       "       38.00047004, 49.01462177, 43.6360775 , 21.12881884, 58.6114231 ,\n",
       "       37.69019101, 48.4440047 , 45.55994271, 35.13363768, 56.88045823,\n",
       "       39.09758939, 39.79298572, 37.83872617, 28.46247625, 48.34843516,\n",
       "       31.81936955, 59.43848723, 43.20292232, 24.0584851 , 26.45628886,\n",
       "       37.19716803, 39.69547564, 26.4915873 , 32.33870505, 30.26836312,\n",
       "       49.02727561, 36.74859329, 31.84570863, 41.28370834, 31.35854951,\n",
       "       32.44506161, 30.48254672, 24.81779067, 27.75940553, 40.60509628,\n",
       "       30.88674107, 40.70691801, 45.58726638, 41.04576518, 30.76145713,\n",
       "       31.11441385, 32.88014747, 29.57002049, 44.38448346, 40.49192337,\n",
       "       55.16560799, 34.37761423, 50.03693718, 28.9247045 , 26.39906054,\n",
       "       59.62031286, 30.12201722, 43.47696085, 64.57223772, 25.29747923,\n",
       "       44.03273562, 38.06313228, 63.48747918, 38.03407556, 24.15101186,\n",
       "       33.26348791, 29.09362013, 39.24897539, 71.35822723, 35.01477052,\n",
       "       28.47943799, 45.34905225, 37.58181281, 32.13284868, 60.32940217,\n",
       "       37.30999966, 34.06546972, 33.12287942, 55.03401354, 54.37305165,\n",
       "       35.03037385, 33.66588765, 58.46929777, 42.47462221, 32.28890285,\n",
       "       57.54650449, 28.34220471, 36.70909759, 60.62525463, 49.17433036,\n",
       "       54.28196734, 45.44913217, 37.16601057, 32.70867035, 38.39350156,\n",
       "       28.99461081, 64.0074184 , 35.99076704, 53.31835635, 34.28838166,\n",
       "       54.91150207, 30.32550243, 32.1378228 , 48.4712635 , 31.61742757,\n",
       "       48.84640179, 47.31397805, 35.81562004, 38.77408345, 38.11997441,\n",
       "       37.01766441, 42.90204283, 31.4300277 , 45.79100169, 41.66982979,\n",
       "       67.93070357, 25.52821476, 53.28985761, 26.4919003 , 57.54650449,\n",
       "       38.31238085, 26.67535435, 27.7021913 , 38.25478352, 28.21953663,\n",
       "       30.14272066, 54.37305165, 54.58954336, 19.58162996, 66.96337808,\n",
       "       29.95086534, 53.32273139, 57.18265095, 62.76631066])"
      ]
     },
     "execution_count": 18,
     "metadata": {},
     "output_type": "execute_result"
    }
   ],
   "source": [
    "y_pred_train"
   ]
  },
  {
   "cell_type": "markdown",
   "id": "20275bcf",
   "metadata": {},
   "source": [
    "## 7.2. Test Set"
   ]
  },
  {
   "cell_type": "code",
   "execution_count": 19,
   "id": "50cd359b",
   "metadata": {},
   "outputs": [],
   "source": [
    "y_pred_test = reg.predict(X_test_scaled)"
   ]
  },
  {
   "cell_type": "code",
   "execution_count": 20,
   "id": "d2bb7adb",
   "metadata": {},
   "outputs": [
    {
     "data": {
      "text/plain": [
       "array([38.77764476, 62.76631066, 35.98768412, 23.26278715, 27.76273618,\n",
       "       33.3507207 , 54.82258753, 47.65502204, 22.30434333, 37.73452786,\n",
       "       35.82229094, 22.34526579, 62.58523845, 33.89356043, 41.76019475,\n",
       "       55.61398344, 28.88130455, 51.69188359, 41.16424683, 75.48358787,\n",
       "       32.19645667, 55.99154502, 42.62880061, 50.96438525, 24.00015593,\n",
       "       52.91520005, 43.55269624, 26.42762743, 31.27316254, 59.28828896,\n",
       "       34.52807377, 59.23083229, 33.69166737, 21.40133598, 26.85786285,\n",
       "       60.34885104, 31.34803293, 32.71073174, 28.92216309, 28.58306267,\n",
       "       58.15975223, 59.74770957, 29.54552516, 37.60202971, 34.73420556,\n",
       "       41.43816483, 41.65526084, 25.26047763, 63.15411745, 37.16629737,\n",
       "       22.72900849, 45.1261403 , 13.56611748, 45.39057168, 41.50101104,\n",
       "       31.57725296, 35.60968849, 20.91298308, 35.27959571, 34.11740202,\n",
       "       40.33965027, 43.4698355 , 53.60421771, 40.45839964, 65.25333631,\n",
       "       66.32838754, 59.09860148, 34.91924801, 46.79891351, 62.9643051 ,\n",
       "       18.62211063, 51.96621845, 35.73019155, 46.25687418, 27.16446602,\n",
       "       84.43676279, 56.09220415, 31.47375457, 28.64413865, 41.89485069,\n",
       "       37.12460354, 29.27163846, 60.71502423, 16.35251681, 76.90550613,\n",
       "       19.6738374 , 36.19521355, 23.44702142, 26.34073137, 36.77853182,\n",
       "       22.60891781, 52.41795744, 27.9498245 , 29.7836895 , 31.85976358,\n",
       "       67.1018437 , 29.33786561, 44.73999681, 30.91842777, 28.00963686,\n",
       "       65.0767595 , 26.93263694, 42.92537353, 43.91937138, 50.44518235,\n",
       "       46.94985603, 50.09210359, 39.56278962, 29.59808757, 63.95954222,\n",
       "       52.33796771, 35.92394541, 43.20367882, 29.97801413, 54.07085893,\n",
       "       32.69915597, 31.13877235, 37.4659634 , 43.95510382, 36.91187362,\n",
       "       29.35594959, 26.58410774, 21.29254921, 53.4179573 , 39.60304853,\n",
       "       44.94416511, 40.14869041, 27.44911437, 23.61967311, 53.19378932,\n",
       "       35.05634006, 27.17674238, 16.88743807, 27.8973984 , 55.47403424,\n",
       "       34.48818736, 33.65515266, 38.22734888, 54.96234536, 46.54655881,\n",
       "       34.00562482, 47.96931859, 67.41076434, 24.79503466, 39.50444873,\n",
       "       34.09969122, 59.01653849, 23.47180933, 27.61780343, 35.19941594,\n",
       "       26.13983284, 37.5816211 , 46.42339018, 43.68170758, 38.6517655 ,\n",
       "       36.7370066 , 53.73823305, 56.76028418, 37.42780168, 32.68979842,\n",
       "       59.7773918 , 23.43789791, 55.26917115, 72.59103682, 34.60626084,\n",
       "       32.33723835, 41.12091733, 54.66501886, 18.886393  , 33.44592326,\n",
       "       36.91881845, 25.08239087, 54.82258753, 49.44824795, 56.64203075,\n",
       "       49.53872375, 58.7754485 , 43.44727488, 63.42887344, 32.88128978,\n",
       "       26.89610208, 53.15468182, 52.23166699, 21.85851943, 53.50089995,\n",
       "       43.97724848, 53.17152214, 35.89521554, 29.21402676, 53.62124968,\n",
       "       32.12426494, 49.60615504, 33.05286377, 60.28212222, 53.50799844,\n",
       "       43.27613944, 54.82258753, 23.79925741, 39.6216209 , 40.36095938,\n",
       "       38.21303657, 74.16452056, 64.2922444 , 56.81276769, 30.30694785,\n",
       "       23.85118679])"
      ]
     },
     "execution_count": 20,
     "metadata": {},
     "output_type": "execute_result"
    }
   ],
   "source": [
    "y_pred_test"
   ]
  },
  {
   "cell_type": "markdown",
   "id": "0ac9e2f7",
   "metadata": {},
   "source": [
    "# 8. Model Evaluation"
   ]
  },
  {
   "cell_type": "markdown",
   "id": "323267ce",
   "metadata": {},
   "source": [
    "## 8.1. Training Set"
   ]
  },
  {
   "cell_type": "markdown",
   "id": "f2a400c0",
   "metadata": {},
   "source": [
    "### 8.1.1. Scoring"
   ]
  },
  {
   "cell_type": "code",
   "execution_count": 21,
   "id": "77e55cfb",
   "metadata": {},
   "outputs": [
    {
     "name": "stdout",
     "output_type": "stream",
     "text": [
      "r2_score =\t\t\t 0.5368711027121205\n",
      "mean_squared_error =\t\t 126.20895884883728\n",
      "mean_absolute_error =\t\t 8.895885482732787\n",
      "mean_absolute_percentage_error = 0.3958500914983838\n"
     ]
    }
   ],
   "source": [
    "print('r2_score =\\t\\t\\t', r2_score(y_train, y_pred_train))\n",
    "print('mean_squared_error =\\t\\t', mean_squared_error(y_train, y_pred_train))\n",
    "print('mean_absolute_error =\\t\\t', mean_absolute_error(y_train, y_pred_train))\n",
    "print('mean_absolute_percentage_error =', mean_absolute_percentage_error(y_train, y_pred_train))"
   ]
  },
  {
   "cell_type": "markdown",
   "id": "b1c2a693",
   "metadata": {},
   "source": [
    "### 8.1.2. Scatter Plot between Predicted & Actual Values"
   ]
  },
  {
   "cell_type": "code",
   "execution_count": 22,
   "id": "bb81c4d9",
   "metadata": {},
   "outputs": [
    {
     "data": {
      "text/plain": [
       "Text(0, 0.5, 'Actual')"
      ]
     },
     "execution_count": 22,
     "metadata": {},
     "output_type": "execute_result"
    },
    {
     "data": {
      "image/png": "[encoded data removed]",
      "text/plain": [
       "<Figure size 432x288 with 1 Axes>"
      ]
     },
     "metadata": {
      "needs_background": "light"
     },
     "output_type": "display_data"
    }
   ],
   "source": [
    "plt.scatter(y_pred_train, y_train)\n",
    "\n",
    "plt.plot(y_pred_train, y_pred_train, color='red')\n",
    "\n",
    "plt.title('Scatter Plot between Predicted & Actual Values')\n",
    "plt.xlabel('Predicted')\n",
    "plt.ylabel('Actual')"
   ]
  },
  {
   "cell_type": "markdown",
   "id": "85d799bd",
   "metadata": {},
   "source": [
    "## 8.2. Test Set"
   ]
  },
  {
   "cell_type": "markdown",
   "id": "f519ade0",
   "metadata": {},
   "source": [
    "### 8.2.1. Scoring"
   ]
  },
  {
   "cell_type": "code",
   "execution_count": 23,
   "id": "75265c82",
   "metadata": {},
   "outputs": [
    {
     "name": "stdout",
     "output_type": "stream",
     "text": [
      "r2_score =\t\t\t 0.5482280000403603\n",
      "mean_squared_error =\t\t 136.5628996483941\n",
      "mean_absolute_error =\t\t 8.819307936167895\n",
      "mean_absolute_percentage_error = 0.36539809692467734\n"
     ]
    }
   ],
   "source": [
    "print('r2_score =\\t\\t\\t', r2_score(y_test, y_pred_test))\n",
    "print('mean_squared_error =\\t\\t', mean_squared_error(y_test, y_pred_test))\n",
    "print('mean_absolute_error =\\t\\t', mean_absolute_error(y_test, y_pred_test))\n",
    "print('mean_absolute_percentage_error =', mean_absolute_percentage_error(y_test, y_pred_test))"
   ]
  },
  {
   "cell_type": "markdown",
   "id": "9d43b931",
   "metadata": {},
   "source": [
    "### 8.2.2 Scatter Plot between Predicted & Actual Values"
   ]
  },
  {
   "cell_type": "code",
   "execution_count": 24,
   "id": "91bb4023",
   "metadata": {
    "scrolled": true
   },
   "outputs": [
    {
     "data": {
      "text/plain": [
       "Text(0, 0.5, 'Actual')"
      ]
     },
     "execution_count": 24,
     "metadata": {},
     "output_type": "execute_result"
    },
    {
     "data": {
      "image/png": "[encoded data removed]",
      "text/plain": [
       "<Figure size 432x288 with 1 Axes>"
      ]
     },
     "metadata": {
      "needs_background": "light"
     },
     "output_type": "display_data"
    }
   ],
   "source": [
    "plt.scatter(y_pred_test, y_test)\n",
    "\n",
    "plt.plot(y_pred_test, y_pred_test, color='red')\n",
    "\n",
    "plt.title('Scatter Plot between Predicted & Actual Values')\n",
    "plt.xlabel('Predicted')\n",
    "plt.ylabel('Actual')"
   ]
  },
  {
   "cell_type": "markdown",
   "id": "e38a8e37",
   "metadata": {},
   "source": [
    "# 9. Save Model"
   ]
  },
  {
   "cell_type": "code",
   "execution_count": 25,
   "id": "50763e5c",
   "metadata": {},
   "outputs": [],
   "source": [
    "import pickle"
   ]
  },
  {
   "cell_type": "code",
   "execution_count": 26,
   "id": "928506b7",
   "metadata": {},
   "outputs": [],
   "source": [
    "pickle.dump((reg, \n",
    "             feature_name),  open('neural_network_regrssion_model.pickle', 'wb'))"
   ]
  },
  {
   "cell_type": "code",
   "execution_count": null,
   "id": "a088c2b0",
   "metadata": {},
   "outputs": [],
   "source": []
  }
 ],
 "metadata": {
  "kernelspec": {
   "display_name": "Python 3",
   "language": "python",
   "name": "python3"
  },
  "language_info": {
   "codemirror_mode": {
    "name": "ipython",
    "version": 3
   },
   "file_extension": ".py",
   "mimetype": "text/x-python",
   "name": "python",
   "nbconvert_exporter": "python",
   "pygments_lexer": "ipython3",
   "version": "3.8.8"
  }
 },
 "nbformat": 4,
 "nbformat_minor": 5
}
